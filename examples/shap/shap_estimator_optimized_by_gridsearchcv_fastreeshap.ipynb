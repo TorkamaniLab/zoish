{
 "cells": [
  {
   "cell_type": "markdown",
   "metadata": {},
   "source": [
    "#### Install required libraries\n"
   ]
  },
  {
   "cell_type": "code",
   "execution_count": null,
   "metadata": {},
   "outputs": [],
   "source": [
    "! pip uninstall gpboost -y\n",
    "! pip uninstall zoish -y\n",
    "! pip install git+https://github.com/TorkamaniLab/zoish.git\n",
    "! pip install feature-engine category-encoders scikit-learn ipywidgets numpy pandas xgboost --force-reinstall"
   ]
  },
  {
   "cell_type": "code",
   "execution_count": null,
   "metadata": {},
   "outputs": [],
   "source": [
    "# Importing built-in libraries\n",
    "import pandas as pd  # For data manipulation and analysis\n",
    "import sys  # For accessing system-specific parameters and functions\n",
    "import zoish  # Assuming it's a custom library for your project\n",
    "import sklearn  # For machine learning models\n",
    "import xgboost  # For gradient-boosted decision trees\n",
    "import numpy  # For numerical computations\n",
    "\n",
    "# Importing scikit-learn utilities for various ML tasks\n",
    "from sklearn.compose import ColumnTransformer  # For applying transformers to columns\n",
    "from sklearn.ensemble import RandomForestClassifier  # Random Forest classifier\n",
    "from sklearn.impute import SimpleImputer  # For handling missing data\n",
    "from sklearn.metrics import (  # For evaluating the model\n",
    "    classification_report,\n",
    "    confusion_matrix,\n",
    "    f1_score,\n",
    "    make_scorer,\n",
    ")\n",
    "from sklearn.model_selection import GridSearchCV, train_test_split  # For CV and splitting dataset\n",
    "from sklearn.pipeline import Pipeline  # For creating ML pipelines\n",
    "from sklearn.preprocessing import StandardScaler  # For feature scaling\n",
    "\n",
    "# Importing other third-party libraries\n",
    "from category_encoders import TargetEncoder  # For encoding categorical variables\n",
    "from xgboost import XGBClassifier  # XGBoost classifier\n",
    "from zoish.feature_selectors.shap_selectors import (  # For feature selection and visualization\n",
    "    ShapFeatureSelector,\n",
    "    ShapPlotFeatures,\n",
    ")\n",
    "import logging  # For logging events and errors\n",
    "\n",
    "# Configuring logging settings\n",
    "from zoish import logger  # Assuming it's a custom logger from zoish\n",
    "logger.setLevel(logging.ERROR)  # Set logging level to ERROR\n",
    "\n",
    "# Importing feature imputation library\n",
    "from feature_engine.imputation import MeanMedianImputer  # For imputing mean/median\n",
    "\n",
    "# Re-setting logging level (this seems redundant, consider keeping only one)\n",
    "logger.setLevel(logging.ERROR)\n",
    "\n",
    "# Printing versions of key libraries for debugging and documentation\n",
    "print(f'Python version : {sys.version}')\n",
    "print(f'zoish version : {zoish.__version__}')\n",
    "print(f'sklearn version : {sklearn.__version__}')\n",
    "print(f'pandas version : {pd.__version__}')  # Using the alias for pandas\n",
    "print(f'numpy version : {numpy.__version__}')\n",
    "print(f'xgboost version : {xgboost.__version__}')\n"
   ]
  },
  {
   "cell_type": "markdown",
   "metadata": {},
   "source": [
    "#### Example: Audiology (Standardized) Data Set\n",
    "###### https://archive.ics.uci.edu/ml/datasets/Audiology+%28Standardized%29\n",
    "\n",
    "\n",
    "#### Read data\n"
   ]
  },
  {
   "cell_type": "code",
   "execution_count": null,
   "metadata": {},
   "outputs": [],
   "source": [
    "urldata = \"https://archive.ics.uci.edu/ml/machine-learning-databases/lymphography/lymphography.data\"\n",
    "urlname = \"https://archive.ics.uci.edu/ml/machine-learning-databases/lung-cancer/lung-cancer.names\"\n",
    "# column names\n",
    "col_names = [\n",
    "    \"class\",\n",
    "    \"lymphatics\",\n",
    "    \"block of affere\",\n",
    "    \"bl. of lymph. c\",\n",
    "    \"bl. of lymph. s\",\n",
    "    \"by pass\",\n",
    "    \"extravasates\",\n",
    "    \"regeneration of\",\n",
    "    \"early uptake in\",\n",
    "    \"lym.nodes dimin\",\n",
    "    \"lym.nodes enlar\",\n",
    "    \"changes in lym.\",\n",
    "    \"defect in node\",\n",
    "    \"changes in node\",\n",
    "    \"special forms\",\n",
    "    \"dislocation of\",\n",
    "    \"exclusion of no\",\n",
    "    \"no. of nodes in\",\n",
    "\n",
    "]\n",
    "\n",
    "data = pd.read_csv(urldata,names=col_names)\n",
    "data.head()\n"
   ]
  },
  {
   "cell_type": "markdown",
   "metadata": {},
   "source": [
    "#### Define labels and train-test split\n"
   ]
  },
  {
   "cell_type": "code",
   "execution_count": null,
   "metadata": {},
   "outputs": [],
   "source": [
    "\n",
    "\n",
    "data.loc[(data[\"class\"] == 1) | (data[\"class\"] == 2), \"class\"] = 0\n",
    "data.loc[data[\"class\"] == 3, \"class\"] = 1\n",
    "data.loc[data[\"class\"] == 4, \"class\"] = 2\n",
    "data[\"class\"] = data[\"class\"].astype(int)"
   ]
  },
  {
   "cell_type": "markdown",
   "metadata": {},
   "source": [
    "#### Train test split\n"
   ]
  },
  {
   "cell_type": "code",
   "execution_count": null,
   "metadata": {},
   "outputs": [],
   "source": [
    "X = data.loc[:, data.columns != \"class\"]\n",
    "y = data.loc[:, data.columns == \"class\"]\n",
    "\n",
    "X_train, X_test, y_train, y_test = train_test_split(\n",
    "    X, y, test_size=0.33,  random_state=42\n",
    ")"
   ]
  },
  {
   "cell_type": "markdown",
   "metadata": {},
   "source": [
    "#### Defining the feature pipeline steps:\n",
    "Here, we use an untuned XGBClassifier model with the ShapFeatureSelector.In the next section, we will repeat the same process but with a tuned XGBClassifier. The aim is to demonstrate that a better estimator can yield improved results when used with the ShapFeatureSelector.\n"
   ]
  },
  {
   "cell_type": "code",
   "execution_count": null,
   "metadata": {},
   "outputs": [],
   "source": [
    "estimator_for_feature_selector= XGBClassifier()     \n",
    "estimator_for_feature_selector.fit(X_train, y_train)\n",
    "# use fasttreeshap algorithm by setting use_faster_algorithm=True\n",
    "# also use its arguments as a kwargs\n",
    "\n",
    "shap_tree_explainer_kwargs={\n",
    "\"random_state\": 42,\n",
    "\"algorithm\": \"sampling\",\n",
    "\"linearize_link\":True,\n",
    "} \n",
    "shap_feature_selector = ShapFeatureSelector(model=estimator_for_feature_selector,use_faster_algorithm=True, shap_tree_explainer_kwargs=shap_tree_explainer_kwargs,num_features=5, scoring='accuracy',cv = 5, n_iter=10, direction='maximum')        \n",
    "# Define pre-processing for numeric columns (float and integer types)\n",
    "numeric_features = X_train.select_dtypes(include=['int64', 'float64']).columns\n",
    "numeric_transformer = Pipeline(steps=[\n",
    "    ('imputer', SimpleImputer(strategy='mean')),\n",
    "    ('scaler', StandardScaler())])\n",
    "\n",
    "# Define pre-processing for categorical features\n",
    "categorical_features = X_train.select_dtypes(include=['object']).columns\n",
    "categorical_transformer = Pipeline(steps=[\n",
    "    ('imputer', SimpleImputer(strategy='constant', fill_value='missing')),\n",
    "    ('encoder', TargetEncoder(handle_missing='return_nan'))])\n",
    "\n",
    "# Combine preprocessing into one column transformer\n",
    "preprocessor = ColumnTransformer(\n",
    "    transformers=[\n",
    "        ('num', numeric_transformer, numeric_features),\n",
    "        ('cat', categorical_transformer, categorical_features)])\n",
    "\n",
    "# Feature Selection using ShapSelector \n",
    "feature_selection = shap_feature_selector \n",
    "\n",
    "# Classifier model\n",
    "classifier = RandomForestClassifier(n_estimators=100)\n",
    "\n",
    "# Create a pipeline that combines the preprocessor with a feature selection and a classifier\n",
    "pipeline = Pipeline(steps=[('preprocessor', preprocessor),\n",
    "                           ('feature_selection', feature_selection),\n",
    "                           ('classifier', classifier)])\n",
    "\n",
    "# Fit the model\n",
    "pipeline.fit(X_train, y_train)\n",
    "\n",
    "# Predict on test data\n",
    "y_test_pred = pipeline.predict(X_test)\n",
    "\n",
    "# Output first 10 predictions\n",
    "print(y_test_pred[:10])"
   ]
  },
  {
   "cell_type": "markdown",
   "metadata": {},
   "source": [
    "#### Check performance of the Pipeline\n"
   ]
  },
  {
   "cell_type": "code",
   "execution_count": null,
   "metadata": {},
   "outputs": [],
   "source": [
    "\n",
    "print(\"F1 score : \")\n",
    "print(f1_score(y_test, y_test_pred,average='micro'))\n",
    "print(\"Classification report : \")\n",
    "print(classification_report(y_test, y_test_pred))\n",
    "print(\"Confusion matrix : \")\n",
    "print(confusion_matrix(y_test, y_test_pred))\n",
    "\n"
   ]
  },
  {
   "cell_type": "markdown",
   "metadata": {},
   "source": [
    "\n",
    "#### Use better estimator:\n",
    "In this iteration, we will utilize the optimally tuned estimator with the ShapFeatureSelector, which is expected to yield improved results.\""
   ]
  },
  {
   "cell_type": "code",
   "execution_count": null,
   "metadata": {},
   "outputs": [],
   "source": [
    "int_cols =  X_train.select_dtypes(include=['int']).columns.tolist()\n"
   ]
  },
  {
   "cell_type": "code",
   "execution_count": null,
   "metadata": {},
   "outputs": [],
   "source": [
    "\n",
    "# Define the XGBClassifier\n",
    "xgb_clf = XGBClassifier()\n",
    "\n",
    "# Define the parameter grid for XGBClassifier\n",
    "param_grid = {\n",
    "    'learning_rate': [0.01, 0.1],\n",
    "    'max_depth': [ 4, 5],\n",
    "    'min_child_weight': [1, 2, 3],\n",
    "    'gamma': [0, 0.1, 0.2],\n",
    "}\n",
    "\n",
    "# Define the scoring function\n",
    "scoring = make_scorer(f1_score, average='micro')  # Use 'micro' average in case of multiclass target\n",
    "\n",
    "# Set up GridSearchCV\n",
    "grid_search = GridSearchCV(xgb_clf, param_grid, cv=5, scoring=scoring, verbose=1)\n",
    "grid_search.fit(X_train, y_train)\n",
    "# Fit the GridSearchCV object\n",
    "estimator_for_feature_selector= grid_search.best_estimator_ \n",
    "# use fasttreeshap algorithm by setting use_faster_algorithm=True\n",
    "# also use its arguments as a kwargs\n",
    "\n",
    "shap_tree_explainer_kwargs={\n",
    "\"random_state\": 42,\n",
    "\"algorithm\": \"sampling\",\n",
    "\"linearize_link\":True,\n",
    "} \n",
    "shap_feature_selector = ShapFeatureSelector(model=estimator_for_feature_selector,use_faster_algorithm=True, shap_tree_explainer_kwargs=shap_tree_explainer_kwargs,num_features=5, scoring='accuracy',cv = 5, n_iter=10, direction='maximum')\n",
    "\n",
    "\n",
    "pipeline =Pipeline([\n",
    "            # int missing values imputers\n",
    "            ('floatimputer', MeanMedianImputer(\n",
    "                imputation_method='mean', variables=int_cols)),\n",
    "           \n",
    "            ('shap_feature_selector', shap_feature_selector),\n",
    "            ('classfier', RandomForestClassifier(n_estimators=100))\n",
    "\n",
    "\n",
    " ])\n",
    "\n",
    "\n",
    "# Fit the model\n",
    "pipeline.fit(X_train, y_train)\n",
    "\n",
    "# Predict on test data\n",
    "y_test_pred = pipeline.predict(X_test)\n",
    "\n",
    "# Output first 10 predictions\n",
    "print(y_test_pred[:10])\n",
    "            "
   ]
  },
  {
   "cell_type": "markdown",
   "metadata": {},
   "source": [
    "#### Performance has improved"
   ]
  },
  {
   "cell_type": "code",
   "execution_count": null,
   "metadata": {},
   "outputs": [],
   "source": [
    "\n",
    "print(\"F1 score : \")\n",
    "print(f1_score(y_test, y_test_pred,average='micro'))\n",
    "print(\"Classification report : \")\n",
    "print(classification_report(y_test, y_test_pred))\n",
    "print(\"Confusion matrix : \")\n",
    "print(confusion_matrix(y_test, y_test_pred))\n",
    "\n"
   ]
  },
  {
   "cell_type": "markdown",
   "metadata": {},
   "source": [
    "#### Shap related plots"
   ]
  },
  {
   "cell_type": "code",
   "execution_count": null,
   "metadata": {},
   "outputs": [],
   "source": [
    "\n",
    "# Plot the feature importance\n",
    "plot_factory = ShapPlotFeatures(shap_feature_selector) \n",
    "plot_factory.summary_plot()\n"
   ]
  },
  {
   "cell_type": "code",
   "execution_count": null,
   "metadata": {},
   "outputs": [],
   "source": [
    "plot_factory.summary_plot_full()"
   ]
  },
  {
   "cell_type": "code",
   "execution_count": null,
   "metadata": {},
   "outputs": [],
   "source": [
    "\n",
    "# Plot the feature importance\n",
    "plot_factory.bar_plot()"
   ]
  },
  {
   "cell_type": "code",
   "execution_count": null,
   "metadata": {},
   "outputs": [],
   "source": [
    "plot_factory.bar_plot_full()"
   ]
  },
  {
   "cell_type": "code",
   "execution_count": null,
   "metadata": {},
   "outputs": [],
   "source": [
    "plot_factory.dependence_plot('special forms')"
   ]
  },
  {
   "cell_type": "markdown",
   "metadata": {},
   "source": [
    "#### Feature importance data frame"
   ]
  },
  {
   "cell_type": "code",
   "execution_count": null,
   "metadata": {},
   "outputs": [],
   "source": [
    "feature_selection.importance_df"
   ]
  },
  {
   "cell_type": "code",
   "execution_count": null,
   "metadata": {},
   "outputs": [],
   "source": [
    "# name of features\n",
    "X_train.columns"
   ]
  }
 ],
 "metadata": {
  "kernelspec": {
   "display_name": "Python 3.7.17 ('prod_env': venv)",
   "language": "python",
   "name": "python3"
  },
  "language_info": {
   "codemirror_mode": {
    "name": "ipython",
    "version": 3
   },
   "file_extension": ".py",
   "mimetype": "text/x-python",
   "name": "python",
   "nbconvert_exporter": "python",
   "pygments_lexer": "ipython3",
   "version": "3.7.8"
  },
  "orig_nbformat": 4,
  "vscode": {
   "interpreter": {
    "hash": "f3e82f33fff0f86e33d8c3a2efbacef89e166d1ae679c5c81a5bfe456b45cdcf"
   }
  }
 },
 "nbformat": 4,
 "nbformat_minor": 2
}
