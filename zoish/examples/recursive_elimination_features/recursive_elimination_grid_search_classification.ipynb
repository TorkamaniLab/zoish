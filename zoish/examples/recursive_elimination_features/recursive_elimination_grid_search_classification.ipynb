{
 "cells": [
  {
   "cell_type": "markdown",
   "metadata": {},
   "source": [
    "#### Imports\n"
   ]
  },
  {
   "cell_type": "code",
   "execution_count": 1,
   "metadata": {},
   "outputs": [
    {
     "name": "stdout",
     "output_type": "stream",
     "text": [
      "In this module the default logging will be applied.\n"
     ]
    }
   ],
   "source": [
    "from zoish.feature_selectors.recursive_feature_elimination import RecursiveFeatureEliminationFeatureSelector\n",
    "import xgboost\n",
    "from sklearn.model_selection import KFold, train_test_split\n",
    "import pandas as pd\n",
    "from sklearn.pipeline import Pipeline\n",
    "from sklearn.linear_model import LogisticRegression\n",
    "from sklearn.metrics import classification_report, confusion_matrix, f1_score,make_scorer\n",
    "from feature_engine.imputation import MeanMedianImputer\n"
   ]
  },
  {
   "cell_type": "markdown",
   "metadata": {},
   "source": [
    "#### Example: Audiology (Standardized) Data Set\n",
    "###### https://archive.ics.uci.edu/ml/datasets/Audiology+%28Standardized%29\n",
    "\n",
    "\n",
    "#### Read data\n"
   ]
  },
  {
   "cell_type": "code",
   "execution_count": 2,
   "metadata": {},
   "outputs": [
    {
     "data": {
      "text/html": [
       "<div>\n",
       "<style scoped>\n",
       "    .dataframe tbody tr th:only-of-type {\n",
       "        vertical-align: middle;\n",
       "    }\n",
       "\n",
       "    .dataframe tbody tr th {\n",
       "        vertical-align: top;\n",
       "    }\n",
       "\n",
       "    .dataframe thead th {\n",
       "        text-align: right;\n",
       "    }\n",
       "</style>\n",
       "<table border=\"1\" class=\"dataframe\">\n",
       "  <thead>\n",
       "    <tr style=\"text-align: right;\">\n",
       "      <th></th>\n",
       "      <th>class</th>\n",
       "      <th>lymphatics</th>\n",
       "      <th>block of affere</th>\n",
       "      <th>bl. of lymph. c</th>\n",
       "      <th>bl. of lymph. s</th>\n",
       "      <th>by pass</th>\n",
       "      <th>extravasates</th>\n",
       "      <th>regeneration of</th>\n",
       "      <th>early uptake in</th>\n",
       "      <th>lym.nodes dimin</th>\n",
       "      <th>lym.nodes enlar</th>\n",
       "      <th>changes in lym.</th>\n",
       "      <th>defect in node</th>\n",
       "      <th>changes in node</th>\n",
       "      <th>special forms</th>\n",
       "      <th>dislocation of</th>\n",
       "      <th>exclusion of no</th>\n",
       "      <th>no. of nodes in</th>\n",
       "    </tr>\n",
       "  </thead>\n",
       "  <tbody>\n",
       "    <tr>\n",
       "      <th>3</th>\n",
       "      <td>4</td>\n",
       "      <td>2</td>\n",
       "      <td>1</td>\n",
       "      <td>1</td>\n",
       "      <td>1</td>\n",
       "      <td>1</td>\n",
       "      <td>1</td>\n",
       "      <td>2</td>\n",
       "      <td>1</td>\n",
       "      <td>2</td>\n",
       "      <td>2</td>\n",
       "      <td>2</td>\n",
       "      <td>4</td>\n",
       "      <td>8</td>\n",
       "      <td>1</td>\n",
       "      <td>1</td>\n",
       "      <td>2</td>\n",
       "      <td>2</td>\n",
       "    </tr>\n",
       "    <tr>\n",
       "      <th>2</th>\n",
       "      <td>3</td>\n",
       "      <td>2</td>\n",
       "      <td>1</td>\n",
       "      <td>1</td>\n",
       "      <td>2</td>\n",
       "      <td>2</td>\n",
       "      <td>1</td>\n",
       "      <td>2</td>\n",
       "      <td>1</td>\n",
       "      <td>3</td>\n",
       "      <td>3</td>\n",
       "      <td>2</td>\n",
       "      <td>3</td>\n",
       "      <td>4</td>\n",
       "      <td>2</td>\n",
       "      <td>2</td>\n",
       "      <td>2</td>\n",
       "      <td>2</td>\n",
       "    </tr>\n",
       "    <tr>\n",
       "      <th>3</th>\n",
       "      <td>3</td>\n",
       "      <td>2</td>\n",
       "      <td>2</td>\n",
       "      <td>2</td>\n",
       "      <td>2</td>\n",
       "      <td>2</td>\n",
       "      <td>2</td>\n",
       "      <td>2</td>\n",
       "      <td>1</td>\n",
       "      <td>4</td>\n",
       "      <td>3</td>\n",
       "      <td>3</td>\n",
       "      <td>4</td>\n",
       "      <td>8</td>\n",
       "      <td>3</td>\n",
       "      <td>2</td>\n",
       "      <td>2</td>\n",
       "      <td>7</td>\n",
       "    </tr>\n",
       "    <tr>\n",
       "      <th>3</th>\n",
       "      <td>3</td>\n",
       "      <td>1</td>\n",
       "      <td>1</td>\n",
       "      <td>1</td>\n",
       "      <td>1</td>\n",
       "      <td>2</td>\n",
       "      <td>1</td>\n",
       "      <td>2</td>\n",
       "      <td>1</td>\n",
       "      <td>3</td>\n",
       "      <td>3</td>\n",
       "      <td>4</td>\n",
       "      <td>4</td>\n",
       "      <td>4</td>\n",
       "      <td>3</td>\n",
       "      <td>1</td>\n",
       "      <td>2</td>\n",
       "      <td>6</td>\n",
       "    </tr>\n",
       "    <tr>\n",
       "      <th>2</th>\n",
       "      <td>3</td>\n",
       "      <td>1</td>\n",
       "      <td>1</td>\n",
       "      <td>1</td>\n",
       "      <td>1</td>\n",
       "      <td>1</td>\n",
       "      <td>1</td>\n",
       "      <td>1</td>\n",
       "      <td>1</td>\n",
       "      <td>2</td>\n",
       "      <td>2</td>\n",
       "      <td>4</td>\n",
       "      <td>3</td>\n",
       "      <td>5</td>\n",
       "      <td>1</td>\n",
       "      <td>2</td>\n",
       "      <td>2</td>\n",
       "      <td>1</td>\n",
       "    </tr>\n",
       "  </tbody>\n",
       "</table>\n",
       "</div>"
      ],
      "text/plain": [
       "   class  lymphatics  block of affere  bl. of lymph. c  bl. of lymph. s  \\\n",
       "3      4           2                1                1                1   \n",
       "2      3           2                1                1                2   \n",
       "3      3           2                2                2                2   \n",
       "3      3           1                1                1                1   \n",
       "2      3           1                1                1                1   \n",
       "\n",
       "   by pass  extravasates  regeneration of  early uptake in  lym.nodes dimin  \\\n",
       "3        1             1                2                1                2   \n",
       "2        2             1                2                1                3   \n",
       "3        2             2                2                1                4   \n",
       "3        2             1                2                1                3   \n",
       "2        1             1                1                1                2   \n",
       "\n",
       "   lym.nodes enlar  changes in lym.  defect in node  changes in node  \\\n",
       "3                2                2               4                8   \n",
       "2                3                2               3                4   \n",
       "3                3                3               4                8   \n",
       "3                3                4               4                4   \n",
       "2                2                4               3                5   \n",
       "\n",
       "   special forms  dislocation of  exclusion of no  no. of nodes in  \n",
       "3              1               1                2                2  \n",
       "2              2               2                2                2  \n",
       "3              3               2                2                7  \n",
       "3              3               1                2                6  \n",
       "2              1               2                2                1  "
      ]
     },
     "execution_count": 2,
     "metadata": {},
     "output_type": "execute_result"
    }
   ],
   "source": [
    "urldata = \"https://archive.ics.uci.edu/ml/machine-learning-databases/lymphography/lymphography.data\"\n",
    "urlname = \"https://archive.ics.uci.edu/ml/machine-learning-databases/lung-cancer/lung-cancer.names\"\n",
    "# column names\n",
    "col_names = [\n",
    "    \"class\",\n",
    "    \"lymphatics\",\n",
    "    \"block of affere\",\n",
    "    \"bl. of lymph. c\",\n",
    "    \"bl. of lymph. s\",\n",
    "    \"by pass\",\n",
    "    \"extravasates\",\n",
    "    \"regeneration of\",\n",
    "    \"early uptake in\",\n",
    "    \"lym.nodes dimin\",\n",
    "    \"lym.nodes enlar\",\n",
    "    \"changes in lym.\",\n",
    "    \"defect in node\",\n",
    "    \"changes in node\",\n",
    "    \"special forms\",\n",
    "    \"dislocation of\",\n",
    "    \"exclusion of no\",\n",
    "    \"no. of nodes in\",\n",
    "\n",
    "]\n",
    "\n",
    "data = pd.read_csv(urldata,names=col_names)\n",
    "data.head()\n"
   ]
  },
  {
   "cell_type": "markdown",
   "metadata": {},
   "source": [
    "#### Define labels and train-test split\n"
   ]
  },
  {
   "cell_type": "code",
   "execution_count": 3,
   "metadata": {},
   "outputs": [],
   "source": [
    "\n",
    "\n",
    "data.loc[(data[\"class\"] == 1) | (data[\"class\"] == 2), \"class\"] = 0\n",
    "data.loc[data[\"class\"] == 3, \"class\"] = 1\n",
    "data.loc[data[\"class\"] == 4, \"class\"] = 2\n",
    "data[\"class\"] = data[\"class\"].astype(int)"
   ]
  },
  {
   "cell_type": "markdown",
   "metadata": {},
   "source": [
    "#### Train test split\n"
   ]
  },
  {
   "cell_type": "code",
   "execution_count": 4,
   "metadata": {},
   "outputs": [],
   "source": [
    "X = data.loc[:, data.columns != \"class\"]\n",
    "y = data.loc[:, data.columns == \"class\"]\n",
    "\n",
    "X_train, X_test, y_train, y_test = train_test_split(\n",
    "    X, y, test_size=0.33,  random_state=42\n",
    ")\n",
    "y_test=y_test.values.ravel()\n",
    "y_train=y_train.values.ravel()\n"
   ]
  },
  {
   "cell_type": "markdown",
   "metadata": {},
   "source": [
    "#### Define feature selector step \n"
   ]
  },
  {
   "cell_type": "code",
   "execution_count": 5,
   "metadata": {},
   "outputs": [],
   "source": [
    "\n",
    "recursive_feature_elimination_feature_selector = (\n",
    "    RecursiveFeatureEliminationFeatureSelector.recursive_elimination_feature_selector_factory.set_model_params(\n",
    "        X=X_train,\n",
    "        y=y_train,\n",
    "        verbose=0,\n",
    "        random_state=0,\n",
    "        estimator=xgboost.XGBClassifier(),\n",
    "        estimator_params={\n",
    "            \"max_depth\": [4, 5],\n",
    "        },\n",
    "        fit_params = {\n",
    "            \"sample_weight\": None,\n",
    "        },\n",
    "        method=\"gridsearch\",\n",
    "        threshold=0.02,\n",
    "        list_of_obligatory_features_that_must_be_in_model=[],\n",
    "        list_of_features_to_drop_before_any_selection=[],\n",
    "    ).set_recursive_elimination_feature_params(\n",
    "        cv=2,\n",
    "        variables=None,\n",
    "        scoring='roc_auc_ovr',\n",
    "        confirm_variables=False,\n",
    "        \n",
    "    )\n",
    "    .set_gridsearchcv_params(\n",
    "        measure_of_accuracy=make_scorer(f1_score, greater_is_better=True, average='macro'),\n",
    "        verbose=10,\n",
    "        n_jobs=-1,\n",
    "        cv=KFold(3),\n",
    "    )\n",
    ")"
   ]
  },
  {
   "cell_type": "markdown",
   "metadata": {},
   "source": [
    "#### Find feature type for later use\n"
   ]
  },
  {
   "cell_type": "code",
   "execution_count": 6,
   "metadata": {},
   "outputs": [
    {
     "name": "stdout",
     "output_type": "stream",
     "text": [
      "['lymphatics', 'block of affere', 'bl. of lymph. c', 'bl. of lymph. s', 'by pass', 'extravasates', 'regeneration of', 'early uptake in', 'lym.nodes dimin', 'lym.nodes enlar', 'changes in lym.', 'defect in node', 'changes in node', 'special forms', 'dislocation of', 'exclusion of no', 'no. of nodes in']\n"
     ]
    }
   ],
   "source": [
    "int_cols = X_train.select_dtypes(include=[\"int\"]).columns.tolist()\n",
    "print(int_cols)"
   ]
  },
  {
   "cell_type": "markdown",
   "metadata": {},
   "source": [
    "#### Define pipeline"
   ]
  },
  {
   "cell_type": "code",
   "execution_count": 7,
   "metadata": {},
   "outputs": [],
   "source": [
    "pipeline = Pipeline(\n",
    "    [\n",
    "        # int missing values imputers\n",
    "        (\n",
    "        \"intimputer\",\n",
    "        MeanMedianImputer(imputation_method=\"median\", variables=int_cols),\n",
    "        ),\n",
    "        (\"sfefs\", recursive_feature_elimination_feature_selector),\n",
    "        # classification model\n",
    "        (\"logistic\", LogisticRegression(solver='liblinear',max_iter=100)),\n",
    "    ]\n",
    ")"
   ]
  },
  {
   "cell_type": "markdown",
   "metadata": {},
   "source": [
    "#### Run Pipeline\n"
   ]
  },
  {
   "cell_type": "code",
   "execution_count": 8,
   "metadata": {},
   "outputs": [
    {
     "name": "stdout",
     "output_type": "stream",
     "text": [
      "Fitting 3 folds for each of 2 candidates, totalling 6 fits\n",
      "[CV 1/3; 1/2] START max_depth=4.................................................\n",
      "[CV 1/3; 1/2] END ..................max_depth=4;, score=0.475 total time=   0.1s\n",
      "[CV 2/3; 1/2] START max_depth=4.................................................\n",
      "[CV 2/3; 1/2] END ..................max_depth=4;, score=0.259 total time=   0.0s\n",
      "[CV 3/3; 1/2] START max_depth=4.................................................\n",
      "[CV 3/3; 1/2] END ..................max_depth=4;, score=0.371 total time=   0.1s\n",
      "[CV 1/3; 2/2] START max_depth=5.................................................\n",
      "[CV 1/3; 2/2] END ..................max_depth=5;, score=0.496 total time=   0.0s\n",
      "[CV 2/3; 2/2] START max_depth=5.................................................\n",
      "[CV 2/3; 2/2] END ..................max_depth=5;, score=0.209 total time=   0.1s\n",
      "[CV 3/3; 2/2] START max_depth=5.................................................\n",
      "[CV 3/3; 2/2] END ..................max_depth=5;, score=0.282 total time=   0.0s\n",
      "['lymphatics', 'block of affere', 'bl. of lymph. c', 'bl. of lymph. s', 'by pass', 'extravasates', 'regeneration of', 'early uptake in', 'lym.nodes enlar', 'defect in node', 'special forms', 'dislocation of', 'exclusion of no', 'no. of nodes in']\n",
      "{'by pass': -0.03295222849285273, 'lym.nodes enlar': 0.0061291301769059725, 'extravasates': 0.0017239614756603405, 'special forms': -0.020920604299679457, 'bl. of lymph. c': 0.00315084164986712, 'lymphatics': -0.03416946471710591, 'no. of nodes in': -0.04031183796019289, 'exclusion of no': 0.01555214280074424, 'regeneration of': 0.004385236140232784, 'defect in node': -0.02091760198609982, 'changes in lym.': 0.03718239752468733, 'changes in node': 0.02561092312987412, 'bl. of lymph. s': 0.005496877129723798, 'dislocation of': 0.008750662847003099, 'lym.nodes dimin': 0.059847342285597405, 'block of affere': -0.045911607618513095, 'early uptake in': -0.003932032807922092}\n",
      "dict_keys(['changes in lym.', 'changes in node', 'lym.nodes dimin'])\n",
      "                 0         1\n",
      "0  changes in lym.  0.037182\n",
      "1  changes in node  0.025611\n",
      "2  lym.nodes dimin  0.059847\n",
      "['changes in lym.', 'changes in node', 'lym.nodes dimin']\n"
     ]
    }
   ],
   "source": [
    "pipeline.fit(X_train, y_train)\n",
    "y_pred = pipeline.predict(X_test)\n"
   ]
  },
  {
   "cell_type": "markdown",
   "metadata": {},
   "source": [
    "#### Check performance of the Pipeline\n"
   ]
  },
  {
   "cell_type": "code",
   "execution_count": 9,
   "metadata": {},
   "outputs": [
    {
     "name": "stdout",
     "output_type": "stream",
     "text": [
      "F1 score : \n",
      "0.42857142857142855\n",
      "Classification report : \n",
      "              precision    recall  f1-score   support\n",
      "\n",
      "           0       0.47      0.76      0.58        21\n",
      "           1       0.31      0.29      0.30        14\n",
      "           2       0.50      0.07      0.12        14\n",
      "\n",
      "    accuracy                           0.43        49\n",
      "   macro avg       0.43      0.37      0.33        49\n",
      "weighted avg       0.43      0.43      0.37        49\n",
      "\n",
      "Confusion matrix : \n",
      "[[16  5  0]\n",
      " [ 9  4  1]\n",
      " [ 9  4  1]]\n"
     ]
    }
   ],
   "source": [
    "\n",
    "print(\"F1 score : \")\n",
    "print(f1_score(y_test, y_pred,average='micro'))\n",
    "print(\"Classification report : \")\n",
    "print(classification_report(y_test, y_pred))\n",
    "print(\"Confusion matrix : \")\n",
    "print(confusion_matrix(y_test, y_pred))\n",
    "\n"
   ]
  },
  {
   "cell_type": "markdown",
   "metadata": {},
   "source": [
    "#### Get access to feature selector instance"
   ]
  },
  {
   "cell_type": "code",
   "execution_count": 10,
   "metadata": {},
   "outputs": [
    {
     "name": "stdout",
     "output_type": "stream",
     "text": [
      "RecursiveFeatureElimination(cv=KFold(n_splits=3, random_state=None, shuffle=False),\n",
      "                            estimator=XGBClassifier(base_score=0.5,\n",
      "                                                    booster='gbtree',\n",
      "                                                    callbacks=None,\n",
      "                                                    colsample_bylevel=1,\n",
      "                                                    colsample_bynode=1,\n",
      "                                                    colsample_bytree=1,\n",
      "                                                    early_stopping_rounds=None,\n",
      "                                                    enable_categorical=False,\n",
      "                                                    eval_metric=None, gamma=0,\n",
      "                                                    gpu_id=-1,\n",
      "                                                    grow_policy='depthwise',\n",
      "                                                    importance_type=None,\n",
      "                                                    interaction_constraints='',\n",
      "                                                    learning_rate=0.300000012,\n",
      "                                                    max_bin=256,\n",
      "                                                    max_cat_to_onehot=4,\n",
      "                                                    max_delta_step=0,\n",
      "                                                    max_depth=4, max_leaves=0,\n",
      "                                                    min_child_weight=1,\n",
      "                                                    missing=nan,\n",
      "                                                    monotone_constraints='()',\n",
      "                                                    n_estimators=100, n_jobs=0,\n",
      "                                                    num_parallel_tree=1,\n",
      "                                                    objective='multi:softprob',\n",
      "                                                    predictor='auto',\n",
      "                                                    random_state=0, reg_alpha=0, ...),\n",
      "                            scoring='roc_auc_ovr', threshold=0.02)\n"
     ]
    }
   ],
   "source": [
    "print(RecursiveFeatureEliminationFeatureSelector.recursive_elimination_feature_selector_factory.get_feature_selector_instance())"
   ]
  }
 ],
 "metadata": {
  "kernelspec": {
   "display_name": "Python 3.10.6 ('.venv': poetry)",
   "language": "python",
   "name": "python3"
  },
  "language_info": {
   "codemirror_mode": {
    "name": "ipython",
    "version": 3
   },
   "file_extension": ".py",
   "mimetype": "text/x-python",
   "name": "python",
   "nbconvert_exporter": "python",
   "pygments_lexer": "ipython3",
   "version": "3.10.9"
  },
  "orig_nbformat": 4,
  "vscode": {
   "interpreter": {
    "hash": "2fd4a9ad6613f01435523ab5e4297db981c1d87a44e43e252d0e314391da6eb3"
   }
  }
 },
 "nbformat": 4,
 "nbformat_minor": 2
}
