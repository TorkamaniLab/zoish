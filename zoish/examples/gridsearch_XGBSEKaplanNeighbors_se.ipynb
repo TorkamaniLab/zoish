{
 "cells": [
  {
   "cell_type": "code",
   "execution_count": 13,
   "metadata": {},
   "outputs": [],
   "source": [
    "from zoish.feature_selectors.gridshap import GridSearchCVShapFeatureSelector\n",
    "import logging\n",
    "import numpy as np\n",
    "import pandas as pd\n",
    "import xgboost\n",
    "import xgbse\n",
    "from xgbse.converters import convert_to_structured\n",
    "from xgbse.metrics import concordance_index, approx_brier_score\n",
    "import matplotlib.pyplot as plt\n",
    "from sklearn.model_selection import KFold,train_test_split\n",
    "from sklearn.pipeline import Pipeline\n",
    "from sklearn.metrics import (\n",
    "    classification_report,\n",
    "    confusion_matrix,\n",
    "    f1_score)\n"
   ]
  },
  {
   "cell_type": "markdown",
   "metadata": {},
   "source": [
    "# Install pytorch, pycox needs it"
   ]
  },
  {
   "cell_type": "code",
   "execution_count": 14,
   "metadata": {},
   "outputs": [
    {
     "name": "stdout",
     "output_type": "stream",
     "text": [
      "Requirement already satisfied: torch in /Users/hjavedani/Documents/zoish/.venv/lib/python3.10/site-packages (1.12.1)\n",
      "Requirement already satisfied: torchvision in /Users/hjavedani/Documents/zoish/.venv/lib/python3.10/site-packages (0.13.1)\n",
      "Requirement already satisfied: torchaudio in /Users/hjavedani/Documents/zoish/.venv/lib/python3.10/site-packages (0.12.1)\n",
      "Requirement already satisfied: typing-extensions in /Users/hjavedani/Documents/zoish/.venv/lib/python3.10/site-packages (from torch) (4.2.0)\n",
      "Requirement already satisfied: requests in /Users/hjavedani/Documents/zoish/.venv/lib/python3.10/site-packages (from torchvision) (2.28.1)\n",
      "Requirement already satisfied: numpy in /Users/hjavedani/Documents/zoish/.venv/lib/python3.10/site-packages (from torchvision) (1.21.6)\n",
      "Requirement already satisfied: pillow!=8.3.*,>=5.3.0 in /Users/hjavedani/Documents/zoish/.venv/lib/python3.10/site-packages (from torchvision) (9.1.1)\n",
      "Requirement already satisfied: idna<4,>=2.5 in /Users/hjavedani/Documents/zoish/.venv/lib/python3.10/site-packages (from requests->torchvision) (3.3)\n",
      "Requirement already satisfied: certifi>=2017.4.17 in /Users/hjavedani/Documents/zoish/.venv/lib/python3.10/site-packages (from requests->torchvision) (2022.6.15)\n",
      "Requirement already satisfied: urllib3<1.27,>=1.21.1 in /Users/hjavedani/Documents/zoish/.venv/lib/python3.10/site-packages (from requests->torchvision) (1.26.12)\n",
      "Requirement already satisfied: charset-normalizer<3,>=2 in /Users/hjavedani/Documents/zoish/.venv/lib/python3.10/site-packages (from requests->torchvision) (2.1.1)\n",
      "\n",
      "\u001b[1m[\u001b[0m\u001b[34;49mnotice\u001b[0m\u001b[1;39;49m]\u001b[0m\u001b[39;49m A new release of pip available: \u001b[0m\u001b[31;49m22.1.2\u001b[0m\u001b[39;49m -> \u001b[0m\u001b[32;49m22.2.2\u001b[0m\n",
      "\u001b[1m[\u001b[0m\u001b[34;49mnotice\u001b[0m\u001b[1;39;49m]\u001b[0m\u001b[39;49m To update, run: \u001b[0m\u001b[32;49mpip install --upgrade pip\u001b[0m\n"
     ]
    }
   ],
   "source": [
    "!pip3 install torch torchvision torchaudio\n"
   ]
  },
  {
   "cell_type": "markdown",
   "metadata": {},
   "source": [
    "# Example : XGBoost Survival Embeddings (XGBSEKaplanNeighbors)\n",
    "For more information refer to this link :\n",
    "https://loft-br.github.io/xgboost-survival-embeddings/examples/confidence_interval.html"
   ]
  },
  {
   "cell_type": "markdown",
   "metadata": {},
   "source": [
    "# Data"
   ]
  },
  {
   "cell_type": "code",
   "execution_count": 15,
   "metadata": {},
   "outputs": [
    {
     "data": {
      "text/html": [
       "<div>\n",
       "<style scoped>\n",
       "    .dataframe tbody tr th:only-of-type {\n",
       "        vertical-align: middle;\n",
       "    }\n",
       "\n",
       "    .dataframe tbody tr th {\n",
       "        vertical-align: top;\n",
       "    }\n",
       "\n",
       "    .dataframe thead th {\n",
       "        text-align: right;\n",
       "    }\n",
       "</style>\n",
       "<table border=\"1\" class=\"dataframe\">\n",
       "  <thead>\n",
       "    <tr style=\"text-align: right;\">\n",
       "      <th></th>\n",
       "      <th>x0</th>\n",
       "      <th>x1</th>\n",
       "      <th>x2</th>\n",
       "      <th>x3</th>\n",
       "      <th>x4</th>\n",
       "      <th>x5</th>\n",
       "      <th>x6</th>\n",
       "      <th>x7</th>\n",
       "      <th>x8</th>\n",
       "      <th>duration</th>\n",
       "      <th>event</th>\n",
       "    </tr>\n",
       "  </thead>\n",
       "  <tbody>\n",
       "    <tr>\n",
       "      <th>0</th>\n",
       "      <td>5.603834</td>\n",
       "      <td>7.811392</td>\n",
       "      <td>10.797988</td>\n",
       "      <td>5.967607</td>\n",
       "      <td>1.0</td>\n",
       "      <td>1.0</td>\n",
       "      <td>0.0</td>\n",
       "      <td>1.0</td>\n",
       "      <td>56.840000</td>\n",
       "      <td>99.333336</td>\n",
       "      <td>0</td>\n",
       "    </tr>\n",
       "    <tr>\n",
       "      <th>1</th>\n",
       "      <td>5.284882</td>\n",
       "      <td>9.581043</td>\n",
       "      <td>10.204620</td>\n",
       "      <td>5.664970</td>\n",
       "      <td>1.0</td>\n",
       "      <td>0.0</td>\n",
       "      <td>0.0</td>\n",
       "      <td>1.0</td>\n",
       "      <td>85.940002</td>\n",
       "      <td>95.733330</td>\n",
       "      <td>1</td>\n",
       "    </tr>\n",
       "    <tr>\n",
       "      <th>2</th>\n",
       "      <td>5.920251</td>\n",
       "      <td>6.776564</td>\n",
       "      <td>12.431715</td>\n",
       "      <td>5.873857</td>\n",
       "      <td>0.0</td>\n",
       "      <td>1.0</td>\n",
       "      <td>0.0</td>\n",
       "      <td>1.0</td>\n",
       "      <td>48.439999</td>\n",
       "      <td>140.233337</td>\n",
       "      <td>0</td>\n",
       "    </tr>\n",
       "    <tr>\n",
       "      <th>3</th>\n",
       "      <td>6.654017</td>\n",
       "      <td>5.341846</td>\n",
       "      <td>8.646379</td>\n",
       "      <td>5.655888</td>\n",
       "      <td>0.0</td>\n",
       "      <td>0.0</td>\n",
       "      <td>0.0</td>\n",
       "      <td>0.0</td>\n",
       "      <td>66.910004</td>\n",
       "      <td>239.300003</td>\n",
       "      <td>0</td>\n",
       "    </tr>\n",
       "    <tr>\n",
       "      <th>4</th>\n",
       "      <td>5.456747</td>\n",
       "      <td>5.339741</td>\n",
       "      <td>10.555724</td>\n",
       "      <td>6.008429</td>\n",
       "      <td>1.0</td>\n",
       "      <td>0.0</td>\n",
       "      <td>0.0</td>\n",
       "      <td>1.0</td>\n",
       "      <td>67.849998</td>\n",
       "      <td>56.933334</td>\n",
       "      <td>1</td>\n",
       "    </tr>\n",
       "  </tbody>\n",
       "</table>\n",
       "</div>"
      ],
      "text/plain": [
       "         x0        x1         x2        x3   x4   x5   x6   x7         x8  \\\n",
       "0  5.603834  7.811392  10.797988  5.967607  1.0  1.0  0.0  1.0  56.840000   \n",
       "1  5.284882  9.581043  10.204620  5.664970  1.0  0.0  0.0  1.0  85.940002   \n",
       "2  5.920251  6.776564  12.431715  5.873857  0.0  1.0  0.0  1.0  48.439999   \n",
       "3  6.654017  5.341846   8.646379  5.655888  0.0  0.0  0.0  0.0  66.910004   \n",
       "4  5.456747  5.339741  10.555724  6.008429  1.0  0.0  0.0  1.0  67.849998   \n",
       "\n",
       "     duration  event  \n",
       "0   99.333336      0  \n",
       "1   95.733330      1  \n",
       "2  140.233337      0  \n",
       "3  239.300003      0  \n",
       "4   56.933334      1  "
      ]
     },
     "execution_count": 15,
     "metadata": {},
     "output_type": "execute_result"
    }
   ],
   "source": [
    "from pycox.datasets import metabric\n",
    "# read data metabric\n",
    "data = metabric.read_df()\n",
    "data.head()"
   ]
  },
  {
   "cell_type": "markdown",
   "metadata": {},
   "source": [
    "# Define labels in this example: \n",
    "\n",
    "y for feature selection (if you want to feature selection based on event)\n",
    "y_fs = data['event']\n",
    "\n",
    "Also in grid_xgbse bellow,  xgbse_focus should be set = \"event\",\n",
    "\n",
    "\n",
    "y for feature selection (if you want to perform feature selection based on duration)\n",
    "y_fs = data['duration']\n",
    "\n",
    "Also in grid_xgbse bellow,  xgbse_focus should be set = \"duration\",\n",
    "\n"
   ]
  },
  {
   "cell_type": "code",
   "execution_count": 16,
   "metadata": {},
   "outputs": [],
   "source": [
    "\n",
    "# splitting to X, T, E format\n",
    "X = data.drop(['duration', 'event'], axis=1)\n",
    "T = data['duration']\n",
    "E = data['event']\n",
    "y = convert_to_structured(T, E)\n",
    "# y for for feature selection (if you want do feature selection based on event)\n",
    "# y_fs = data[['event']]\n",
    "# also in grid_xgbse should set xgbse_model_needed = \"classification\",\n",
    "\n",
    "\n",
    "# y for for feature selection (if you want do feature selection based on duration)\n",
    "# y_fs = data[['duration']]\n",
    "# also in grid_xgbse should set xgbse_model_needed = \"regression\",\n",
    "\n",
    "y_fs = data[['duration']]\n",
    "\n"
   ]
  },
  {
   "cell_type": "code",
   "execution_count": 17,
   "metadata": {},
   "outputs": [
    {
     "data": {
      "text/html": [
       "<div>\n",
       "<style scoped>\n",
       "    .dataframe tbody tr th:only-of-type {\n",
       "        vertical-align: middle;\n",
       "    }\n",
       "\n",
       "    .dataframe tbody tr th {\n",
       "        vertical-align: top;\n",
       "    }\n",
       "\n",
       "    .dataframe thead th {\n",
       "        text-align: right;\n",
       "    }\n",
       "</style>\n",
       "<table border=\"1\" class=\"dataframe\">\n",
       "  <thead>\n",
       "    <tr style=\"text-align: right;\">\n",
       "      <th></th>\n",
       "      <th>duration</th>\n",
       "    </tr>\n",
       "  </thead>\n",
       "  <tbody>\n",
       "    <tr>\n",
       "      <th>0</th>\n",
       "      <td>99.333336</td>\n",
       "    </tr>\n",
       "    <tr>\n",
       "      <th>1</th>\n",
       "      <td>95.733330</td>\n",
       "    </tr>\n",
       "    <tr>\n",
       "      <th>2</th>\n",
       "      <td>140.233337</td>\n",
       "    </tr>\n",
       "    <tr>\n",
       "      <th>3</th>\n",
       "      <td>239.300003</td>\n",
       "    </tr>\n",
       "    <tr>\n",
       "      <th>4</th>\n",
       "      <td>56.933334</td>\n",
       "    </tr>\n",
       "  </tbody>\n",
       "</table>\n",
       "</div>"
      ],
      "text/plain": [
       "     duration\n",
       "0   99.333336\n",
       "1   95.733330\n",
       "2  140.233337\n",
       "3  239.300003\n",
       "4   56.933334"
      ]
     },
     "execution_count": 17,
     "metadata": {},
     "output_type": "execute_result"
    }
   ],
   "source": [
    "y_fs.head()"
   ]
  },
  {
   "cell_type": "markdown",
   "metadata": {},
   "source": [
    "# Train test split for feature selection and for the model itself\n",
    "\n",
    "splitting between train and validation (the following uses for the feature selection step - random_state should be the same in both)\n",
    " - X_train, X_test, y_train_fs, y_test_fs = train_test_split(X, y_fs, test_size=1/3, random_state = 0)\n",
    "\n",
    "splitting between train and validation (the following uses for the main model - random_state should be the same in both)\n",
    "- _ , _ , y_train, y_test = train_test_split(X, y, test_size=1/3, random_state = 0)\n"
   ]
  },
  {
   "cell_type": "code",
   "execution_count": 18,
   "metadata": {},
   "outputs": [
    {
     "data": {
      "text/plain": [
       "array([ 15,  30,  45,  60,  75,  90, 105, 120, 135, 150, 165, 180, 195,\n",
       "       210, 225, 240, 255, 270, 285, 300])"
      ]
     },
     "execution_count": 18,
     "metadata": {},
     "output_type": "execute_result"
    }
   ],
   "source": [
    "# splitting between train, and validation (the following is for feature selection step - random_state should be same in both)\n",
    "X_train, X_test, y_train_fs, y_test_fs = train_test_split(X, y_fs, test_size=1/3, random_state = 0)\n",
    "# splitting between train, and validation (the following is for fit main model - random_state should be same in both)\n",
    "_ , _ , y_train, y_test = train_test_split(X, y, test_size=1/3, random_state = 0)\n",
    "\n",
    "TIME_BINS = np.arange(15, 315, 15)\n",
    "TIME_BINS\n"
   ]
  },
  {
   "cell_type": "markdown",
   "metadata": {},
   "source": [
    "# Define Feature selector and set its arguments  \n",
    "\n",
    "The feature selector in this example (or when the focus is on \"duration\") will use XGBRegressor.\n",
    "\n",
    "So estimator_params should be matched with XGBRegressor."
   ]
  },
  {
   "cell_type": "code",
   "execution_count": 19,
   "metadata": {},
   "outputs": [
    {
     "name": "stderr",
     "output_type": "stream",
     "text": [
      "root - INFO - Setting value for logging_basicConfig\n",
      "root - INFO - Getting value for logging_basicConfig\n",
      "root - INFO - Setting value for xgbse_focus\n",
      "root - INFO - Setting value for verbose\n",
      "root - INFO - Setting value for random_state\n",
      "root - INFO - Setting value for n_features\n",
      "root - INFO - Setting value for list_of_obligatory_features_that_must_be_in_model\n",
      "root - INFO - Setting value for list of features to drop before any selection\n",
      "root - INFO - Setting value for estimator\n",
      "root - INFO - Getting value for estimator\n",
      "root - INFO - XGBSEKaplanNeighbors(xgb_params={'aft_loss_distribution': 'normal',\n",
      "                                 'aft_loss_distribution_scale': 1,\n",
      "                                 'booster': 'dart', 'colsample_bynode': 0.5,\n",
      "                                 'eval_metric': 'aft-nloglik',\n",
      "                                 'learning_rate': 0.05, 'max_depth': 8,\n",
      "                                 'min_child_weight': 50,\n",
      "                                 'objective': 'survival:aft', 'subsample': 0.5,\n",
      "                                 'tree_method': 'hist'})\n",
      "root - INFO - Getting value for estimator\n",
      "root - INFO - Setting value for estimator_params\n",
      "root - INFO - Setting value for estimator\n",
      "root - INFO - Getting value for estimator\n",
      "root - INFO - Getting value for estimator\n",
      "root - INFO - Getting value for estimator\n",
      "root - INFO - Getting value for estimator\n",
      "root - INFO - Getting value for estimator\n",
      "root - INFO - Getting value for estimator\n",
      "root - INFO - Getting value for estimator\n",
      "root - INFO - Getting value for estimator\n",
      "root - INFO - Getting value for estimator\n",
      "root - INFO - Setting value for estimator_params\n",
      "root - INFO - Getting value for estimator\n",
      "root - INFO - Getting value for estimator\n",
      "root - INFO - Getting value for estimator\n",
      "root - INFO - Setting value for model_output\n",
      "root - INFO - Setting value for feature perturbation\n",
      "root - INFO - Setting value for algorithm\n",
      "root - INFO - Setting value for shap_n_jobs\n",
      "root - INFO - Setting value for grid_search_n_jobs\n",
      "root - INFO - Setting value for memory_tolerance\n",
      "root - INFO - Setting value for feature_names\n",
      "root - INFO - Setting value for approximate\n",
      "root - INFO - Setting value for shortcut\n",
      "root - INFO - Setting value for plot shap summary\n",
      "root - INFO - Setting value for save_shap_summary_plot\n",
      "root - INFO - Setting value for path_to_save_plot\n",
      "root - INFO - Setting value for shap_fig\n",
      "root - INFO - Setting value for cv\n",
      "root - INFO - Setting value for performance metric\n",
      "root - INFO - Setting value for best estimator\n",
      "root - INFO - Setting value for importance_df\n"
     ]
    },
    {
     "data": {
      "text/plain": [
       "<Figure size 432x288 with 0 Axes>"
      ]
     },
     "metadata": {},
     "output_type": "display_data"
    }
   ],
   "source": [
    "grid_xgbse = GridSearchCVShapFeatureSelector(\n",
    "        # general argument setting        \n",
    "        verbose=5,\n",
    "        random_state=0,\n",
    "        logging_basicConfig = None,\n",
    "        # general argument setting        \n",
    "        n_features=5,\n",
    "        list_of_obligatory_features_that_must_be_in_model=[],\n",
    "        list_of_features_to_drop_before_any_selection=[],\n",
    "        # shap argument setting        \n",
    "        estimator=xgbse.XGBSEKaplanNeighbors(),\n",
    "        estimator_params={\n",
    "        \"max_depth\": [4, 5],\n",
    "        \"min_child_weight\": [0.1, 0.9],\n",
    "        \"gamma\": [1, 9],\n",
    "        },\n",
    "        # shap arguments\n",
    "        model_output=\"raw\", \n",
    "        feature_perturbation=\"interventional\", \n",
    "        algorithm=\"auto\", \n",
    "        shap_n_jobs=-1, \n",
    "        memory_tolerance=-1, \n",
    "        feature_names=None, \n",
    "        approximate=False, \n",
    "        shortcut=False, \n",
    "        plot_shap_summary=True,\n",
    "        save_shap_summary_plot=False,\n",
    "        path_to_save_plot = './summary_plot.png',\n",
    "        shap_fig = plt.figure(),\n",
    "        ## grid search params\n",
    "        performance_metric = 'r2',\n",
    "        cv = KFold(n_splits=3, shuffle=True),\n",
    "        # this argument is necessary and only \n",
    "        # meaningful for Survival Embedding\n",
    "        xgbse_focus = \"duration\",\n",
    "\n",
    ")\n"
   ]
  },
  {
   "cell_type": "markdown",
   "metadata": {},
   "source": [
    "# Build sklearn Pipeline \n",
    "\n",
    "(in this example only feature selector, because features already in\n",
    "form of numbers)"
   ]
  },
  {
   "cell_type": "code",
   "execution_count": 20,
   "metadata": {},
   "outputs": [
    {
     "name": "stderr",
     "output_type": "stream",
     "text": [
      "root - INFO - Getting value for estimator\n",
      "root - INFO - Getting value for estimator_params\n",
      "root - INFO - Getting value for performance metric\n",
      "root - INFO - Getting value for verbose\n",
      "root - INFO - Getting value for grid_search_n_jobs\n",
      "root - INFO - Getting value for cv\n",
      "root - INFO - Getting value for xgbse_focus\n"
     ]
    },
    {
     "name": "stdout",
     "output_type": "stream",
     "text": [
      "Fitting 3 folds for each of 8 candidates, totalling 24 fits\n",
      "[CV 1/3] END gamma=1, max_depth=4, min_child_weight=0.1;, score=-0.115 total time=   0.1s\n",
      "[CV 2/3] END gamma=1, max_depth=4, min_child_weight=0.1;, score=-0.158 total time=   0.1s\n",
      "[CV 3/3] END gamma=1, max_depth=4, min_child_weight=0.1;, score=-0.086 total time=   0.1s\n",
      "[CV 1/3] END gamma=1, max_depth=4, min_child_weight=0.9;, score=-0.115 total time=   0.1s\n",
      "[CV 2/3] END gamma=1, max_depth=4, min_child_weight=0.9;, score=-0.158 total time=   0.1s\n",
      "[CV 3/3] END gamma=1, max_depth=4, min_child_weight=0.9;, score=-0.086 total time=   0.1s\n",
      "[CV 1/3] END gamma=1, max_depth=5, min_child_weight=0.1;, score=-0.115 total time=   0.1s\n",
      "[CV 2/3] END gamma=1, max_depth=5, min_child_weight=0.1;, score=-0.149 total time=   0.1s\n",
      "[CV 3/3] END gamma=1, max_depth=5, min_child_weight=0.1;, score=-0.130 total time=   0.1s\n",
      "[CV 1/3] END gamma=1, max_depth=5, min_child_weight=0.9;, score=-0.115 total time=   0.1s\n",
      "[CV 2/3] END gamma=1, max_depth=5, min_child_weight=0.9;, score=-0.149 total time=   0.1s\n",
      "[CV 3/3] END gamma=1, max_depth=5, min_child_weight=0.9;, score=-0.130 total time=   0.1s\n",
      "[CV 1/3] END gamma=9, max_depth=4, min_child_weight=0.1;, score=-0.137 total time=   0.1s\n",
      "[CV 2/3] END gamma=9, max_depth=4, min_child_weight=0.1;, score=-0.124 total time=   0.1s\n",
      "[CV 3/3] END gamma=9, max_depth=4, min_child_weight=0.1;, score=-0.080 total time=   0.1s\n",
      "[CV 1/3] END gamma=9, max_depth=4, min_child_weight=0.9;, score=-0.137 total time=   0.1s\n",
      "[CV 2/3] END gamma=9, max_depth=4, min_child_weight=0.9;, score=-0.124 total time=   0.1s\n",
      "[CV 3/3] END gamma=9, max_depth=4, min_child_weight=0.9;, score=-0.080 total time=   0.1s\n",
      "[CV 1/3] END gamma=9, max_depth=5, min_child_weight=0.1;, score=-0.144 total time=   0.1s\n",
      "[CV 2/3] END gamma=9, max_depth=5, min_child_weight=0.1;, score=-0.172 total time=   0.1s\n",
      "[CV 3/3] END gamma=9, max_depth=5, min_child_weight=0.1;, score=-0.127 total time=   0.1s\n",
      "[CV 1/3] END gamma=9, max_depth=5, min_child_weight=0.9;, score=-0.144 total time=   0.1s\n"
     ]
    },
    {
     "name": "stderr",
     "output_type": "stream",
     "text": [
      "root - INFO - Setting value for best estimator\n",
      "root - INFO - Getting value for estimator\n",
      "root - INFO - Getting value for estimator\n",
      "root - INFO - Getting value for best estimator\n",
      "root - INFO - Getting value for model_output\n",
      "root - INFO - Getting value for feature perturbation\n",
      "root - INFO - Getting value for algorithm\n",
      "root - INFO - Getting value for shap_n_jobs\n",
      "root - INFO - Getting value for memory_tolerance\n",
      "root - INFO - Getting value for feature_names\n",
      "root - INFO - Getting value for approximate\n",
      "root - INFO - Getting value for shortcut\n"
     ]
    },
    {
     "name": "stdout",
     "output_type": "stream",
     "text": [
      "[CV 2/3] END gamma=9, max_depth=5, min_child_weight=0.9;, score=-0.172 total time=   0.1s\n",
      "[CV 3/3] END gamma=9, max_depth=5, min_child_weight=0.9;, score=-0.127 total time=   0.1s\n",
      "XGBRegressor\n"
     ]
    },
    {
     "name": "stderr",
     "output_type": "stream",
     "text": [
      "root - INFO - Getting value for plot shap summary\n",
      "root - INFO - Getting value for n_features\n"
     ]
    },
    {
     "name": "stdout",
     "output_type": "stream",
     "text": [
      ".values =\n",
      "array([[ 79.15132155,  28.95708193,  -4.35815484, ...,  12.3437101 ,\n",
      "         -2.81379319,  31.93110749],\n",
      "       [-17.69007327,   5.70807738,  -0.20849038, ...,   3.68817164,\n",
      "          0.09960031,  -6.72998681],\n",
      "       [-13.4947649 ,  -3.06150807, -11.74998316, ...,   4.18807486,\n",
      "         -0.11663186,   6.31946027],\n",
      "       ...,\n",
      "       [ 10.85558833, -21.09721294,   1.58059519, ..., -35.09710114,\n",
      "         -1.31908386,   6.28567553],\n",
      "       [-25.18657416, -29.73935096, -17.76535966, ..., -23.45922482,\n",
      "          3.53280148,  20.48854229],\n",
      "       [ 12.26581352,  -4.36222472,  13.94713032, ..., -22.19410031,\n",
      "         -3.12606114,   8.28349302]])\n",
      "\n",
      ".base_values =\n",
      "array([[126.7850657],\n",
      "       [126.7850657],\n",
      "       [126.7850657],\n",
      "       ...,\n",
      "       [126.7850657],\n",
      "       [126.7850657],\n",
      "       [126.7850657]])\n",
      "\n",
      ".data =\n",
      "array([[ 5.259714 ,  7.07262  , 11.602811 , ...,  0.       ,  1.       ,\n",
      "        56.11     ],\n",
      "       [ 5.557993 ,  6.741262 ,  9.116503 , ...,  0.       ,  1.       ,\n",
      "        75.71     ],\n",
      "       [ 5.6806765,  6.141229 ,  9.638722 , ...,  0.       ,  1.       ,\n",
      "        49.87     ],\n",
      "       ...,\n",
      "       [ 5.8149223,  8.205788 , 11.880357 , ...,  1.       ,  0.       ,\n",
      "        41.17     ],\n",
      "       [ 7.0540814,  5.0545154, 13.592611 , ...,  1.       ,  0.       ,\n",
      "        35.14     ],\n",
      "       [ 5.7935643,  8.5377865, 10.824402 , ...,  1.       ,  1.       ,\n",
      "        52.55     ]], dtype=float32)\n"
     ]
    },
    {
     "data": {
      "image/png": "[encoded data removed]",
      "text/plain": [
       "<Figure size 576x252 with 2 Axes>"
      ]
     },
     "metadata": {
      "needs_background": "light"
     },
     "output_type": "display_data"
    },
    {
     "name": "stderr",
     "output_type": "stream",
     "text": [
      "root - INFO - Getting value for save_shap_summary_plot\n",
      "root - INFO - Setting value for importance_df\n",
      "root - INFO - Getting value for importance_df\n",
      "root - INFO - Getting value for importance_df\n",
      "root - INFO - Getting value for importance_df\n",
      "root - INFO - Getting value for importance_df\n",
      "root - INFO - Setting value for importance_df\n",
      "root - INFO - Getting value for importance_df\n",
      "root - INFO - Getting value for importance_df\n",
      "root - INFO - Getting value for n_features\n",
      "root - INFO - Getting value for n_features\n",
      "root - INFO - Getting value for importance_df\n",
      "root - INFO - Getting value for importance_df\n"
     ]
    },
    {
     "name": "stdout",
     "output_type": "stream",
     "text": [
      "    0          1\n",
      "0  x0  10.285166\n",
      "1  x1  12.092601\n",
      "2  x2  10.457346\n",
      "3  x3  11.004252\n",
      "4  x4   8.586718\n",
      "5  x5   1.471068\n",
      "6  x6  10.074565\n",
      "7  x7   3.165593\n",
      "8  x8  15.626504\n",
      "  column_name shap_importance\n",
      "0          x0       10.285166\n",
      "1          x1       12.092601\n",
      "2          x2       10.457346\n",
      "3          x3       11.004252\n",
      "4          x4        8.586718\n",
      "5          x5        1.471068\n",
      "6          x6       10.074565\n",
      "7          x7        3.165593\n",
      "8          x8       15.626504\n",
      "  column_name shap_importance\n",
      "8          x8       15.626504\n",
      "1          x1       12.092601\n",
      "3          x3       11.004252\n",
      "2          x2       10.457346\n",
      "0          x0       10.285166\n",
      "6          x6       10.074565\n",
      "4          x4        8.586718\n",
      "7          x7        3.165593\n",
      "5          x5        1.471068\n",
      "  column_name shap_importance\n",
      "8          x8       15.626504\n",
      "1          x1       12.092601\n",
      "3          x3       11.004252\n",
      "2          x2       10.457346\n",
      "0          x0       10.285166\n"
     ]
    }
   ],
   "source": [
    "\n",
    "pipeline = Pipeline([\n",
    "            # feature selection\n",
    "            ('grid_xgbse', grid_xgbse),\n",
    "\n",
    " ])\n",
    "\n",
    "X_train=pipeline.fit_transform(X_train,y_train_fs)\n"
   ]
  },
  {
   "cell_type": "markdown",
   "metadata": {},
   "source": [
    "# Transform X_test\n",
    "\n",
    "X_train already transformed (features already selected), it is time to transform X_text\n",
    "\n"
   ]
  },
  {
   "cell_type": "code",
   "execution_count": 21,
   "metadata": {},
   "outputs": [],
   "source": [
    "X_test = pipeline.transform(X_test)"
   ]
  },
  {
   "cell_type": "markdown",
   "metadata": {},
   "source": [
    "# Prepare for using XGBSEKaplanNeighbors and fit the model\n",
    "\n",
    "Note that features already selected by the above pipeline\n"
   ]
  },
  {
   "cell_type": "code",
   "execution_count": 22,
   "metadata": {},
   "outputs": [],
   "source": [
    "PARAMS_TREE = {\n",
    "    'objective': 'survival:cox',\n",
    "    'eval_metric': 'cox-nloglik',\n",
    "    'tree_method': 'hist',\n",
    "    'max_depth': 10,\n",
    "    'booster':'dart',\n",
    "    'subsample': 1.0,\n",
    "    'min_child_weight': 50,\n",
    "    'colsample_bynode': 1.0\n",
    "}\n",
    "\n",
    "xgbse_model = xgbse.XGBSEKaplanNeighbors(PARAMS_TREE)\n",
    "xgbse_model.fit(X_train, y_train, time_bins=TIME_BINS)\n",
    "mean, upper_ci, lower_ci  = xgbse_model.predict(X_test,return_ci=True)\n",
    "\n"
   ]
  },
  {
   "cell_type": "markdown",
   "metadata": {},
   "source": [
    "# To easily plot confidence intervals\n"
   ]
  },
  {
   "cell_type": "code",
   "execution_count": 23,
   "metadata": {},
   "outputs": [],
   "source": [
    "# to easily plot confidence intervals\n",
    "def plot_ci(mean, upper_ci, lower_ci, i=42, title='Probability of survival $P(T \\geq t)$'):\n",
    "\n",
    "    # plotting mean and confidence intervals\n",
    "    plt.figure(figsize=(12, 4), dpi=120)\n",
    "    plt.plot(mean.columns,mean.iloc[i])\n",
    "    plt.fill_between(mean.columns, lower_ci.iloc[i], upper_ci.iloc[i], alpha=0.2)\n",
    "\n",
    "    plt.title(title)\n",
    "    plt.xlabel('Time [days]')\n",
    "    plt.ylabel('Probability')\n",
    "    plt.tight_layout()\n"
   ]
  },
  {
   "cell_type": "markdown",
   "metadata": {},
   "source": [
    "# Check performance of the feature selector and model integrated"
   ]
  },
  {
   "cell_type": "code",
   "execution_count": 24,
   "metadata": {},
   "outputs": [
    {
     "name": "stdout",
     "output_type": "stream",
     "text": [
      "C-index: 0.6484779251097873\n",
      "Avg. Brier Score: 0.1821951575473847\n"
     ]
    },
    {
     "data": {
      "image/png": "[encoded data removed]",
      "text/plain": [
       "<Figure size 1440x480 with 1 Axes>"
      ]
     },
     "metadata": {
      "needs_background": "light"
     },
     "output_type": "display_data"
    }
   ],
   "source": [
    "# print metrics\n",
    "print(f\"C-index: {concordance_index(y_test, mean)}\")\n",
    "print(f\"Avg. Brier Score: {approx_brier_score(y_test, mean)}\")\n",
    "\n",
    "# plotting CIs\n",
    "plot_ci(mean, upper_ci, lower_ci)\n",
    "\n"
   ]
  },
  {
   "cell_type": "markdown",
   "metadata": {},
   "source": [
    "It is interesting to see that obtained results by using only selected five features are slightly better than in the original example in \n",
    "\n",
    "https://loft-br.github.io/xgboost-survival-embeddings/examples/confidence_interval.html\n",
    "\n",
    "the model used all eight features with the same test and train data and parameters. "
   ]
  }
 ],
 "metadata": {
  "kernelspec": {
   "display_name": "Python 3.10.4 ('.venv': poetry)",
   "language": "python",
   "name": "python3"
  },
  "language_info": {
   "codemirror_mode": {
    "name": "ipython",
    "version": 3
   },
   "file_extension": ".py",
   "mimetype": "text/x-python",
   "name": "python",
   "nbconvert_exporter": "python",
   "pygments_lexer": "ipython3",
   "version": "3.10.4"
  },
  "orig_nbformat": 4,
  "vscode": {
   "interpreter": {
    "hash": "2fd4a9ad6613f01435523ab5e4297db981c1d87a44e43e252d0e314391da6eb3"
   }
  }
 },
 "nbformat": 4,
 "nbformat_minor": 2
}
