{
 "cells": [
  {
   "cell_type": "code",
   "execution_count": 1,
   "metadata": {},
   "outputs": [
    {
     "name": "stderr",
     "output_type": "stream",
     "text": [
      "IProgress not found. Please update jupyter and ipywidgets. See https://ipywidgets.readthedocs.io/en/stable/user_install.html\n",
      "\u001b[32m[I 2022-09-07 06:26:37,568]\u001b[0m A new study created in memory with name: no-name-74e0506b-1c56-48a2-a238-8d16a48ded29\u001b[0m\n"
     ]
    },
    {
     "data": {
      "text/plain": [
       "<Figure size 432x288 with 0 Axes>"
      ]
     },
     "metadata": {},
     "output_type": "display_data"
    }
   ],
   "source": [
    "from zoish.feature_selectors.optunashap import OptunaShapFeatureSelector\n",
    "import xgboost\n",
    "from optuna.pruners import HyperbandPruner\n",
    "from optuna.samplers._tpe.sampler import TPESampler\n",
    "from sklearn.model_selection import KFold,train_test_split\n",
    "import pandas as pd\n",
    "from sklearn.pipeline import Pipeline\n",
    "from feature_engine.imputation import (\n",
    "    CategoricalImputer,\n",
    "    MeanMedianImputer\n",
    "    )\n",
    "from category_encoders import OrdinalEncoder\n",
    "from sklearn.linear_model import LinearRegression\n",
    "from sklearn.metrics import (\n",
    "    r2_score\n",
    "    )\n",
    "from zoish.utils.helper_funcs import catboost\n",
    "import matplotlib.pyplot as plt\n",
    "import optuna\n",
    "import logging\n",
    "from sklearn.model_selection import StratifiedKFold\n",
    "from imblearn.ensemble import BalancedRandomForestClassifier\n",
    "from sklearn.ensemble import RandomForestRegressor\n",
    "import lightgbm"
   ]
  },
  {
   "cell_type": "markdown",
   "metadata": {},
   "source": [
    "# Example 1 :Computer Hardware Data Set (a regression problem)\n",
    "  \n",
    "https://archive.ics.uci.edu/ml/datasets/Computer+Hardware"
   ]
  },
  {
   "cell_type": "code",
   "execution_count": 2,
   "metadata": {},
   "outputs": [
    {
     "data": {
      "text/html": [
       "<div>\n",
       "<style scoped>\n",
       "    .dataframe tbody tr th:only-of-type {\n",
       "        vertical-align: middle;\n",
       "    }\n",
       "\n",
       "    .dataframe tbody tr th {\n",
       "        vertical-align: top;\n",
       "    }\n",
       "\n",
       "    .dataframe thead th {\n",
       "        text-align: right;\n",
       "    }\n",
       "</style>\n",
       "<table border=\"1\" class=\"dataframe\">\n",
       "  <thead>\n",
       "    <tr style=\"text-align: right;\">\n",
       "      <th></th>\n",
       "      <th>vendor name</th>\n",
       "      <th>Model Name</th>\n",
       "      <th>MYCT</th>\n",
       "      <th>MMIN</th>\n",
       "      <th>MMAX</th>\n",
       "      <th>CACH</th>\n",
       "      <th>CHMIN</th>\n",
       "      <th>CHMAX</th>\n",
       "      <th>PRP</th>\n",
       "    </tr>\n",
       "  </thead>\n",
       "  <tbody>\n",
       "    <tr>\n",
       "      <th>adviser</th>\n",
       "      <td>32/60</td>\n",
       "      <td>125</td>\n",
       "      <td>256</td>\n",
       "      <td>6000</td>\n",
       "      <td>256</td>\n",
       "      <td>16</td>\n",
       "      <td>128</td>\n",
       "      <td>198</td>\n",
       "      <td>199</td>\n",
       "    </tr>\n",
       "    <tr>\n",
       "      <th>amdahl</th>\n",
       "      <td>470v/7</td>\n",
       "      <td>29</td>\n",
       "      <td>8000</td>\n",
       "      <td>32000</td>\n",
       "      <td>32</td>\n",
       "      <td>8</td>\n",
       "      <td>32</td>\n",
       "      <td>269</td>\n",
       "      <td>253</td>\n",
       "    </tr>\n",
       "    <tr>\n",
       "      <th>amdahl</th>\n",
       "      <td>470v/7a</td>\n",
       "      <td>29</td>\n",
       "      <td>8000</td>\n",
       "      <td>32000</td>\n",
       "      <td>32</td>\n",
       "      <td>8</td>\n",
       "      <td>32</td>\n",
       "      <td>220</td>\n",
       "      <td>253</td>\n",
       "    </tr>\n",
       "    <tr>\n",
       "      <th>amdahl</th>\n",
       "      <td>470v/7b</td>\n",
       "      <td>29</td>\n",
       "      <td>8000</td>\n",
       "      <td>32000</td>\n",
       "      <td>32</td>\n",
       "      <td>8</td>\n",
       "      <td>32</td>\n",
       "      <td>172</td>\n",
       "      <td>253</td>\n",
       "    </tr>\n",
       "    <tr>\n",
       "      <th>amdahl</th>\n",
       "      <td>470v/7c</td>\n",
       "      <td>29</td>\n",
       "      <td>8000</td>\n",
       "      <td>16000</td>\n",
       "      <td>32</td>\n",
       "      <td>8</td>\n",
       "      <td>16</td>\n",
       "      <td>132</td>\n",
       "      <td>132</td>\n",
       "    </tr>\n",
       "    <tr>\n",
       "      <th>...</th>\n",
       "      <td>...</td>\n",
       "      <td>...</td>\n",
       "      <td>...</td>\n",
       "      <td>...</td>\n",
       "      <td>...</td>\n",
       "      <td>...</td>\n",
       "      <td>...</td>\n",
       "      <td>...</td>\n",
       "      <td>...</td>\n",
       "    </tr>\n",
       "    <tr>\n",
       "      <th>sperry</th>\n",
       "      <td>80/8</td>\n",
       "      <td>124</td>\n",
       "      <td>1000</td>\n",
       "      <td>8000</td>\n",
       "      <td>0</td>\n",
       "      <td>1</td>\n",
       "      <td>8</td>\n",
       "      <td>42</td>\n",
       "      <td>37</td>\n",
       "    </tr>\n",
       "    <tr>\n",
       "      <th>sperry</th>\n",
       "      <td>90/80-model-3</td>\n",
       "      <td>98</td>\n",
       "      <td>1000</td>\n",
       "      <td>8000</td>\n",
       "      <td>32</td>\n",
       "      <td>2</td>\n",
       "      <td>8</td>\n",
       "      <td>46</td>\n",
       "      <td>50</td>\n",
       "    </tr>\n",
       "    <tr>\n",
       "      <th>sratus</th>\n",
       "      <td>32</td>\n",
       "      <td>125</td>\n",
       "      <td>2000</td>\n",
       "      <td>8000</td>\n",
       "      <td>0</td>\n",
       "      <td>2</td>\n",
       "      <td>14</td>\n",
       "      <td>52</td>\n",
       "      <td>41</td>\n",
       "    </tr>\n",
       "    <tr>\n",
       "      <th>wang</th>\n",
       "      <td>vs-100</td>\n",
       "      <td>480</td>\n",
       "      <td>512</td>\n",
       "      <td>8000</td>\n",
       "      <td>32</td>\n",
       "      <td>0</td>\n",
       "      <td>0</td>\n",
       "      <td>67</td>\n",
       "      <td>47</td>\n",
       "    </tr>\n",
       "    <tr>\n",
       "      <th>wang</th>\n",
       "      <td>vs-90</td>\n",
       "      <td>480</td>\n",
       "      <td>1000</td>\n",
       "      <td>4000</td>\n",
       "      <td>0</td>\n",
       "      <td>0</td>\n",
       "      <td>0</td>\n",
       "      <td>45</td>\n",
       "      <td>25</td>\n",
       "    </tr>\n",
       "  </tbody>\n",
       "</table>\n",
       "<p>209 rows × 9 columns</p>\n",
       "</div>"
      ],
      "text/plain": [
       "           vendor name  Model Name  MYCT   MMIN  MMAX  CACH  CHMIN  CHMAX  PRP\n",
       "adviser          32/60         125   256   6000   256    16    128    198  199\n",
       "amdahl          470v/7          29  8000  32000    32     8     32    269  253\n",
       "amdahl         470v/7a          29  8000  32000    32     8     32    220  253\n",
       "amdahl         470v/7b          29  8000  32000    32     8     32    172  253\n",
       "amdahl         470v/7c          29  8000  16000    32     8     16    132  132\n",
       "...                ...         ...   ...    ...   ...   ...    ...    ...  ...\n",
       "sperry            80/8         124  1000   8000     0     1      8     42   37\n",
       "sperry   90/80-model-3          98  1000   8000    32     2      8     46   50\n",
       "sratus              32         125  2000   8000     0     2     14     52   41\n",
       "wang            vs-100         480   512   8000    32     0      0     67   47\n",
       "wang             vs-90         480  1000   4000     0     0      0     45   25\n",
       "\n",
       "[209 rows x 9 columns]"
      ]
     },
     "execution_count": 2,
     "metadata": {},
     "output_type": "execute_result"
    }
   ],
   "source": [
    "urldata= \"https://archive.ics.uci.edu/ml/machine-learning-databases/cpu-performance/machine.data\"\n",
    "# column names\n",
    "col_names=[\n",
    "    \"vendor name\",\n",
    "    \"Model Name\",\n",
    "    \"MYCT\",\n",
    "    \"MMIN\",\n",
    "    \"MMAX\",\n",
    "    \"CACH\",\n",
    "    \"CHMIN\",\n",
    "    \"CHMAX\",\n",
    "    \"PRP\"\n",
    "]\n",
    "# read data\n",
    "data = pd.read_csv(urldata,header=None,names=col_names,sep=',')\n",
    "data"
   ]
  },
  {
   "cell_type": "markdown",
   "metadata": {},
   "source": [
    "# Train test split"
   ]
  },
  {
   "cell_type": "code",
   "execution_count": 3,
   "metadata": {},
   "outputs": [],
   "source": [
    "X = data.loc[:, data.columns != \"PRP\"]\n",
    "y = data.loc[:, data.columns == \"PRP\"]\n",
    "\n",
    "\n",
    "X_train, X_test, y_train, y_test =train_test_split(X, y, test_size=0.33, random_state=42)\n"
   ]
  },
  {
   "cell_type": "markdown",
   "metadata": {},
   "source": [
    "# Find feature types for later use"
   ]
  },
  {
   "cell_type": "code",
   "execution_count": 4,
   "metadata": {},
   "outputs": [],
   "source": [
    "int_cols =  X_train.select_dtypes(include=['int']).columns.tolist()\n",
    "float_cols =  X_train.select_dtypes(include=['float']).columns.tolist()\n",
    "cat_cols =  X_train.select_dtypes(include=['object']).columns.tolist()\n"
   ]
  },
  {
   "cell_type": "markdown",
   "metadata": {},
   "source": [
    "#  Define Feature selector and set its arguments  "
   ]
  },
  {
   "cell_type": "code",
   "execution_count": 5,
   "metadata": {},
   "outputs": [
    {
     "name": "stderr",
     "output_type": "stream",
     "text": [
      "\u001b[32m[I 2022-09-07 06:26:38,020]\u001b[0m A new study created in memory with name: no-name-26b98147-ae09-40cc-b3f8-674b96734f73\u001b[0m\n",
      "root - INFO - Setting value for logging_basicConfig\n",
      "root - INFO - Setting value for verbose\n",
      "root - INFO - Setting value for xgbse_focus\n",
      "root - INFO - Setting value for random_state\n",
      "root - INFO - Setting value for n_features\n",
      "root - INFO - Setting value for list_of_obligatory_features_that_must_be_in_model\n",
      "root - INFO - Setting value for list of features to drop before any selection\n",
      "root - INFO - Setting value for estimator\n",
      "root - INFO - Getting value for estimator\n",
      "root - INFO - XGBRegressor(base_score=None, booster=None, callbacks=None,\n",
      "             colsample_bylevel=None, colsample_bynode=None,\n",
      "             colsample_bytree=None, early_stopping_rounds=None,\n",
      "             enable_categorical=False, eval_metric=None, gamma=None,\n",
      "             gpu_id=None, grow_policy=None, importance_type=None,\n",
      "             interaction_constraints=None, learning_rate=None, max_bin=None,\n",
      "             max_cat_to_onehot=None, max_delta_step=None, max_depth=None,\n",
      "             max_leaves=None, min_child_weight=None, missing=nan,\n",
      "             monotone_constraints=None, n_estimators=100, n_jobs=None,\n",
      "             num_parallel_tree=None, predictor=None, random_state=None,\n",
      "             reg_alpha=None, reg_lambda=None, ...)\n",
      "root - INFO - Getting value for estimator\n",
      "root - INFO - Getting value for estimator\n",
      "root - INFO - Getting value for estimator\n",
      "root - INFO - Getting value for estimator\n",
      "root - INFO - Getting value for estimator\n",
      "root - INFO - Getting value for estimator\n",
      "root - INFO - Getting value for estimator\n",
      "root - INFO - Getting value for estimator\n",
      "root - INFO - Getting value for estimator\n",
      "root - INFO - Getting value for estimator\n",
      "root - INFO - Getting value for estimator\n",
      "root - INFO - Getting value for estimator\n",
      "root - INFO - Setting value for estimator_params\n",
      "root - INFO - Getting value for estimator\n",
      "root - INFO - Getting value for estimator\n",
      "root - INFO - Getting value for estimator\n",
      "root - INFO - Setting value for model_output\n",
      "root - INFO - Setting value for feature perturbation\n",
      "root - INFO - Setting value for algorithm\n",
      "root - INFO - Setting value for shap_n_jobs\n",
      "root - INFO - Setting value for memory_tolerance\n",
      "root - INFO - Setting value for feature_names\n",
      "root - INFO - Setting value for approximate\n",
      "root - INFO - Setting value for shortcut\n",
      "root - INFO - Setting value for plot shap summary\n",
      "root - INFO - Setting value for save_shap_summary_plot\n",
      "root - INFO - Setting value for path_to_save_plot\n",
      "root - INFO - Setting value for shap_fig\n",
      "root - INFO - Setting value for test_size\n",
      "root - INFO - Setting value for with_stratified\n",
      "root - INFO - Setting value for performance metric\n",
      "root - INFO - Setting value for study\n",
      "root - INFO - Setting value for study optimize objective\n",
      "root - INFO - Setting value for study_optimize_objective_n_trials\n",
      "root - INFO - Setting value for study_optimize_objective_timeout\n",
      "root - INFO - Setting value for study_optimize_n_jobs\n",
      "root - INFO - Setting value for study_optimize_catch\n",
      "root - INFO - Setting value for study_optimize_callbacks\n",
      "root - INFO - Setting value for study_optimize_gc_after_trial\n",
      "root - INFO - Setting value for study_optimize_show_progress_bar\n",
      "root - INFO - Getting value for logging_basicConfig\n",
      "root - INFO - Setting value for best estimator\n",
      "root - INFO - Setting value for importance_df\n"
     ]
    },
    {
     "data": {
      "text/plain": [
       "<Figure size 432x288 with 0 Axes>"
      ]
     },
     "metadata": {},
     "output_type": "display_data"
    }
   ],
   "source": [
    "optuna_regression_xgb = OptunaShapFeatureSelector(\n",
    "        # general argument setting        \n",
    "        verbose=1,\n",
    "        random_state=0,\n",
    "        logging_basicConfig = None,\n",
    "        # general argument setting        \n",
    "        n_features=4,\n",
    "        list_of_obligatory_features_that_must_be_in_model=[],\n",
    "        list_of_features_to_drop_before_any_selection=[],\n",
    "        # shap argument setting        \n",
    "        estimator=xgboost.XGBRegressor(),\n",
    "        estimator_params={\n",
    "        \"max_depth\": [4, 5],\n",
    "         \"min_child_weight\": [0.1, 0.9],\n",
    "         \"gamma\": [1, 9],\n",
    "        },\n",
    "        # shap arguments\n",
    "        model_output=\"raw\", \n",
    "        feature_perturbation=\"interventional\", \n",
    "        algorithm=\"auto\", \n",
    "        shap_n_jobs=-1, \n",
    "        memory_tolerance=-1, \n",
    "        feature_names=None, \n",
    "        approximate=False, \n",
    "        shortcut=False, \n",
    "        plot_shap_summary=False,\n",
    "        save_shap_summary_plot=False,\n",
    "        path_to_save_plot = './summary_plot.png',\n",
    "        shap_fig = plt.figure(),\n",
    "        ## optuna params\n",
    "        test_size=0.33,\n",
    "        with_stratified = False,\n",
    "        performance_metric = 'r2',\n",
    "        # optuna study init params\n",
    "        study = optuna.create_study(\n",
    "            storage = None,\n",
    "            sampler = TPESampler(),\n",
    "            pruner= HyperbandPruner(),\n",
    "            study_name  = None,\n",
    "            direction = \"maximize\",\n",
    "            load_if_exists = False,\n",
    "            directions  = None,\n",
    "        ),\n",
    "        # optuna optimization params\n",
    "        study_optimize_objective = None,\n",
    "        study_optimize_objective_n_trials=10, \n",
    "        study_optimize_objective_timeout=600,\n",
    "        study_optimize_n_jobs = -1,\n",
    "        study_optimize_catch= (),\n",
    "        study_optimize_callbacks = None,\n",
    "        study_optimize_gc_after_trial = False,\n",
    "        study_optimize_show_progress_bar=False,\n",
    "\n",
    ")\n",
    "\n",
    "\n"
   ]
  },
  {
   "cell_type": "markdown",
   "metadata": {},
   "source": [
    "# Build sklearn Pipeline"
   ]
  },
  {
   "cell_type": "code",
   "execution_count": 6,
   "metadata": {},
   "outputs": [],
   "source": [
    "\n",
    "\n",
    "pipeline =Pipeline([\n",
    "            # int missing values imputers\n",
    "            ('intimputer', MeanMedianImputer(\n",
    "                imputation_method='median', variables=int_cols)),\n",
    "            # category missing values imputers\n",
    "            ('catimputer', CategoricalImputer(variables=cat_cols)),\n",
    "            #\n",
    "            ('catencoder', OrdinalEncoder()),\n",
    "            # feature selection\n",
    "            ('SFC_CATREG_OPTUNA', optuna_regression_xgb),\n",
    "            # add any regression model from sklearn e.g., LinearRegression\n",
    "            ('regression', LinearRegression())\n",
    "\n",
    "\n",
    " ])\n",
    "\n"
   ]
  },
  {
   "cell_type": "markdown",
   "metadata": {},
   "source": [
    "# Run Pipeline"
   ]
  },
  {
   "cell_type": "code",
   "execution_count": 7,
   "metadata": {},
   "outputs": [
    {
     "name": "stderr",
     "output_type": "stream",
     "text": [
      "root - INFO - Getting value for estimator\n",
      "root - INFO - Getting value for performance metric\n",
      "root - INFO - Getting value for estimator_params\n",
      "root - INFO - Getting value for verbose\n",
      "root - INFO - Getting value for test_size\n",
      "root - INFO - Getting value for random_state\n",
      "root - INFO - Getting value for study\n",
      "root - INFO - Getting value for study optimize objective\n",
      "root - INFO - Getting value for study_optimize_objective_n_trials\n",
      "root - INFO - Getting value for study_optimize_objective_timeout\n",
      "root - INFO - Getting value for study_optimize_n_jobs\n",
      "root - INFO - Getting value for study_optimize_catch\n",
      "root - INFO - Getting value for study_optimize_callbacks\n",
      "root - INFO - Getting value for study_optimize_gc_after_trial\n",
      "root - INFO - Getting value for study_optimize_show_progress_bar\n",
      "root - INFO - Getting value for with_stratified\n",
      "root - INFO - Getting value for xgbse_focus\n"
     ]
    },
    {
     "name": "stdout",
     "output_type": "stream",
     "text": [
      "[0]\tvalidation-rmse:77.40249\n",
      "[0]\tvalidation-rmse:77.40249\n",
      "[1]\tvalidation-rmse:62.34344\n",
      "[1]\tvalidation-rmse:62.34344\n",
      "[0]\tvalidation-rmse:77.40249\n",
      "[2]\tvalidation-rmse:53.79209\n",
      "[1]\tvalidation-rmse:62.34344[2]\tvalidation-rmse:53.79209\n",
      "\n",
      "[0]\tvalidation-rmse:77.40249\n",
      "[3]\tvalidation-rmse:47.81294\n",
      "[0]\tvalidation-rmse:77.40249\n",
      "[0]\tvalidation-rmse:77.40249\n"
     ]
    },
    {
     "name": "stderr",
     "output_type": "stream",
     "text": [
      "`n_jobs` argument has been deprecated in v2.7.0. This feature will be removed in v4.0.0. See https://github.com/optuna/optuna/releases/tag/v2.7.0.\n",
      "The distribution is specified by [0.1, 0.9] and step=1, but the range is not divisible by `step`. It will be replaced by [0.1, 0.1].\n"
     ]
    },
    {
     "name": "stdout",
     "output_type": "stream",
     "text": [
      "[2]\tvalidation-rmse:53.79209[1]\tvalidation-rmse:62.34344\n",
      "\n",
      "[4]\tvalidation-rmse:44.03545\n",
      "[0]\tvalidation-rmse:77.40249\n",
      "[1]\tvalidation-rmse:62.34344\n",
      "[3]\tvalidation-rmse:47.81294\n",
      "[1]\tvalidation-rmse:62.34344\n",
      "[3]\tvalidation-rmse:47.81294\n",
      "[0]\tvalidation-rmse:77.40249\n",
      "[2]\tvalidation-rmse:53.79209\n",
      "[5]\tvalidation-rmse:42.37902[2]\tvalidation-rmse:53.79209\n",
      "\n",
      "[4]\tvalidation-rmse:44.03545[2]\tvalidation-rmse:53.79209\n",
      "\n",
      "[1]\tvalidation-rmse:62.34344[4]\tvalidation-rmse:44.03545\n",
      "\n",
      "[1]\tvalidation-rmse:62.34344\n",
      "[3]\tvalidation-rmse:47.81294\n",
      "[6]\tvalidation-rmse:41.28446\n",
      "[3]\tvalidation-rmse:47.81294\n",
      "[3]\tvalidation-rmse:47.81294[5]\tvalidation-rmse:42.37833\n",
      "\n",
      "[2]\tvalidation-rmse:53.79209\n",
      "[5]\tvalidation-rmse:42.37833\n",
      "[2]\tvalidation-rmse:53.79209\n",
      "[4]\tvalidation-rmse:44.03545\n",
      "[7]\tvalidation-rmse:40.94810[4]\tvalidation-rmse:44.03545\n",
      "\n",
      "[3]\tvalidation-rmse:47.84469\n",
      "[3]\tvalidation-rmse:47.81294\n",
      "[6]\tvalidation-rmse:41.27909[6]\tvalidation-rmse:41.27909\n",
      "\n",
      "[5]\tvalidation-rmse:42.37833\n",
      "[4]\tvalidation-rmse:44.03545\n",
      "[5]\tvalidation-rmse:42.37833\n",
      "[4]\tvalidation-rmse:44.00719\n",
      "[8]\tvalidation-rmse:40.55204\n",
      "[6]\tvalidation-rmse:41.27909\n",
      "[7]\tvalidation-rmse:40.94330[7]\tvalidation-rmse:40.94330\n",
      "\n",
      "[4]\tvalidation-rmse:44.03545\n",
      "[5]\tvalidation-rmse:42.37833\n",
      "[5]\tvalidation-rmse:42.18096\n",
      "[6]\tvalidation-rmse:41.27909\n",
      "[9]\tvalidation-rmse:40.49001\n",
      "[7]\tvalidation-rmse:40.94330\n",
      "[8]\tvalidation-rmse:40.55347\n",
      "[5]\tvalidation-rmse:42.37833\n",
      "[8]\tvalidation-rmse:40.55347[6]\tvalidation-rmse:41.27909\n",
      "\n",
      "[6]\tvalidation-rmse:41.58481\n"
     ]
    },
    {
     "name": "stderr",
     "output_type": "stream",
     "text": [
      "\u001b[32m[I 2022-09-07 06:26:38,316]\u001b[0m Trial 7 finished with value: 0.6831619768299979 and parameters: {'max_depth': 5, 'min_child_weight': 0, 'gamma': 2.4069389046795555}. Best is trial 7 with value: 0.6831619768299979.\u001b[0m\n"
     ]
    },
    {
     "name": "stdout",
     "output_type": "stream",
     "text": [
      "[7]\tvalidation-rmse:40.94330\n",
      "[9]\tvalidation-rmse:40.42190[9]\tvalidation-rmse:40.42190\n",
      "\n",
      "[7]\tvalidation-rmse:40.94330\n",
      "[6]\tvalidation-rmse:41.27909\n",
      "[8]\tvalidation-rmse:40.55347\n",
      "[7]\tvalidation-rmse:41.07709[8]\tvalidation-rmse:40.55347\n",
      "\n"
     ]
    },
    {
     "name": "stderr",
     "output_type": "stream",
     "text": [
      "The distribution is specified by [0.1, 0.9] and step=1, but the range is not divisible by `step`. It will be replaced by [0.1, 0.1].\n",
      "\u001b[32m[I 2022-09-07 06:26:38,339]\u001b[0m Trial 5 finished with value: 0.6842270614320075 and parameters: {'max_depth': 5, 'min_child_weight': 0, 'gamma': 7.786356990334456}. Best is trial 5 with value: 0.6842270614320075.\u001b[0m\n"
     ]
    },
    {
     "name": "stdout",
     "output_type": "stream",
     "text": [
      "[0]\tvalidation-rmse:77.40249[9]\tvalidation-rmse:40.42190\n",
      "[8]\tvalidation-rmse:40.66812\n",
      "\n",
      "[9]\tvalidation-rmse:40.40822\n",
      "[7]\tvalidation-rmse:40.94330\n",
      "[8]\tvalidation-rmse:40.55347\n"
     ]
    },
    {
     "name": "stderr",
     "output_type": "stream",
     "text": [
      "\u001b[32m[I 2022-09-07 06:26:38,339]\u001b[0m Trial 4 finished with value: 0.6842270614320075 and parameters: {'max_depth': 5, 'min_child_weight': 0, 'gamma': 7.174123876842897}. Best is trial 5 with value: 0.6842270614320075.\u001b[0m\n",
      "\u001b[32m[I 2022-09-07 06:26:38,352]\u001b[0m Trial 0 finished with value: 0.6842270614320075 and parameters: {'max_depth': 5, 'min_child_weight': 0, 'gamma': 8.765294978454811}. Best is trial 5 with value: 0.6842270614320075.\u001b[0m\n"
     ]
    },
    {
     "name": "stdout",
     "output_type": "stream",
     "text": [
      "[9]\tvalidation-rmse:40.09971\n"
     ]
    },
    {
     "name": "stderr",
     "output_type": "stream",
     "text": [
      "\u001b[32m[I 2022-09-07 06:26:38,356]\u001b[0m Trial 2 finished with value: 0.6844407220415731 and parameters: {'max_depth': 5, 'min_child_weight': 0, 'gamma': 5.179173856296075}. Best is trial 2 with value: 0.6844407220415731.\u001b[0m\n"
     ]
    },
    {
     "name": "stdout",
     "output_type": "stream",
     "text": [
      "[8]\tvalidation-rmse:40.55347[1]\tvalidation-rmse:62.34344\n",
      "[9]\tvalidation-rmse:40.42190\n",
      "\n"
     ]
    },
    {
     "name": "stderr",
     "output_type": "stream",
     "text": [
      "The distribution is specified by [0.1, 0.9] and step=1, but the range is not divisible by `step`. It will be replaced by [0.1, 0.1].\n",
      "\u001b[32m[I 2022-09-07 06:26:38,367]\u001b[0m Trial 6 finished with value: 0.6892407650251735 and parameters: {'max_depth': 4, 'min_child_weight': 0, 'gamma': 7.809310211212768}. Best is trial 6 with value: 0.6892407650251735.\u001b[0m\n"
     ]
    },
    {
     "name": "stdout",
     "output_type": "stream",
     "text": [
      "[2]\tvalidation-rmse:53.79209\n",
      "[9]\tvalidation-rmse:40.40822\n"
     ]
    },
    {
     "name": "stderr",
     "output_type": "stream",
     "text": [
      "\u001b[32m[I 2022-09-07 06:26:38,375]\u001b[0m Trial 3 finished with value: 0.6842270614320075 and parameters: {'max_depth': 5, 'min_child_weight': 0, 'gamma': 7.070781770783633}. Best is trial 6 with value: 0.6892407650251735.\u001b[0m\n"
     ]
    },
    {
     "name": "stdout",
     "output_type": "stream",
     "text": [
      "[0]\tvalidation-rmse:77.40249\n"
     ]
    },
    {
     "name": "stderr",
     "output_type": "stream",
     "text": [
      "\u001b[32m[I 2022-09-07 06:26:38,384]\u001b[0m Trial 1 finished with value: 0.6844407220415731 and parameters: {'max_depth': 5, 'min_child_weight': 0, 'gamma': 4.6672496337571365}. Best is trial 6 with value: 0.6892407650251735.\u001b[0m\n"
     ]
    },
    {
     "name": "stdout",
     "output_type": "stream",
     "text": [
      "[3]\tvalidation-rmse:47.81294\n",
      "[1]\tvalidation-rmse:62.34344\n",
      "[4]\tvalidation-rmse:44.03545\n",
      "[2]\tvalidation-rmse:53.79209\n",
      "[5]\tvalidation-rmse:42.37902\n",
      "[3]\tvalidation-rmse:47.84469\n",
      "[6]\tvalidation-rmse:41.28446\n",
      "[4]\tvalidation-rmse:44.00719\n",
      "[7]\tvalidation-rmse:40.94810[5]\tvalidation-rmse:42.18096\n",
      "\n",
      "[6]\tvalidation-rmse:41.58481\n",
      "[8]\tvalidation-rmse:40.55204\n",
      "[7]\tvalidation-rmse:41.07709\n",
      "[9]\tvalidation-rmse:40.49001\n",
      "[8]\tvalidation-rmse:40.66812\n"
     ]
    },
    {
     "name": "stderr",
     "output_type": "stream",
     "text": [
      "\u001b[32m[I 2022-09-07 06:26:38,425]\u001b[0m Trial 8 finished with value: 0.6831619768299979 and parameters: {'max_depth': 5, 'min_child_weight': 0, 'gamma': 1.2080750126183943}. Best is trial 6 with value: 0.6892407650251735.\u001b[0m\n"
     ]
    },
    {
     "name": "stdout",
     "output_type": "stream",
     "text": [
      "[9]\tvalidation-rmse:40.09971\n"
     ]
    },
    {
     "name": "stderr",
     "output_type": "stream",
     "text": [
      "\u001b[32m[I 2022-09-07 06:26:38,442]\u001b[0m Trial 9 finished with value: 0.6892407650251735 and parameters: {'max_depth': 4, 'min_child_weight': 0, 'gamma': 6.6819078002011825}. Best is trial 6 with value: 0.6892407650251735.\u001b[0m\n"
     ]
    },
    {
     "name": "stdout",
     "output_type": "stream",
     "text": [
      "{'max_depth': 4, 'min_child_weight': 0, 'gamma': 7.809310211212768}\n",
      "[0]\tvalidation-rmse:77.40249\n",
      "[1]\tvalidation-rmse:62.34344\n",
      "[2]\tvalidation-rmse:53.79209\n",
      "[3]\tvalidation-rmse:47.84469\n",
      "[4]\tvalidation-rmse:44.00719\n",
      "[5]\tvalidation-rmse:42.18096\n",
      "[6]\tvalidation-rmse:41.58481\n",
      "[7]\tvalidation-rmse:41.07709\n",
      "[8]\tvalidation-rmse:40.66812\n",
      "[9]\tvalidation-rmse:40.09971\n"
     ]
    },
    {
     "name": "stderr",
     "output_type": "stream",
     "text": [
      "root - INFO - Setting value for best estimator\n",
      "root - INFO - Getting value for estimator\n",
      "root - INFO - Getting value for estimator\n",
      "root - INFO - Getting value for best estimator\n",
      "root - INFO - Getting value for model_output\n"
     ]
    },
    {
     "name": "stdout",
     "output_type": "stream",
     "text": [
      "XGBRegressor\n"
     ]
    },
    {
     "name": "stderr",
     "output_type": "stream",
     "text": [
      "root - INFO - Getting value for feature perturbation\n",
      "root - INFO - Getting value for algorithm\n",
      "root - INFO - Getting value for shap_n_jobs\n",
      "root - INFO - Getting value for memory_tolerance\n",
      "root - INFO - Getting value for feature_names\n",
      "root - INFO - Getting value for approximate\n",
      "root - INFO - Getting value for shortcut\n"
     ]
    },
    {
     "name": "stdout",
     "output_type": "stream",
     "text": [
      ".values =\n",
      "array([[ -3.59863474,   0.51441557,   1.07934671, ...,   1.84107763,\n",
      "          0.        ,  16.94330525],\n",
      "       [ -0.32208528,  -1.08593572,  -1.42568661, ...,  -2.91570303,\n",
      "          0.        , -16.32149129],\n",
      "       [ -0.32208528,   0.64088982,   1.56615729, ...,  -2.91570303,\n",
      "          0.        , -22.26379588],\n",
      "       ...,\n",
      "       [ -0.13597406,  -0.86066333,   2.1451464 , ...,  -2.86840362,\n",
      "          0.        , -19.70238415],\n",
      "       [ -0.13597406,  -2.57465348,  -1.5314788 , ...,  -2.86840362,\n",
      "          0.        , -17.09876057],\n",
      "       [ -0.13597406,  -1.08593572,  -1.92273977, ...,  -2.86840362,\n",
      "          0.        , -20.10936706]])\n",
      "\n",
      ".base_values =\n",
      "array([[82.30139077],\n",
      "       [82.30139077],\n",
      "       [82.30139077],\n",
      "       [82.30139077],\n",
      "       [82.30139077],\n",
      "       [82.30139077],\n",
      "       [82.30139077],\n",
      "       [82.30139077],\n",
      "       [82.30139077],\n",
      "       [82.30139077],\n",
      "       [82.30139077],\n",
      "       [82.30139077],\n",
      "       [82.30139077],\n",
      "       [82.30139077],\n",
      "       [82.30139077],\n",
      "       [82.30139077],\n",
      "       [82.30139077],\n",
      "       [82.30139077],\n",
      "       [82.30139077],\n",
      "       [82.30139077],\n",
      "       [82.30139077],\n",
      "       [82.30139077],\n",
      "       [82.30139077],\n",
      "       [82.30139077],\n",
      "       [82.30139077],\n",
      "       [82.30139077],\n",
      "       [82.30139077],\n",
      "       [82.30139077],\n",
      "       [82.30139077],\n",
      "       [82.30139077],\n",
      "       [82.30139077],\n",
      "       [82.30139077],\n",
      "       [82.30139077],\n",
      "       [82.30139077],\n",
      "       [82.30139077],\n",
      "       [82.30139077],\n",
      "       [82.30139077],\n",
      "       [82.30139077],\n",
      "       [82.30139077],\n",
      "       [82.30139077],\n",
      "       [82.30139077],\n",
      "       [82.30139077],\n",
      "       [82.30139077],\n",
      "       [82.30139077],\n",
      "       [82.30139077],\n",
      "       [82.30139077],\n",
      "       [82.30139077],\n",
      "       [82.30139077],\n",
      "       [82.30139077],\n",
      "       [82.30139077],\n",
      "       [82.30139077],\n",
      "       [82.30139077],\n",
      "       [82.30139077],\n",
      "       [82.30139077],\n",
      "       [82.30139077],\n",
      "       [82.30139077],\n",
      "       [82.30139077],\n",
      "       [82.30139077],\n",
      "       [82.30139077],\n",
      "       [82.30139077],\n",
      "       [82.30139077],\n",
      "       [82.30139077],\n",
      "       [82.30139077],\n",
      "       [82.30139077],\n",
      "       [82.30139077],\n",
      "       [82.30139077],\n",
      "       [82.30139077],\n",
      "       [82.30139077],\n",
      "       [82.30139077],\n",
      "       [82.30139077],\n",
      "       [82.30139077],\n",
      "       [82.30139077],\n",
      "       [82.30139077],\n",
      "       [82.30139077],\n",
      "       [82.30139077],\n",
      "       [82.30139077],\n",
      "       [82.30139077],\n",
      "       [82.30139077],\n",
      "       [82.30139077],\n",
      "       [82.30139077],\n",
      "       [82.30139077],\n",
      "       [82.30139077],\n",
      "       [82.30139077],\n",
      "       [82.30139077],\n",
      "       [82.30139077],\n",
      "       [82.30139077],\n",
      "       [82.30139077],\n",
      "       [82.30139077],\n",
      "       [82.30139077],\n",
      "       [82.30139077],\n",
      "       [82.30139077],\n",
      "       [82.30139077],\n",
      "       [82.30139077],\n",
      "       [82.30139077],\n",
      "       [82.30139077],\n",
      "       [82.30139077],\n",
      "       [82.30139077],\n",
      "       [82.30139077],\n",
      "       [82.30139077],\n",
      "       [82.30139077],\n",
      "       [82.30139077],\n",
      "       [82.30139077],\n",
      "       [82.30139077],\n",
      "       [82.30139077],\n",
      "       [82.30139077],\n",
      "       [82.30139077],\n",
      "       [82.30139077],\n",
      "       [82.30139077],\n",
      "       [82.30139077],\n",
      "       [82.30139077],\n",
      "       [82.30139077],\n",
      "       [82.30139077],\n",
      "       [82.30139077],\n",
      "       [82.30139077],\n",
      "       [82.30139077],\n",
      "       [82.30139077],\n",
      "       [82.30139077],\n",
      "       [82.30139077],\n",
      "       [82.30139077],\n",
      "       [82.30139077],\n",
      "       [82.30139077],\n",
      "       [82.30139077],\n",
      "       [82.30139077],\n",
      "       [82.30139077],\n",
      "       [82.30139077],\n",
      "       [82.30139077],\n",
      "       [82.30139077],\n",
      "       [82.30139077],\n",
      "       [82.30139077],\n",
      "       [82.30139077],\n",
      "       [82.30139077],\n",
      "       [82.30139077],\n",
      "       [82.30139077],\n",
      "       [82.30139077],\n",
      "       [82.30139077],\n",
      "       [82.30139077],\n",
      "       [82.30139077],\n",
      "       [82.30139077],\n",
      "       [82.30139077],\n",
      "       [82.30139077]])\n",
      "\n",
      ".data =\n",
      "array([[   1,   64, 5240, ...,   12,   24,  208],\n",
      "       [   2,  320,  512, ...,    1,    5,   77],\n",
      "       [   3,   50, 2000, ...,    3,    6,   52],\n",
      "       ...,\n",
      "       [ 138,  140, 2000, ...,    1,   20,   22],\n",
      "       [ 139,  160, 1000, ...,    1,   14,   60],\n",
      "       [ 140, 1100,  512, ...,    1,    1,    7]])"
     ]
    },
    {
     "name": "stderr",
     "output_type": "stream",
     "text": [
      "root - INFO - Getting value for plot shap summary\n",
      "root - INFO - Getting value for save_shap_summary_plot\n",
      "root - INFO - Setting value for importance_df\n",
      "root - INFO - Getting value for importance_df\n"
     ]
    },
    {
     "name": "stdout",
     "output_type": "stream",
     "text": [
      "\n"
     ]
    },
    {
     "name": "stderr",
     "output_type": "stream",
     "text": [
      "root - INFO - Getting value for importance_df\n",
      "root - INFO - Getting value for importance_df\n",
      "root - INFO - Getting value for importance_df\n",
      "root - INFO - Setting value for importance_df\n",
      "root - INFO - Getting value for importance_df\n"
     ]
    },
    {
     "name": "stdout",
     "output_type": "stream",
     "text": [
      "             0          1\n",
      "0  vendor name   0.326608\n",
      "1   Model Name   1.178685\n",
      "2         MYCT   1.650027\n",
      "3         MMIN  36.215308\n",
      "4         MMAX   3.410175\n",
      "5         CACH   5.939296\n",
      "6        CHMIN        0.0\n",
      "7        CHMAX  26.440059\n",
      "   column_name shap_importance\n",
      "0  vendor name        0.326608\n",
      "1   Model Name        1.178685\n",
      "2         MYCT        1.650027\n",
      "3         MMIN       36.215308\n",
      "4         MMAX        3.410175\n",
      "5         CACH        5.939296\n",
      "6        CHMIN             0.0\n",
      "7        CHMAX       26.440059\n",
      "   column_name shap_importance\n",
      "3         MMIN       36.215308\n",
      "7        CHMAX       26.440059\n",
      "5         CACH        5.939296\n",
      "4         MMAX        3.410175\n",
      "2         MYCT        1.650027\n",
      "1   Model Name        1.178685\n",
      "0  vendor name        0.326608\n",
      "6        CHMIN             0.0\n"
     ]
    },
    {
     "name": "stderr",
     "output_type": "stream",
     "text": [
      "root - INFO - Getting value for importance_df\n",
      "root - INFO - Getting value for n_features\n",
      "root - INFO - Getting value for n_features\n",
      "root - INFO - Getting value for importance_df\n",
      "root - INFO - Getting value for importance_df\n"
     ]
    },
    {
     "name": "stdout",
     "output_type": "stream",
     "text": [
      "  column_name shap_importance\n",
      "3        MMIN       36.215308\n",
      "7       CHMAX       26.440059\n",
      "5        CACH        5.939296\n",
      "4        MMAX        3.410175\n"
     ]
    }
   ],
   "source": [
    "pipeline.fit(X_train,y_train)\n",
    "y_pred = pipeline.predict(X_test)\n"
   ]
  },
  {
   "cell_type": "markdown",
   "metadata": {},
   "source": [
    "# Check performance of the Pipeline"
   ]
  },
  {
   "cell_type": "code",
   "execution_count": 8,
   "metadata": {},
   "outputs": [
    {
     "name": "stdout",
     "output_type": "stream",
     "text": [
      "r2 score : \n",
      "0.9338172940898798\n"
     ]
    }
   ],
   "source": [
    "print('r2 score : ')\n",
    "print(r2_score(y_test,y_pred))\n"
   ]
  }
 ],
 "metadata": {
  "kernelspec": {
   "display_name": "Python 3.10.4 ('.venv': poetry)",
   "language": "python",
   "name": "python3"
  },
  "language_info": {
   "codemirror_mode": {
    "name": "ipython",
    "version": 3
   },
   "file_extension": ".py",
   "mimetype": "text/x-python",
   "name": "python",
   "nbconvert_exporter": "python",
   "pygments_lexer": "ipython3",
   "version": "3.10.4"
  },
  "orig_nbformat": 4,
  "vscode": {
   "interpreter": {
    "hash": "2fd4a9ad6613f01435523ab5e4297db981c1d87a44e43e252d0e314391da6eb3"
   }
  }
 },
 "nbformat": 4,
 "nbformat_minor": 2
}
