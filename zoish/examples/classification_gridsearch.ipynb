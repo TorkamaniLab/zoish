{
 "cells": [
  {
   "cell_type": "code",
   "execution_count": 1,
   "metadata": {},
   "outputs": [
    {
     "name": "stderr",
     "output_type": "stream",
     "text": [
      "IProgress not found. Please update jupyter and ipywidgets. See https://ipywidgets.readthedocs.io/en/stable/user_install.html\n"
     ]
    },
    {
     "data": {
      "text/plain": [
       "<Figure size 432x288 with 0 Axes>"
      ]
     },
     "metadata": {},
     "output_type": "display_data"
    }
   ],
   "source": [
    "from zoish.feature_selectors.gridshap import GridSearchCVShapFeatureSelector\n",
    "import xgboost\n",
    "import logging\n",
    "from sklearn.model_selection import KFold,train_test_split\n",
    "import pandas as pd\n",
    "from sklearn.pipeline import Pipeline\n",
    "from feature_engine.imputation import (\n",
    "    CategoricalImputer,\n",
    "    MeanMedianImputer\n",
    "    )\n",
    "from category_encoders import OrdinalEncoder\n",
    "from sklearn.linear_model import LogisticRegression\n",
    "from sklearn.metrics import (\n",
    "    classification_report,\n",
    "    confusion_matrix,\n",
    "    f1_score)\n",
    "from sklearn.model_selection import StratifiedKFold\n",
    "import matplotlib.pyplot as plt\n"
   ]
  },
  {
   "cell_type": "markdown",
   "metadata": {},
   "source": [
    "# Example 1 : Use Adult Data Set (a classification problem)\n",
    "  \n",
    "https://archive.ics.uci.edu/ml/datasets/Adult"
   ]
  },
  {
   "cell_type": "code",
   "execution_count": 2,
   "metadata": {},
   "outputs": [
    {
     "data": {
      "text/html": [
       "<div>\n",
       "<style scoped>\n",
       "    .dataframe tbody tr th:only-of-type {\n",
       "        vertical-align: middle;\n",
       "    }\n",
       "\n",
       "    .dataframe tbody tr th {\n",
       "        vertical-align: top;\n",
       "    }\n",
       "\n",
       "    .dataframe thead th {\n",
       "        text-align: right;\n",
       "    }\n",
       "</style>\n",
       "<table border=\"1\" class=\"dataframe\">\n",
       "  <thead>\n",
       "    <tr style=\"text-align: right;\">\n",
       "      <th></th>\n",
       "      <th>age</th>\n",
       "      <th>workclass</th>\n",
       "      <th>fnlwgt</th>\n",
       "      <th>education</th>\n",
       "      <th>education-num</th>\n",
       "      <th>marital-status</th>\n",
       "      <th>occupation</th>\n",
       "      <th>relationship</th>\n",
       "      <th>race</th>\n",
       "      <th>sex</th>\n",
       "      <th>capital-gain</th>\n",
       "      <th>capital-loss</th>\n",
       "      <th>hours-per-week</th>\n",
       "      <th>native-country</th>\n",
       "      <th>label</th>\n",
       "    </tr>\n",
       "  </thead>\n",
       "  <tbody>\n",
       "    <tr>\n",
       "      <th>0</th>\n",
       "      <td>39</td>\n",
       "      <td>State-gov</td>\n",
       "      <td>77516</td>\n",
       "      <td>Bachelors</td>\n",
       "      <td>13</td>\n",
       "      <td>Never-married</td>\n",
       "      <td>Adm-clerical</td>\n",
       "      <td>Not-in-family</td>\n",
       "      <td>White</td>\n",
       "      <td>Male</td>\n",
       "      <td>2174</td>\n",
       "      <td>0</td>\n",
       "      <td>40</td>\n",
       "      <td>United-States</td>\n",
       "      <td>&lt;=50K</td>\n",
       "    </tr>\n",
       "    <tr>\n",
       "      <th>1</th>\n",
       "      <td>50</td>\n",
       "      <td>Self-emp-not-inc</td>\n",
       "      <td>83311</td>\n",
       "      <td>Bachelors</td>\n",
       "      <td>13</td>\n",
       "      <td>Married-civ-spouse</td>\n",
       "      <td>Exec-managerial</td>\n",
       "      <td>Husband</td>\n",
       "      <td>White</td>\n",
       "      <td>Male</td>\n",
       "      <td>0</td>\n",
       "      <td>0</td>\n",
       "      <td>13</td>\n",
       "      <td>United-States</td>\n",
       "      <td>&lt;=50K</td>\n",
       "    </tr>\n",
       "    <tr>\n",
       "      <th>2</th>\n",
       "      <td>38</td>\n",
       "      <td>Private</td>\n",
       "      <td>215646</td>\n",
       "      <td>HS-grad</td>\n",
       "      <td>9</td>\n",
       "      <td>Divorced</td>\n",
       "      <td>Handlers-cleaners</td>\n",
       "      <td>Not-in-family</td>\n",
       "      <td>White</td>\n",
       "      <td>Male</td>\n",
       "      <td>0</td>\n",
       "      <td>0</td>\n",
       "      <td>40</td>\n",
       "      <td>United-States</td>\n",
       "      <td>&lt;=50K</td>\n",
       "    </tr>\n",
       "    <tr>\n",
       "      <th>3</th>\n",
       "      <td>53</td>\n",
       "      <td>Private</td>\n",
       "      <td>234721</td>\n",
       "      <td>11th</td>\n",
       "      <td>7</td>\n",
       "      <td>Married-civ-spouse</td>\n",
       "      <td>Handlers-cleaners</td>\n",
       "      <td>Husband</td>\n",
       "      <td>Black</td>\n",
       "      <td>Male</td>\n",
       "      <td>0</td>\n",
       "      <td>0</td>\n",
       "      <td>40</td>\n",
       "      <td>United-States</td>\n",
       "      <td>&lt;=50K</td>\n",
       "    </tr>\n",
       "    <tr>\n",
       "      <th>4</th>\n",
       "      <td>28</td>\n",
       "      <td>Private</td>\n",
       "      <td>338409</td>\n",
       "      <td>Bachelors</td>\n",
       "      <td>13</td>\n",
       "      <td>Married-civ-spouse</td>\n",
       "      <td>Prof-specialty</td>\n",
       "      <td>Wife</td>\n",
       "      <td>Black</td>\n",
       "      <td>Female</td>\n",
       "      <td>0</td>\n",
       "      <td>0</td>\n",
       "      <td>40</td>\n",
       "      <td>Cuba</td>\n",
       "      <td>&lt;=50K</td>\n",
       "    </tr>\n",
       "  </tbody>\n",
       "</table>\n",
       "</div>"
      ],
      "text/plain": [
       "   age          workclass  fnlwgt   education  education-num  \\\n",
       "0   39          State-gov   77516   Bachelors             13   \n",
       "1   50   Self-emp-not-inc   83311   Bachelors             13   \n",
       "2   38            Private  215646     HS-grad              9   \n",
       "3   53            Private  234721        11th              7   \n",
       "4   28            Private  338409   Bachelors             13   \n",
       "\n",
       "        marital-status          occupation    relationship    race      sex  \\\n",
       "0        Never-married        Adm-clerical   Not-in-family   White     Male   \n",
       "1   Married-civ-spouse     Exec-managerial         Husband   White     Male   \n",
       "2             Divorced   Handlers-cleaners   Not-in-family   White     Male   \n",
       "3   Married-civ-spouse   Handlers-cleaners         Husband   Black     Male   \n",
       "4   Married-civ-spouse      Prof-specialty            Wife   Black   Female   \n",
       "\n",
       "   capital-gain  capital-loss  hours-per-week  native-country   label  \n",
       "0          2174             0              40   United-States   <=50K  \n",
       "1             0             0              13   United-States   <=50K  \n",
       "2             0             0              40   United-States   <=50K  \n",
       "3             0             0              40   United-States   <=50K  \n",
       "4             0             0              40            Cuba   <=50K  "
      ]
     },
     "execution_count": 2,
     "metadata": {},
     "output_type": "execute_result"
    }
   ],
   "source": [
    "urldata= \"https://archive.ics.uci.edu/ml/machine-learning-databases/adult/adult.data\"\n",
    "# column names\n",
    "col_names=[\"age\", \"workclass\", \"fnlwgt\" , \"education\" ,\"education-num\",\n",
    "\"marital-status\",\"occupation\",\"relationship\",\"race\",\"sex\",\"capital-gain\",\"capital-loss\",\"hours-per-week\",\n",
    "\"native-country\",\"label\"\n",
    "]\n",
    "# read data\n",
    "data = pd.read_csv(urldata,header=None,names=col_names,sep=',')\n",
    "data.head()"
   ]
  },
  {
   "cell_type": "markdown",
   "metadata": {},
   "source": [
    "# Define labels\n"
   ]
  },
  {
   "cell_type": "code",
   "execution_count": 3,
   "metadata": {},
   "outputs": [],
   "source": [
    "data.loc[data['label']=='<=50K','label']=0\n",
    "data.loc[data['label']==' <=50K','label']=0\n",
    "\n",
    "data.loc[data['label']=='>50K','label']=1\n",
    "data.loc[data['label']==' >50K','label']=1\n",
    "\n",
    "data['label']=data['label'].astype(int)"
   ]
  },
  {
   "cell_type": "markdown",
   "metadata": {},
   "source": [
    "# Train test split"
   ]
  },
  {
   "cell_type": "code",
   "execution_count": 4,
   "metadata": {},
   "outputs": [],
   "source": [
    "X = data.loc[:, data.columns != \"label\"]\n",
    "y = data.loc[:, data.columns == \"label\"]\n",
    "\n",
    "\n",
    "X_train, X_test, y_train, y_test =train_test_split(X, y, test_size=0.33, stratify=y['label'], random_state=42)\n"
   ]
  },
  {
   "cell_type": "markdown",
   "metadata": {},
   "source": [
    "# Find feature types for later use"
   ]
  },
  {
   "cell_type": "code",
   "execution_count": 5,
   "metadata": {},
   "outputs": [],
   "source": [
    "int_cols =  X_train.select_dtypes(include=['int']).columns.tolist()\n",
    "float_cols =  X_train.select_dtypes(include=['float']).columns.tolist()\n",
    "cat_cols =  X_train.select_dtypes(include=['object']).columns.tolist()\n"
   ]
  },
  {
   "cell_type": "markdown",
   "metadata": {},
   "source": [
    "# Define Feature selector and set it argumens "
   ]
  },
  {
   "cell_type": "code",
   "execution_count": 6,
   "metadata": {},
   "outputs": [
    {
     "name": "stderr",
     "output_type": "stream",
     "text": [
      "root - INFO - Setting value for logging_basicConfig\n",
      "root - INFO - Getting value for logging_basicConfig\n",
      "root - INFO - Setting value for xgbse_focus\n",
      "root - INFO - Setting value for verbose\n",
      "root - INFO - Setting value for random_state\n",
      "root - INFO - Setting value for n_features\n",
      "root - INFO - Setting value for list_of_obligatory_features_that_must_be_in_model\n",
      "root - INFO - Setting value for list of features to drop before any selection\n",
      "root - INFO - Setting value for estimator\n",
      "root - INFO - Getting value for estimator\n",
      "root - INFO - XGBClassifier(base_score=None, booster=None, callbacks=None,\n",
      "              colsample_bylevel=None, colsample_bynode=None,\n",
      "              colsample_bytree=None, early_stopping_rounds=None,\n",
      "              enable_categorical=False, eval_metric=None, gamma=None,\n",
      "              gpu_id=None, grow_policy=None, importance_type=None,\n",
      "              interaction_constraints=None, learning_rate=None, max_bin=None,\n",
      "              max_cat_to_onehot=None, max_delta_step=None, max_depth=None,\n",
      "              max_leaves=None, min_child_weight=None, missing=nan,\n",
      "              monotone_constraints=None, n_estimators=100, n_jobs=None,\n",
      "              num_parallel_tree=None, predictor=None, random_state=None,\n",
      "              reg_alpha=None, reg_lambda=None, ...)\n",
      "root - INFO - Getting value for estimator\n",
      "root - INFO - Getting value for estimator\n",
      "root - INFO - Getting value for estimator\n",
      "root - INFO - Getting value for estimator\n",
      "root - INFO - Getting value for estimator\n",
      "root - INFO - Getting value for estimator\n",
      "root - INFO - Getting value for estimator\n",
      "root - INFO - Getting value for estimator\n",
      "root - INFO - Getting value for estimator\n",
      "root - INFO - Getting value for estimator\n",
      "root - INFO - Getting value for estimator\n",
      "root - INFO - Getting value for estimator\n",
      "root - INFO - Getting value for estimator\n",
      "root - INFO - Setting value for estimator_params\n",
      "root - INFO - Getting value for estimator\n",
      "root - INFO - Getting value for estimator\n",
      "root - INFO - Setting value for model_output\n",
      "root - INFO - Setting value for feature perturbation\n",
      "root - INFO - Setting value for algorithm\n",
      "root - INFO - Setting value for shap_n_jobs\n",
      "root - INFO - Setting value for grid_search_n_jobs\n",
      "root - INFO - Setting value for memory_tolerance\n",
      "root - INFO - Setting value for feature_names\n",
      "root - INFO - Setting value for approximate\n",
      "root - INFO - Setting value for shortcut\n",
      "root - INFO - Setting value for plot shap summary\n",
      "root - INFO - Setting value for save_shap_summary_plot\n",
      "root - INFO - Setting value for path_to_save_plot\n",
      "root - INFO - Setting value for shap_fig\n",
      "root - INFO - Setting value for cv\n",
      "root - INFO - Setting value for performance metric\n",
      "root - INFO - Setting value for best estimator\n",
      "root - INFO - Setting value for importance_df\n"
     ]
    },
    {
     "data": {
      "text/plain": [
       "<Figure size 432x288 with 0 Axes>"
      ]
     },
     "metadata": {},
     "output_type": "display_data"
    }
   ],
   "source": [
    "grid_classification_xgb = GridSearchCVShapFeatureSelector(\n",
    "        # general argument setting        \n",
    "        verbose=5,\n",
    "        random_state=0,\n",
    "        logging_basicConfig = None,\n",
    "        # general argument setting        \n",
    "        n_features=4,\n",
    "        list_of_obligatory_features_that_must_be_in_model=[],\n",
    "        list_of_features_to_drop_before_any_selection=[],\n",
    "        # shap argument setting        \n",
    "        estimator=xgboost.XGBClassifier(),\n",
    "        estimator_params={\n",
    "        \"max_depth\": [4, 5],\n",
    "        \"min_child_weight\": [0.1, 0.9],\n",
    "        \"gamma\": [1, 9],\n",
    "        },\n",
    "        # shap arguments\n",
    "        model_output=\"raw\", \n",
    "        feature_perturbation=\"interventional\", \n",
    "        algorithm=\"auto\", \n",
    "        shap_n_jobs=-1, \n",
    "        memory_tolerance=-1, \n",
    "        feature_names=None, \n",
    "        approximate=False, \n",
    "        shortcut=False, \n",
    "        plot_shap_summary=True,\n",
    "        save_shap_summary_plot=False,\n",
    "        path_to_save_plot = './summary_plot.png',\n",
    "        shap_fig = plt.figure(),\n",
    "        ## optuna params\n",
    "        performance_metric = 'f1',\n",
    "        cv = StratifiedKFold(n_splits=3, shuffle=True),\n",
    "\n",
    ")\n"
   ]
  },
  {
   "cell_type": "markdown",
   "metadata": {},
   "source": [
    "# Build sklearn Pipeline"
   ]
  },
  {
   "cell_type": "code",
   "execution_count": 7,
   "metadata": {},
   "outputs": [],
   "source": [
    "\n",
    "\n",
    "pipeline =Pipeline([\n",
    "            # int missing values imputers\n",
    "            ('intimputer', MeanMedianImputer(\n",
    "                imputation_method='median', variables=int_cols)),\n",
    "            # category missing values imputers\n",
    "            ('catimputer', CategoricalImputer(variables=cat_cols)),\n",
    "            #\n",
    "            ('catencoder', OrdinalEncoder()),\n",
    "            # feature selection\n",
    "            ('SFC_XGBCLS_OPTUNA', grid_classification_xgb),\n",
    "            # classification model\n",
    "            ('logistic', LogisticRegression())\n",
    "\n",
    "\n",
    " ])\n",
    "\n"
   ]
  },
  {
   "cell_type": "markdown",
   "metadata": {},
   "source": [
    "# Run Pipeline"
   ]
  },
  {
   "cell_type": "code",
   "execution_count": 8,
   "metadata": {},
   "outputs": [
    {
     "name": "stderr",
     "output_type": "stream",
     "text": [
      "root - INFO - Getting value for estimator\n",
      "root - INFO - Getting value for estimator_params\n",
      "root - INFO - Getting value for performance metric\n",
      "root - INFO - Getting value for verbose\n",
      "root - INFO - Getting value for grid_search_n_jobs\n",
      "root - INFO - Getting value for cv\n",
      "root - INFO - Getting value for xgbse_focus\n"
     ]
    },
    {
     "name": "stdout",
     "output_type": "stream",
     "text": [
      "Fitting 3 folds for each of 8 candidates, totalling 24 fits\n",
      "[CV 1/3] END gamma=1, max_depth=4, min_child_weight=0.1;, score=0.707 total time=   0.4s\n",
      "[CV 2/3] END gamma=1, max_depth=4, min_child_weight=0.1;, score=0.716 total time=   0.5s\n",
      "[CV 3/3] END gamma=1, max_depth=4, min_child_weight=0.1;, score=0.706 total time=   0.4s\n",
      "[CV 1/3] END gamma=1, max_depth=4, min_child_weight=0.9;, score=0.705 total time=   0.4s\n",
      "[CV 2/3] END gamma=1, max_depth=4, min_child_weight=0.9;, score=0.708 total time=   0.4s\n",
      "[CV 3/3] END gamma=1, max_depth=4, min_child_weight=0.9;, score=0.706 total time=   0.4s\n",
      "[CV 1/3] END gamma=1, max_depth=5, min_child_weight=0.1;, score=0.702 total time=   0.5s\n",
      "[CV 2/3] END gamma=1, max_depth=5, min_child_weight=0.1;, score=0.718 total time=   0.5s\n",
      "[CV 3/3] END gamma=1, max_depth=5, min_child_weight=0.1;, score=0.701 total time=   0.5s\n",
      "[CV 1/3] END gamma=1, max_depth=5, min_child_weight=0.9;, score=0.707 total time=   0.5s\n",
      "[CV 2/3] END gamma=1, max_depth=5, min_child_weight=0.9;, score=0.712 total time=   0.5s\n",
      "[CV 3/3] END gamma=1, max_depth=5, min_child_weight=0.9;, score=0.704 total time=   0.5s\n",
      "[CV 1/3] END gamma=9, max_depth=4, min_child_weight=0.1;, score=0.696 total time=   0.4s\n",
      "[CV 2/3] END gamma=9, max_depth=4, min_child_weight=0.1;, score=0.692 total time=   0.4s\n",
      "[CV 3/3] END gamma=9, max_depth=4, min_child_weight=0.1;, score=0.672 total time=   0.4s\n",
      "[CV 1/3] END gamma=9, max_depth=4, min_child_weight=0.9;, score=0.696 total time=   0.4s\n",
      "[CV 2/3] END gamma=9, max_depth=4, min_child_weight=0.9;, score=0.692 total time=   0.4s\n",
      "[CV 3/3] END gamma=9, max_depth=4, min_child_weight=0.9;, score=0.672 total time=   0.4s\n",
      "[CV 1/3] END gamma=9, max_depth=5, min_child_weight=0.1;, score=0.696 total time=   0.5s\n",
      "[CV 2/3] END gamma=9, max_depth=5, min_child_weight=0.1;, score=0.697 total time=   0.5s\n",
      "[CV 3/3] END gamma=9, max_depth=5, min_child_weight=0.1;, score=0.688 total time=   0.5s\n",
      "[CV 1/3] END gamma=9, max_depth=5, min_child_weight=0.9;, score=0.696 total time=   0.5s\n",
      "[CV 2/3] END gamma=9, max_depth=5, min_child_weight=0.9;, score=0.691 total time=   0.5s\n",
      "[CV 3/3] END gamma=9, max_depth=5, min_child_weight=0.9;, score=0.688 total time=   0.5s\n"
     ]
    },
    {
     "name": "stderr",
     "output_type": "stream",
     "text": [
      "root - INFO - Setting value for best estimator\n",
      "root - INFO - Getting value for estimator\n",
      "root - INFO - Getting value for estimator\n",
      "root - INFO - Getting value for best estimator\n",
      "root - INFO - Getting value for model_output\n",
      "root - INFO - Getting value for feature perturbation\n",
      "root - INFO - Getting value for algorithm\n",
      "root - INFO - Getting value for shap_n_jobs\n",
      "root - INFO - Getting value for memory_tolerance\n",
      "root - INFO - Getting value for feature_names\n",
      "root - INFO - Getting value for approximate\n",
      "root - INFO - Getting value for shortcut\n"
     ]
    },
    {
     "name": "stdout",
     "output_type": "stream",
     "text": [
      "XGBClassifier\n"
     ]
    },
    {
     "name": "stderr",
     "output_type": "stream",
     "text": [
      "root - INFO - Getting value for plot shap summary\n",
      "root - INFO - Getting value for n_features\n"
     ]
    },
    {
     "name": "stdout",
     "output_type": "stream",
     "text": [
      ".values =\n",
      "array([[-1.76851738e+00,  4.17613696e-02,  9.68875147e-02, ...,\n",
      "        -4.75534339e-02, -1.85964726e-01,  2.09022304e-03],\n",
      "       [-6.56236035e-01,  2.87446645e-02,  1.06629661e-01, ...,\n",
      "        -3.50758678e-02, -1.35062387e-01, -1.25922513e-03],\n",
      "       [ 2.44369757e-01,  4.21279775e-02, -3.36316951e-01, ...,\n",
      "        -4.07980874e-02, -1.02634546e-01,  6.86008410e-03],\n",
      "       ...,\n",
      "       [ 5.79821422e-01,  4.19104343e-02, -3.65535869e-01, ...,\n",
      "        -5.84636094e-02,  4.23126645e-01,  6.95370474e-03],\n",
      "       [-1.00233748e+00,  6.32604401e-02, -5.45138454e-01, ...,\n",
      "        -6.38543808e-02,  4.51763265e-01,  1.80740118e-02],\n",
      "       [-1.95589224e+00,  3.45844228e-02,  2.44787431e-01, ...,\n",
      "        -4.11663289e-02, -2.25867765e-01,  1.66150921e-02]])\n",
      "\n",
      ".base_values =\n",
      "array([[-1.40767555],\n",
      "       [-1.40767555],\n",
      "       [-1.40767555],\n",
      "       ...,\n",
      "       [-1.40767555],\n",
      "       [-1.40767555],\n",
      "       [-1.40767555]])\n",
      "\n",
      ".data =\n",
      "array([[    24,      1, 228649, ...,      0,     38,      1],\n",
      "       [    28,      1, 122540, ...,      0,     40,      1],\n",
      "       [    38,      1,  81965, ...,      0,     40,      1],\n",
      "       ...,\n",
      "       [    55,      1,  82098, ...,      0,     55,      1],\n",
      "       [    26,      1,  50053, ...,      0,     55,      1],\n",
      "       [    19,      1, 415354, ...,      0,     40,      1]])\n"
     ]
    },
    {
     "data": {
      "image/png": "[encoded data removed]",
      "text/plain": [
       "<Figure size 576x223.2 with 2 Axes>"
      ]
     },
     "metadata": {
      "needs_background": "light"
     },
     "output_type": "display_data"
    },
    {
     "name": "stderr",
     "output_type": "stream",
     "text": [
      "root - INFO - Getting value for save_shap_summary_plot\n",
      "root - INFO - Setting value for importance_df\n",
      "root - INFO - Getting value for importance_df\n",
      "root - INFO - Getting value for importance_df\n",
      "root - INFO - Getting value for importance_df\n",
      "root - INFO - Getting value for importance_df\n",
      "root - INFO - Setting value for importance_df\n",
      "root - INFO - Getting value for importance_df\n",
      "root - INFO - Getting value for importance_df\n",
      "root - INFO - Getting value for n_features\n",
      "root - INFO - Getting value for n_features\n",
      "root - INFO - Getting value for importance_df\n",
      "root - INFO - Getting value for importance_df\n"
     ]
    },
    {
     "name": "stdout",
     "output_type": "stream",
     "text": [
      "                 0         1\n",
      "0              age  0.730312\n",
      "1        workclass  0.091824\n",
      "2           fnlwgt  0.141223\n",
      "3        education   0.03331\n",
      "4    education-num  0.493452\n",
      "5   marital-status  0.776952\n",
      "6       occupation  0.351193\n",
      "7     relationship  0.523422\n",
      "8             race  0.045024\n",
      "9              sex  0.145845\n",
      "10    capital-gain  0.474263\n",
      "11    capital-loss  0.161146\n",
      "12  hours-per-week  0.364119\n",
      "13  native-country  0.034191\n",
      "       column_name shap_importance\n",
      "0              age        0.730312\n",
      "1        workclass        0.091824\n",
      "2           fnlwgt        0.141223\n",
      "3        education         0.03331\n",
      "4    education-num        0.493452\n",
      "5   marital-status        0.776952\n",
      "6       occupation        0.351193\n",
      "7     relationship        0.523422\n",
      "8             race        0.045024\n",
      "9              sex        0.145845\n",
      "10    capital-gain        0.474263\n",
      "11    capital-loss        0.161146\n",
      "12  hours-per-week        0.364119\n",
      "13  native-country        0.034191\n",
      "       column_name shap_importance\n",
      "5   marital-status        0.776952\n",
      "0              age        0.730312\n",
      "7     relationship        0.523422\n",
      "4    education-num        0.493452\n",
      "10    capital-gain        0.474263\n",
      "12  hours-per-week        0.364119\n",
      "6       occupation        0.351193\n",
      "11    capital-loss        0.161146\n",
      "9              sex        0.145845\n",
      "2           fnlwgt        0.141223\n",
      "1        workclass        0.091824\n",
      "8             race        0.045024\n",
      "13  native-country        0.034191\n",
      "3        education         0.03331\n",
      "      column_name shap_importance\n",
      "5  marital-status        0.776952\n",
      "0             age        0.730312\n",
      "7    relationship        0.523422\n",
      "4   education-num        0.493452\n"
     ]
    },
    {
     "name": "stderr",
     "output_type": "stream",
     "text": [
      "A column-vector y was passed when a 1d array was expected. Please change the shape of y to (n_samples, ), for example using ravel().\n"
     ]
    }
   ],
   "source": [
    "pipeline.fit(X_train,y_train)\n",
    "y_pred = pipeline.predict(X_test)\n"
   ]
  },
  {
   "cell_type": "markdown",
   "metadata": {},
   "source": [
    "# Check performance of the Pipeline"
   ]
  },
  {
   "cell_type": "code",
   "execution_count": 9,
   "metadata": {},
   "outputs": [
    {
     "name": "stdout",
     "output_type": "stream",
     "text": [
      "F1 score : \n",
      "0.5565651976374375\n",
      "Classification report : \n",
      "              precision    recall  f1-score   support\n",
      "\n",
      "           0       0.85      0.93      0.89      8158\n",
      "           1       0.68      0.47      0.56      2588\n",
      "\n",
      "    accuracy                           0.82     10746\n",
      "   macro avg       0.76      0.70      0.72     10746\n",
      "weighted avg       0.81      0.82      0.81     10746\n",
      "\n",
      "Confusion matrix : \n",
      "[[7569  589]\n",
      " [1363 1225]]\n"
     ]
    }
   ],
   "source": [
    "print('F1 score : ')\n",
    "print(f1_score(y_test,y_pred))\n",
    "print('Classification report : ')\n",
    "print(classification_report(y_test,y_pred))\n",
    "print('Confusion matrix : ')\n",
    "print(confusion_matrix(y_test,y_pred))\n"
   ]
  }
 ],
 "metadata": {
  "kernelspec": {
   "display_name": "Python 3.10.4 ('.venv': poetry)",
   "language": "python",
   "name": "python3"
  },
  "language_info": {
   "codemirror_mode": {
    "name": "ipython",
    "version": 3
   },
   "file_extension": ".py",
   "mimetype": "text/x-python",
   "name": "python",
   "nbconvert_exporter": "python",
   "pygments_lexer": "ipython3",
   "version": "3.10.4"
  },
  "orig_nbformat": 4,
  "vscode": {
   "interpreter": {
    "hash": "2fd4a9ad6613f01435523ab5e4297db981c1d87a44e43e252d0e314391da6eb3"
   }
  }
 },
 "nbformat": 4,
 "nbformat_minor": 2
}
