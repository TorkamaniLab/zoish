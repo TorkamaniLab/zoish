{
 "cells": [
  {
   "cell_type": "code",
   "execution_count": 3,
   "metadata": {},
   "outputs": [],
   "source": [
    "from zoish.feature_selectors.zoish_feature_selector import ScallyShapFeatureSelector\n",
    "import xgboost\n",
    "from optuna.pruners import HyperbandPruner\n",
    "from optuna.samplers._tpe.sampler import TPESampler\n",
    "from sklearn.model_selection import KFold,train_test_split\n",
    "import pandas as pd\n",
    "from sklearn.pipeline import Pipeline\n",
    "from feature_engine.imputation import (\n",
    "    CategoricalImputer,\n",
    "    MeanMedianImputer\n",
    "    )\n",
    "from category_encoders import OrdinalEncoder\n",
    "from sklearn.linear_model import LogisticRegression\n",
    "from sklearn.metrics import (\n",
    "    classification_report,\n",
    "    confusion_matrix,\n",
    "    f1_score)"
   ]
  },
  {
   "cell_type": "markdown",
   "metadata": {},
   "source": [
    "# Example 1 : Use Adult Data Set (a classification problem)\n",
    "  \n",
    "https://archive.ics.uci.edu/ml/datasets/Adult"
   ]
  },
  {
   "cell_type": "code",
   "execution_count": 4,
   "metadata": {},
   "outputs": [
    {
     "data": {
      "text/html": [
       "<div>\n",
       "<style scoped>\n",
       "    .dataframe tbody tr th:only-of-type {\n",
       "        vertical-align: middle;\n",
       "    }\n",
       "\n",
       "    .dataframe tbody tr th {\n",
       "        vertical-align: top;\n",
       "    }\n",
       "\n",
       "    .dataframe thead th {\n",
       "        text-align: right;\n",
       "    }\n",
       "</style>\n",
       "<table border=\"1\" class=\"dataframe\">\n",
       "  <thead>\n",
       "    <tr style=\"text-align: right;\">\n",
       "      <th></th>\n",
       "      <th>age</th>\n",
       "      <th>workclass</th>\n",
       "      <th>fnlwgt</th>\n",
       "      <th>education</th>\n",
       "      <th>education-num</th>\n",
       "      <th>marital-status</th>\n",
       "      <th>occupation</th>\n",
       "      <th>relationship</th>\n",
       "      <th>race</th>\n",
       "      <th>sex</th>\n",
       "      <th>capital-gain</th>\n",
       "      <th>capital-loss</th>\n",
       "      <th>hours-per-week</th>\n",
       "      <th>native-country</th>\n",
       "      <th>label</th>\n",
       "    </tr>\n",
       "  </thead>\n",
       "  <tbody>\n",
       "    <tr>\n",
       "      <th>0</th>\n",
       "      <td>39</td>\n",
       "      <td>State-gov</td>\n",
       "      <td>77516</td>\n",
       "      <td>Bachelors</td>\n",
       "      <td>13</td>\n",
       "      <td>Never-married</td>\n",
       "      <td>Adm-clerical</td>\n",
       "      <td>Not-in-family</td>\n",
       "      <td>White</td>\n",
       "      <td>Male</td>\n",
       "      <td>2174</td>\n",
       "      <td>0</td>\n",
       "      <td>40</td>\n",
       "      <td>United-States</td>\n",
       "      <td>&lt;=50K</td>\n",
       "    </tr>\n",
       "    <tr>\n",
       "      <th>1</th>\n",
       "      <td>50</td>\n",
       "      <td>Self-emp-not-inc</td>\n",
       "      <td>83311</td>\n",
       "      <td>Bachelors</td>\n",
       "      <td>13</td>\n",
       "      <td>Married-civ-spouse</td>\n",
       "      <td>Exec-managerial</td>\n",
       "      <td>Husband</td>\n",
       "      <td>White</td>\n",
       "      <td>Male</td>\n",
       "      <td>0</td>\n",
       "      <td>0</td>\n",
       "      <td>13</td>\n",
       "      <td>United-States</td>\n",
       "      <td>&lt;=50K</td>\n",
       "    </tr>\n",
       "    <tr>\n",
       "      <th>2</th>\n",
       "      <td>38</td>\n",
       "      <td>Private</td>\n",
       "      <td>215646</td>\n",
       "      <td>HS-grad</td>\n",
       "      <td>9</td>\n",
       "      <td>Divorced</td>\n",
       "      <td>Handlers-cleaners</td>\n",
       "      <td>Not-in-family</td>\n",
       "      <td>White</td>\n",
       "      <td>Male</td>\n",
       "      <td>0</td>\n",
       "      <td>0</td>\n",
       "      <td>40</td>\n",
       "      <td>United-States</td>\n",
       "      <td>&lt;=50K</td>\n",
       "    </tr>\n",
       "    <tr>\n",
       "      <th>3</th>\n",
       "      <td>53</td>\n",
       "      <td>Private</td>\n",
       "      <td>234721</td>\n",
       "      <td>11th</td>\n",
       "      <td>7</td>\n",
       "      <td>Married-civ-spouse</td>\n",
       "      <td>Handlers-cleaners</td>\n",
       "      <td>Husband</td>\n",
       "      <td>Black</td>\n",
       "      <td>Male</td>\n",
       "      <td>0</td>\n",
       "      <td>0</td>\n",
       "      <td>40</td>\n",
       "      <td>United-States</td>\n",
       "      <td>&lt;=50K</td>\n",
       "    </tr>\n",
       "    <tr>\n",
       "      <th>4</th>\n",
       "      <td>28</td>\n",
       "      <td>Private</td>\n",
       "      <td>338409</td>\n",
       "      <td>Bachelors</td>\n",
       "      <td>13</td>\n",
       "      <td>Married-civ-spouse</td>\n",
       "      <td>Prof-specialty</td>\n",
       "      <td>Wife</td>\n",
       "      <td>Black</td>\n",
       "      <td>Female</td>\n",
       "      <td>0</td>\n",
       "      <td>0</td>\n",
       "      <td>40</td>\n",
       "      <td>Cuba</td>\n",
       "      <td>&lt;=50K</td>\n",
       "    </tr>\n",
       "  </tbody>\n",
       "</table>\n",
       "</div>"
      ],
      "text/plain": [
       "   age          workclass  fnlwgt   education  education-num  \\\n",
       "0   39          State-gov   77516   Bachelors             13   \n",
       "1   50   Self-emp-not-inc   83311   Bachelors             13   \n",
       "2   38            Private  215646     HS-grad              9   \n",
       "3   53            Private  234721        11th              7   \n",
       "4   28            Private  338409   Bachelors             13   \n",
       "\n",
       "        marital-status          occupation    relationship    race      sex  \\\n",
       "0        Never-married        Adm-clerical   Not-in-family   White     Male   \n",
       "1   Married-civ-spouse     Exec-managerial         Husband   White     Male   \n",
       "2             Divorced   Handlers-cleaners   Not-in-family   White     Male   \n",
       "3   Married-civ-spouse   Handlers-cleaners         Husband   Black     Male   \n",
       "4   Married-civ-spouse      Prof-specialty            Wife   Black   Female   \n",
       "\n",
       "   capital-gain  capital-loss  hours-per-week  native-country   label  \n",
       "0          2174             0              40   United-States   <=50K  \n",
       "1             0             0              13   United-States   <=50K  \n",
       "2             0             0              40   United-States   <=50K  \n",
       "3             0             0              40   United-States   <=50K  \n",
       "4             0             0              40            Cuba   <=50K  "
      ]
     },
     "execution_count": 4,
     "metadata": {},
     "output_type": "execute_result"
    }
   ],
   "source": [
    "urldata= \"https://archive.ics.uci.edu/ml/machine-learning-databases/adult/adult.data\"\n",
    "# column names\n",
    "col_names=[\"age\", \"workclass\", \"fnlwgt\" , \"education\" ,\"education-num\",\n",
    "\"marital-status\",\"occupation\",\"relationship\",\"race\",\"sex\",\"capital-gain\",\"capital-loss\",\"hours-per-week\",\n",
    "\"native-country\",\"label\"\n",
    "]\n",
    "# read data\n",
    "data = pd.read_csv(urldata,header=None,names=col_names,sep=',')\n",
    "data.head()"
   ]
  },
  {
   "cell_type": "markdown",
   "metadata": {},
   "source": [
    "# Define labels\n"
   ]
  },
  {
   "cell_type": "code",
   "execution_count": 5,
   "metadata": {},
   "outputs": [],
   "source": [
    "data.loc[data['label']=='<=50K','label']=0\n",
    "data.loc[data['label']==' <=50K','label']=0\n",
    "\n",
    "data.loc[data['label']=='>50K','label']=1\n",
    "data.loc[data['label']==' >50K','label']=1\n",
    "\n",
    "data['label']=data['label'].astype(int)"
   ]
  },
  {
   "cell_type": "markdown",
   "metadata": {},
   "source": [
    "# Train test split"
   ]
  },
  {
   "cell_type": "code",
   "execution_count": 6,
   "metadata": {},
   "outputs": [],
   "source": [
    "X = data.loc[:, data.columns != \"label\"]\n",
    "y = data.loc[:, data.columns == \"label\"]\n",
    "\n",
    "\n",
    "X_train, X_test, y_train, y_test =train_test_split(X, y, test_size=0.33, stratify=y['label'], random_state=42)\n"
   ]
  },
  {
   "cell_type": "markdown",
   "metadata": {},
   "source": [
    "# Find feature types for later use"
   ]
  },
  {
   "cell_type": "code",
   "execution_count": 7,
   "metadata": {},
   "outputs": [],
   "source": [
    "int_cols =  X_train.select_dtypes(include=['int']).columns.tolist()\n",
    "float_cols =  X_train.select_dtypes(include=['float']).columns.tolist()\n",
    "cat_cols =  X_train.select_dtypes(include=['object']).columns.tolist()\n"
   ]
  },
  {
   "cell_type": "markdown",
   "metadata": {},
   "source": [
    "# Define Feature selector and set it argumens "
   ]
  },
  {
   "cell_type": "code",
   "execution_count": 8,
   "metadata": {},
   "outputs": [
    {
     "name": "stdout",
     "output_type": "stream",
     "text": [
      "Setting value for n_features\n",
      "Setting value for estimator\n",
      "Getting value for estimator\n",
      "XGBClassifier(base_score=None, booster=None, callbacks=None,\n",
      "              colsample_bylevel=None, colsample_bynode=None,\n",
      "              colsample_bytree=None, early_stopping_rounds=None,\n",
      "              enable_categorical=False, eval_metric=None, gamma=None,\n",
      "              gpu_id=None, grow_policy=None, importance_type=None,\n",
      "              interaction_constraints=None, learning_rate=None, max_bin=None,\n",
      "              max_cat_to_onehot=None, max_delta_step=None, max_depth=None,\n",
      "              max_leaves=None, min_child_weight=None, missing=nan,\n",
      "              monotone_constraints=None, n_estimators=100, n_jobs=None,\n",
      "              num_parallel_tree=None, predictor=None, random_state=None,\n",
      "              reg_alpha=None, reg_lambda=None, ...)\n",
      "Getting value for estimator\n",
      "Getting value for estimator\n",
      "Getting value for estimator\n",
      "Getting value for estimator\n",
      "Getting value for estimator\n",
      "Getting value for estimator\n",
      "Getting value for estimator\n",
      "Setting value for estimator_params\n",
      "Getting value for estimator\n",
      "Getting value for estimator\n",
      "Setting value for hyper_parameter_optimization_method\n",
      "Setting value for shap_version\n",
      "Setting value for measure_of_accuracy\n",
      "Setting value for list_of_obligatory_features\n",
      "Setting value for test_size\n",
      "Setting value for Cross Validation object\n",
      "Setting value for with_shap_summary_plot\n",
      "Setting value for with_stratified\n",
      "Setting value for verbose\n",
      "Setting value for random_state\n",
      "Setting value for n_jobs\n",
      "Setting value for n_iter\n",
      "Setting value for eval_metric\n",
      "Setting value for number_of_trials\n",
      "Setting value for sampler\n",
      "Setting value for pruner\n",
      "Setting value for best_estimator\n",
      "Setting value for importance_df\n"
     ]
    }
   ],
   "source": [
    "\n",
    "SFC_XGBCLS_OPTUNA = ScallyShapFeatureSelector(\n",
    "        n_features=5,\n",
    "        estimator=xgboost.XGBClassifier(),\n",
    "        estimator_params={\n",
    "            \"max_depth\": [2, 3],\n",
    "            \"min_child_weight\": [0.1, 0.9],\n",
    "            \"gamma\": [1, 9],\n",
    "        },\n",
    "        hyper_parameter_optimization_method=\"grid\",\n",
    "        shap_version=\"v0\",\n",
    "        measure_of_accuracy=\"f1\",\n",
    "        list_of_obligatory_features=[],\n",
    "        test_size=0.33,\n",
    "        cv=KFold(n_splits=3, random_state=42, shuffle=True),\n",
    "        with_shap_summary_plot=True,\n",
    "        with_stratified=False,\n",
    "        verbose=0,\n",
    "        random_state=42,\n",
    "        n_jobs=-1,\n",
    "        n_iter=100,\n",
    "        eval_metric=\"auc\",\n",
    "        number_of_trials=20,\n",
    "        sampler=TPESampler(),\n",
    "        pruner=HyperbandPruner(),\n",
    "    )\n"
   ]
  },
  {
   "cell_type": "markdown",
   "metadata": {},
   "source": [
    "# Build sklearn Pipeline"
   ]
  },
  {
   "cell_type": "code",
   "execution_count": 9,
   "metadata": {},
   "outputs": [],
   "source": [
    "\n",
    "\n",
    "pipeline =Pipeline([\n",
    "            # int missing values imputers\n",
    "            ('intimputer', MeanMedianImputer(\n",
    "                imputation_method='median', variables=int_cols)),\n",
    "            # category missing values imputers\n",
    "            ('catimputer', CategoricalImputer(variables=cat_cols)),\n",
    "            #\n",
    "            ('catencoder', OrdinalEncoder()),\n",
    "            # feature selection\n",
    "            ('SFC_XGBCLS_OPTUNA', SFC_XGBCLS_OPTUNA),\n",
    "            # classification model\n",
    "            ('logistic', LogisticRegression())\n",
    "\n",
    "\n",
    " ])\n",
    "\n"
   ]
  },
  {
   "cell_type": "markdown",
   "metadata": {},
   "source": [
    "# Run Pipeline"
   ]
  },
  {
   "cell_type": "code",
   "execution_count": 10,
   "metadata": {},
   "outputs": [
    {
     "name": "stdout",
     "output_type": "stream",
     "text": [
      "Getting value for hyper_parameter_optimization_method\n",
      "Getting value for estimator\n",
      "Getting value for estimator_params\n",
      "Getting value for measure_of_accuracy\n",
      "Getting value for verbose\n",
      "Getting value for n_jobs\n",
      "Getting value for Cross Validation object\n",
      "Setting value for best_estimator\n",
      "Getting value for hyper_parameter_optimization_method\n",
      "Getting value for hyper_parameter_optimization_method\n",
      "Getting value for estimator\n",
      "Getting value for best_estimator\n",
      "Getting value for shap_version\n",
      "Getting value for n_jobs\n",
      ".values =\n",
      "array([[-1.49992842,  0.02834499,  0.12967953, ..., -0.04832787,\n",
      "        -0.16370636,  0.01972267],\n",
      "       [-0.64065972,  0.00790994,  0.06206839, ..., -0.04804417,\n",
      "        -0.14008233,  0.00944423],\n",
      "       [ 0.22606358,  0.04058177, -0.19305269, ..., -0.05057702,\n",
      "        -0.10802627,  0.00619689],\n",
      "       ...,\n",
      "       [ 0.45396614,  0.04109487, -0.18761305, ..., -0.06180184,\n",
      "         0.34303339,  0.00589554],\n",
      "       [-0.9939319 ,  0.07179453, -0.57204453, ..., -0.07143178,\n",
      "         0.39902464,  0.00619689],\n",
      "       [-2.06661405,  0.03100211,  0.16826872, ..., -0.03959694,\n",
      "        -0.20678757,  0.01876285]])\n",
      "\n",
      ".base_values =\n",
      "array([[-1.37844805],\n",
      "       [-1.37844805],\n",
      "       [-1.37844805],\n",
      "       ...,\n",
      "       [-1.37844805],\n",
      "       [-1.37844805],\n",
      "       [-1.37844805]])\n",
      "\n",
      ".data =\n",
      "array([[    24,      1, 228649, ...,      0,     38,      1],\n",
      "       [    28,      1, 122540, ...,      0,     40,      1],\n",
      "       [    38,      1,  81965, ...,      0,     40,      1],\n",
      "       ...,\n",
      "       [    55,      1,  82098, ...,      0,     55,      1],\n",
      "       [    26,      1,  50053, ...,      0,     55,      1],\n",
      "       [    19,      1, 415354, ...,      0,     40,      1]])\n",
      "Getting value for with_shap_summary_plot\n",
      "Getting value for n_features\n"
     ]
    },
    {
     "data": {
      "image/png": "[encoded data removed]",
      "text/plain": [
       "<Figure size 576x252 with 2 Axes>"
      ]
     },
     "metadata": {
      "needs_background": "light"
     },
     "output_type": "display_data"
    },
    {
     "name": "stdout",
     "output_type": "stream",
     "text": [
      "Getting value for estimator\n",
      "Setting value for importance_df\n",
      "Getting value for importance_df\n",
      "                 0         1\n",
      "0              age   0.68376\n",
      "1        workclass  0.082545\n",
      "2           fnlwgt  0.104347\n",
      "3        education  0.027408\n",
      "4    education-num  0.484324\n",
      "5   marital-status  0.793361\n",
      "6       occupation   0.34871\n",
      "7     relationship  0.447473\n",
      "8             race  0.039561\n",
      "9              sex  0.127074\n",
      "10    capital-gain  0.454634\n",
      "11    capital-loss  0.142584\n",
      "12  hours-per-week  0.366987\n",
      "13  native-country  0.036742\n",
      "Getting value for importance_df\n",
      "Getting value for importance_df\n",
      "       column_name shap_importance\n",
      "0              age         0.68376\n",
      "1        workclass        0.082545\n",
      "2           fnlwgt        0.104347\n",
      "3        education        0.027408\n",
      "4    education-num        0.484324\n",
      "5   marital-status        0.793361\n",
      "6       occupation         0.34871\n",
      "7     relationship        0.447473\n",
      "8             race        0.039561\n",
      "9              sex        0.127074\n",
      "10    capital-gain        0.454634\n",
      "11    capital-loss        0.142584\n",
      "12  hours-per-week        0.366987\n",
      "13  native-country        0.036742\n",
      "Getting value for importance_df\n",
      "Setting value for importance_df\n",
      "Getting value for importance_df\n",
      "       column_name shap_importance\n",
      "5   marital-status        0.793361\n",
      "0              age         0.68376\n",
      "4    education-num        0.484324\n",
      "10    capital-gain        0.454634\n",
      "7     relationship        0.447473\n",
      "12  hours-per-week        0.366987\n",
      "6       occupation         0.34871\n",
      "11    capital-loss        0.142584\n",
      "9              sex        0.127074\n",
      "2           fnlwgt        0.104347\n",
      "1        workclass        0.082545\n",
      "8             race        0.039561\n",
      "13  native-country        0.036742\n",
      "3        education        0.027408\n",
      "Getting value for importance_df\n",
      "Getting value for n_features\n",
      "       column_name shap_importance\n",
      "5   marital-status        0.793361\n",
      "0              age         0.68376\n",
      "4    education-num        0.484324\n",
      "10    capital-gain        0.454634\n",
      "7     relationship        0.447473\n",
      "Getting value for n_features\n",
      "Getting value for importance_df\n",
      "Getting value for importance_df\n"
     ]
    },
    {
     "name": "stderr",
     "output_type": "stream",
     "text": [
      "A column-vector y was passed when a 1d array was expected. Please change the shape of y to (n_samples, ), for example using ravel().\n",
      "lbfgs failed to converge (status=1):\n",
      "STOP: TOTAL NO. of ITERATIONS REACHED LIMIT.\n",
      "\n",
      "Increase the number of iterations (max_iter) or scale the data as shown in:\n",
      "    https://scikit-learn.org/stable/modules/preprocessing.html\n",
      "Please also refer to the documentation for alternative solver options:\n",
      "    https://scikit-learn.org/stable/modules/linear_model.html#logistic-regression\n"
     ]
    }
   ],
   "source": [
    "pipeline.fit(X_train,y_train)\n",
    "y_pred = pipeline.predict(X_test)\n"
   ]
  },
  {
   "cell_type": "markdown",
   "metadata": {},
   "source": [
    "# Check performance of the Pipeline"
   ]
  },
  {
   "cell_type": "code",
   "execution_count": 11,
   "metadata": {},
   "outputs": [
    {
     "name": "stdout",
     "output_type": "stream",
     "text": [
      "F1 score : \n",
      "0.6133274879438844\n",
      "Classification report : \n",
      "              precision    recall  f1-score   support\n",
      "\n",
      "           0       0.86      0.93      0.90      8158\n",
      "           1       0.71      0.54      0.61      2588\n",
      "\n",
      "    accuracy                           0.84     10746\n",
      "   macro avg       0.79      0.74      0.75     10746\n",
      "weighted avg       0.83      0.84      0.83     10746\n",
      "\n",
      "Confusion matrix : \n",
      "[[7583  575]\n",
      " [1189 1399]]\n"
     ]
    }
   ],
   "source": [
    "print('F1 score : ')\n",
    "print(f1_score(y_test,y_pred))\n",
    "print('Classification report : ')\n",
    "print(classification_report(y_test,y_pred))\n",
    "print('Confusion matrix : ')\n",
    "print(confusion_matrix(y_test,y_pred))\n"
   ]
  }
 ],
 "metadata": {
  "kernelspec": {
   "display_name": "Python 3.10.4 ('.venv': poetry)",
   "language": "python",
   "name": "python3"
  },
  "language_info": {
   "codemirror_mode": {
    "name": "ipython",
    "version": 3
   },
   "file_extension": ".py",
   "mimetype": "text/x-python",
   "name": "python",
   "nbconvert_exporter": "python",
   "pygments_lexer": "ipython3",
   "version": "3.10.4"
  },
  "orig_nbformat": 4,
  "vscode": {
   "interpreter": {
    "hash": "2fd4a9ad6613f01435523ab5e4297db981c1d87a44e43e252d0e314391da6eb3"
   }
  }
 },
 "nbformat": 4,
 "nbformat_minor": 2
}
