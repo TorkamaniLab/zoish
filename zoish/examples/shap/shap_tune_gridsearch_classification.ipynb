{
 "cells": [
  {
   "cell_type": "markdown",
   "metadata": {},
   "source": [
    "#### Imports\n"
   ]
  },
  {
   "cell_type": "code",
   "execution_count": 1,
   "metadata": {},
   "outputs": [
    {
     "name": "stdout",
     "output_type": "stream",
     "text": [
      "2023-02-24 19:31:34,341 :: matplotlib :: matplotlib data path: /Users/hjavedani/Documents/zoish/.venv/lib/python3.10/site-packages/matplotlib/mpl-data\n",
      "2023-02-24 19:31:34,354 :: matplotlib :: CONFIGDIR=/Users/hjavedani/.matplotlib\n",
      "2023-02-24 19:31:34,362 :: matplotlib :: interactive is False\n",
      "2023-02-24 19:31:34,363 :: matplotlib :: platform is darwin\n",
      "2023-02-24 19:31:34,365 :: matplotlib :: loaded modules: ['sys', 'builtins', '_frozen_importlib', '_imp', '_thread', '_warnings', '_weakref', '_io', 'marshal', 'posix', '_frozen_importlib_external', 'time', 'zipimport', '_codecs', 'codecs', 'encodings.aliases', 'encodings', 'encodings.utf_8', '_signal', '_abc', 'abc', 'io', '__main__', '_stat', 'stat', '_collections_abc', 'genericpath', 'posixpath', 'os.path', 'os', '_sitebuiltins', '_virtualenv', '_distutils_hack', 'types', 'importlib._bootstrap', 'importlib._bootstrap_external', 'warnings', 'importlib', 'importlib._abc', 'itertools', 'keyword', '_operator', 'operator', 'reprlib', '_collections', 'collections', '_functools', 'functools', 'contextlib', 'importlib.util', 'importlib.machinery', 'mpl_toolkits', 'google', 'zope', 'enum', '_sre', 'sre_constants', 'sre_parse', 'sre_compile', '_locale', 'copyreg', 're', 'sitecustomize', 'site', 'runpy', 'collections.abc', 'typing.io', 'typing.re', 'typing', 'ipykernel._version', '_json', 'json.scanner', 'json.decoder', 'json.encoder', 'json', 'errno', 'signal', '_weakrefset', 'threading', 'fcntl', '_posixsubprocess', 'select', 'math', 'selectors', 'subprocess', 'jupyter_client._version', '_ast', 'ast', '_opcode', 'opcode', 'dis', 'token', 'tokenize', 'linecache', 'inspect', 'traitlets.utils', 'traitlets.utils.bunch', 'traitlets.utils.descriptions', 'traitlets.utils.getargspec', 'traitlets.utils.importstring', 'traitlets.utils.sentinel', 'traitlets.traitlets', 'traitlets._version', 'weakref', 'copy', 'traitlets.utils.decorators', 'traitlets', 'concurrent', 'traceback', '_string', 'string', 'atexit', 'logging', 'concurrent.futures._base', 'concurrent.futures', '_heapq', 'heapq', '_socket', 'array', 'socket', '_ssl', '_struct', 'struct', 'binascii', 'base64', 'ssl', 'asyncio.constants', 'asyncio.format_helpers', 'asyncio.base_futures', 'asyncio.log', 'asyncio.coroutines', '_contextvars', 'contextvars', 'asyncio.exceptions', 'asyncio.base_tasks', '_asyncio', 'asyncio.events', 'asyncio.futures', 'asyncio.protocols', 'asyncio.transports', 'asyncio.sslproto', 'asyncio.mixins', 'asyncio.tasks', 'asyncio.locks', 'asyncio.staggered', 'asyncio.trsock', 'asyncio.base_events', 'asyncio.runners', 'asyncio.queues', 'asyncio.streams', 'asyncio.subprocess', 'asyncio.threads', 'asyncio.base_subprocess', 'asyncio.selector_events', 'asyncio.unix_events', 'asyncio', '_queue', 'queue', 'platform', '_ctypes', 'ctypes._endian', 'ctypes', 'zmq.backend.select', '_cython_0_29_30', 'cython_runtime', 'zmq.error', 'zmq.backend.cython.context', 'zmq.backend.cython.message', '_bisect', 'bisect', '_random', '_sha512', 'random', '_compat_pickle', '_pickle', 'pickle', 'zmq.constants', 'zmq.backend.cython.socket', 'zmq.backend.cython._device', 'zmq.backend.cython._poll', 'zmq.backend.cython._proxy_steerable', 'zmq.backend.cython._version', 'zmq.backend.cython.error', 'zmq.backend.cython.utils', 'zmq.backend.cython', 'zmq.backend', 'zmq.sugar.attrsettr', 'zmq._typing', 'zmq.utils', 'zmq.utils.jsonapi', 'zmq.sugar.poll', 'zmq.sugar.socket', 'zmq.sugar.context', 'zmq.sugar.frame', 'zmq.sugar.tracker', 'zmq.sugar.version', 'zmq.sugar.stopwatch', 'zmq.sugar', 'zmq', 'zmq._future', 'zmq.asyncio', 'jupyter_client.channelsabc', '_hashlib', '_blake2', 'hashlib', 'hmac', 'dataclasses', 'pprint', '_datetime', 'datetime', 'logging.handlers', 'socketserver', 'logging.config', 'textwrap', 'traitlets.utils.text', 'gettext', 'argparse', 'traitlets.config.loader', 'traitlets.config.configurable', 'traitlets.utils.nested_update', 'traitlets.config.application', 'traitlets.config', 'traitlets.log', 'tornado', 'numbers', 'html.entities', 'html', 'urllib', 'urllib.parse', 'zlib', 'tornado.speedups', 'tornado.util', 'tornado.escape', 'colorama.ansi', 'colorama.win32', 'colorama.winterm', 'colorama.ansitowin32', 'colorama.initialise', 'colorama', '_curses', 'curses', 'tornado.log', 'tornado.concurrent', 'tornado.ioloop', 'tornado.platform', 'tornado.gen', 'tornado.platform.asyncio', 'zmq.eventloop.ioloop', 'zmq.eventloop', 'zmq.eventloop.zmqstream', 'jupyter_client.adapter', 'dateutil._version', 'dateutil', '__future__', 'locale', 'calendar', 'six', '_decimal', 'decimal', 'dateutil._common', 'dateutil.relativedelta', 'six.moves', 'dateutil.tz._common', 'dateutil.tz._factories', 'dateutil.tz.tz', 'dateutil.tz', 'dateutil.parser._parser', 'dateutil.parser.isoparser', 'dateutil.parser', '_strptime', 'jupyter_client.jsonutil', 'jupyter_client.session', 'jupyter_client.channels', 'termios', 'getpass', 'jupyter_client.clientabc', 'fnmatch', 'glob', '_compression', '_bz2', 'bz2', '_lzma', 'lzma', 'shutil', 'tempfile', 'jupyter_core.version', 'jupyter_core', 'ntpath', 'pathlib', 'jupyter_core.paths', 'jupyter_client.localinterfaces', 'jupyter_client.utils', 'jupyter_client.connect', 'jupyter_client.client', 'jupyter_client.asynchronous.client', 'jupyter_client.asynchronous', 'jupyter_client.blocking.client', 'jupyter_client.blocking', 'jupyter_client.launcher', '_uuid', 'uuid', 'jupyter_client.managerabc', 'zipfile', 'configparser', 'entrypoints', 'jupyter_client.provisioning.provisioner_base', 'jupyter_client.provisioning.factory', 'jupyter_client.provisioning.local_provisioner', 'jupyter_client.provisioning', 'jupyter_client.kernelspec', 'jupyter_client.manager', 'jupyter_client.multikernelmanager', 'jupyter_client', 'ipykernel.connect', 'ipykernel', 'IPython.core', 'IPython.core.getipython', 'IPython.core.release', 'pkgutil', 'sysconfig', '_sysconfigdata__darwin_darwin', '_osx_support', 'pydoc', 'executing.executing', 'executing.version', 'executing', 'asttokens.line_numbers', 'asttokens.util', 'asttokens.mark_tokens', 'asttokens.asttokens', 'asttokens', 'fractions', 'pure_eval.utils', 'pure_eval.my_getattr_static', 'pure_eval.core', 'pure_eval.version', 'pure_eval', 'stack_data.utils', 'stack_data.core', 'stack_data.formatting', 'stack_data.serializing', 'stack_data.version', 'stack_data', 'pygments', 'pygments.formatters._mapping', 'pygments.plugin', 'pygments.util', 'pygments.formatters', 'pygments.styles', 'pygments.formatter', 'pygments.console', 'pygments.token', 'pygments.style', 'pygments.formatters.terminal256', 'IPython.utils', 'IPython.utils.ipstruct', 'IPython.utils.coloransi', 'IPython.utils.colorable', 'IPython.utils.PyColorize', 'IPython.utils.encoding', 'IPython.utils.py3compat', 'IPython.core.excolors', 'cmd', 'bdb', 'codeop', 'code', 'pdb', 'IPython.core.debugger', 'IPython.core.display_trap', 'pexpect.exceptions', 'pexpect.utils', 'pexpect.expect', 'tty', 'pty', 'resource', 'ptyprocess.util', 'ptyprocess.ptyprocess', 'ptyprocess', 'pexpect.spawnbase', 'pexpect.pty_spawn', 'pexpect.run', 'pexpect', 'shlex', 'IPython.utils._process_common', 'IPython.utils._process_posix', 'IPython.utils.process', 'IPython.utils.path', 'IPython.utils.terminal', 'IPython.core.ultratb', 'IPython.utils._sysinfo', 'IPython.utils.sysinfo', 'IPython.core.crashhandler', 'IPython.utils.importstring', 'IPython.paths', 'IPython.core.profiledir', 'IPython.core.application', 'IPython.terminal', 'IPython.core.compilerop', 'IPython.core.error', 'IPython.utils.docs', 'IPython.utils.decorators', 'IPython.utils.text', 'IPython.core.magic_arguments', 'getopt', 'IPython.core.display_functions', 'mimetypes', 'IPython.testing', 'IPython.testing.skipdoctest', 'IPython.core.display', 'IPython.lib', 'IPython.lib.display', 'IPython.display', 'IPython.utils.data', 'IPython.core.page', 'IPython.lib.pretty', 'IPython.utils.openpy', 'IPython.utils.dir2', 'IPython.utils.wildcard', 'pygments.lexers._mapping', 'pygments.modeline', 'pygments.lexers', 'pygments.filter', 'pygments.filters', 'pygments.regexopt', 'pygments.lexer', 'pygments.unistring', 'pygments.lexers.python', 'pygments.formatters.html', 'IPython.core.oinspect', 'IPython.core.inputtransformer2', 'IPython.core.magic', 'pickleshare', 'IPython.core.hooks', 'IPython.core.autocall', 'IPython.core.macro', 'IPython.core.splitinput', 'IPython.core.prefilter', 'IPython.core.alias', 'IPython.core.builtin_trap', 'IPython.core.displayhook', 'IPython.core.displaypub', 'backcall.backcall', 'backcall', 'IPython.core.events', 'IPython.core.extensions', 'decorator', 'IPython.utils.sentinel', 'IPython.core.formatters', '_sqlite3', 'sqlite3.dbapi2', 'sqlite3', 'IPython.core.history', 'IPython.core.logger', 'IPython.core.payload', 'IPython.core.usage', 'IPython.utils.capture', 'IPython.utils.io', 'IPython.utils.strdispatch', 'IPython.utils.syspathcontext', 'IPython.core.async_helpers', 'IPython.core.interactiveshell', 'prompt_toolkit.application.current', 'prompt_toolkit.eventloop.utils', 'prompt_toolkit.eventloop.async_generator', 'prompt_toolkit.eventloop.inputhook', 'prompt_toolkit.eventloop', 'prompt_toolkit.application.run_in_terminal', 'prompt_toolkit.selection', 'prompt_toolkit.clipboard.base', 'prompt_toolkit.clipboard.in_memory', 'prompt_toolkit.clipboard', 'prompt_toolkit.cache', 'prompt_toolkit.enums', 'prompt_toolkit.filters.base', 'prompt_toolkit.filters.app', 'prompt_toolkit.filters.cli', 'prompt_toolkit.filters.utils', 'prompt_toolkit.filters', 'prompt_toolkit.document', 'prompt_toolkit.auto_suggest', 'prompt_toolkit.keys', 'prompt_toolkit.key_binding.key_bindings', 'wcwidth.table_wide', 'wcwidth.table_zero', 'wcwidth.unicode_versions', 'wcwidth.wcwidth', 'wcwidth', 'prompt_toolkit.utils', 'prompt_toolkit.key_binding.key_processor', 'prompt_toolkit.key_binding', 'prompt_toolkit.key_binding.vi_state', 'prompt_toolkit.cursor_shapes', 'prompt_toolkit.data_structures', 'prompt_toolkit.styles.base', 'prompt_toolkit.styles.named_colors', 'prompt_toolkit.styles.style', 'prompt_toolkit.styles.defaults', 'prompt_toolkit.styles.pygments', 'colorsys', 'prompt_toolkit.styles.style_transformation', 'prompt_toolkit.styles', 'prompt_toolkit.output.color_depth', 'prompt_toolkit.output.base', 'prompt_toolkit.output.flush_stdout', 'prompt_toolkit.output.plain_text', 'prompt_toolkit.output.defaults', 'prompt_toolkit.output', 'prompt_toolkit.output.vt100', 'prompt_toolkit.mouse_events', 'prompt_toolkit.formatted_text.base', 'prompt_toolkit.formatted_text.ansi', 'xml', 'xml.dom.domreg', 'xml.dom', 'xml.dom.minicompat', 'xml.dom.NodeFilter', 'xml.dom.xmlbuilder', 'xml.dom.minidom', 'prompt_toolkit.formatted_text.html', 'prompt_toolkit.formatted_text.pygments', 'prompt_toolkit.formatted_text.utils', 'prompt_toolkit.formatted_text', 'prompt_toolkit.completion.base', 'prompt_toolkit.completion.deduplicate', 'prompt_toolkit.completion.filesystem', 'prompt_toolkit.completion.word_completer', 'prompt_toolkit.completion.fuzzy_completer', 'prompt_toolkit.completion.nested', 'prompt_toolkit.completion', 'prompt_toolkit.history', 'prompt_toolkit.search', 'prompt_toolkit.validation', 'prompt_toolkit.buffer', 'prompt_toolkit.input.base', 'prompt_toolkit.input.defaults', 'prompt_toolkit.input', 'prompt_toolkit.input.typeahead', 'prompt_toolkit.key_binding.bindings', 'prompt_toolkit.key_binding.bindings.scroll', 'prompt_toolkit.key_binding.bindings.page_navigation', 'prompt_toolkit.lexers.base', 'prompt_toolkit.lexers.pygments', 'prompt_toolkit.lexers', 'prompt_toolkit.layout.utils', 'prompt_toolkit.layout.processors', 'prompt_toolkit.layout.controls', 'prompt_toolkit.layout.dimension', 'prompt_toolkit.layout.margins', 'prompt_toolkit.layout.mouse_handlers', 'prompt_toolkit.layout.screen', 'prompt_toolkit.layout.containers', 'prompt_toolkit.layout.layout', 'prompt_toolkit.layout.menus', 'prompt_toolkit.layout.scrollable_pane', 'prompt_toolkit.layout', 'prompt_toolkit.key_binding.bindings.completion', 'prompt_toolkit.key_binding.bindings.named_commands', 'prompt_toolkit.key_binding.bindings.basic', 'prompt_toolkit.key_binding.bindings.cpr', 'prompt_toolkit.key_binding.bindings.emacs', 'prompt_toolkit.key_binding.bindings.mouse', 'prompt_toolkit.input.ansi_escape_sequences', 'prompt_toolkit.input.vt100_parser', 'prompt_toolkit.key_binding.digraphs', 'prompt_toolkit.key_binding.bindings.vi', 'prompt_toolkit.key_binding.defaults', 'prompt_toolkit.key_binding.emacs_state', 'prompt_toolkit.layout.dummy', 'prompt_toolkit.renderer', 'prompt_toolkit.application.application', 'prompt_toolkit.application.dummy', 'prompt_toolkit.application', 'prompt_toolkit.key_binding.bindings.focus', 'prompt_toolkit.widgets.toolbars', 'prompt_toolkit.widgets.base', 'prompt_toolkit.widgets.dialogs', 'prompt_toolkit.widgets.menus', 'prompt_toolkit.widgets', 'prompt_toolkit.shortcuts.dialogs', 'prompt_toolkit.shortcuts.progress_bar.formatters', 'prompt_toolkit.shortcuts.progress_bar.base', 'prompt_toolkit.shortcuts.progress_bar', 'prompt_toolkit.key_binding.bindings.auto_suggest', 'prompt_toolkit.key_binding.bindings.open_in_editor', 'prompt_toolkit.shortcuts.prompt', 'prompt_toolkit.shortcuts.utils', 'prompt_toolkit.shortcuts', 'prompt_toolkit', 'prompt_toolkit.patch_stdout', 'unicodedata', 'IPython.core.guarded_eval', 'IPython.core.latex_symbols', 'IPython.utils.generics', 'parso.utils', 'parso.tree', 'parso.python', 'parso.python.token', 'parso.python.tokenize', 'parso.pgen2.grammar_parser', 'parso.pgen2.generator', 'parso.pgen2', 'parso.parser', 'parso._compatibility', 'difflib', 'parso.python.prefix', 'parso.python.tree', 'parso.python.parser', 'parso.python.diff', 'gc', 'parso.cache', 'parso.normalizer', 'parso.python.errors', 'parso.python.pep8', 'parso.file_io', 'parso.grammar', 'parso', 'jedi.parser_utils', 'jedi.debug', 'jedi.settings', 'jedi.cache', 'jedi.file_io', 'jedi.inference.cache', 'jedi.inference.helpers', 'jedi.inference.utils', 'jedi.inference.base_value', 'jedi.inference.sys_path', 'jedi.inference.recursion', 'jedi.inference.flow_analysis', 'jedi.common', 'jedi.inference.lazy_value', 'jedi.inference.docstrings', 'jedi.plugins', 'jedi.inference.names', 'jedi.inference.filters', 'jedi.inference.compiled.getattr_static', 'jedi.inference.compiled.access', 'jedi.inference.signature', 'jedi.inference.context', 'jedi.inference.compiled.value', 'jedi.inference.compiled', 'jedi.inference.analysis', 'jedi.inference.gradual', 'jedi.inference.value.module', 'jedi.inference.value.dynamic_arrays', 'jedi.inference.value.iterable', 'jedi.inference.arguments', 'jedi.inference.parser_cache', 'jedi.inference.gradual.generics', 'jedi.inference.value.function', 'jedi.inference.value.klass', 'jedi.inference.value.instance', 'jedi.inference.value', 'jedi.inference.gradual.base', 'jedi.inference.gradual.type_var', 'jedi.inference.gradual.typing', 'jedi.inference.gradual.stub_value', 'jedi.inference.gradual.typeshed', 'jedi._compatibility', 'jedi.inference.compiled.subprocess.functions', 'jedi.api.exceptions', 'jedi.inference.compiled.subprocess', 'jedi.inference.imports', 'jedi.inference.param', 'jedi.inference.gradual.annotation', 'jedi.inference.value.decorator', 'jedi.inference.syntax_tree', 'jedi.inference', 'jedi.inference.gradual.conversion', 'jedi.inference.compiled.mixed', 'pydoc_data', 'pydoc_data.topics', 'jedi.api.keywords', 'jedi.api.completion_cache', 'jedi.api.helpers', 'jedi.api.classes', 'jedi.api.interpreter', 'jedi.api.strings', 'jedi.api.file_name', 'jedi.inference.docstring_utils', 'jedi.api.completion', 'filecmp', 'jedi.api.environment', 'jedi.inference.references', 'jedi.api.project', 'jedi.api.errors', 'jedi.api.refactoring', 'jedi.api.refactoring.extract', 'jedi.inference.gradual.utils', 'jedi.api', 'jedi.plugins.stdlib', 'jedi.plugins.flask', 'jedi.plugins.pytest', 'jedi.plugins.django', 'jedi.plugins.registry', 'jedi', 'IPython.core.completer', 'IPython.terminal.ptutils', 'IPython.terminal.shortcuts', 'concurrent.futures.thread', 'IPython.terminal.debugger', 'IPython.lib.clipboard', 'IPython.terminal.magics', 'IPython.terminal.pt_inputhooks', 'IPython.terminal.prompts', 'IPython.terminal.interactiveshell', 'IPython.core.magics.auto', 'IPython.core.magics.basic', 'email', 'http', 'email.errors', 'email.quoprimime', 'email.base64mime', 'quopri', 'email.encoders', 'email.charset', 'email.header', 'email._parseaddr', 'email.utils', 'email._policybase', 'email.feedparser', 'email.parser', 'uu', 'email._encoded_words', 'email.iterators', 'email.message', 'http.client', 'urllib.response', 'urllib.error', '_scproxy', 'urllib.request', 'IPython.utils.contexts', 'IPython.core.magics.code', 'IPython.core.magics.config', 'IPython.core.magics.display', '_lsprof', 'profile', 'cProfile', 'pstats', 'timeit', 'IPython.utils.module_paths', 'IPython.utils.timing', 'IPython.core.magics.execution', 'IPython.core.magics.extension', 'IPython.core.magics.history', 'IPython.core.magics.logging', 'IPython.core.magics.namespace', 'IPython.core.magics.osm', 'IPython.core.magics.packaging', 'IPython.core.pylabtools', 'IPython.core.magics.pylab', 'IPython.core.magics.script', 'IPython.core.magics', 'IPython.core.shellapp', 'IPython.extensions', 'IPython.extensions.storemagic', 'IPython.terminal.ipapp', 'IPython.terminal.embed', 'IPython.utils.frame', 'IPython', 'ipykernel.control', 'ipykernel.heartbeat', 'ipykernel.iostream', 'IPython.utils.tokenutil', 'ipykernel.jsonutil', 'pwd', 'psutil._common', 'psutil._compat', 'psutil._psposix', 'psutil._psutil_osx', 'psutil._psutil_posix', 'psutil._psosx', 'psutil', 'tornado.locks', 'tornado.queues', 'ipykernel.kernelbase', 'ipykernel.comm.comm', 'ipykernel.comm.manager', 'ipykernel.comm', 'ipykernel.compiler', 'debugpy._version', 'debugpy.public_api', 'debugpy', 'debugpy._vendored._util', 'debugpy._vendored', '_pydevd_bundle', 'encodings.ascii', 'encodings.latin_1', 'stringprep', 'encodings.idna', '_pydevd_bundle.pydevd_vm_type', '_pydev_bundle', 'xmlrpc', 'xml.parsers', 'pyexpat.errors', 'pyexpat.model', 'pyexpat', 'xml.parsers.expat.model', 'xml.parsers.expat.errors', 'xml.parsers.expat', 'gzip', 'xmlrpc.client', 'http.server', 'xmlrpc.server', '_pydev_bundle._pydev_saved_modules', '_pydevd_bundle.pydevd_constants', '_pydev_runfiles', '_pydevd_frame_eval', 'pydev_ipython', 'plistlib', 'pkg_resources.extern', 'pkg_resources._vendor', 'pkg_resources._vendor.jaraco', 'pkg_resources.extern.jaraco', 'importlib.abc', 'importlib._adapters', 'importlib._common', 'importlib.resources', 'pkg_resources._vendor.more_itertools.recipes', 'pkg_resources._vendor.more_itertools.more', 'pkg_resources._vendor.more_itertools', 'pkg_resources.extern.more_itertools', 'pkg_resources.extern.jaraco.functools', 'pkg_resources.extern.jaraco.context', 'pkg_resources.extern.jaraco.text', 'pkg_resources._vendor.appdirs', 'pkg_resources.extern.appdirs', 'pkg_resources._vendor.packaging.__about__', 'pkg_resources._vendor.packaging', 'pkg_resources.extern.packaging', 'pkg_resources.extern.packaging._structures', 'pkg_resources.extern.packaging.version', 'pkg_resources._vendor.packaging._manylinux', 'pkg_resources._vendor.packaging._musllinux', 'pkg_resources.extern.packaging.tags', 'pkg_resources.extern.packaging.utils', 'pkg_resources.extern.packaging.specifiers', 'pkg_resources._vendor.pyparsing.util', 'pkg_resources._vendor.pyparsing.unicode', 'pkg_resources._vendor.pyparsing.exceptions', 'pkg_resources._vendor.pyparsing.actions', 'pkg_resources._vendor.pyparsing.results', 'pkg_resources._vendor.pyparsing.core', 'pkg_resources._vendor.pyparsing.helpers', 'pkg_resources._vendor.pyparsing.testing', 'pkg_resources._vendor.pyparsing.common', 'pkg_resources._vendor.pyparsing', 'pkg_resources.extern.pyparsing', 'pkg_resources.extern.packaging.markers', 'pkg_resources.extern.packaging.requirements', 'pkg_resources', 'pydevd_plugins', '_pydev_bundle.pydev_log', '_pydev_bundle._pydev_filesystem_encoding', '_pydevd_bundle.pydevd_comm_constants', 'pydevd_file_utils', '_pydev_bundle._pydev_execfile', '_pydevd_bundle.pydevd_exec2', '_pydev_bundle.pydev_imports', '_pydev_bundle.pydev_is_thread_alive', '_pydev_bundle.pydev_override', 'pydevd_plugins.extensions', '_pydevd_bundle.pydevd_extension_utils', '_pydevd_bundle.pydevd_frame_utils', '_pydevd_bundle.pydevd_filtering', '_pydevd_bundle.pydevd_io', '_pydevd_bundle.pydevd_utils', '_pydevd_bundle.pydevd_runpy', '_pydev_bundle._pydev_tipper_common', '_pydev_bundle._pydev_imports_tipper', '_pydev_bundle._pydev_calltip_util', '_pydevd_bundle.pydevd_safe_repr', '_pydevd_bundle.pydevd_resolver', '_pydevd_bundle.pydevd_extension_api', '_pydevd_bundle.pydevd_xml', '_pydevd_bundle.pydevd_dont_trace', '_pydevd_frame_eval.vendored', '_pydevd_frame_eval.vendored.bytecode.flags', '_pydevd_frame_eval.vendored.bytecode.instr', '_pydevd_frame_eval.vendored.bytecode.bytecode', '_pydevd_frame_eval.vendored.bytecode.concrete', '_pydevd_frame_eval.vendored.bytecode.cfg', '_pydevd_frame_eval.vendored.bytecode', '_pydevd_bundle.pydevd_bytecode_utils', '_pydevd_bundle.pydevd_cython', '_pydevd_bundle.pydevd_cython_wrapper', '_pydevd_bundle.pydevd_additional_thread_info', '_pydevd_bundle.pydevd_thread_lifecycle', '_pydevd_bundle.pydevd_save_locals', '_pydevd_bundle.pydevd_defaults', '_pydev_bundle.pydev_monkey', 'pydevd_tracing', '_pydevd_bundle.pydevd_collect_bytecode_info', '_pydevd_bundle.pydevd_daemon_thread', '_pydevd_bundle.pydevd_timeout', '_pydevd_bundle.pydevd_vars', '_pydev_bundle.pydev_console_utils', '_pydevd_bundle.pydevd_import_class', '_pydevd_bundle.pydevd_breakpoints', '_pydevd_bundle.pydevd_custom_frames', '_pydevd_bundle.pydevd_dont_trace_files', '_pydevd_bundle.pydevd_net_command', '_pydev_bundle.pydev_umd', 'pydevconsole', '_pydev_bundle._pydev_completer', '_pydevd_bundle.pydevd_net_command_factory_xml', '_pydevd_bundle.pydevd_frame', '_pydevd_bundle.pydevd_additional_thread_info_regular', '_pydevd_bundle.pydevd_trace_dispatch', '_pydevd_bundle._debug_adapter', '_pydevd_bundle._debug_adapter.pydevd_schema_log', '_pydevd_bundle._debug_adapter.pydevd_base_schema', '_pydevd_bundle._debug_adapter.pydevd_schema', '_pydevd_bundle.pydevd_reload', '_pydev_bundle.fsnotify', '_pydevd_bundle.pydevd_console', '_pydevd_bundle.pydevd_comm', '_pydevd_frame_eval.pydevd_frame_tracing', '_pydevd_frame_eval.pydevd_modify_bytecode', '_pydevd_frame_eval.pydevd_frame_evaluator', '_pydevd_frame_eval.pydevd_frame_eval_cython_wrapper', '_pydevd_frame_eval.pydevd_frame_eval_main', '_pydevd_bundle.pydevd_source_mapping', '_pydevd_bundle.pydevd_concurrency_analyser', '_pydevd_bundle.pydevd_concurrency_analyser.pydevd_thread_wrappers', '_pydevd_bundle.pydevd_concurrency_analyser.pydevd_concurrency_logger', '_pydevd_bundle.pydevd_net_command_factory_json', '_pydevd_bundle.pydevd_api', '_pydevd_bundle.pydevd_json_debug_options', '_pydevd_bundle.pydevd_process_net_command_json', '_pydevd_bundle.pydevd_traceproperty', '_pydevd_bundle.pydevd_process_net_command', '_pydevd_bundle.pydevd_suspended_frames', '_pydevd_bundle.pydevd_trace_api', 'pydevd_plugins.pydevd_line_validation', 'pydevd_plugins.django_debug', 'pydevd_plugins.jinja2_debug', '_pydevd_bundle.pydevd_plugin_utils', 'pydevd_plugins.extensions.types', 'pydevd_plugins.extensions.types.pydevd_helpers', 'pydevd_plugins.extensions.types.pydevd_plugin_numpy_types', 'pydevd_plugins.extensions.types.pydevd_plugin_pandas_types', 'pydevd_plugins.extensions.types.pydevd_plugins_django_form_str', 'pydevd', 'debugpy._vendored.force_pydevd', 'debugpy.server', 'debugpy.adapter', 'debugpy.common', 'debugpy.common.json', 'debugpy.common.timestamp', 'debugpy.common.util', 'debugpy.common.log', 'debugpy.common.sockets', 'debugpy.server.api', 'ipykernel.debugger', 'packaging.__about__', 'packaging', 'packaging._structures', 'packaging.version', 'ipykernel.eventloops', 'IPython.core.payloadpage', 'ipykernel.displayhook', 'ipykernel.zmqshell', 'ipykernel.ipkernel', 'ipykernel.parentpoller', 'ipykernel.kernelapp', 'faulthandler', 'IPython.core.completerlib', 'ctypes.macholib', 'ctypes.macholib.framework', 'ctypes.macholib.dylib', 'ctypes.macholib.dyld', 'ctypes.util', 'appnope._nope', 'appnope', 'jedi.inference.finder', 'zoish.project_conf', 'yaml.error', 'yaml.tokens', 'yaml.events', 'yaml.nodes', 'yaml.reader', 'yaml.scanner', 'yaml.parser', 'yaml.composer', 'yaml.constructor', 'yaml.resolver', 'yaml.loader', 'yaml.emitter', 'yaml.serializer', 'yaml.representer', 'yaml.dumper', 'yaml._yaml', 'yaml.cyaml', 'yaml', 'dotenv.parser', 'dotenv.variables', 'dotenv.main', 'dotenv', 'zoish', 'zoish.feature_selectors', 'zoish.feature_selectors.shap_selectors', 'fasttreeshap', 'numpy._globals', 'numpy.__config__', 'numpy._version', 'numpy._distributor_init', 'numpy.version', 'numpy.core._multiarray_umath', 'numpy.compat._inspect', 'numpy.compat.py3k', 'numpy.compat', 'numpy.core.overrides', 'numpy.core.multiarray', 'numpy.core.umath', 'numpy.core._string_helpers', 'numpy.core._dtype', 'numpy.core._type_aliases', 'numpy.core.numerictypes', 'numpy.core._exceptions', 'numpy.core._methods', 'numpy.core.fromnumeric', 'numpy.core.shape_base', 'numpy.core._ufunc_config', 'numpy.core.arrayprint', 'numpy.core._asarray', 'numpy.core.numeric', 'numpy.core.defchararray', 'numpy.core.records', 'numpy.core.memmap', 'numpy.core.function_base', 'numpy.core.machar', 'numpy.core.getlimits', 'numpy.core.einsumfunc', 'numpy.core._multiarray_tests', 'numpy.core._add_newdocs', 'numpy.core._add_newdocs_scalars', 'numpy.core._dtype_ctypes', 'numpy.core._internal', 'numpy._pytesttester', 'numpy.core', 'numpy.lib.mixins', 'numpy.lib.ufunclike', 'numpy.lib.type_check', 'numpy.lib.scimath', 'numpy.lib.stride_tricks', 'numpy.lib.twodim_base', 'numpy.linalg.lapack_lite', 'numpy.linalg._umath_linalg', 'numpy.linalg.linalg', 'numpy.linalg', 'numpy.matrixlib.defmatrix', 'numpy.matrixlib', 'numpy.lib.histograms', 'numpy.lib.function_base', 'numpy.lib.index_tricks', 'numpy.lib.nanfunctions', 'numpy.lib.shape_base', 'numpy.lib.polynomial', 'numpy.lib.utils', 'numpy.lib.arraysetops', 'numpy.lib.format', 'numpy.lib._datasource', 'numpy.lib._iotools', 'numpy.lib.npyio', 'numpy.lib.arrayterator', 'numpy.lib.arraypad', 'numpy.lib._version', 'numpy.lib', 'numpy.fft._pocketfft_internal', 'numpy.fft._pocketfft', 'numpy.fft.helper', 'numpy.fft', 'numpy.polynomial.polyutils', 'numpy.polynomial._polybase', 'numpy.polynomial.polynomial', 'numpy.polynomial.chebyshev', 'numpy.polynomial.legendre', 'numpy.polynomial.hermite', 'numpy.polynomial.hermite_e', 'numpy.polynomial.laguerre', 'numpy.polynomial', '_cython_0_29_24', 'numpy.random._common', 'secrets', 'numpy.random.bit_generator', 'numpy.random._bounded_integers', 'numpy.random._mt19937', 'numpy.random.mtrand', 'numpy.random._philox', 'numpy.random._pcg64', 'numpy.random._sfc64', 'numpy.random._generator', 'numpy.random._pickle', 'numpy.random', 'numpy.ctypeslib', 'numpy.ma.core', 'numpy.ma.extras', 'numpy.ma', 'numpy', 'pytz.exceptions', 'pytz.lazy', 'pytz.tzinfo', 'pytz.tzfile', 'pytz', 'pandas._typing', 'pandas._libs.tslibs.dtypes', 'pandas._libs.tslibs.base', 'pandas._libs.tslibs.np_datetime', 'pandas._libs.tslibs.nattype', 'pandas._libs.tslibs.timezones', 'pandas._libs.tslibs.ccalendar', 'pandas._libs.tslibs.tzconversion', 'pandas._config.config', 'pandas._config.dates', 'pandas._config.display', 'pandas._config', 'pandas._config.localization', 'pandas._libs.tslibs.strptime', 'pandas._libs.tslibs.fields', 'pandas._libs.tslibs.timedeltas', 'pandas._libs.tslibs.timestamps', 'dateutil.easter', 'pandas._libs.properties', 'pandas._libs.tslibs.offsets', 'pandas._libs.tslibs.parsing', 'pandas._libs.tslibs.conversion', 'pandas._libs.tslibs.period', 'pandas._libs.tslibs.vectorized', 'pandas._libs.tslibs', 'pandas._libs.ops_dispatch', 'pandas._libs.missing', 'pandas._libs.hashtable', 'pandas._libs.algos', 'pandas._libs.interval', 'pandas._libs', 'pandas.util._decorators', 'pandas.core', 'pandas.core.util', 'pandas._libs.tslib', 'pandas._libs.lib', 'pandas._libs.hashing', 'pandas.core.dtypes', 'pandas.util._exceptions', 'pandas.errors', 'pandas.core.dtypes.generic', 'pandas.core.dtypes.base', 'pandas.core.dtypes.inference', 'pandas.core.dtypes.dtypes', 'pandas.core.dtypes.common', 'pandas.core.util.hashing', 'pandas.util', 'pandas.util.version', 'pandas.compat.numpy', 'pyarrow._generated_version', '_cython_0_29_32', 'cloudpickle.compat', 'typing_extensions', 'cloudpickle.cloudpickle', 'cloudpickle.cloudpickle_fast', 'cloudpickle', 'pyarrow.util', 'pyarrow.lib', 'pyarrow._hdfsio', 'pyarrow.filesystem', 'pyarrow.hdfs', 'pyarrow.ipc', 'pyarrow.serialization', 'pyarrow.types', 'pyarrow', 'pandas.compat.pyarrow', 'pandas.compat', 'pandas.core.config_init', 'pandas.core.dtypes.missing', 'pandas.util._validators', 'pandas.core.dtypes.cast', 'pandas.core.dtypes.concat', 'pandas.core.array_algos', 'pandas.core.common', 'pandas.core.construction', 'pandas.core.array_algos.take', 'pandas.core.indexers.utils', 'pandas.core.indexers', 'pandas.core.algorithms', 'pandas.compat.numpy.function', 'pandas.core.roperator', 'pandas._libs.ops', 'pandas.core.computation', 'pandas.compat._optional', 'pandas.core.computation.check', 'pandas.core.computation.expressions', 'pandas.core.ops.missing', 'pandas.core.ops.dispatch', 'pandas.core.ops.invalid', 'pandas.core.ops.array_ops', 'pandas.core.ops.common', 'pandas.core.ops.docstrings', 'pandas.core.ops.mask_ops', 'pandas.core.ops.methods', 'pandas.core.ops', 'pandas.core.arraylike', 'pandas.core.missing', 'pandas.core.array_algos.quantile', 'pandas.core.sorting', 'pandas.core.arrays.base', 'pandas.core.nanops', 'pandas.core.array_algos.masked_reductions', 'pandas.core.arrays.masked', 'pandas.core.arrays.boolean', '_csv', 'csv', 'pandas._libs.arrays', 'pandas.core.accessor', 'pandas.core.array_algos.transforms', 'pandas.core.arrays._mixins', 'pandas.core.base', 'pandas.core.strings.accessor', 'pandas.core.strings.base', 'pandas.core.strings', 'pandas.core.strings.object_array', 'pandas.io', 'pandas.io.formats', 'pandas.io.formats.console', 'pandas.core.arrays.categorical', 'pandas.tseries', 'pandas.tseries.frequencies', 'pandas.core.arrays.datetimelike', 'pandas.core.arrays._ranges', 'pandas.core.arrays.numeric', 'pandas.core.tools', 'pandas.core.tools.numeric', 'pandas.core.arrays.integer', 'pandas.tseries.offsets', 'pandas.core.arrays.datetimes', 'pandas.core.arrays.floating', 'pandas.core.indexes', 'pandas._libs.index', 'pandas._libs.join', 'pandas.core.array_algos.putmask', 'pandas._libs.sparse', 'pandas.core.arrays.sparse.dtype', 'pandas.io.formats.printing', 'pandas.core.arrays.sparse.array', 'pandas.core.arrays.sparse.accessor', 'pandas.core.arrays.sparse', 'pandas.core.indexes.frozen', 'pandas.core.indexes.base', 'pandas.core.arrays.interval', 'pandas.core.arrays.numpy_', 'pandas.core.arrays.period', 'pandas.core.arrays.string_', 'pyarrow._compute', 'pyarrow._compute_docstrings', 'pyarrow.vendored', 'pyarrow.vendored.docscrape', 'pyarrow.compute', 'pandas.core.arrays.string_arrow', 'pandas.core.arrays.timedeltas', 'pandas.core.arrays', 'pandas.core.flags', 'pandas._libs.reduction', 'pandas.core.apply', 'pandas._libs.indexing', 'pandas.core.indexes.extension', 'pandas.core.indexes.category', 'pandas.core.indexes.numeric', 'pandas.core.indexes.range', 'pandas.core.tools.timedeltas', 'pandas.core.indexes.datetimelike', 'pandas.core.tools.times', 'pandas.core.indexes.datetimes', 'pandas.core.indexes.multi', 'pandas.core.indexes.timedeltas', 'pandas.core.indexes.interval', 'pandas.core.indexes.period', 'pandas.core.indexes.api', 'pandas.core.indexing', 'pandas.core.array_algos.replace', 'pandas.core.reshape', 'pandas._libs.internals', 'pandas._libs.writers', 'pandas.core.internals.blocks', 'pandas.core.internals.api', 'pandas.core.internals.base', 'pandas.core.internals.array_manager', 'pandas.core.internals.ops', 'pandas.core.internals.managers', 'pandas.core.internals.concat', 'pandas.core.internals', 'pandas.core.reshape.concat', 'mmap', 'pandas.core.shared_docs', 'pandas.io.common', 'pandas.io.formats.format', 'pandas.core.describe', 'pandas.core.internals.construction', 'pandas.core.sample', 'pandas._libs.window', 'pandas._libs.window.aggregations', 'pandas._libs.window.indexers', 'pandas.core.indexers.objects', 'pandas.core.util.numba_', 'pandas.core.window.common', 'pandas.core.window.doc', 'pandas.core.window.numba_', 'pandas.core.window.online', 'pandas.core._numba', 'pandas.core._numba.executor', 'pandas.core.window.rolling', 'pandas.core.window.ewm', 'pandas.core.window.expanding', 'pandas.core.window', 'pandas.core.generic', 'pandas.core.reshape.util', 'pandas.core.reshape.melt', 'pandas._libs.reshape', 'pandas.core.indexes.accessors', 'pandas.arrays', 'pandas.core.tools.datetimes', 'pandas.io.formats.info', 'pandas.plotting._core', 'pandas.plotting._misc', 'pandas.plotting', 'pandas.core.series', 'pandas.core.frame', 'pandas.core.groupby.base', 'pandas._libs.groupby', 'pandas.core.groupby.numba_', 'pandas.core.groupby.categorical', 'pandas.core.groupby.grouper', 'pandas.core.groupby.ops', 'pandas.core.groupby.indexing', 'pandas.core.groupby.groupby', 'pandas.core.groupby.generic', 'pandas.core.groupby', 'pandas.core.api', 'pandas.tseries.api', 'pandas.core.computation.common', 'pandas.core.computation.align', 'pandas.compat.chainmap', 'pandas.core.computation.scope', 'pandas.core.computation.ops', 'pandas.core.computation.parsing', 'pandas.core.computation.expr', 'pandas.core.computation.engines', 'pandas.core.computation.eval', 'pandas.core.computation.api', 'pandas.core.reshape.merge', 'pandas.core.reshape.pivot', 'pandas.core.reshape.reshape', 'pandas.core.reshape.tile', 'pandas.core.reshape.api', 'pandas.api.extensions', 'pandas.api.indexers', 'pandas.core.dtypes.api', 'pandas.api.types', 'pandas.api', 'pandas._testing._random', 'pandas._testing.contexts', 'pandas._testing._io', 'pandas._testing._warnings', 'cmath', 'pandas._libs.testing', 'pandas._testing.asserters', 'pandas._testing.compat', 'pandas._testing', 'pandas.testing', 'pandas.util._print_versions', 'pandas.io.clipboards', 'pandas._libs.parsers', 'pandas.io.excel._util', 'pandas.io.date_converters', 'pandas.io.parsers.base_parser', 'pandas.io.parsers.arrow_parser_wrapper', 'pandas.io.parsers.c_parser_wrapper', 'pandas.io.parsers.python_parser', 'pandas.io.parsers.readers', 'pandas.io.parsers', 'pandas.io.excel._odfreader', 'pandas.io.excel._openpyxl', 'pandas.io.excel._pyxlsb', 'pandas.io.excel._xlrd', 'pandas.io.excel._base', 'pandas._libs.json', 'pandas.io.formats._color_data', 'pandas.io.formats.css', 'pandas.io.formats.excel', 'pandas.io.excel._odswriter', 'pandas.io.excel._xlsxwriter', 'pandas.io.excel._xlwt', 'pandas.io.excel', 'pandas.io.feather_format', 'pandas.io.gbq', 'pandas.io.html', 'pandas.io.json._normalize', 'pandas.io.json._table_schema', 'pandas.io.json._json', 'pandas.io.json', 'pandas.io.orc', 'pandas.io.parquet', 'pandas.compat.pickle_compat', 'pandas.io.pickle', 'pandas.core.computation.pytables', 'pandas.io.pytables', 'pandas.io.sas.sasreader', 'pandas.io.sas', 'pandas.io.spss', 'pandas.io.sql', 'pandas.io.stata', 'pandas.io.xml', 'pandas.io.api', 'pandas.util._tester', 'pandas._version', 'pandas', 'scipy._lib._testutils', 'scipy._lib', 'scipy._lib.deprecation', 'scipy.__config__', 'scipy.version', 'scipy._distributor_init', 'scipy._lib._pep440', 'scipy._lib._ccallback_c', 'scipy._lib._ccallback', 'scipy', 'sklearn._config', 'sklearn._distributor_init', 'sklearn.__check_build._check_build', 'sklearn.__check_build', 'scipy._lib._util', 'scipy.sparse._sputils', 'scipy.sparse._base', 'scipy.sparse._sparsetools', 'scipy.sparse._data', 'scipy.sparse._index', 'scipy.sparse._compressed', 'scipy.sparse._csr', 'scipy.sparse._csc', 'scipy.sparse._csparsetools', 'scipy.sparse._lil', 'scipy.sparse._dok', 'scipy.sparse._coo', 'scipy.sparse._dia', 'scipy.sparse._bsr', 'scipy.sparse._construct', 'scipy.sparse._extract', 'scipy.sparse._matrix_io', 'scipy.sparse._arrays', 'scipy.sparse.csgraph._laplacian', 'scipy.sparse.csgraph._tools', 'scipy.sparse.csgraph._validation', 'scipy.sparse.csgraph._shortest_path', 'scipy.sparse.csgraph._traversal', 'scipy.sparse.csgraph._min_spanning_tree', 'scipy.sparse.csgraph._flow', 'scipy.sparse.csgraph._matching', 'scipy.sparse.csgraph._reordering', 'scipy.sparse.csgraph', 'scipy.sparse.base', 'scipy.sparse.bsr', 'scipy.sparse.compressed', 'scipy.sparse.construct', 'scipy.sparse.coo', 'scipy.sparse.csc', 'scipy.sparse.csr', 'scipy.sparse.data', 'scipy.sparse.dia', 'scipy.sparse.dok', 'scipy.sparse.extract', 'scipy.sparse.lil', 'scipy.sparse.sparsetools', 'scipy.sparse.sputils', 'scipy.sparse', 'sklearn.utils.murmurhash', 'sklearn.utils.class_weight', 'joblib.hashing', 'multiprocessing.process', 'multiprocessing.reduction', 'multiprocessing.context', '__mp_main__', 'multiprocessing', 'multiprocessing.util', 'joblib.disk', 'joblib.logger', 'joblib.func_inspect', 'setuptools._distutils', 'distutils.debug', 'distutils.errors', 'distutils.fancy_getopt', 'distutils.dep_util', 'distutils.log', 'distutils.spawn', 'distutils.util', 'distutils.dist', 'distutils.dir_util', 'distutils.file_util', 'grp', 'distutils.archive_util', 'distutils.cmd', 'distutils.config', 'distutils.extension', 'distutils.core', '_distutils_hack.override', 'setuptools._deprecation_warning', 'setuptools.version', 'distutils.filelist', 'setuptools.monkey', 'setuptools.extension', 'distutils.command', 'setuptools.extern', 'setuptools._vendor', 'setuptools._vendor.packaging.__about__', 'setuptools._vendor.packaging', 'setuptools.extern.packaging', 'setuptools._vendor.ordered_set', 'setuptools.extern.ordered_set', 'setuptools._vendor.more_itertools.recipes', 'setuptools._vendor.more_itertools.more', 'setuptools._vendor.more_itertools', 'setuptools.extern.more_itertools', 'importlib.metadata._functools', 'importlib.metadata._text', 'importlib.metadata._adapters', 'importlib.metadata._meta', 'importlib.metadata._collections', 'importlib.metadata._itertools', 'importlib.metadata', 'setuptools._importlib', 'distutils.command.bdist', 'setuptools.command', 'setuptools.windows_support', 'setuptools._vendor.pyparsing.util', 'setuptools._vendor.pyparsing.unicode', 'setuptools._vendor.pyparsing.exceptions', 'setuptools._vendor.pyparsing.actions', 'setuptools._vendor.pyparsing.results', 'setuptools._vendor.pyparsing.core', 'setuptools._vendor.pyparsing.helpers', 'setuptools._vendor.pyparsing.testing', 'setuptools._vendor.pyparsing.common', 'setuptools._vendor.pyparsing', 'setuptools.extern.pyparsing', 'setuptools._vendor.packaging._manylinux', 'setuptools._vendor.packaging._musllinux', 'setuptools.extern.packaging.tags', 'setuptools.extern.packaging._structures', 'setuptools.extern.packaging.version', 'setuptools.extern.packaging.utils', 'setuptools.extern.packaging.specifiers', 'setuptools.extern.packaging.markers', 'setuptools.extern.packaging.requirements', 'setuptools._path', 'setuptools.config.expand', 'setuptools.config.setupcfg', 'setuptools.config', 'setuptools.errors', 'email._header_value_parser', 'email.headerregistry', 'setuptools.config._apply_pyprojecttoml', 'setuptools.config.pyprojecttoml', 'setuptools.discovery', 'setuptools._vendor.jaraco', 'setuptools.extern.jaraco', 'setuptools.extern.jaraco.functools', 'setuptools.extern.jaraco.context', 'setuptools.extern.jaraco.text', 'setuptools._reqs', 'setuptools._itertools', 'setuptools._entry_points', 'setuptools.dist', 'setuptools.py34compat', 'setuptools._imp', 'setuptools.depends', 'setuptools.logging', 'setuptools.msvc', 'setuptools', 'distutils', 'distutils.version', 'joblib.backports', 'joblib.compressor', 'joblib.numpy_pickle_utils', 'joblib.numpy_pickle_compat', 'joblib.numpy_pickle', 'joblib._store_backends', 'joblib.memory', '_multiprocessing', 'joblib._multiprocessing_helpers', 'joblib._deprecated_my_exceptions', 'joblib.my_exceptions', 'joblib.externals', 'joblib.externals.loky._base', 'multiprocessing.connection', 'joblib.externals.loky.backend.compat_posix', 'joblib.externals.loky.backend.compat', 'joblib.externals.loky.backend.process', 'joblib.externals.loky.backend.context', 'multiprocessing.synchronize', 'joblib.externals.loky.backend', 'joblib.externals.loky.backend._posix_reduction', 'joblib.externals.cloudpickle.compat', 'joblib.externals.cloudpickle.cloudpickle', 'joblib.externals.cloudpickle.cloudpickle_fast', 'joblib.externals.cloudpickle', 'joblib.externals.loky.backend.reduction', 'multiprocessing.queues', 'joblib.externals.loky.backend.queues', 'joblib.externals.loky.backend.utils', 'joblib.externals.loky.initializers', 'concurrent.futures.process', 'joblib.externals.loky.process_executor', 'joblib.externals.loky.reusable_executor', 'joblib.externals.loky.cloudpickle_wrapper', 'joblib.externals.loky', 'joblib.externals.loky.backend.spawn', 'joblib.externals.loky.backend.resource_tracker', 'joblib._memmapping_reducer', 'multiprocessing.pool', 'joblib.pool', 'joblib.executor', 'joblib._parallel_backends', 'joblib.parallel', 'joblib', 'sklearn.utils._joblib', 'sklearn.exceptions', 'sklearn.utils.deprecation', 'scipy.spatial._ckdtree', 'scipy.spatial._kdtree', 'scipy._lib.messagestream', 'scipy.spatial._qhull', 'scipy.spatial._voronoi', 'scipy.spatial._spherical_voronoi', 'scipy._lib.decorator', 'scipy.spatial._plotutils', 'scipy.linalg._fblas', 'scipy.linalg.blas', 'scipy.linalg._flapack', 'scipy.linalg.lapack', 'scipy.linalg._misc', 'scipy.linalg._cythonized_array_utils', 'scipy.linalg._flinalg', 'scipy.linalg._flinalg_py', 'scipy.linalg._decomp', 'scipy.linalg._decomp_svd', 'scipy.linalg._solve_toeplitz', 'scipy.linalg._basic', 'scipy.linalg._decomp_lu', 'scipy.linalg._decomp_ldl', 'scipy.linalg._decomp_cholesky', 'scipy.linalg._decomp_qr', 'scipy.linalg._decomp_qz', 'scipy.linalg._decomp_schur', 'scipy.linalg._decomp_polar', 'scipy.linalg._special_matrices', 'scipy.linalg._expm_frechet', 'scipy.linalg._matfuncs_sqrtm_triu', 'scipy.linalg._matfuncs_sqrtm', 'scipy.linalg._matfuncs', 'scipy.linalg._solvers', 'scipy.linalg._procrustes', 'scipy.linalg.cython_blas', 'scipy.linalg.cython_lapack', 'scipy.linalg._decomp_update', 'scipy.linalg._sketches', 'scipy.linalg._decomp_cossin', 'scipy.linalg.decomp', 'scipy.linalg.decomp_cholesky', 'scipy.linalg.decomp_lu', 'scipy.linalg.decomp_qr', 'scipy.linalg.decomp_svd', 'scipy.linalg.decomp_schur', 'scipy.linalg.basic', 'scipy.linalg.misc', 'scipy.linalg.special_matrices', 'scipy.linalg.flinalg', 'scipy.linalg.matfuncs', 'scipy.linalg', 'scipy.spatial._procrustes', 'scipy.spatial._distance_wrap', 'scipy.spatial._hausdorff', 'scipy.special._sf_error', 'scipy.special._ufuncs_cxx', 'scipy.special._ufuncs', 'scipy.special._specfun', 'scipy.special._orthogonal', 'scipy.special._comb', 'scipy.special._basic', 'scipy.special._logsumexp', 'scipy.special._spfun_stats', 'scipy.special._ellip_harm_2', 'scipy.special._ellip_harm', 'scipy.special._lambertw', 'scipy.special._spherical_bessel', 'scipy.special._add_newdocs', 'scipy.special.add_newdocs', 'scipy.special.basic', 'scipy.special.orthogonal', 'scipy.special.specfun', 'scipy.special.sf_error', 'scipy.special.spfun_stats', 'scipy.special', 'scipy.spatial._distance_pybind', 'scipy.spatial.distance', 'scipy.spatial._geometric_slerp', 'scipy.spatial.ckdtree', 'scipy.spatial.kdtree', 'scipy.spatial.qhull', 'scipy.constants._codata', 'scipy.constants._constants', 'scipy.constants.codata', 'scipy.constants.constants', 'scipy.constants', 'scipy.spatial.transform._rotation_groups', 'scipy.spatial.transform._rotation', 'scipy.spatial.transform._rotation_spline', 'scipy.spatial.transform.rotation', 'scipy.spatial.transform', 'scipy.spatial', 'scipy.ndimage._ni_support', 'scipy.ndimage._nd_image', 'scipy._lib.doccer', 'scipy.ndimage._ni_docstrings', 'scipy.ndimage._filters', 'scipy.ndimage._fourier', 'scipy.ndimage._interpolation', '_ni_label', 'scipy.ndimage._ni_label', 'scipy.ndimage._morphology', 'scipy.ndimage._measurements', 'scipy.ndimage.filters', 'scipy.ndimage.fourier', 'scipy.ndimage.interpolation', 'scipy.ndimage.measurements', 'scipy.ndimage.morphology', 'scipy.ndimage', 'scipy.stats._distr_params', 'scipy.sparse.linalg._isolve._iterative', 'scipy.sparse.linalg._interface', 'scipy.sparse.linalg._isolve.utils', 'scipy._lib._threadsafety', 'scipy.sparse.linalg._isolve.iterative', 'scipy.sparse.linalg._isolve.minres', 'scipy.sparse.linalg._isolve._gcrotmk', 'scipy.sparse.linalg._isolve.lgmres', 'scipy.sparse.linalg._isolve.lsqr', 'scipy.sparse.linalg._isolve.lsmr', 'scipy.sparse.linalg._isolve.tfqmr', 'scipy.sparse.linalg._isolve', 'scipy.sparse.linalg._dsolve._superlu', 'scipy.sparse.linalg._dsolve.linsolve', 'scipy.sparse.linalg._dsolve._add_newdocs', 'scipy.sparse.linalg._dsolve', 'scipy.sparse.linalg._eigen.arpack._arpack', 'scipy.sparse.linalg._eigen.arpack.arpack', 'scipy.sparse.linalg._eigen.arpack', 'scipy.sparse.linalg._eigen.lobpcg.lobpcg', 'scipy.sparse.linalg._eigen.lobpcg', 'scipy.sparse.linalg._eigen._svds', 'scipy.sparse.linalg._eigen', 'scipy.sparse.linalg._expm_multiply', 'scipy.sparse.linalg._matfuncs', 'scipy.sparse.linalg._onenormest', 'scipy.sparse.linalg._norm', 'scipy.sparse.linalg.isolve', 'scipy.sparse.linalg.dsolve', 'scipy.sparse.linalg.interface', 'scipy.sparse.linalg.eigen', 'scipy.sparse.linalg.matfuncs', 'scipy.sparse.linalg', 'scipy.optimize._minpack2', 'scipy.optimize._linesearch', 'scipy.optimize._group_columns', 'scipy.optimize._numdiff', 'scipy.optimize._hessian_update_strategy', 'scipy.optimize._differentiable_functions', 'scipy.optimize._optimize', 'scipy.optimize._trustregion', 'scipy.optimize._trustregion_dogleg', 'scipy.optimize._trustregion_ncg', 'scipy.optimize._trlib._trlib', 'scipy.optimize._trlib', 'scipy.optimize._trustregion_krylov', 'scipy.optimize._trustregion_exact', 'unittest.util', 'unittest.result', 'unittest.case', 'unittest.suite', 'unittest.loader', 'unittest.signals', 'unittest.runner', 'unittest.main', 'unittest', 'numpy.testing._private', 'numpy.testing._private.utils', 'numpy.testing._private.decorators', 'numpy.testing._private.nosetester', 'numpy.testing', 'scipy.optimize._constraints', 'scipy.optimize._trustregion_constr.projections', 'scipy.optimize._trustregion_constr.qp_subproblem', 'scipy.optimize._trustregion_constr.equality_constrained_sqp', 'scipy.optimize._trustregion_constr.canonical_constraint', 'scipy.optimize._trustregion_constr.tr_interior_point', 'scipy.optimize._trustregion_constr.report', 'scipy.optimize._trustregion_constr.minimize_trustregion_constr', 'scipy.optimize._trustregion_constr', 'scipy.optimize._lbfgsb', 'scipy.optimize._lbfgsb_py', '_moduleTNC', 'scipy.optimize._moduleTNC', 'scipy.optimize._tnc', 'scipy.optimize._cobyla', 'scipy.optimize._cobyla_py', 'scipy.optimize._slsqp', 'scipy.optimize._slsqp_py', 'scipy.optimize._minimize', 'scipy.optimize._minpack', 'scipy.optimize._lsq.common', 'scipy.optimize._lsq.trf', 'scipy.optimize._lsq.dogbox', 'scipy.optimize._lsq.least_squares', 'scipy.optimize._lsq.givens_elimination', 'scipy.optimize._lsq.trf_linear', 'scipy.optimize._lsq.bvls', 'scipy.optimize._lsq.lsq_linear', 'scipy.optimize._lsq', 'scipy.optimize._minpack_py', 'scipy.optimize._spectral', 'scipy.optimize._nonlin', 'scipy.optimize._root', 'scipy.optimize._zeros', 'scipy.optimize._zeros_py', 'scipy.optimize._root_scalar', 'scipy.optimize.__nnls', 'scipy.optimize._nnls', 'scipy.optimize._basinhopping', 'scipy.optimize._highs', 'scipy.optimize._highs.cython.src._highs_wrapper', 'scipy.optimize._highs._highs_wrapper', 'scipy.optimize._highs.cython.src._highs_constants', 'scipy.optimize._highs._highs_constants', 'scipy.optimize._linprog_highs', 'scipy.linalg._interpolative', 'scipy.linalg._interpolative_backend', 'scipy.linalg.interpolative', 'scipy.optimize._remove_redundancy', 'scipy.optimize._linprog_util', 'scipy.optimize._linprog_ip', 'scipy.optimize._linprog_simplex', 'scipy.optimize._bglu_dense', 'scipy.optimize._linprog_rs', 'scipy.optimize._linprog_doc', 'scipy.optimize._linprog', 'scipy.optimize._lsap_module', 'scipy.optimize._lsap', 'scipy.optimize._differentialevolution', 'scipy.optimize._shgo_lib', 'scipy.optimize._shgo_lib.triangulation', 'scipy.optimize._shgo', 'scipy.optimize._dual_annealing', 'scipy.optimize._qap', 'scipy.optimize.cobyla', 'scipy.optimize.lbfgsb', 'scipy.optimize.linesearch', 'scipy.optimize.minpack', 'scipy.optimize.minpack2', 'scipy.optimize.moduleTNC', 'scipy.optimize.nonlin', 'scipy.optimize.optimize', 'scipy.optimize.slsqp', 'scipy.optimize.tnc', 'scipy.optimize.zeros', 'scipy.optimize', 'scipy.integrate._quadrature', 'scipy.integrate._odepack', 'scipy.integrate._odepack_py', 'scipy.integrate._quadpack', 'scipy.integrate._quadpack_py', 'scipy.integrate._vode', 'scipy.integrate._dop', 'scipy.integrate._lsoda', 'scipy.integrate._ode', 'scipy.integrate._bvp', 'scipy.integrate._ivp.common', 'scipy.integrate._ivp.base', 'scipy.integrate._ivp.bdf', 'scipy.integrate._ivp.radau', 'scipy.integrate._ivp.dop853_coefficients', 'scipy.integrate._ivp.rk', 'scipy.integrate._ivp.lsoda', 'scipy.integrate._ivp.ivp', 'scipy.integrate._ivp', 'scipy.integrate._quad_vec', 'scipy.integrate.dop', 'scipy.integrate.lsoda', 'scipy.integrate.vode', 'scipy.integrate.odepack', 'scipy.integrate.quadpack', 'scipy.integrate', 'scipy.misc._common', 'scipy.misc.common', 'scipy.misc._doccer', 'scipy.misc.doccer', 'scipy.misc', 'scipy.stats._constants', 'scipy.stats._distn_infrastructure', 'scipy.interpolate._fitpack', 'scipy.interpolate.dfitpack', 'scipy.interpolate._fitpack_impl', 'scipy.interpolate._bspl', 'scipy.interpolate._bsplines', 'scipy.interpolate._fitpack_py', 'scipy.interpolate._polyint', 'scipy.interpolate._ppoly', 'scipy.interpolate._fitpack2', 'scipy.interpolate.interpnd', 'scipy.interpolate._interpolate', 'scipy.interpolate._rbf', 'scipy.interpolate._rbfinterp_pythran', 'scipy.interpolate._rbfinterp', 'scipy.interpolate._cubic', 'scipy.interpolate._ndgriddata', 'scipy.interpolate._pade', 'scipy.interpolate.fitpack', 'scipy.interpolate.fitpack2', 'scipy.interpolate.interpolate', 'scipy.interpolate.ndgriddata', 'scipy.interpolate.polyint', 'scipy.interpolate.rbf', 'scipy.interpolate', 'scipy.special.cython_special', 'scipy.stats._stats', 'scipy.stats._tukeylambda_stats', 'scipy.stats._ksstats', 'beta_ufunc', 'scipy.stats._boost.beta_ufunc', 'binom_ufunc', 'scipy.stats._boost.binom_ufunc', 'nbinom_ufunc', 'scipy.stats._boost.nbinom_ufunc', 'hypergeom_ufunc', 'scipy.stats._boost.hypergeom_ufunc', 'scipy.stats._boost', 'scipy.stats._continuous_distns', 'scipy.stats._biasedurn', 'scipy.stats._discrete_distns', 'scipy.stats._entropy', 'scipy.stats.distributions', 'scipy._lib._bunch', 'scipy.stats._stats_mstats_common', 'scipy.stats._mstats_basic', 'scipy.stats._common', 'scipy.stats._wilcoxon_data', 'scipy._lib._docscrape', 'scipy.stats._axis_nan_policy', 'scipy.stats._bootstrap', 'scipy.stats._hypotests_pythran', 'scipy.stats._hypotests', 'scipy.stats._stats_py', 'scipy.stats._variation', 'scipy.stats._statlib', 'scipy.stats._relative_risk', 'scipy.stats._crosstab', 'scipy.stats.contingency', 'scipy.stats._morestats', 'scipy.stats._binomtest', 'scipy.stats._binned_statistic', 'scipy.stats._mvn', 'scipy.stats._kde', 'scipy.stats._mstats_extras', 'scipy.stats.mstats', 'scipy.stats._sobol', 'scipy.stats._qmc_cy', 'scipy.stats._qmc', 'scipy.stats.qmc', 'scipy.stats._multivariate', 'scipy.stats._unuran', 'scipy.stats._unuran.unuran_wrapper', 'scipy.stats._rvs_sampling', 'scipy.stats._page_trend_test', 'scipy.stats._mannwhitneyu', 'scipy.stats.biasedurn', 'scipy.stats.kde', 'scipy.stats.morestats', 'scipy.stats.mstats_basic', 'scipy.stats.mstats_extras', 'scipy.stats.mvn', 'scipy.stats.statlib', 'scipy.stats.stats', 'scipy.stats', 'threadpoolctl', 'sklearn.externals', 'sklearn.externals._packaging', 'sklearn.externals._packaging._structures', 'sklearn.externals._packaging.version', 'sklearn.utils.fixes', 'sklearn.utils._estimator_html_repr', 'sklearn.utils.validation', 'sklearn.utils._bunch', 'sklearn.utils', 'sklearn.utils._tags', 'sklearn.base', 'sklearn.utils._openmp_helpers', 'sklearn.utils._show_versions', 'sklearn', 'slicer.slicer_internal', 'slicer.slicer', 'slicer', 'numba._version', 'numba.misc', 'numba.misc.init_utils', 'numba.core', 'llvmlite._version', 'llvmlite', 'llvmlite.binding.common', 'llvmlite.utils', 'llvmlite.binding.ffi', 'llvmlite.binding.dylib', 'llvmlite.binding.targets', 'llvmlite.binding.object_file', 'llvmlite.binding.executionengine', 'llvmlite.binding.initfini', 'llvmlite.binding.linker', 'llvmlite.binding.value', 'llvmlite.binding.context', 'llvmlite.binding.module', 'llvmlite.binding.options', 'llvmlite.binding.passmanagers', 'llvmlite.binding.transforms', 'llvmlite.ir._utils', 'llvmlite.ir.types', 'llvmlite.ir.values', 'llvmlite.ir.context', 'llvmlite.ir.module', 'llvmlite.ir.instructions', 'llvmlite.ir.builder', 'llvmlite.ir.transforms', 'llvmlite.ir', 'llvmlite.binding.analysis', 'llvmlite.binding', 'numba.core.config', 'numba.core.utils', 'numba.core.types.abstract', 'numba.core.errors', 'numba.core.types.common', 'numba.core.typeconv.castgraph', 'numba.core.typeconv', 'numba.core.consts', 'numba.core.ir', 'numba.core.types.misc', 'numba.core.types.containers', 'numba.core.types.functions', 'numba.core.types.iterators', 'numba.core.types.npytypes', 'numba.np', 'numba.np.npdatetime_helpers', 'numba.core.types.scalars', 'numba.core.types.function_type', 'numba.core.types', 'numba.core.typeconv._typeconv', 'numba.core.typeconv.typeconv', 'numba.core.typeconv.rules', 'numba.core.targetconfig', 'numba.core.cpu_options', 'numba.core.typing.templates', 'numba.core.datamodel.manager', 'numba.core.datamodel.packer', 'numba.core.datamodel.registry', 'numba.core.datamodel.models', 'numba.core.datamodel', 'numba.core.debuginfo', 'numba.core.cgutils', 'numba.np.numpy_support', 'numba.core.typing.typeof', 'numba.core.typing.context', 'numba.core.typing', 'numba.core.typing.asnumbatype', 'numba.misc.special', 'numba.stencils', 'numba.core.imputils', 'llvmlite.llvmpy', 'llvmlite.llvmpy.core', 'numba._helperlib', 'numba.core.itanium_mangler', 'numba.core.funcdesc', 'numba.core.generators', 'numba.core.removerefctpass', 'numba._dynfunc', 'numba.core.environment', 'numba.core.controlflow', 'numba.core.analysis', 'numba.core.lowering', 'numba.cloudpickle.compat', 'numba.cloudpickle.cloudpickle', 'numba.cloudpickle.cloudpickle_fast', 'numba.cloudpickle', 'numba.core.serialize', 'numba.core.pythonapi', 'numba.core.extending', 'numba.core.transforms', 'numba.core.postproc', 'numba.core.rewrites.registry', 'numba.core.rewrites.static_getitem', 'numba.core.rewrites.static_raise', 'numba.core.rewrites.static_binop', 'numba.core.rewrites.ir_print', 'numba.core.rewrites', 'numba.core.ir_utils', 'numba.core.descriptors', 'numba._devicearray', 'numba._dispatcher', 'numba.core.tracing', 'numba.core.dataflow', 'numba.core.byteflow', 'numba.core.unsafe', 'numba.core.unsafe.eh', 'numba.cpython', 'numba.cpython.unsafe', 'numba.cpython.unsafe.tuple', 'numba.core.interpreter', 'numba.core.bytecode', 'numba.core.event', 'numba.core.compiler_lock', 'numba.core.typeinfer', 'numba.stencils.stencilparfor', 'numba.core.overload_glue', 'numba.core.typing.npydecl', 'numba.np.unsafe', 'numba.np.unsafe.ndarray', 'numba.parfors.array_analysis', 'numba.parfors.parfor', 'numba.core.sigutils', 'numba.parfors.parfor_lowering_utils', 'numba.parfors.parfor_lowering', 'numba.parfors', 'numba.core.typing.builtins', 'numba.extending', 'numba.cpython.builtins', 'numba.core.base', 'numba.core.callconv', 'numba.core.callwrapper', 'llvmlite.llvmpy.passes', 'numba.core.runtime.nrtdynmod', 'numba.core.runtime._nrt_python', 'numba.core.runtime.nrt', 'numba.core.runtime', 'numba.core.runtime.nrtopt', 'numba.misc.inspection', 'numba.misc.llvm_pass_timings', 'numba.core.codegen', 'numba.core.intrinsics', 'numba.core.externals', 'numba.core.fastmathpass', 'numba.core.options', 'numba.core.entrypoints', 'numba.np.ufunc_db', 'numba.core.cpu', 'numba.core.compiler_machinery', 'numba.core.ssa', 'numba.core.untyped_passes', 'numba.core.annotations', 'numba.core.annotations.type_annotations', 'numba.core.typed_passes', 'numba.core.pylowering', 'numba.core.object_mode_passes', 'numba.core.compiler', 'numba.misc.appdirs', 'numba.core.caching', 'numba.core.retarget', 'numba.core.dispatcher', 'numba.core.registry', 'numba.stencils.stencil', 'numba.core.decorators', 'numba.np.ufunc._internal', 'numba.np.ufunc.wrappers', 'numba.core.target_extension', 'numba.np.ufunc.sigparse', 'numba.np.ufunc.ufuncbuilder', 'numba.np.ufunc.parallel', 'numba.np.ufunc.dufunc', 'numba.np.ufunc.gufunc', 'numba.np.ufunc.decorators', 'numba.np.ufunc.array_exprs', 'numba.np.ufunc', 'numba.experimental.jitclass.decorators', 'numba.experimental.jitclass.boxing', 'numba.experimental.jitclass', 'numba.experimental', 'numba.core.withcontexts', 'numba.typed', 'numba', 'fasttreeshap.utils._general', 'tqdm._monitor', 'tqdm._tqdm_pandas', 'tqdm.utils', 'tqdm.std', 'tqdm._dist_ver', 'tqdm.version', 'tqdm.cli', 'tqdm.gui', 'tqdm', 'fasttreeshap.utils._show_progress', 'fasttreeshap.utils._clustering', 'fasttreeshap.links', 'fasttreeshap.utils._masked_model', 'fasttreeshap.utils', 'fasttreeshap._explanation', 'fasttreeshap._serializable', 'fasttreeshap.maskers._masker', 'fasttreeshap.maskers._tabular', 'fasttreeshap.maskers._image', 'fasttreeshap.utils.transformers', 'fasttreeshap.maskers._text', 'fasttreeshap.maskers._fixed', 'fasttreeshap.maskers._composite', 'fasttreeshap.maskers._fixed_composite', 'fasttreeshap.maskers._output_composite', 'fasttreeshap.maskers', 'fasttreeshap.models._model', 'fasttreeshap.models', 'fasttreeshap.explainers._explainer', 'sklearn.utils.multiclass', 'sklearn.utils._logistic_sigmoid', 'sklearn.utils.sparsefuncs_fast', 'sklearn.utils.extmath', 'sklearn.utils.sparsefuncs', 'sklearn.utils.metaestimators', 'sklearn.preprocessing._function_transformer', 'sklearn.utils._mask', 'sklearn.utils._encode', 'sklearn.preprocessing._encoders', 'sklearn.preprocessing._data', 'sklearn.preprocessing._label', 'sklearn.preprocessing._discretization', 'sklearn.utils.stats', 'sklearn.preprocessing._csr_polynomial_expansion', 'sklearn.preprocessing._polynomial', 'sklearn.preprocessing', 'sklearn.metrics._base', 'sklearn.metrics._ranking', 'sklearn.metrics._classification', 'sklearn.utils._typedefs', 'sklearn.utils._readonly_array_wrapper', 'sklearn.metrics._dist_metrics', 'sklearn.metrics.cluster._expected_mutual_info_fast', 'sklearn.metrics.cluster._supervised', 'sklearn.utils._cython_blas', 'sklearn.utils._heap', 'sklearn.utils._sorting', 'sklearn.utils._vector_sentinel', 'sklearn.metrics._pairwise_distances_reduction', 'sklearn.metrics._pairwise_fast', 'sklearn.metrics.pairwise', 'sklearn.metrics.cluster._unsupervised', 'sklearn.metrics.cluster._bicluster', 'sklearn.metrics.cluster', 'sklearn.metrics._regression', 'sklearn.metrics._scorer', 'sklearn.metrics._plot', 'sklearn.metrics._plot.base', 'sklearn.metrics._plot.det_curve', 'sklearn.metrics._plot.roc_curve', 'sklearn.metrics._plot.precision_recall_curve', 'sklearn.metrics._plot.confusion_matrix', 'sklearn.metrics', 'sklearn.neighbors._partition_nodes', 'sklearn.neighbors._ball_tree', 'sklearn.neighbors._kd_tree', 'sklearn.neighbors._distance_metric', 'sklearn.neighbors._base', 'sklearn.neighbors._unsupervised', 'sklearn.neighbors._graph', 'sklearn.neighbors._classification', 'sklearn.neighbors._regression', 'sklearn.neighbors._nearest_centroid', 'sklearn.neighbors._kde', 'sklearn.neighbors._lof', 'sklearn.decomposition._cdnmf_fast', 'sklearn.decomposition._nmf', 'sklearn.decomposition._base', 'sklearn.utils._arpack', 'sklearn.decomposition._pca', 'sklearn.decomposition._incremental_pca', 'sklearn.decomposition._kernel_pca', 'sklearn.utils._random', 'sklearn.utils._seq_dataset', 'sklearn.linear_model._base', 'sklearn.linear_model._bayes', 'sklearn.utils.arrayfuncs', 'sklearn.model_selection._split', 'sklearn.model_selection._validation', 'sklearn.utils.random', 'sklearn.model_selection._search', 'sklearn.model_selection', 'sklearn.linear_model._least_angle', 'sklearn.linear_model._cd_fast', 'sklearn.linear_model._coordinate_descent', 'sklearn._loss._loss', 'sklearn._loss.link', 'sklearn._loss.loss', 'sklearn._loss', 'sklearn._loss.glm_distribution', 'sklearn.utils.optimize', 'sklearn.linear_model._linear_loss', 'sklearn.linear_model._glm.glm', 'sklearn.linear_model._glm', 'sklearn.linear_model._huber', 'sklearn.utils._weight_vector', 'sklearn.linear_model._sgd_fast', 'sklearn.linear_model._stochastic_gradient', 'sklearn.linear_model._sag_fast', 'sklearn.linear_model._sag', 'sklearn.linear_model._ridge', 'sklearn.svm._libsvm', 'sklearn.svm._liblinear', 'sklearn.svm._libsvm_sparse', 'sklearn.svm._base', 'sklearn.svm._classes', 'sklearn.svm._bounds', 'sklearn.svm', 'sklearn.linear_model._logistic', 'sklearn.linear_model._omp', 'sklearn.linear_model._passive_aggressive', 'sklearn.linear_model._perceptron', 'sklearn.linear_model._quantile', 'sklearn.linear_model._ransac', 'sklearn.linear_model._theil_sen', 'sklearn.linear_model', 'sklearn.decomposition._dict_learning', 'sklearn.decomposition._sparse_pca', 'sklearn.decomposition._truncated_svd', 'sklearn.decomposition._fastica', 'sklearn.decomposition._factor_analysis', 'sklearn.decomposition._online_lda_fast', 'sklearn.decomposition._lda', 'sklearn.decomposition', 'sklearn.neighbors._nca', 'sklearn.neighbors', 'sklearn.manifold._locally_linear', 'sklearn.utils.graph', 'sklearn.manifold._isomap', 'sklearn._isotonic', 'sklearn.isotonic', 'sklearn.manifold._mds', 'sklearn.manifold._spectral_embedding', 'sklearn.manifold._utils', 'sklearn.tree._utils', 'sklearn.tree._tree', 'sklearn.tree._splitter', 'sklearn.tree._criterion', 'sklearn.tree._classes', 'sklearn.tree._reingold_tilford', 'sklearn.tree._export', 'sklearn.tree', 'sklearn.neighbors._quad_tree', 'sklearn.manifold._barnes_hut_tsne', 'sklearn.manifold._t_sne', 'sklearn.manifold', 'sklearn.cluster._k_means_common', 'sklearn.cluster._k_means_minibatch', 'sklearn.cluster._k_means_lloyd', 'sklearn.cluster._k_means_elkan', 'sklearn.cluster._kmeans', 'sklearn.cluster._spectral', 'sklearn.cluster._mean_shift', 'sklearn.cluster._affinity_propagation', 'sklearn.utils._fast_dict', 'sklearn.cluster._hierarchical_fast', 'sklearn.cluster._feature_agglomeration', 'sklearn.cluster._agglomerative', 'sklearn.cluster._bisect_k_means', 'sklearn.cluster._dbscan_inner', 'sklearn.cluster._dbscan', 'sklearn.cluster._optics', 'sklearn.cluster._bicluster', 'sklearn.cluster._birch', 'sklearn.cluster', 'sklearn.impute._base', 'sklearn.impute._knn', 'sklearn.impute', 'fasttreeshap.utils._legacy', 'fasttreeshap._cext', 'fasttreeshap.explainers._tree', 'fasttreeshap.explainers', 'matplotlib', 'matplotlib._api.deprecation', 'matplotlib._api', 'matplotlib._version', 'matplotlib._c_internal_utils', 'matplotlib.cbook', 'matplotlib.docstring', 'PIL._version', 'PIL', 'defusedxml.common', 'defusedxml', 'xml.etree', 'xml.etree.ElementPath', '_elementtree', 'xml.etree.ElementTree', 'defusedxml.ElementTree', 'PIL.ImageMode', 'PIL.TiffTags', 'PIL._binary', 'PIL._util', 'PIL._imaging', 'cffi.lock', 'cffi.error', 'cffi.model', 'cffi.api', 'cffi', 'PIL.Image', 'PIL.ImageChops', 'PIL.ImageFile', 'PIL.GimpGradientFile', 'PIL.GimpPaletteFile', 'PIL.ImageColor', 'PIL.PaletteFile', 'PIL.ImagePalette', 'PIL.ImageSequence', 'PIL.PngImagePlugin', 'matplotlib._path', 'matplotlib.bezier', 'matplotlib.path', 'matplotlib.transforms', 'matplotlib.ticker', 'matplotlib.scale', 'matplotlib._color_data', 'matplotlib.colors', 'pyparsing.util', 'pyparsing.unicode', 'pyparsing.exceptions', 'pyparsing.actions', 'pyparsing.results', 'pyparsing.core', 'pyparsing.helpers', 'pyparsing.testing', 'pyparsing.common', 'pyparsing', 'matplotlib.fontconfig_pattern', 'matplotlib._enums', 'cycler', 'matplotlib.rcsetup', 'matplotlib.ft2font', 'kiwisolver._cext', 'kiwisolver']\n",
      "2023-02-24 19:31:34,751 :: matplotlib :: CACHEDIR=/Users/hjavedani/.matplotlib\n",
      "2023-02-24 19:31:34,761 :: matplotlib.font_manager :: Using fontManager instance from /Users/hjavedani/.matplotlib/fontlist-v330.json\n",
      "2023-02-24 19:31:40,646 :: graphviz._tools :: deprecate positional args: graphviz.backend.piping.pipe(['renderer', 'formatter', 'neato_no_op', 'quiet'])\n",
      "2023-02-24 19:31:40,652 :: graphviz._tools :: deprecate positional args: graphviz.backend.rendering.render(['renderer', 'formatter', 'neato_no_op', 'quiet'])\n",
      "2023-02-24 19:31:40,661 :: graphviz._tools :: deprecate positional args: graphviz.backend.unflattening.unflatten(['stagger', 'fanout', 'chain', 'encoding'])\n",
      "2023-02-24 19:31:40,671 :: graphviz._tools :: deprecate positional args: graphviz.backend.viewing.view(['quiet'])\n",
      "2023-02-24 19:31:40,700 :: graphviz._tools :: deprecate positional args: graphviz.quoting.quote(['is_html_string', 'is_valid_id', 'dot_keywords', 'endswith_odd_number_of_backslashes', 'escape_unescaped_quotes'])\n",
      "2023-02-24 19:31:40,701 :: graphviz._tools :: deprecate positional args: graphviz.quoting.a_list(['kwargs', 'attributes'])\n",
      "2023-02-24 19:31:40,704 :: graphviz._tools :: deprecate positional args: graphviz.quoting.attr_list(['kwargs', 'attributes'])\n",
      "2023-02-24 19:31:40,708 :: graphviz._tools :: deprecate positional args: graphviz.dot.Dot.clear(['keep_attrs'])\n",
      "2023-02-24 19:31:40,711 :: graphviz._tools :: deprecate positional args: graphviz.dot.Dot.__iter__(['subgraph'])\n",
      "2023-02-24 19:31:40,713 :: graphviz._tools :: deprecate positional args: graphviz.dot.Dot.node(['_attributes'])\n",
      "2023-02-24 19:31:40,716 :: graphviz._tools :: deprecate positional args: graphviz.dot.Dot.edge(['_attributes'])\n",
      "2023-02-24 19:31:40,718 :: graphviz._tools :: deprecate positional args: graphviz.dot.Dot.attr(['_attributes'])\n",
      "2023-02-24 19:31:40,721 :: graphviz._tools :: deprecate positional args: graphviz.dot.Dot.subgraph(['name', 'comment', 'graph_attr', 'node_attr', 'edge_attr', 'body'])\n",
      "2023-02-24 19:31:40,747 :: graphviz._tools :: deprecate positional args: graphviz.piping.Pipe._pipe_legacy(['renderer', 'formatter', 'neato_no_op', 'quiet'])\n",
      "2023-02-24 19:31:40,773 :: graphviz._tools :: deprecate positional args: graphviz.saving.Save.save(['directory'])\n",
      "2023-02-24 19:31:40,776 :: graphviz._tools :: deprecate positional args: graphviz.rendering.Render.render(['directory', 'view', 'cleanup', 'format', 'renderer', 'formatter', 'neato_no_op', 'quiet', 'quiet_view'])\n",
      "2023-02-24 19:31:40,778 :: graphviz._tools :: deprecate positional args: graphviz.rendering.Render.view(['directory', 'cleanup', 'quiet', 'quiet_view'])\n",
      "2023-02-24 19:31:40,802 :: graphviz._tools :: deprecate positional args: graphviz.unflattening.Unflatten.unflatten(['stagger', 'fanout', 'chain'])\n",
      "2023-02-24 19:31:40,804 :: graphviz._tools :: deprecate positional args: graphviz.graphs.BaseGraph.__init__(['comment', 'filename', 'directory', 'format', 'engine', 'encoding', 'graph_attr', 'node_attr', 'edge_attr', 'body', 'strict'])\n",
      "2023-02-24 19:31:40,854 :: graphviz._tools :: deprecate positional args: graphviz.sources.Source.from_file(['directory', 'format', 'engine', 'encoding', 'renderer', 'formatter'])\n",
      "2023-02-24 19:31:40,856 :: graphviz._tools :: deprecate positional args: graphviz.sources.Source.__init__(['filename', 'directory', 'format', 'engine', 'encoding'])\n",
      "2023-02-24 19:31:40,858 :: graphviz._tools :: deprecate positional args: graphviz.sources.Source.save(['directory'])\n"
     ]
    }
   ],
   "source": [
    "from zoish.feature_selectors.shap_selectors import ShapFeatureSelector\n",
    "import pandas as pd\n",
    "import xgboost\n",
    "from sklearn.model_selection import train_test_split, KFold\n",
    "import pandas as pd\n",
    "from sklearn.pipeline import Pipeline\n",
    "from feature_engine.imputation import MeanMedianImputer\n",
    "from sklearn.linear_model import LogisticRegression\n",
    "from sklearn.metrics import classification_report, confusion_matrix, f1_score, make_scorer"
   ]
  },
  {
   "cell_type": "markdown",
   "metadata": {},
   "source": [
    "#### Example: Audiology (Standardized) Data Set\n",
    "###### https://archive.ics.uci.edu/ml/datasets/Audiology+%28Standardized%29\n",
    "\n",
    "\n",
    "#### Read data\n"
   ]
  },
  {
   "cell_type": "code",
   "execution_count": 2,
   "metadata": {},
   "outputs": [
    {
     "data": {
      "text/html": [
       "<div>\n",
       "<style scoped>\n",
       "    .dataframe tbody tr th:only-of-type {\n",
       "        vertical-align: middle;\n",
       "    }\n",
       "\n",
       "    .dataframe tbody tr th {\n",
       "        vertical-align: top;\n",
       "    }\n",
       "\n",
       "    .dataframe thead th {\n",
       "        text-align: right;\n",
       "    }\n",
       "</style>\n",
       "<table border=\"1\" class=\"dataframe\">\n",
       "  <thead>\n",
       "    <tr style=\"text-align: right;\">\n",
       "      <th></th>\n",
       "      <th>class</th>\n",
       "      <th>lymphatics</th>\n",
       "      <th>block of affere</th>\n",
       "      <th>bl. of lymph. c</th>\n",
       "      <th>bl. of lymph. s</th>\n",
       "      <th>by pass</th>\n",
       "      <th>extravasates</th>\n",
       "      <th>regeneration of</th>\n",
       "      <th>early uptake in</th>\n",
       "      <th>lym.nodes dimin</th>\n",
       "      <th>lym.nodes enlar</th>\n",
       "      <th>changes in lym.</th>\n",
       "      <th>defect in node</th>\n",
       "      <th>changes in node</th>\n",
       "      <th>special forms</th>\n",
       "      <th>dislocation of</th>\n",
       "      <th>exclusion of no</th>\n",
       "      <th>no. of nodes in</th>\n",
       "    </tr>\n",
       "  </thead>\n",
       "  <tbody>\n",
       "    <tr>\n",
       "      <th>3</th>\n",
       "      <td>4</td>\n",
       "      <td>2</td>\n",
       "      <td>1</td>\n",
       "      <td>1</td>\n",
       "      <td>1</td>\n",
       "      <td>1</td>\n",
       "      <td>1</td>\n",
       "      <td>2</td>\n",
       "      <td>1</td>\n",
       "      <td>2</td>\n",
       "      <td>2</td>\n",
       "      <td>2</td>\n",
       "      <td>4</td>\n",
       "      <td>8</td>\n",
       "      <td>1</td>\n",
       "      <td>1</td>\n",
       "      <td>2</td>\n",
       "      <td>2</td>\n",
       "    </tr>\n",
       "    <tr>\n",
       "      <th>2</th>\n",
       "      <td>3</td>\n",
       "      <td>2</td>\n",
       "      <td>1</td>\n",
       "      <td>1</td>\n",
       "      <td>2</td>\n",
       "      <td>2</td>\n",
       "      <td>1</td>\n",
       "      <td>2</td>\n",
       "      <td>1</td>\n",
       "      <td>3</td>\n",
       "      <td>3</td>\n",
       "      <td>2</td>\n",
       "      <td>3</td>\n",
       "      <td>4</td>\n",
       "      <td>2</td>\n",
       "      <td>2</td>\n",
       "      <td>2</td>\n",
       "      <td>2</td>\n",
       "    </tr>\n",
       "    <tr>\n",
       "      <th>3</th>\n",
       "      <td>3</td>\n",
       "      <td>2</td>\n",
       "      <td>2</td>\n",
       "      <td>2</td>\n",
       "      <td>2</td>\n",
       "      <td>2</td>\n",
       "      <td>2</td>\n",
       "      <td>2</td>\n",
       "      <td>1</td>\n",
       "      <td>4</td>\n",
       "      <td>3</td>\n",
       "      <td>3</td>\n",
       "      <td>4</td>\n",
       "      <td>8</td>\n",
       "      <td>3</td>\n",
       "      <td>2</td>\n",
       "      <td>2</td>\n",
       "      <td>7</td>\n",
       "    </tr>\n",
       "    <tr>\n",
       "      <th>3</th>\n",
       "      <td>3</td>\n",
       "      <td>1</td>\n",
       "      <td>1</td>\n",
       "      <td>1</td>\n",
       "      <td>1</td>\n",
       "      <td>2</td>\n",
       "      <td>1</td>\n",
       "      <td>2</td>\n",
       "      <td>1</td>\n",
       "      <td>3</td>\n",
       "      <td>3</td>\n",
       "      <td>4</td>\n",
       "      <td>4</td>\n",
       "      <td>4</td>\n",
       "      <td>3</td>\n",
       "      <td>1</td>\n",
       "      <td>2</td>\n",
       "      <td>6</td>\n",
       "    </tr>\n",
       "    <tr>\n",
       "      <th>2</th>\n",
       "      <td>3</td>\n",
       "      <td>1</td>\n",
       "      <td>1</td>\n",
       "      <td>1</td>\n",
       "      <td>1</td>\n",
       "      <td>1</td>\n",
       "      <td>1</td>\n",
       "      <td>1</td>\n",
       "      <td>1</td>\n",
       "      <td>2</td>\n",
       "      <td>2</td>\n",
       "      <td>4</td>\n",
       "      <td>3</td>\n",
       "      <td>5</td>\n",
       "      <td>1</td>\n",
       "      <td>2</td>\n",
       "      <td>2</td>\n",
       "      <td>1</td>\n",
       "    </tr>\n",
       "  </tbody>\n",
       "</table>\n",
       "</div>"
      ],
      "text/plain": [
       "   class  lymphatics  block of affere  bl. of lymph. c  bl. of lymph. s  \\\n",
       "3      4           2                1                1                1   \n",
       "2      3           2                1                1                2   \n",
       "3      3           2                2                2                2   \n",
       "3      3           1                1                1                1   \n",
       "2      3           1                1                1                1   \n",
       "\n",
       "   by pass  extravasates  regeneration of  early uptake in  lym.nodes dimin  \\\n",
       "3        1             1                2                1                2   \n",
       "2        2             1                2                1                3   \n",
       "3        2             2                2                1                4   \n",
       "3        2             1                2                1                3   \n",
       "2        1             1                1                1                2   \n",
       "\n",
       "   lym.nodes enlar  changes in lym.  defect in node  changes in node  \\\n",
       "3                2                2               4                8   \n",
       "2                3                2               3                4   \n",
       "3                3                3               4                8   \n",
       "3                3                4               4                4   \n",
       "2                2                4               3                5   \n",
       "\n",
       "   special forms  dislocation of  exclusion of no  no. of nodes in  \n",
       "3              1               1                2                2  \n",
       "2              2               2                2                2  \n",
       "3              3               2                2                7  \n",
       "3              3               1                2                6  \n",
       "2              1               2                2                1  "
      ]
     },
     "execution_count": 2,
     "metadata": {},
     "output_type": "execute_result"
    }
   ],
   "source": [
    "urldata = \"https://archive.ics.uci.edu/ml/machine-learning-databases/lymphography/lymphography.data\"\n",
    "urlname = \"https://archive.ics.uci.edu/ml/machine-learning-databases/lung-cancer/lung-cancer.names\"\n",
    "# column names\n",
    "col_names = [\n",
    "    \"class\",\n",
    "    \"lymphatics\",\n",
    "    \"block of affere\",\n",
    "    \"bl. of lymph. c\",\n",
    "    \"bl. of lymph. s\",\n",
    "    \"by pass\",\n",
    "    \"extravasates\",\n",
    "    \"regeneration of\",\n",
    "    \"early uptake in\",\n",
    "    \"lym.nodes dimin\",\n",
    "    \"lym.nodes enlar\",\n",
    "    \"changes in lym.\",\n",
    "    \"defect in node\",\n",
    "    \"changes in node\",\n",
    "    \"special forms\",\n",
    "    \"dislocation of\",\n",
    "    \"exclusion of no\",\n",
    "    \"no. of nodes in\",\n",
    "\n",
    "]\n",
    "\n",
    "data = pd.read_csv(urldata,names=col_names)\n",
    "data.head()\n"
   ]
  },
  {
   "cell_type": "markdown",
   "metadata": {},
   "source": [
    "#### Define labels and train-test split\n"
   ]
  },
  {
   "cell_type": "code",
   "execution_count": 3,
   "metadata": {},
   "outputs": [],
   "source": [
    "\n",
    "\n",
    "data.loc[(data[\"class\"] == 1) | (data[\"class\"] == 2), \"class\"] = 0\n",
    "data.loc[data[\"class\"] == 3, \"class\"] = 1\n",
    "data.loc[data[\"class\"] == 4, \"class\"] = 2\n",
    "data[\"class\"] = data[\"class\"].astype(int)"
   ]
  },
  {
   "cell_type": "markdown",
   "metadata": {},
   "source": [
    "#### Train test split\n"
   ]
  },
  {
   "cell_type": "code",
   "execution_count": 4,
   "metadata": {},
   "outputs": [],
   "source": [
    "X = data.loc[:, data.columns != \"class\"]\n",
    "y = data.loc[:, data.columns == \"class\"]\n",
    "\n",
    "X_train, X_test, y_train, y_test = train_test_split(\n",
    "    X, y, test_size=0.33,  random_state=42\n",
    ")"
   ]
  },
  {
   "cell_type": "markdown",
   "metadata": {},
   "source": [
    "#### Define feature selector step \n"
   ]
  },
  {
   "cell_type": "code",
   "execution_count": 5,
   "metadata": {},
   "outputs": [],
   "source": [
    "shap_feature_selector_factory = (\n",
    "    ShapFeatureSelector.shap_feature_selector_factory.set_model_params(\n",
    "        X=X_train,\n",
    "        y=y_train,\n",
    "        verbose=0,\n",
    "        random_state=0,\n",
    "        estimator=xgboost.XGBClassifier(),\n",
    "        estimator_params={\n",
    "            \"max_depth\": [4, 5],\n",
    "        },\n",
    "        fit_params = {\n",
    "            \"sample_weight\": None,\n",
    "        },\n",
    "        method=\"tunegridsearch\",\n",
    "        # if n_features=None only the threshold will be considered as a cut-off of features grades.\n",
    "        # if threshold=None only n_features will be considered to select the top n features.\n",
    "        # if both of them are set to some values, the threshold has the priority for selecting features.\n",
    "        n_features=3,\n",
    "        threshold = 0.4,\n",
    "        list_of_obligatory_features_that_must_be_in_model=[\"defect in node\"],\n",
    "        list_of_features_to_drop_before_any_selection=[\"bl. of lymph. c\"],\n",
    "    ).set_shap_params(\n",
    "        model_output=\"raw\",\n",
    "        feature_perturbation=\"interventional\",\n",
    "        algorithm=\"v2\",\n",
    "        shap_n_jobs=-1,\n",
    "        memory_tolerance=-1,\n",
    "        feature_names=None,\n",
    "        approximate=False,\n",
    "        shortcut=False,\n",
    "    ).set_tunegridsearchcv_params(\n",
    "        verbose=1,\n",
    "        n_jobs=None,\n",
    "        cv=KFold(3),\n",
    "        early_stopping=None, \n",
    "        scoring=None, \n",
    "        refit=True, \n",
    "        error_score='raise', \n",
    "        return_train_score=False, \n",
    "        local_dir='~/ray_results', \n",
    "        name=None, \n",
    "        max_iters=1, \n",
    "        use_gpu=False, \n",
    "        loggers=None, \n",
    "        pipeline_auto_early_stop=True, \n",
    "        stopper=None, \n",
    "        time_budget_s=None, \n",
    "        measure_of_accuracy=make_scorer(f1_score, greater_is_better=True, average='macro'),\n",
    "        mode=None\n",
    "        )\n",
    ")"
   ]
  },
  {
   "cell_type": "markdown",
   "metadata": {},
   "source": [
    "#### Find feature type for later use\n"
   ]
  },
  {
   "cell_type": "code",
   "execution_count": 6,
   "metadata": {},
   "outputs": [
    {
     "name": "stdout",
     "output_type": "stream",
     "text": [
      "['lymphatics', 'block of affere', 'bl. of lymph. c', 'bl. of lymph. s', 'by pass', 'extravasates', 'regeneration of', 'early uptake in', 'lym.nodes dimin', 'lym.nodes enlar', 'changes in lym.', 'defect in node', 'changes in node', 'special forms', 'dislocation of', 'exclusion of no', 'no. of nodes in']\n"
     ]
    }
   ],
   "source": [
    "int_cols = X_train.select_dtypes(include=[\"int\"]).columns.tolist()\n",
    "print(int_cols)"
   ]
  },
  {
   "cell_type": "markdown",
   "metadata": {},
   "source": [
    "#### Define pipeline"
   ]
  },
  {
   "cell_type": "code",
   "execution_count": 7,
   "metadata": {},
   "outputs": [],
   "source": [
    "pipeline = Pipeline(\n",
    "    [\n",
    "        # int missing values imputers\n",
    "        (\n",
    "            \"intimputer\",\n",
    "            MeanMedianImputer(imputation_method=\"median\", variables=int_cols),\n",
    "        ),\n",
    "        (\"sfsf\", shap_feature_selector_factory),\n",
    "        # classification model\n",
    "        (\"logistic\", LogisticRegression()),\n",
    "    ]\n",
    ")"
   ]
  },
  {
   "cell_type": "markdown",
   "metadata": {},
   "source": [
    "#### Run Pipeline\n"
   ]
  },
  {
   "cell_type": "code",
   "execution_count": 8,
   "metadata": {},
   "outputs": [
    {
     "data": {
      "text/html": [
       "<div class=\"tuneStatus\">\n",
       "  <div style=\"display: flex;flex-direction: row\">\n",
       "    <div style=\"display: flex;flex-direction: column;\">\n",
       "      <h3>Tune Status</h3>\n",
       "      <table>\n",
       "<tbody>\n",
       "<tr><td>Current time:</td><td>2023-02-24 19:32:29</td></tr>\n",
       "<tr><td>Running for: </td><td>00:00:24.89        </td></tr>\n",
       "<tr><td>Memory:      </td><td>16.4/32.0 GiB      </td></tr>\n",
       "</tbody>\n",
       "</table>\n",
       "    </div>\n",
       "    <div class=\"vDivider\"></div>\n",
       "    <div class=\"systemInfo\">\n",
       "      <h3>System Info</h3>\n",
       "      Using FIFO scheduling algorithm.<br>Resources requested: 0/8 CPUs, 0/0 GPUs, 0.0/12.38 GiB heap, 0.0/2.0 GiB objects\n",
       "    </div>\n",
       "    \n",
       "  </div>\n",
       "  <div class=\"hDivider\"></div>\n",
       "  <div class=\"trialStatus\">\n",
       "    <h3>Trial Status</h3>\n",
       "    <table>\n",
       "<thead>\n",
       "<tr><th>Trial name            </th><th>status    </th><th>loc            </th><th style=\"text-align: right;\">  max_depth</th><th style=\"text-align: right;\">  iter</th><th style=\"text-align: right;\">  total time (s)</th><th style=\"text-align: right;\">  split0_test_score</th><th style=\"text-align: right;\">  split1_test_score</th><th style=\"text-align: right;\">  split2_test_score</th></tr>\n",
       "</thead>\n",
       "<tbody>\n",
       "<tr><td>_Trainable_f92f0_00000</td><td>TERMINATED</td><td>127.0.0.1:72301</td><td style=\"text-align: right;\">          4</td><td style=\"text-align: right;\">     1</td><td style=\"text-align: right;\">        0.215829</td><td style=\"text-align: right;\">           0.484848</td><td style=\"text-align: right;\">           0.30303 </td><td style=\"text-align: right;\">           0.424242</td></tr>\n",
       "<tr><td>_Trainable_f92f0_00001</td><td>TERMINATED</td><td>127.0.0.1:72307</td><td style=\"text-align: right;\">          5</td><td style=\"text-align: right;\">     1</td><td style=\"text-align: right;\">        0.171423</td><td style=\"text-align: right;\">           0.515152</td><td style=\"text-align: right;\">           0.242424</td><td style=\"text-align: right;\">           0.363636</td></tr>\n",
       "</tbody>\n",
       "</table>\n",
       "  </div>\n",
       "</div>\n",
       "<style>\n",
       ".tuneStatus {\n",
       "  color: var(--jp-ui-font-color1);\n",
       "}\n",
       ".tuneStatus .systemInfo {\n",
       "  display: flex;\n",
       "  flex-direction: column;\n",
       "}\n",
       ".tuneStatus td {\n",
       "  white-space: nowrap;\n",
       "}\n",
       ".tuneStatus .trialStatus {\n",
       "  display: flex;\n",
       "  flex-direction: column;\n",
       "}\n",
       ".tuneStatus h3 {\n",
       "  font-weight: bold;\n",
       "}\n",
       ".tuneStatus .hDivider {\n",
       "  border-bottom-width: var(--jp-border-width);\n",
       "  border-bottom-color: var(--jp-border-color0);\n",
       "  border-bottom-style: solid;\n",
       "}\n",
       ".tuneStatus .vDivider {\n",
       "  border-left-width: var(--jp-border-width);\n",
       "  border-left-color: var(--jp-border-color0);\n",
       "  border-left-style: solid;\n",
       "  margin: 0.5em 1em 0.5em 1em;\n",
       "}\n",
       "</style>\n"
      ],
      "text/plain": [
       "<IPython.core.display.HTML object>"
      ]
     },
     "metadata": {},
     "output_type": "display_data"
    },
    {
     "name": "stderr",
     "output_type": "stream",
     "text": [
      "2023-02-24 19:32:29,684\tINFO tune.py:762 -- Total run time: 25.11 seconds (24.86 seconds for the tuning loop).\n"
     ]
    },
    {
     "name": "stdout",
     "output_type": "stream",
     "text": [
      "2023-02-24 19:32:30,282 :: dev :: The optimization will be based on make_scorer(f1_score, average=macro) metric!\n",
      "2023-02-24 19:32:30,282 :: dev :: The optimization will be based on make_scorer(f1_score, average=macro) metric!\n",
      "2023-02-24 19:32:30,446 :: dev :: this list of features also will be selectec! ['defect in node']\n",
      "2023-02-24 19:32:30,446 :: dev :: this list of features also will be selectec! ['defect in node']\n",
      "2023-02-24 19:32:30,447 :: dev :: this list of features  will be dropped! ['bl. of lymph. c']\n",
      "2023-02-24 19:32:30,447 :: dev :: this list of features  will be dropped! ['bl. of lymph. c']\n"
     ]
    }
   ],
   "source": [
    "pipeline.fit(X_train, y_train.values.ravel())\n",
    "y_pred = pipeline.predict(X_test)\n"
   ]
  },
  {
   "cell_type": "markdown",
   "metadata": {},
   "source": [
    "#### Check performance of the Pipeline\n"
   ]
  },
  {
   "cell_type": "code",
   "execution_count": 9,
   "metadata": {},
   "outputs": [
    {
     "name": "stdout",
     "output_type": "stream",
     "text": [
      "F1 score : \n",
      "0.3877551020408163\n",
      "Classification report : \n",
      "              precision    recall  f1-score   support\n",
      "\n",
      "           0       0.45      0.71      0.56        21\n",
      "           1       0.27      0.29      0.28        14\n",
      "           2       0.00      0.00      0.00        14\n",
      "\n",
      "    accuracy                           0.39        49\n",
      "   macro avg       0.24      0.33      0.28        49\n",
      "weighted avg       0.27      0.39      0.32        49\n",
      "\n",
      "Confusion matrix : \n",
      "[[15  6  0]\n",
      " [ 9  4  1]\n",
      " [ 9  5  0]]\n"
     ]
    }
   ],
   "source": [
    "\n",
    "print(\"F1 score : \")\n",
    "print(f1_score(y_test, y_pred,average='micro'))\n",
    "print(\"Classification report : \")\n",
    "print(classification_report(y_test, y_pred))\n",
    "print(\"Confusion matrix : \")\n",
    "print(confusion_matrix(y_test, y_pred))\n",
    "\n"
   ]
  },
  {
   "cell_type": "markdown",
   "metadata": {},
   "source": [
    "#### Get access to feature selector instance"
   ]
  },
  {
   "cell_type": "code",
   "execution_count": 10,
   "metadata": {},
   "outputs": [
    {
     "name": "stdout",
     "output_type": "stream",
     "text": [
      "<fasttreeshap.explainers._tree.Tree object at 0x14501b700>\n"
     ]
    }
   ],
   "source": [
    "print(ShapFeatureSelector.shap_feature_selector_factory.get_feature_selector_instance())"
   ]
  }
 ],
 "metadata": {
  "kernelspec": {
   "display_name": "Python 3.10.6 ('.venv': poetry)",
   "language": "python",
   "name": "python3"
  },
  "language_info": {
   "codemirror_mode": {
    "name": "ipython",
    "version": 3
   },
   "file_extension": ".py",
   "mimetype": "text/x-python",
   "name": "python",
   "nbconvert_exporter": "python",
   "pygments_lexer": "ipython3",
   "version": "3.10.9"
  },
  "orig_nbformat": 4,
  "vscode": {
   "interpreter": {
    "hash": "2fd4a9ad6613f01435523ab5e4297db981c1d87a44e43e252d0e314391da6eb3"
   }
  }
 },
 "nbformat": 4,
 "nbformat_minor": 2
}
