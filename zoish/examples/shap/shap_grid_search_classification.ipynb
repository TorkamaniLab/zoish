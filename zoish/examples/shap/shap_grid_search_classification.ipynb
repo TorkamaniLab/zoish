{
 "cells": [
  {
   "cell_type": "markdown",
   "metadata": {},
   "source": [
    "#### Imports\n"
   ]
  },
  {
   "cell_type": "code",
   "execution_count": 1,
   "metadata": {},
   "outputs": [
    {
     "name": "stdout",
     "output_type": "stream",
     "text": [
      "In this module, the default logging will be applied. The error is [Errno 2] No such file or directory: 'zoish/config.yaml' which will be skipped!\n",
      "2023-02-24 18:25:16,446 :: graphviz._tools :: deprecate positional args: graphviz.backend.piping.pipe(['renderer', 'formatter', 'neato_no_op', 'quiet'])\n",
      "2023-02-24 18:25:16,448 :: graphviz._tools :: deprecate positional args: graphviz.backend.rendering.render(['renderer', 'formatter', 'neato_no_op', 'quiet'])\n",
      "2023-02-24 18:25:16,452 :: graphviz._tools :: deprecate positional args: graphviz.backend.unflattening.unflatten(['stagger', 'fanout', 'chain', 'encoding'])\n",
      "2023-02-24 18:25:16,454 :: graphviz._tools :: deprecate positional args: graphviz.backend.viewing.view(['quiet'])\n",
      "2023-02-24 18:25:16,462 :: graphviz._tools :: deprecate positional args: graphviz.quoting.quote(['is_html_string', 'is_valid_id', 'dot_keywords', 'endswith_odd_number_of_backslashes', 'escape_unescaped_quotes'])\n",
      "2023-02-24 18:25:16,463 :: graphviz._tools :: deprecate positional args: graphviz.quoting.a_list(['kwargs', 'attributes'])\n",
      "2023-02-24 18:25:16,464 :: graphviz._tools :: deprecate positional args: graphviz.quoting.attr_list(['kwargs', 'attributes'])\n",
      "2023-02-24 18:25:16,464 :: graphviz._tools :: deprecate positional args: graphviz.dot.Dot.clear(['keep_attrs'])\n",
      "2023-02-24 18:25:16,465 :: graphviz._tools :: deprecate positional args: graphviz.dot.Dot.__iter__(['subgraph'])\n",
      "2023-02-24 18:25:16,465 :: graphviz._tools :: deprecate positional args: graphviz.dot.Dot.node(['_attributes'])\n",
      "2023-02-24 18:25:16,466 :: graphviz._tools :: deprecate positional args: graphviz.dot.Dot.edge(['_attributes'])\n",
      "2023-02-24 18:25:16,467 :: graphviz._tools :: deprecate positional args: graphviz.dot.Dot.attr(['_attributes'])\n",
      "2023-02-24 18:25:16,469 :: graphviz._tools :: deprecate positional args: graphviz.dot.Dot.subgraph(['name', 'comment', 'graph_attr', 'node_attr', 'edge_attr', 'body'])\n",
      "2023-02-24 18:25:16,474 :: graphviz._tools :: deprecate positional args: graphviz.piping.Pipe._pipe_legacy(['renderer', 'formatter', 'neato_no_op', 'quiet'])\n",
      "2023-02-24 18:25:16,477 :: graphviz._tools :: deprecate positional args: graphviz.saving.Save.save(['directory'])\n",
      "2023-02-24 18:25:16,478 :: graphviz._tools :: deprecate positional args: graphviz.rendering.Render.render(['directory', 'view', 'cleanup', 'format', 'renderer', 'formatter', 'neato_no_op', 'quiet', 'quiet_view'])\n",
      "2023-02-24 18:25:16,478 :: graphviz._tools :: deprecate positional args: graphviz.rendering.Render.view(['directory', 'cleanup', 'quiet', 'quiet_view'])\n",
      "2023-02-24 18:25:16,481 :: graphviz._tools :: deprecate positional args: graphviz.unflattening.Unflatten.unflatten(['stagger', 'fanout', 'chain'])\n",
      "2023-02-24 18:25:16,482 :: graphviz._tools :: deprecate positional args: graphviz.graphs.BaseGraph.__init__(['comment', 'filename', 'directory', 'format', 'engine', 'encoding', 'graph_attr', 'node_attr', 'edge_attr', 'body', 'strict'])\n",
      "2023-02-24 18:25:16,484 :: graphviz._tools :: deprecate positional args: graphviz.sources.Source.from_file(['directory', 'format', 'engine', 'encoding', 'renderer', 'formatter'])\n",
      "2023-02-24 18:25:16,486 :: graphviz._tools :: deprecate positional args: graphviz.sources.Source.__init__(['filename', 'directory', 'format', 'engine', 'encoding'])\n",
      "2023-02-24 18:25:16,488 :: graphviz._tools :: deprecate positional args: graphviz.sources.Source.save(['directory'])\n"
     ]
    }
   ],
   "source": [
    "from zoish.feature_selectors.shap_selectors import ShapFeatureSelector\n",
    "import pandas as pd\n",
    "import xgboost\n",
    "from sklearn.model_selection import train_test_split, KFold\n",
    "import pandas as pd\n",
    "from sklearn.pipeline import Pipeline\n",
    "from feature_engine.imputation import MeanMedianImputer\n",
    "from sklearn.linear_model import LogisticRegression\n",
    "from sklearn.metrics import classification_report, confusion_matrix, f1_score, make_scorer"
   ]
  },
  {
   "cell_type": "markdown",
   "metadata": {},
   "source": [
    "#### Example: Audiology (Standardized) Data Set\n",
    "###### https://archive.ics.uci.edu/ml/datasets/Audiology+%28Standardized%29\n",
    "\n",
    "\n",
    "#### Read data\n"
   ]
  },
  {
   "cell_type": "code",
   "execution_count": 2,
   "metadata": {},
   "outputs": [
    {
     "data": {
      "text/html": [
       "<div>\n",
       "<style scoped>\n",
       "    .dataframe tbody tr th:only-of-type {\n",
       "        vertical-align: middle;\n",
       "    }\n",
       "\n",
       "    .dataframe tbody tr th {\n",
       "        vertical-align: top;\n",
       "    }\n",
       "\n",
       "    .dataframe thead th {\n",
       "        text-align: right;\n",
       "    }\n",
       "</style>\n",
       "<table border=\"1\" class=\"dataframe\">\n",
       "  <thead>\n",
       "    <tr style=\"text-align: right;\">\n",
       "      <th></th>\n",
       "      <th>class</th>\n",
       "      <th>lymphatics</th>\n",
       "      <th>block of affere</th>\n",
       "      <th>bl. of lymph. c</th>\n",
       "      <th>bl. of lymph. s</th>\n",
       "      <th>by pass</th>\n",
       "      <th>extravasates</th>\n",
       "      <th>regeneration of</th>\n",
       "      <th>early uptake in</th>\n",
       "      <th>lym.nodes dimin</th>\n",
       "      <th>lym.nodes enlar</th>\n",
       "      <th>changes in lym.</th>\n",
       "      <th>defect in node</th>\n",
       "      <th>changes in node</th>\n",
       "      <th>special forms</th>\n",
       "      <th>dislocation of</th>\n",
       "      <th>exclusion of no</th>\n",
       "      <th>no. of nodes in</th>\n",
       "    </tr>\n",
       "  </thead>\n",
       "  <tbody>\n",
       "    <tr>\n",
       "      <th>3</th>\n",
       "      <td>4</td>\n",
       "      <td>2</td>\n",
       "      <td>1</td>\n",
       "      <td>1</td>\n",
       "      <td>1</td>\n",
       "      <td>1</td>\n",
       "      <td>1</td>\n",
       "      <td>2</td>\n",
       "      <td>1</td>\n",
       "      <td>2</td>\n",
       "      <td>2</td>\n",
       "      <td>2</td>\n",
       "      <td>4</td>\n",
       "      <td>8</td>\n",
       "      <td>1</td>\n",
       "      <td>1</td>\n",
       "      <td>2</td>\n",
       "      <td>2</td>\n",
       "    </tr>\n",
       "    <tr>\n",
       "      <th>2</th>\n",
       "      <td>3</td>\n",
       "      <td>2</td>\n",
       "      <td>1</td>\n",
       "      <td>1</td>\n",
       "      <td>2</td>\n",
       "      <td>2</td>\n",
       "      <td>1</td>\n",
       "      <td>2</td>\n",
       "      <td>1</td>\n",
       "      <td>3</td>\n",
       "      <td>3</td>\n",
       "      <td>2</td>\n",
       "      <td>3</td>\n",
       "      <td>4</td>\n",
       "      <td>2</td>\n",
       "      <td>2</td>\n",
       "      <td>2</td>\n",
       "      <td>2</td>\n",
       "    </tr>\n",
       "    <tr>\n",
       "      <th>3</th>\n",
       "      <td>3</td>\n",
       "      <td>2</td>\n",
       "      <td>2</td>\n",
       "      <td>2</td>\n",
       "      <td>2</td>\n",
       "      <td>2</td>\n",
       "      <td>2</td>\n",
       "      <td>2</td>\n",
       "      <td>1</td>\n",
       "      <td>4</td>\n",
       "      <td>3</td>\n",
       "      <td>3</td>\n",
       "      <td>4</td>\n",
       "      <td>8</td>\n",
       "      <td>3</td>\n",
       "      <td>2</td>\n",
       "      <td>2</td>\n",
       "      <td>7</td>\n",
       "    </tr>\n",
       "    <tr>\n",
       "      <th>3</th>\n",
       "      <td>3</td>\n",
       "      <td>1</td>\n",
       "      <td>1</td>\n",
       "      <td>1</td>\n",
       "      <td>1</td>\n",
       "      <td>2</td>\n",
       "      <td>1</td>\n",
       "      <td>2</td>\n",
       "      <td>1</td>\n",
       "      <td>3</td>\n",
       "      <td>3</td>\n",
       "      <td>4</td>\n",
       "      <td>4</td>\n",
       "      <td>4</td>\n",
       "      <td>3</td>\n",
       "      <td>1</td>\n",
       "      <td>2</td>\n",
       "      <td>6</td>\n",
       "    </tr>\n",
       "    <tr>\n",
       "      <th>2</th>\n",
       "      <td>3</td>\n",
       "      <td>1</td>\n",
       "      <td>1</td>\n",
       "      <td>1</td>\n",
       "      <td>1</td>\n",
       "      <td>1</td>\n",
       "      <td>1</td>\n",
       "      <td>1</td>\n",
       "      <td>1</td>\n",
       "      <td>2</td>\n",
       "      <td>2</td>\n",
       "      <td>4</td>\n",
       "      <td>3</td>\n",
       "      <td>5</td>\n",
       "      <td>1</td>\n",
       "      <td>2</td>\n",
       "      <td>2</td>\n",
       "      <td>1</td>\n",
       "    </tr>\n",
       "  </tbody>\n",
       "</table>\n",
       "</div>"
      ],
      "text/plain": [
       "   class  lymphatics  block of affere  bl. of lymph. c  bl. of lymph. s  \\\n",
       "3      4           2                1                1                1   \n",
       "2      3           2                1                1                2   \n",
       "3      3           2                2                2                2   \n",
       "3      3           1                1                1                1   \n",
       "2      3           1                1                1                1   \n",
       "\n",
       "   by pass  extravasates  regeneration of  early uptake in  lym.nodes dimin  \\\n",
       "3        1             1                2                1                2   \n",
       "2        2             1                2                1                3   \n",
       "3        2             2                2                1                4   \n",
       "3        2             1                2                1                3   \n",
       "2        1             1                1                1                2   \n",
       "\n",
       "   lym.nodes enlar  changes in lym.  defect in node  changes in node  \\\n",
       "3                2                2               4                8   \n",
       "2                3                2               3                4   \n",
       "3                3                3               4                8   \n",
       "3                3                4               4                4   \n",
       "2                2                4               3                5   \n",
       "\n",
       "   special forms  dislocation of  exclusion of no  no. of nodes in  \n",
       "3              1               1                2                2  \n",
       "2              2               2                2                2  \n",
       "3              3               2                2                7  \n",
       "3              3               1                2                6  \n",
       "2              1               2                2                1  "
      ]
     },
     "execution_count": 2,
     "metadata": {},
     "output_type": "execute_result"
    }
   ],
   "source": [
    "urldata = \"https://archive.ics.uci.edu/ml/machine-learning-databases/lymphography/lymphography.data\"\n",
    "urlname = \"https://archive.ics.uci.edu/ml/machine-learning-databases/lung-cancer/lung-cancer.names\"\n",
    "# column names\n",
    "col_names = [\n",
    "    \"class\",\n",
    "    \"lymphatics\",\n",
    "    \"block of affere\",\n",
    "    \"bl. of lymph. c\",\n",
    "    \"bl. of lymph. s\",\n",
    "    \"by pass\",\n",
    "    \"extravasates\",\n",
    "    \"regeneration of\",\n",
    "    \"early uptake in\",\n",
    "    \"lym.nodes dimin\",\n",
    "    \"lym.nodes enlar\",\n",
    "    \"changes in lym.\",\n",
    "    \"defect in node\",\n",
    "    \"changes in node\",\n",
    "    \"special forms\",\n",
    "    \"dislocation of\",\n",
    "    \"exclusion of no\",\n",
    "    \"no. of nodes in\",\n",
    "\n",
    "]\n",
    "\n",
    "data = pd.read_csv(urldata,names=col_names)\n",
    "data.head()\n"
   ]
  },
  {
   "cell_type": "markdown",
   "metadata": {},
   "source": [
    "#### Define labels and train-test split\n"
   ]
  },
  {
   "cell_type": "code",
   "execution_count": 3,
   "metadata": {},
   "outputs": [],
   "source": [
    "\n",
    "\n",
    "data.loc[(data[\"class\"] == 1) | (data[\"class\"] == 2), \"class\"] = 0\n",
    "data.loc[data[\"class\"] == 3, \"class\"] = 1\n",
    "data.loc[data[\"class\"] == 4, \"class\"] = 2\n",
    "data[\"class\"] = data[\"class\"].astype(int)"
   ]
  },
  {
   "cell_type": "markdown",
   "metadata": {},
   "source": [
    "#### Train test split\n"
   ]
  },
  {
   "cell_type": "code",
   "execution_count": 4,
   "metadata": {},
   "outputs": [],
   "source": [
    "X = data.loc[:, data.columns != \"class\"]\n",
    "y = data.loc[:, data.columns == \"class\"]\n",
    "\n",
    "X_train, X_test, y_train, y_test = train_test_split(\n",
    "    X, y, test_size=0.33,  random_state=42\n",
    ")"
   ]
  },
  {
   "cell_type": "markdown",
   "metadata": {},
   "source": [
    "#### Define feature selector step \n"
   ]
  },
  {
   "cell_type": "code",
   "execution_count": 5,
   "metadata": {},
   "outputs": [],
   "source": [
    "shap_feature_selector_factory = (\n",
    "    ShapFeatureSelector.shap_feature_selector_factory.set_model_params(\n",
    "        X=X_train,\n",
    "        y=y_train,\n",
    "        verbose=0,\n",
    "        random_state=0,\n",
    "        estimator=xgboost.XGBClassifier(),\n",
    "        estimator_params={\n",
    "            \"max_depth\": [4, 5],\n",
    "        },\n",
    "        fit_params = {\n",
    "            \"sample_weight\": None,\n",
    "        },\n",
    "        method=\"gridsearch\",\n",
    "        # if n_features=None only the threshold will be considered as a cut-off of features grades.\n",
    "        # if threshold=None only n_features will be considered to select the top n features.\n",
    "        # if both of them are set to some values, the threshold has the priority for selecting features.\n",
    "        n_features=3,\n",
    "        threshold = 0.4,\n",
    "        list_of_obligatory_features_that_must_be_in_model=[\"defect in node\"],\n",
    "        list_of_features_to_drop_before_any_selection=[\"bl. of lymph. c\"],\n",
    "    )\n",
    "    .set_shap_params(\n",
    "        model_output=\"raw\",\n",
    "        feature_perturbation=\"interventional\",\n",
    "        algorithm=\"v2\",\n",
    "        shap_n_jobs=-1,\n",
    "        memory_tolerance=-1,\n",
    "        feature_names=None,\n",
    "        approximate=False,\n",
    "        shortcut=False,\n",
    "    )\n",
    "    .set_gridsearchcv_params(\n",
    "        measure_of_accuracy=make_scorer(f1_score, greater_is_better=True, average='macro'),\n",
    "        verbose=10,\n",
    "        n_jobs=-1,\n",
    "        cv=KFold(2),\n",
    "    )\n",
    ")"
   ]
  },
  {
   "cell_type": "markdown",
   "metadata": {},
   "source": [
    "#### Find feature type for later use\n"
   ]
  },
  {
   "cell_type": "code",
   "execution_count": 6,
   "metadata": {},
   "outputs": [
    {
     "name": "stdout",
     "output_type": "stream",
     "text": [
      "['lymphatics', 'block of affere', 'bl. of lymph. c', 'bl. of lymph. s', 'by pass', 'extravasates', 'regeneration of', 'early uptake in', 'lym.nodes dimin', 'lym.nodes enlar', 'changes in lym.', 'defect in node', 'changes in node', 'special forms', 'dislocation of', 'exclusion of no', 'no. of nodes in']\n"
     ]
    }
   ],
   "source": [
    "int_cols = X_train.select_dtypes(include=[\"int\"]).columns.tolist()\n",
    "print(int_cols)"
   ]
  },
  {
   "cell_type": "markdown",
   "metadata": {},
   "source": [
    "#### Define pipeline"
   ]
  },
  {
   "cell_type": "code",
   "execution_count": 7,
   "metadata": {},
   "outputs": [],
   "source": [
    "pipeline = Pipeline(\n",
    "    [\n",
    "        # int missing values imputers\n",
    "        (\n",
    "            \"intimputer\",\n",
    "            MeanMedianImputer(imputation_method=\"median\", variables=int_cols),\n",
    "        ),\n",
    "        (\"sfsf\", shap_feature_selector_factory),\n",
    "        # classification model\n",
    "        (\"logistic\", LogisticRegression()),\n",
    "    ]\n",
    ")"
   ]
  },
  {
   "cell_type": "markdown",
   "metadata": {},
   "source": [
    "#### Run Pipeline\n"
   ]
  },
  {
   "cell_type": "code",
   "execution_count": 8,
   "metadata": {},
   "outputs": [
    {
     "name": "stdout",
     "output_type": "stream",
     "text": [
      "2023-02-24 18:25:19,411 :: root :: Building Best Estimator by GridSearchCV !\n",
      "2023-02-24 18:25:19,413 :: dev :: The optimization will be based on make_scorer(f1_score, average=macro) metric!\n",
      "2023-02-24 18:25:19,413 :: dev :: The optimization will be based on make_scorer(f1_score, average=macro) metric!\n",
      "Fitting 2 folds for each of 2 candidates, totalling 4 fits\n",
      "[CV 1/2; 1/2] START max_depth=4.................................................\n",
      "[CV 1/2; 1/2] END ..................max_depth=4;, score=0.461 total time=   0.3s\n",
      "[CV 2/2; 1/2] START max_depth=4.................................................\n",
      "[CV 2/2; 1/2] END ..................max_depth=4;, score=0.374 total time=   0.3s\n",
      "[CV 1/2; 2/2] START max_depth=5.................................................\n",
      "[CV 1/2; 2/2] END ..................max_depth=5;, score=0.427 total time=   0.3s\n",
      "[CV 2/2; 2/2] START max_depth=5.................................................\n",
      "[CV 2/2; 2/2] END ..................max_depth=5;, score=0.423 total time=   0.3s\n",
      "2023-02-24 18:25:20,917 :: dev :: The optimization will be based on make_scorer(f1_score, average=macro) metric!\n",
      "2023-02-24 18:25:20,917 :: dev :: The optimization will be based on make_scorer(f1_score, average=macro) metric!\n",
      "2023-02-24 18:25:21,072 :: root :: this list of features also will be selectec! ['defect in node']\n",
      "2023-02-24 18:25:21,073 :: root :: this list of features  will be dropped! ['bl. of lymph. c']\n"
     ]
    }
   ],
   "source": [
    "pipeline.fit(X_train, y_train.values.ravel())\n",
    "y_pred = pipeline.predict(X_test)\n"
   ]
  },
  {
   "cell_type": "markdown",
   "metadata": {},
   "source": [
    "#### Check performance of the Pipeline\n"
   ]
  },
  {
   "cell_type": "code",
   "execution_count": 9,
   "metadata": {},
   "outputs": [
    {
     "name": "stdout",
     "output_type": "stream",
     "text": [
      "F1 score : \n",
      "0.3877551020408163\n",
      "Classification report : \n",
      "              precision    recall  f1-score   support\n",
      "\n",
      "           0       0.45      0.71      0.56        21\n",
      "           1       0.27      0.29      0.28        14\n",
      "           2       0.00      0.00      0.00        14\n",
      "\n",
      "    accuracy                           0.39        49\n",
      "   macro avg       0.24      0.33      0.28        49\n",
      "weighted avg       0.27      0.39      0.32        49\n",
      "\n",
      "Confusion matrix : \n",
      "[[15  6  0]\n",
      " [ 9  4  1]\n",
      " [ 9  5  0]]\n"
     ]
    }
   ],
   "source": [
    "\n",
    "print(\"F1 score : \")\n",
    "print(f1_score(y_test, y_pred,average='micro'))\n",
    "print(\"Classification report : \")\n",
    "print(classification_report(y_test, y_pred))\n",
    "print(\"Confusion matrix : \")\n",
    "print(confusion_matrix(y_test, y_pred))\n",
    "\n"
   ]
  },
  {
   "cell_type": "markdown",
   "metadata": {},
   "source": [
    "#### Get access to feature selector instance"
   ]
  },
  {
   "cell_type": "code",
   "execution_count": 10,
   "metadata": {},
   "outputs": [
    {
     "name": "stdout",
     "output_type": "stream",
     "text": [
      "<fasttreeshap.explainers._tree.Tree object at 0x1092c02b0>\n"
     ]
    }
   ],
   "source": [
    "print(ShapFeatureSelector.shap_feature_selector_factory.get_feature_selector_instance())"
   ]
  }
 ],
 "metadata": {
  "kernelspec": {
   "display_name": "Python 3.10.6 ('.venv': poetry)",
   "language": "python",
   "name": "python3"
  },
  "language_info": {
   "codemirror_mode": {
    "name": "ipython",
    "version": 3
   },
   "file_extension": ".py",
   "mimetype": "text/x-python",
   "name": "python",
   "nbconvert_exporter": "python",
   "pygments_lexer": "ipython3",
   "version": "3.10.9"
  },
  "orig_nbformat": 4,
  "vscode": {
   "interpreter": {
    "hash": "2fd4a9ad6613f01435523ab5e4297db981c1d87a44e43e252d0e314391da6eb3"
   }
  }
 },
 "nbformat": 4,
 "nbformat_minor": 2
}
