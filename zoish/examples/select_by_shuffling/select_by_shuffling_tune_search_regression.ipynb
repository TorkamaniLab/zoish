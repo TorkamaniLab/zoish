{
 "cells": [
  {
   "cell_type": "markdown",
   "metadata": {},
   "source": [
    "#### Imports\n"
   ]
  },
  {
   "cell_type": "code",
   "execution_count": 1,
   "metadata": {},
   "outputs": [
    {
     "name": "stdout",
     "output_type": "stream",
     "text": [
      "2023-02-24 21:08:37,430 :: matplotlib :: matplotlib data path: /Users/hjavedani/Documents/zoish/.venv/lib/python3.10/site-packages/matplotlib/mpl-data\n",
      "2023-02-24 21:08:37,446 :: matplotlib :: CONFIGDIR=/Users/hjavedani/.matplotlib\n",
      "2023-02-24 21:08:37,457 :: matplotlib :: interactive is False\n",
      "2023-02-24 21:08:37,458 :: matplotlib :: platform is darwin\n",
      "2023-02-24 21:08:37,459 :: matplotlib :: loaded modules: ['sys', 'builtins', '_frozen_importlib', '_imp', '_thread', '_warnings', '_weakref', '_io', 'marshal', 'posix', '_frozen_importlib_external', 'time', 'zipimport', '_codecs', 'codecs', 'encodings.aliases', 'encodings', 'encodings.utf_8', '_signal', '_abc', 'abc', 'io', '__main__', '_stat', 'stat', '_collections_abc', 'genericpath', 'posixpath', 'os.path', 'os', '_sitebuiltins', '_virtualenv', '_distutils_hack', 'types', 'importlib._bootstrap', 'importlib._bootstrap_external', 'warnings', 'importlib', 'importlib._abc', 'itertools', 'keyword', '_operator', 'operator', 'reprlib', '_collections', 'collections', '_functools', 'functools', 'contextlib', 'importlib.util', 'importlib.machinery', 'mpl_toolkits', 'google', 'zope', 'enum', '_sre', 'sre_constants', 'sre_parse', 'sre_compile', '_locale', 'copyreg', 're', 'sitecustomize', 'site', 'runpy', 'collections.abc', 'typing.io', 'typing.re', 'typing', 'ipykernel._version', '_json', 'json.scanner', 'json.decoder', 'json.encoder', 'json', 'errno', 'signal', '_weakrefset', 'threading', 'fcntl', '_posixsubprocess', 'select', 'math', 'selectors', 'subprocess', 'jupyter_client._version', '_ast', 'ast', '_opcode', 'opcode', 'dis', 'token', 'tokenize', 'linecache', 'inspect', 'traitlets.utils', 'traitlets.utils.bunch', 'traitlets.utils.descriptions', 'traitlets.utils.getargspec', 'traitlets.utils.importstring', 'traitlets.utils.sentinel', 'traitlets.traitlets', 'traitlets._version', 'weakref', 'copy', 'traitlets.utils.decorators', 'traitlets', 'concurrent', 'traceback', '_string', 'string', 'atexit', 'logging', 'concurrent.futures._base', 'concurrent.futures', '_heapq', 'heapq', '_socket', 'array', 'socket', '_ssl', '_struct', 'struct', 'binascii', 'base64', 'ssl', 'asyncio.constants', 'asyncio.format_helpers', 'asyncio.base_futures', 'asyncio.log', 'asyncio.coroutines', '_contextvars', 'contextvars', 'asyncio.exceptions', 'asyncio.base_tasks', '_asyncio', 'asyncio.events', 'asyncio.futures', 'asyncio.protocols', 'asyncio.transports', 'asyncio.sslproto', 'asyncio.mixins', 'asyncio.tasks', 'asyncio.locks', 'asyncio.staggered', 'asyncio.trsock', 'asyncio.base_events', 'asyncio.runners', 'asyncio.queues', 'asyncio.streams', 'asyncio.subprocess', 'asyncio.threads', 'asyncio.base_subprocess', 'asyncio.selector_events', 'asyncio.unix_events', 'asyncio', '_queue', 'queue', 'platform', '_ctypes', 'ctypes._endian', 'ctypes', 'zmq.backend.select', '_cython_0_29_30', 'cython_runtime', 'zmq.error', 'zmq.backend.cython.context', 'zmq.backend.cython.message', '_bisect', 'bisect', '_random', '_sha512', 'random', '_compat_pickle', '_pickle', 'pickle', 'zmq.constants', 'zmq.backend.cython.socket', 'zmq.backend.cython._device', 'zmq.backend.cython._poll', 'zmq.backend.cython._proxy_steerable', 'zmq.backend.cython._version', 'zmq.backend.cython.error', 'zmq.backend.cython.utils', 'zmq.backend.cython', 'zmq.backend', 'zmq.sugar.attrsettr', 'zmq._typing', 'zmq.utils', 'zmq.utils.jsonapi', 'zmq.sugar.poll', 'zmq.sugar.socket', 'zmq.sugar.context', 'zmq.sugar.frame', 'zmq.sugar.tracker', 'zmq.sugar.version', 'zmq.sugar.stopwatch', 'zmq.sugar', 'zmq', 'zmq._future', 'zmq.asyncio', 'jupyter_client.channelsabc', '_hashlib', '_blake2', 'hashlib', 'hmac', 'dataclasses', 'pprint', '_datetime', 'datetime', 'logging.handlers', 'socketserver', 'logging.config', 'textwrap', 'traitlets.utils.text', 'gettext', 'argparse', 'traitlets.config.loader', 'traitlets.config.configurable', 'traitlets.utils.nested_update', 'traitlets.config.application', 'traitlets.config', 'traitlets.log', 'tornado', 'numbers', 'html.entities', 'html', 'urllib', 'urllib.parse', 'zlib', 'tornado.speedups', 'tornado.util', 'tornado.escape', 'colorama.ansi', 'colorama.win32', 'colorama.winterm', 'colorama.ansitowin32', 'colorama.initialise', 'colorama', '_curses', 'curses', 'tornado.log', 'tornado.concurrent', 'tornado.ioloop', 'tornado.platform', 'tornado.gen', 'tornado.platform.asyncio', 'zmq.eventloop.ioloop', 'zmq.eventloop', 'zmq.eventloop.zmqstream', 'jupyter_client.adapter', 'dateutil._version', 'dateutil', '__future__', 'locale', 'calendar', 'six', '_decimal', 'decimal', 'dateutil._common', 'dateutil.relativedelta', 'six.moves', 'dateutil.tz._common', 'dateutil.tz._factories', 'dateutil.tz.tz', 'dateutil.tz', 'dateutil.parser._parser', 'dateutil.parser.isoparser', 'dateutil.parser', '_strptime', 'jupyter_client.jsonutil', 'jupyter_client.session', 'jupyter_client.channels', 'termios', 'getpass', 'jupyter_client.clientabc', 'fnmatch', 'glob', '_compression', '_bz2', 'bz2', '_lzma', 'lzma', 'shutil', 'tempfile', 'jupyter_core.version', 'jupyter_core', 'ntpath', 'pathlib', 'jupyter_core.paths', 'jupyter_client.localinterfaces', 'jupyter_client.utils', 'jupyter_client.connect', 'jupyter_client.client', 'jupyter_client.asynchronous.client', 'jupyter_client.asynchronous', 'jupyter_client.blocking.client', 'jupyter_client.blocking', 'jupyter_client.launcher', '_uuid', 'uuid', 'jupyter_client.managerabc', 'zipfile', 'configparser', 'entrypoints', 'jupyter_client.provisioning.provisioner_base', 'jupyter_client.provisioning.factory', 'jupyter_client.provisioning.local_provisioner', 'jupyter_client.provisioning', 'jupyter_client.kernelspec', 'jupyter_client.manager', 'jupyter_client.multikernelmanager', 'jupyter_client', 'ipykernel.connect', 'ipykernel', 'IPython.core', 'IPython.core.getipython', 'IPython.core.release', 'pkgutil', 'sysconfig', '_sysconfigdata__darwin_darwin', '_osx_support', 'pydoc', 'executing.executing', 'executing.version', 'executing', 'asttokens.line_numbers', 'asttokens.util', 'asttokens.mark_tokens', 'asttokens.asttokens', 'asttokens', 'fractions', 'pure_eval.utils', 'pure_eval.my_getattr_static', 'pure_eval.core', 'pure_eval.version', 'pure_eval', 'stack_data.utils', 'stack_data.core', 'stack_data.formatting', 'stack_data.serializing', 'stack_data.version', 'stack_data', 'pygments', 'pygments.formatters._mapping', 'pygments.plugin', 'pygments.util', 'pygments.formatters', 'pygments.styles', 'pygments.formatter', 'pygments.console', 'pygments.token', 'pygments.style', 'pygments.formatters.terminal256', 'IPython.utils', 'IPython.utils.ipstruct', 'IPython.utils.coloransi', 'IPython.utils.colorable', 'IPython.utils.PyColorize', 'IPython.utils.encoding', 'IPython.utils.py3compat', 'IPython.core.excolors', 'cmd', 'bdb', 'codeop', 'code', 'pdb', 'IPython.core.debugger', 'IPython.core.display_trap', 'pexpect.exceptions', 'pexpect.utils', 'pexpect.expect', 'tty', 'pty', 'resource', 'ptyprocess.util', 'ptyprocess.ptyprocess', 'ptyprocess', 'pexpect.spawnbase', 'pexpect.pty_spawn', 'pexpect.run', 'pexpect', 'shlex', 'IPython.utils._process_common', 'IPython.utils._process_posix', 'IPython.utils.process', 'IPython.utils.path', 'IPython.utils.terminal', 'IPython.core.ultratb', 'IPython.utils._sysinfo', 'IPython.utils.sysinfo', 'IPython.core.crashhandler', 'IPython.utils.importstring', 'IPython.paths', 'IPython.core.profiledir', 'IPython.core.application', 'IPython.terminal', 'IPython.core.compilerop', 'IPython.core.error', 'IPython.utils.docs', 'IPython.utils.decorators', 'IPython.utils.text', 'IPython.core.magic_arguments', 'getopt', 'IPython.core.display_functions', 'mimetypes', 'IPython.testing', 'IPython.testing.skipdoctest', 'IPython.core.display', 'IPython.lib', 'IPython.lib.display', 'IPython.display', 'IPython.utils.data', 'IPython.core.page', 'IPython.lib.pretty', 'IPython.utils.openpy', 'IPython.utils.dir2', 'IPython.utils.wildcard', 'pygments.lexers._mapping', 'pygments.modeline', 'pygments.lexers', 'pygments.filter', 'pygments.filters', 'pygments.regexopt', 'pygments.lexer', 'pygments.unistring', 'pygments.lexers.python', 'pygments.formatters.html', 'IPython.core.oinspect', 'IPython.core.inputtransformer2', 'IPython.core.magic', 'pickleshare', 'IPython.core.hooks', 'IPython.core.autocall', 'IPython.core.macro', 'IPython.core.splitinput', 'IPython.core.prefilter', 'IPython.core.alias', 'IPython.core.builtin_trap', 'IPython.core.displayhook', 'IPython.core.displaypub', 'backcall.backcall', 'backcall', 'IPython.core.events', 'IPython.core.extensions', 'decorator', 'IPython.utils.sentinel', 'IPython.core.formatters', '_sqlite3', 'sqlite3.dbapi2', 'sqlite3', 'IPython.core.history', 'IPython.core.logger', 'IPython.core.payload', 'IPython.core.usage', 'IPython.utils.capture', 'IPython.utils.io', 'IPython.utils.strdispatch', 'IPython.utils.syspathcontext', 'IPython.core.async_helpers', 'IPython.core.interactiveshell', 'prompt_toolkit.application.current', 'prompt_toolkit.eventloop.utils', 'prompt_toolkit.eventloop.async_generator', 'prompt_toolkit.eventloop.inputhook', 'prompt_toolkit.eventloop', 'prompt_toolkit.application.run_in_terminal', 'prompt_toolkit.selection', 'prompt_toolkit.clipboard.base', 'prompt_toolkit.clipboard.in_memory', 'prompt_toolkit.clipboard', 'prompt_toolkit.cache', 'prompt_toolkit.enums', 'prompt_toolkit.filters.base', 'prompt_toolkit.filters.app', 'prompt_toolkit.filters.cli', 'prompt_toolkit.filters.utils', 'prompt_toolkit.filters', 'prompt_toolkit.document', 'prompt_toolkit.auto_suggest', 'prompt_toolkit.keys', 'prompt_toolkit.key_binding.key_bindings', 'wcwidth.table_wide', 'wcwidth.table_zero', 'wcwidth.unicode_versions', 'wcwidth.wcwidth', 'wcwidth', 'prompt_toolkit.utils', 'prompt_toolkit.key_binding.key_processor', 'prompt_toolkit.key_binding', 'prompt_toolkit.key_binding.vi_state', 'prompt_toolkit.cursor_shapes', 'prompt_toolkit.data_structures', 'prompt_toolkit.styles.base', 'prompt_toolkit.styles.named_colors', 'prompt_toolkit.styles.style', 'prompt_toolkit.styles.defaults', 'prompt_toolkit.styles.pygments', 'colorsys', 'prompt_toolkit.styles.style_transformation', 'prompt_toolkit.styles', 'prompt_toolkit.output.color_depth', 'prompt_toolkit.output.base', 'prompt_toolkit.output.flush_stdout', 'prompt_toolkit.output.plain_text', 'prompt_toolkit.output.defaults', 'prompt_toolkit.output', 'prompt_toolkit.output.vt100', 'prompt_toolkit.mouse_events', 'prompt_toolkit.formatted_text.base', 'prompt_toolkit.formatted_text.ansi', 'xml', 'xml.dom.domreg', 'xml.dom', 'xml.dom.minicompat', 'xml.dom.NodeFilter', 'xml.dom.xmlbuilder', 'xml.dom.minidom', 'prompt_toolkit.formatted_text.html', 'prompt_toolkit.formatted_text.pygments', 'prompt_toolkit.formatted_text.utils', 'prompt_toolkit.formatted_text', 'prompt_toolkit.completion.base', 'prompt_toolkit.completion.deduplicate', 'prompt_toolkit.completion.filesystem', 'prompt_toolkit.completion.word_completer', 'prompt_toolkit.completion.fuzzy_completer', 'prompt_toolkit.completion.nested', 'prompt_toolkit.completion', 'prompt_toolkit.history', 'prompt_toolkit.search', 'prompt_toolkit.validation', 'prompt_toolkit.buffer', 'prompt_toolkit.input.base', 'prompt_toolkit.input.defaults', 'prompt_toolkit.input', 'prompt_toolkit.input.typeahead', 'prompt_toolkit.key_binding.bindings', 'prompt_toolkit.key_binding.bindings.scroll', 'prompt_toolkit.key_binding.bindings.page_navigation', 'prompt_toolkit.lexers.base', 'prompt_toolkit.lexers.pygments', 'prompt_toolkit.lexers', 'prompt_toolkit.layout.utils', 'prompt_toolkit.layout.processors', 'prompt_toolkit.layout.controls', 'prompt_toolkit.layout.dimension', 'prompt_toolkit.layout.margins', 'prompt_toolkit.layout.mouse_handlers', 'prompt_toolkit.layout.screen', 'prompt_toolkit.layout.containers', 'prompt_toolkit.layout.layout', 'prompt_toolkit.layout.menus', 'prompt_toolkit.layout.scrollable_pane', 'prompt_toolkit.layout', 'prompt_toolkit.key_binding.bindings.completion', 'prompt_toolkit.key_binding.bindings.named_commands', 'prompt_toolkit.key_binding.bindings.basic', 'prompt_toolkit.key_binding.bindings.cpr', 'prompt_toolkit.key_binding.bindings.emacs', 'prompt_toolkit.key_binding.bindings.mouse', 'prompt_toolkit.input.ansi_escape_sequences', 'prompt_toolkit.input.vt100_parser', 'prompt_toolkit.key_binding.digraphs', 'prompt_toolkit.key_binding.bindings.vi', 'prompt_toolkit.key_binding.defaults', 'prompt_toolkit.key_binding.emacs_state', 'prompt_toolkit.layout.dummy', 'prompt_toolkit.renderer', 'prompt_toolkit.application.application', 'prompt_toolkit.application.dummy', 'prompt_toolkit.application', 'prompt_toolkit.key_binding.bindings.focus', 'prompt_toolkit.widgets.toolbars', 'prompt_toolkit.widgets.base', 'prompt_toolkit.widgets.dialogs', 'prompt_toolkit.widgets.menus', 'prompt_toolkit.widgets', 'prompt_toolkit.shortcuts.dialogs', 'prompt_toolkit.shortcuts.progress_bar.formatters', 'prompt_toolkit.shortcuts.progress_bar.base', 'prompt_toolkit.shortcuts.progress_bar', 'prompt_toolkit.key_binding.bindings.auto_suggest', 'prompt_toolkit.key_binding.bindings.open_in_editor', 'prompt_toolkit.shortcuts.prompt', 'prompt_toolkit.shortcuts.utils', 'prompt_toolkit.shortcuts', 'prompt_toolkit', 'prompt_toolkit.patch_stdout', 'unicodedata', 'IPython.core.guarded_eval', 'IPython.core.latex_symbols', 'IPython.utils.generics', 'parso.utils', 'parso.tree', 'parso.python', 'parso.python.token', 'parso.python.tokenize', 'parso.pgen2.grammar_parser', 'parso.pgen2.generator', 'parso.pgen2', 'parso.parser', 'parso._compatibility', 'difflib', 'parso.python.prefix', 'parso.python.tree', 'parso.python.parser', 'parso.python.diff', 'gc', 'parso.cache', 'parso.normalizer', 'parso.python.errors', 'parso.python.pep8', 'parso.file_io', 'parso.grammar', 'parso', 'jedi.parser_utils', 'jedi.debug', 'jedi.settings', 'jedi.cache', 'jedi.file_io', 'jedi.inference.cache', 'jedi.inference.helpers', 'jedi.inference.utils', 'jedi.inference.base_value', 'jedi.inference.sys_path', 'jedi.inference.recursion', 'jedi.inference.flow_analysis', 'jedi.common', 'jedi.inference.lazy_value', 'jedi.inference.docstrings', 'jedi.plugins', 'jedi.inference.names', 'jedi.inference.filters', 'jedi.inference.compiled.getattr_static', 'jedi.inference.compiled.access', 'jedi.inference.signature', 'jedi.inference.context', 'jedi.inference.compiled.value', 'jedi.inference.compiled', 'jedi.inference.analysis', 'jedi.inference.gradual', 'jedi.inference.value.module', 'jedi.inference.value.dynamic_arrays', 'jedi.inference.value.iterable', 'jedi.inference.arguments', 'jedi.inference.parser_cache', 'jedi.inference.gradual.generics', 'jedi.inference.value.function', 'jedi.inference.value.klass', 'jedi.inference.value.instance', 'jedi.inference.value', 'jedi.inference.gradual.base', 'jedi.inference.gradual.type_var', 'jedi.inference.gradual.typing', 'jedi.inference.gradual.stub_value', 'jedi.inference.gradual.typeshed', 'jedi._compatibility', 'jedi.inference.compiled.subprocess.functions', 'jedi.api.exceptions', 'jedi.inference.compiled.subprocess', 'jedi.inference.imports', 'jedi.inference.param', 'jedi.inference.gradual.annotation', 'jedi.inference.value.decorator', 'jedi.inference.syntax_tree', 'jedi.inference', 'jedi.inference.gradual.conversion', 'jedi.inference.compiled.mixed', 'pydoc_data', 'pydoc_data.topics', 'jedi.api.keywords', 'jedi.api.completion_cache', 'jedi.api.helpers', 'jedi.api.classes', 'jedi.api.interpreter', 'jedi.api.strings', 'jedi.api.file_name', 'jedi.inference.docstring_utils', 'jedi.api.completion', 'filecmp', 'jedi.api.environment', 'jedi.inference.references', 'jedi.api.project', 'jedi.api.errors', 'jedi.api.refactoring', 'jedi.api.refactoring.extract', 'jedi.inference.gradual.utils', 'jedi.api', 'jedi.plugins.stdlib', 'jedi.plugins.flask', 'jedi.plugins.pytest', 'jedi.plugins.django', 'jedi.plugins.registry', 'jedi', 'IPython.core.completer', 'IPython.terminal.ptutils', 'IPython.terminal.shortcuts', 'concurrent.futures.thread', 'IPython.terminal.debugger', 'IPython.lib.clipboard', 'IPython.terminal.magics', 'IPython.terminal.pt_inputhooks', 'IPython.terminal.prompts', 'IPython.terminal.interactiveshell', 'IPython.core.magics.auto', 'IPython.core.magics.basic', 'email', 'http', 'email.errors', 'email.quoprimime', 'email.base64mime', 'quopri', 'email.encoders', 'email.charset', 'email.header', 'email._parseaddr', 'email.utils', 'email._policybase', 'email.feedparser', 'email.parser', 'uu', 'email._encoded_words', 'email.iterators', 'email.message', 'http.client', 'urllib.response', 'urllib.error', '_scproxy', 'urllib.request', 'IPython.utils.contexts', 'IPython.core.magics.code', 'IPython.core.magics.config', 'IPython.core.magics.display', '_lsprof', 'profile', 'cProfile', 'pstats', 'timeit', 'IPython.utils.module_paths', 'IPython.utils.timing', 'IPython.core.magics.execution', 'IPython.core.magics.extension', 'IPython.core.magics.history', 'IPython.core.magics.logging', 'IPython.core.magics.namespace', 'IPython.core.magics.osm', 'IPython.core.magics.packaging', 'IPython.core.pylabtools', 'IPython.core.magics.pylab', 'IPython.core.magics.script', 'IPython.core.magics', 'IPython.core.shellapp', 'IPython.extensions', 'IPython.extensions.storemagic', 'IPython.terminal.ipapp', 'IPython.terminal.embed', 'IPython.utils.frame', 'IPython', 'ipykernel.control', 'ipykernel.heartbeat', 'ipykernel.iostream', 'IPython.utils.tokenutil', 'ipykernel.jsonutil', 'pwd', 'psutil._common', 'psutil._compat', 'psutil._psposix', 'psutil._psutil_osx', 'psutil._psutil_posix', 'psutil._psosx', 'psutil', 'tornado.locks', 'tornado.queues', 'ipykernel.kernelbase', 'ipykernel.comm.comm', 'ipykernel.comm.manager', 'ipykernel.comm', 'ipykernel.compiler', 'debugpy._version', 'debugpy.public_api', 'debugpy', 'debugpy._vendored._util', 'debugpy._vendored', '_pydevd_bundle', 'encodings.ascii', 'encodings.latin_1', 'stringprep', 'encodings.idna', '_pydevd_bundle.pydevd_vm_type', '_pydev_bundle', 'xmlrpc', 'xml.parsers', 'pyexpat.errors', 'pyexpat.model', 'pyexpat', 'xml.parsers.expat.model', 'xml.parsers.expat.errors', 'xml.parsers.expat', 'gzip', 'xmlrpc.client', 'http.server', 'xmlrpc.server', '_pydev_bundle._pydev_saved_modules', '_pydevd_bundle.pydevd_constants', '_pydev_runfiles', '_pydevd_frame_eval', 'pydev_ipython', 'plistlib', 'pkg_resources.extern', 'pkg_resources._vendor', 'pkg_resources._vendor.jaraco', 'pkg_resources.extern.jaraco', 'importlib.abc', 'importlib._adapters', 'importlib._common', 'importlib.resources', 'pkg_resources._vendor.more_itertools.recipes', 'pkg_resources._vendor.more_itertools.more', 'pkg_resources._vendor.more_itertools', 'pkg_resources.extern.more_itertools', 'pkg_resources.extern.jaraco.functools', 'pkg_resources.extern.jaraco.context', 'pkg_resources.extern.jaraco.text', 'pkg_resources._vendor.appdirs', 'pkg_resources.extern.appdirs', 'pkg_resources._vendor.packaging.__about__', 'pkg_resources._vendor.packaging', 'pkg_resources.extern.packaging', 'pkg_resources.extern.packaging._structures', 'pkg_resources.extern.packaging.version', 'pkg_resources._vendor.packaging._manylinux', 'pkg_resources._vendor.packaging._musllinux', 'pkg_resources.extern.packaging.tags', 'pkg_resources.extern.packaging.utils', 'pkg_resources.extern.packaging.specifiers', 'pkg_resources._vendor.pyparsing.util', 'pkg_resources._vendor.pyparsing.unicode', 'pkg_resources._vendor.pyparsing.exceptions', 'pkg_resources._vendor.pyparsing.actions', 'pkg_resources._vendor.pyparsing.results', 'pkg_resources._vendor.pyparsing.core', 'pkg_resources._vendor.pyparsing.helpers', 'pkg_resources._vendor.pyparsing.testing', 'pkg_resources._vendor.pyparsing.common', 'pkg_resources._vendor.pyparsing', 'pkg_resources.extern.pyparsing', 'pkg_resources.extern.packaging.markers', 'pkg_resources.extern.packaging.requirements', 'pkg_resources', 'pydevd_plugins', '_pydev_bundle.pydev_log', '_pydev_bundle._pydev_filesystem_encoding', '_pydevd_bundle.pydevd_comm_constants', 'pydevd_file_utils', '_pydev_bundle._pydev_execfile', '_pydevd_bundle.pydevd_exec2', '_pydev_bundle.pydev_imports', '_pydev_bundle.pydev_is_thread_alive', '_pydev_bundle.pydev_override', 'pydevd_plugins.extensions', '_pydevd_bundle.pydevd_extension_utils', '_pydevd_bundle.pydevd_frame_utils', '_pydevd_bundle.pydevd_filtering', '_pydevd_bundle.pydevd_io', '_pydevd_bundle.pydevd_utils', '_pydevd_bundle.pydevd_runpy', '_pydev_bundle._pydev_tipper_common', '_pydev_bundle._pydev_imports_tipper', '_pydev_bundle._pydev_calltip_util', '_pydevd_bundle.pydevd_safe_repr', '_pydevd_bundle.pydevd_resolver', '_pydevd_bundle.pydevd_extension_api', '_pydevd_bundle.pydevd_xml', '_pydevd_bundle.pydevd_dont_trace', '_pydevd_frame_eval.vendored', '_pydevd_frame_eval.vendored.bytecode.flags', '_pydevd_frame_eval.vendored.bytecode.instr', '_pydevd_frame_eval.vendored.bytecode.bytecode', '_pydevd_frame_eval.vendored.bytecode.concrete', '_pydevd_frame_eval.vendored.bytecode.cfg', '_pydevd_frame_eval.vendored.bytecode', '_pydevd_bundle.pydevd_bytecode_utils', '_pydevd_bundle.pydevd_cython', '_pydevd_bundle.pydevd_cython_wrapper', '_pydevd_bundle.pydevd_additional_thread_info', '_pydevd_bundle.pydevd_thread_lifecycle', '_pydevd_bundle.pydevd_save_locals', '_pydevd_bundle.pydevd_defaults', '_pydev_bundle.pydev_monkey', 'pydevd_tracing', '_pydevd_bundle.pydevd_collect_bytecode_info', '_pydevd_bundle.pydevd_daemon_thread', '_pydevd_bundle.pydevd_timeout', '_pydevd_bundle.pydevd_vars', '_pydev_bundle.pydev_console_utils', '_pydevd_bundle.pydevd_import_class', '_pydevd_bundle.pydevd_breakpoints', '_pydevd_bundle.pydevd_custom_frames', '_pydevd_bundle.pydevd_dont_trace_files', '_pydevd_bundle.pydevd_net_command', '_pydev_bundle.pydev_umd', 'pydevconsole', '_pydev_bundle._pydev_completer', '_pydevd_bundle.pydevd_net_command_factory_xml', '_pydevd_bundle.pydevd_frame', '_pydevd_bundle.pydevd_additional_thread_info_regular', '_pydevd_bundle.pydevd_trace_dispatch', '_pydevd_bundle._debug_adapter', '_pydevd_bundle._debug_adapter.pydevd_schema_log', '_pydevd_bundle._debug_adapter.pydevd_base_schema', '_pydevd_bundle._debug_adapter.pydevd_schema', '_pydevd_bundle.pydevd_reload', '_pydev_bundle.fsnotify', '_pydevd_bundle.pydevd_console', '_pydevd_bundle.pydevd_comm', '_pydevd_frame_eval.pydevd_frame_tracing', '_pydevd_frame_eval.pydevd_modify_bytecode', '_pydevd_frame_eval.pydevd_frame_evaluator', '_pydevd_frame_eval.pydevd_frame_eval_cython_wrapper', '_pydevd_frame_eval.pydevd_frame_eval_main', '_pydevd_bundle.pydevd_source_mapping', '_pydevd_bundle.pydevd_concurrency_analyser', '_pydevd_bundle.pydevd_concurrency_analyser.pydevd_thread_wrappers', '_pydevd_bundle.pydevd_concurrency_analyser.pydevd_concurrency_logger', '_pydevd_bundle.pydevd_net_command_factory_json', '_pydevd_bundle.pydevd_api', '_pydevd_bundle.pydevd_json_debug_options', '_pydevd_bundle.pydevd_process_net_command_json', '_pydevd_bundle.pydevd_traceproperty', '_pydevd_bundle.pydevd_process_net_command', '_pydevd_bundle.pydevd_suspended_frames', '_pydevd_bundle.pydevd_trace_api', 'pydevd_plugins.pydevd_line_validation', 'pydevd_plugins.django_debug', 'pydevd_plugins.jinja2_debug', '_pydevd_bundle.pydevd_plugin_utils', 'pydevd_plugins.extensions.types', 'pydevd_plugins.extensions.types.pydevd_helpers', 'pydevd_plugins.extensions.types.pydevd_plugin_numpy_types', 'pydevd_plugins.extensions.types.pydevd_plugin_pandas_types', 'pydevd_plugins.extensions.types.pydevd_plugins_django_form_str', 'pydevd', 'debugpy._vendored.force_pydevd', 'debugpy.server', 'debugpy.adapter', 'debugpy.common', 'debugpy.common.json', 'debugpy.common.timestamp', 'debugpy.common.util', 'debugpy.common.log', 'debugpy.common.sockets', 'debugpy.server.api', 'ipykernel.debugger', 'packaging.__about__', 'packaging', 'packaging._structures', 'packaging.version', 'ipykernel.eventloops', 'IPython.core.payloadpage', 'ipykernel.displayhook', 'ipykernel.zmqshell', 'ipykernel.ipkernel', 'ipykernel.parentpoller', 'ipykernel.kernelapp', 'faulthandler', 'IPython.core.completerlib', 'ctypes.macholib', 'ctypes.macholib.framework', 'ctypes.macholib.dylib', 'ctypes.macholib.dyld', 'ctypes.util', 'appnope._nope', 'appnope', 'jedi.inference.finder', 'zoish.project_conf', 'yaml.error', 'yaml.tokens', 'yaml.events', 'yaml.nodes', 'yaml.reader', 'yaml.scanner', 'yaml.parser', 'yaml.composer', 'yaml.constructor', 'yaml.resolver', 'yaml.loader', 'yaml.emitter', 'yaml.serializer', 'yaml.representer', 'yaml.dumper', 'yaml._yaml', 'yaml.cyaml', 'yaml', 'dotenv.parser', 'dotenv.variables', 'dotenv.main', 'dotenv', 'zoish', 'zoish.feature_selectors', 'zoish.feature_selectors.select_by_shuffling', 'matplotlib', 'numpy._globals', 'numpy.__config__', 'numpy._version', 'numpy._distributor_init', 'numpy.version', 'numpy.core._multiarray_umath', 'numpy.compat._inspect', 'numpy.compat.py3k', 'numpy.compat', 'numpy.core.overrides', 'numpy.core.multiarray', 'numpy.core.umath', 'numpy.core._string_helpers', 'numpy.core._dtype', 'numpy.core._type_aliases', 'numpy.core.numerictypes', 'numpy.core._exceptions', 'numpy.core._methods', 'numpy.core.fromnumeric', 'numpy.core.shape_base', 'numpy.core._ufunc_config', 'numpy.core.arrayprint', 'numpy.core._asarray', 'numpy.core.numeric', 'numpy.core.defchararray', 'numpy.core.records', 'numpy.core.memmap', 'numpy.core.function_base', 'numpy.core.machar', 'numpy.core.getlimits', 'numpy.core.einsumfunc', 'numpy.core._multiarray_tests', 'numpy.core._add_newdocs', 'numpy.core._add_newdocs_scalars', 'numpy.core._dtype_ctypes', 'numpy.core._internal', 'numpy._pytesttester', 'numpy.core', 'numpy.lib.mixins', 'numpy.lib.ufunclike', 'numpy.lib.type_check', 'numpy.lib.scimath', 'numpy.lib.stride_tricks', 'numpy.lib.twodim_base', 'numpy.linalg.lapack_lite', 'numpy.linalg._umath_linalg', 'numpy.linalg.linalg', 'numpy.linalg', 'numpy.matrixlib.defmatrix', 'numpy.matrixlib', 'numpy.lib.histograms', 'numpy.lib.function_base', 'numpy.lib.index_tricks', 'numpy.lib.nanfunctions', 'numpy.lib.shape_base', 'numpy.lib.polynomial', 'numpy.lib.utils', 'numpy.lib.arraysetops', 'numpy.lib.format', 'numpy.lib._datasource', 'numpy.lib._iotools', 'numpy.lib.npyio', 'numpy.lib.arrayterator', 'numpy.lib.arraypad', 'numpy.lib._version', 'numpy.lib', 'numpy.fft._pocketfft_internal', 'numpy.fft._pocketfft', 'numpy.fft.helper', 'numpy.fft', 'numpy.polynomial.polyutils', 'numpy.polynomial._polybase', 'numpy.polynomial.polynomial', 'numpy.polynomial.chebyshev', 'numpy.polynomial.legendre', 'numpy.polynomial.hermite', 'numpy.polynomial.hermite_e', 'numpy.polynomial.laguerre', 'numpy.polynomial', '_cython_0_29_24', 'numpy.random._common', 'secrets', 'numpy.random.bit_generator', 'numpy.random._bounded_integers', 'numpy.random._mt19937', 'numpy.random.mtrand', 'numpy.random._philox', 'numpy.random._pcg64', 'numpy.random._sfc64', 'numpy.random._generator', 'numpy.random._pickle', 'numpy.random', 'numpy.ctypeslib', 'numpy.ma.core', 'numpy.ma.extras', 'numpy.ma', 'numpy', 'matplotlib._api.deprecation', 'matplotlib._api', 'matplotlib._version', 'matplotlib._c_internal_utils', 'matplotlib.cbook', 'matplotlib.docstring', 'PIL._version', 'PIL', 'defusedxml.common', 'defusedxml', 'xml.etree', 'xml.etree.ElementPath', '_elementtree', 'xml.etree.ElementTree', 'defusedxml.ElementTree', 'PIL.ImageMode', 'PIL.TiffTags', 'PIL._binary', 'PIL._util', 'PIL._imaging', 'cffi.lock', 'cffi.error', 'cffi.model', 'cffi.api', 'cffi', 'PIL.Image', 'PIL.ImageChops', 'PIL.ImageFile', 'PIL.GimpGradientFile', 'PIL.GimpPaletteFile', 'PIL.ImageColor', 'PIL.PaletteFile', 'PIL.ImagePalette', 'PIL.ImageSequence', 'PIL.PngImagePlugin', 'matplotlib._path', 'matplotlib.bezier', 'matplotlib.path', 'matplotlib.transforms', 'matplotlib.ticker', 'matplotlib.scale', 'matplotlib._color_data', 'matplotlib.colors', 'pyparsing.util', 'pyparsing.unicode', 'pyparsing.exceptions', 'pyparsing.actions', 'pyparsing.results', 'pyparsing.core', 'pyparsing.helpers', 'pyparsing.testing', 'pyparsing.common', 'pyparsing', 'matplotlib.fontconfig_pattern', 'matplotlib._enums', 'cycler', 'matplotlib.rcsetup', 'matplotlib.ft2font', 'kiwisolver._cext', 'kiwisolver']\n",
      "2023-02-24 21:08:37,744 :: matplotlib :: CACHEDIR=/Users/hjavedani/.matplotlib\n",
      "2023-02-24 21:08:37,756 :: matplotlib.font_manager :: Using fontManager instance from /Users/hjavedani/.matplotlib/fontlist-v330.json\n",
      "2023-02-24 21:08:51,739 :: graphviz._tools :: deprecate positional args: graphviz.backend.piping.pipe(['renderer', 'formatter', 'neato_no_op', 'quiet'])\n",
      "2023-02-24 21:08:51,747 :: graphviz._tools :: deprecate positional args: graphviz.backend.rendering.render(['renderer', 'formatter', 'neato_no_op', 'quiet'])\n",
      "2023-02-24 21:08:51,765 :: graphviz._tools :: deprecate positional args: graphviz.backend.unflattening.unflatten(['stagger', 'fanout', 'chain', 'encoding'])\n",
      "2023-02-24 21:08:51,773 :: graphviz._tools :: deprecate positional args: graphviz.backend.viewing.view(['quiet'])\n",
      "2023-02-24 21:08:51,816 :: graphviz._tools :: deprecate positional args: graphviz.quoting.quote(['is_html_string', 'is_valid_id', 'dot_keywords', 'endswith_odd_number_of_backslashes', 'escape_unescaped_quotes'])\n",
      "2023-02-24 21:08:51,817 :: graphviz._tools :: deprecate positional args: graphviz.quoting.a_list(['kwargs', 'attributes'])\n",
      "2023-02-24 21:08:51,819 :: graphviz._tools :: deprecate positional args: graphviz.quoting.attr_list(['kwargs', 'attributes'])\n",
      "2023-02-24 21:08:51,820 :: graphviz._tools :: deprecate positional args: graphviz.dot.Dot.clear(['keep_attrs'])\n",
      "2023-02-24 21:08:51,821 :: graphviz._tools :: deprecate positional args: graphviz.dot.Dot.__iter__(['subgraph'])\n",
      "2023-02-24 21:08:51,824 :: graphviz._tools :: deprecate positional args: graphviz.dot.Dot.node(['_attributes'])\n",
      "2023-02-24 21:08:51,825 :: graphviz._tools :: deprecate positional args: graphviz.dot.Dot.edge(['_attributes'])\n",
      "2023-02-24 21:08:51,827 :: graphviz._tools :: deprecate positional args: graphviz.dot.Dot.attr(['_attributes'])\n",
      "2023-02-24 21:08:51,828 :: graphviz._tools :: deprecate positional args: graphviz.dot.Dot.subgraph(['name', 'comment', 'graph_attr', 'node_attr', 'edge_attr', 'body'])\n",
      "2023-02-24 21:08:51,848 :: graphviz._tools :: deprecate positional args: graphviz.piping.Pipe._pipe_legacy(['renderer', 'formatter', 'neato_no_op', 'quiet'])\n",
      "2023-02-24 21:08:51,865 :: graphviz._tools :: deprecate positional args: graphviz.saving.Save.save(['directory'])\n",
      "2023-02-24 21:08:51,865 :: graphviz._tools :: deprecate positional args: graphviz.rendering.Render.render(['directory', 'view', 'cleanup', 'format', 'renderer', 'formatter', 'neato_no_op', 'quiet', 'quiet_view'])\n",
      "2023-02-24 21:08:51,866 :: graphviz._tools :: deprecate positional args: graphviz.rendering.Render.view(['directory', 'cleanup', 'quiet', 'quiet_view'])\n",
      "2023-02-24 21:08:51,876 :: graphviz._tools :: deprecate positional args: graphviz.unflattening.Unflatten.unflatten(['stagger', 'fanout', 'chain'])\n",
      "2023-02-24 21:08:51,877 :: graphviz._tools :: deprecate positional args: graphviz.graphs.BaseGraph.__init__(['comment', 'filename', 'directory', 'format', 'engine', 'encoding', 'graph_attr', 'node_attr', 'edge_attr', 'body', 'strict'])\n",
      "2023-02-24 21:08:51,888 :: graphviz._tools :: deprecate positional args: graphviz.sources.Source.from_file(['directory', 'format', 'engine', 'encoding', 'renderer', 'formatter'])\n",
      "2023-02-24 21:08:51,889 :: graphviz._tools :: deprecate positional args: graphviz.sources.Source.__init__(['filename', 'directory', 'format', 'engine', 'encoding'])\n",
      "2023-02-24 21:08:51,891 :: graphviz._tools :: deprecate positional args: graphviz.sources.Source.save(['directory'])\n",
      "2023-02-24 21:09:04,409 :: dev :: Select By Shuffling Feature Selector has started !\n",
      "2023-02-24 21:09:04,409 :: dev :: Select By Shuffling Feature Selector has started !\n"
     ]
    }
   ],
   "source": [
    "from zoish.feature_selectors.select_by_shuffling import SelectByShufflingFeatureSelector\n",
    "import pandas as pd\n",
    "from sklearn.model_selection import train_test_split\n",
    "import pandas as pd\n",
    "from sklearn.pipeline import Pipeline\n",
    "from sklearn.metrics import r2_score\n",
    "from feature_engine.imputation import CategoricalImputer, MeanMedianImputer\n",
    "from category_encoders import OrdinalEncoder\n",
    "import xgboost\n",
    "import optuna\n",
    "from optuna.samplers import TPESampler\n",
    "from optuna.pruners import HyperbandPruner\n",
    "from sklearn.linear_model import LinearRegression"
   ]
  },
  {
   "cell_type": "markdown",
   "metadata": {},
   "source": [
    "#### Computer Hardware Data Set (a regression problem)\n",
    "  \n",
    "###### https://archive.ics.uci.edu/ml/datasets/Computer+Hardware"
   ]
  },
  {
   "cell_type": "code",
   "execution_count": 2,
   "metadata": {},
   "outputs": [],
   "source": [
    "urldata= \"https://archive.ics.uci.edu/ml/machine-learning-databases/cpu-performance/machine.data\"\n",
    "# column names\n",
    "col_names=[\n",
    "    \"vendor name\",\n",
    "    \"Model Name\",\n",
    "    \"MYCT\",\n",
    "    \"MMIN\",\n",
    "    \"MMAX\",\n",
    "    \"CACH\",\n",
    "    \"CHMIN\",\n",
    "    \"CHMAX\",\n",
    "    \"PRP\"\n",
    "]\n",
    "# read data\n",
    "data = pd.read_csv(urldata,header=None,names=col_names,sep=',')\n"
   ]
  },
  {
   "cell_type": "markdown",
   "metadata": {},
   "source": [
    "#### Train test split"
   ]
  },
  {
   "cell_type": "code",
   "execution_count": 3,
   "metadata": {},
   "outputs": [],
   "source": [
    "X = data.loc[:, data.columns != \"PRP\"]\n",
    "y = data.loc[:, data.columns == \"PRP\"]\n",
    "\n",
    "\n",
    "X_train, X_test, y_train, y_test =train_test_split(X, y, test_size=0.33, random_state=42)\n"
   ]
  },
  {
   "cell_type": "markdown",
   "metadata": {},
   "source": [
    "#### Define feature selector step \n"
   ]
  },
  {
   "cell_type": "code",
   "execution_count": 4,
   "metadata": {},
   "outputs": [],
   "source": [
    "select_by_shuffling_feature_selector_factory = (\n",
    "        SelectByShufflingFeatureSelector.select_by_shuffling_selector_factory.set_model_params(\n",
    "        X=X_train,\n",
    "        y=y_train,\n",
    "        verbose=0,\n",
    "        random_state=0,\n",
    "        estimator=xgboost.XGBRegressor(),\n",
    "        estimator_params={\n",
    "            \"max_depth\": [4, 5],\n",
    "        },\n",
    "        fit_params = {\n",
    "            \"sample_weight\": None,\n",
    "        },\n",
    "        method=\"tunesearch\",\n",
    "        threshold=0.02,\n",
    "        list_of_obligatory_features_that_must_be_in_model=[],\n",
    "        list_of_features_to_drop_before_any_selection=[],\n",
    "    ).set_select_by_shuffling_params(\n",
    "        cv=2,\n",
    "        variables=None,\n",
    "        scoring='r2',\n",
    "        confirm_variables=False,\n",
    "        \n",
    "    )\n",
    "    .set_tunesearchcv_params(\n",
    "        measure_of_accuracy=None,\n",
    "        verbose=3,\n",
    "        n_jobs=None,\n",
    "        cv=3,\n",
    "        early_stopping=None, \n",
    "        n_trials=10,\n",
    "        # if measure_of_accuracy=None, scoring will be used.\n",
    "        scoring='explained_variance', \n",
    "        refit=True, \n",
    "        error_score='raise', \n",
    "        return_train_score=False, \n",
    "        local_dir='~/ray_results', \n",
    "        name=None, \n",
    "        max_iters=1, \n",
    "        search_optimization='hyperopt',\n",
    "        use_gpu=False, \n",
    "        loggers=None, \n",
    "        pipeline_auto_early_stop=True, \n",
    "        stopper=None, \n",
    "        time_budget_s=None, \n",
    "        mode=None,\n",
    "        search_kwargs=None, \n",
    "\n",
    ")\n",
    ")"
   ]
  },
  {
   "cell_type": "markdown",
   "metadata": {},
   "source": [
    "#### Find feature types for later use"
   ]
  },
  {
   "cell_type": "code",
   "execution_count": 5,
   "metadata": {},
   "outputs": [],
   "source": [
    "int_cols =  X_train.select_dtypes(include=['int']).columns.tolist()\n",
    "float_cols =  X_train.select_dtypes(include=['float']).columns.tolist()\n",
    "cat_cols =  X_train.select_dtypes(include=['object']).columns.tolist()\n"
   ]
  },
  {
   "cell_type": "markdown",
   "metadata": {},
   "source": [
    "#### Define pipeline"
   ]
  },
  {
   "cell_type": "code",
   "execution_count": 6,
   "metadata": {},
   "outputs": [],
   "source": [
    "\n",
    "\n",
    "pipeline =Pipeline([\n",
    "            # int missing values imputers\n",
    "            ('intimputer', MeanMedianImputer(\n",
    "                imputation_method='median', variables=int_cols)),\n",
    "            # category missing values imputers\n",
    "            ('catimputer', CategoricalImputer(variables=cat_cols)),\n",
    "            #\n",
    "            ('catencoder', OrdinalEncoder()),\n",
    "            # feature selection\n",
    "            (\"sbsfs\", select_by_shuffling_feature_selector_factory),\n",
    "            # add any regression model from sklearn e.g., LinearRegression\n",
    "            ('regression', LinearRegression())\n",
    "\n",
    "\n",
    " ])\n",
    "\n"
   ]
  },
  {
   "cell_type": "markdown",
   "metadata": {},
   "source": [
    "#### Run Pipeline"
   ]
  },
  {
   "cell_type": "code",
   "execution_count": 7,
   "metadata": {},
   "outputs": [
    {
     "name": "stdout",
     "output_type": "stream",
     "text": [
      "2023-02-24 21:09:05,918 :: dev :: Building Best Estimator by TuneSearchCV !\n",
      "2023-02-24 21:09:05,918 :: dev :: Building Best Estimator by TuneSearchCV !\n",
      "2023-02-24 21:09:05,921 :: dev :: The optimization will be based on explained_variance metric!\n",
      "2023-02-24 21:09:05,921 :: dev :: The optimization will be based on explained_variance metric!\n",
      "2023-02-24 21:09:05,925 :: ray.tune.tune :: Initializing Ray automatically.For cluster usage or custom Ray initialization, call `ray.init(...)` before `tune.run`.\n"
     ]
    },
    {
     "name": "stderr",
     "output_type": "stream",
     "text": [
      "2023-02-24 21:09:11,333\tINFO worker.py:1538 -- Started a local Ray instance.\n"
     ]
    },
    {
     "data": {
      "text/html": [
       "<div class=\"tuneStatus\">\n",
       "  <div style=\"display: flex;flex-direction: row\">\n",
       "    <div style=\"display: flex;flex-direction: column;\">\n",
       "      <h3>Tune Status</h3>\n",
       "      <table>\n",
       "<tbody>\n",
       "<tr><td>Current time:</td><td>2023-02-24 21:10:02</td></tr>\n",
       "<tr><td>Running for: </td><td>00:00:42.25        </td></tr>\n",
       "<tr><td>Memory:      </td><td>17.2/32.0 GiB      </td></tr>\n",
       "</tbody>\n",
       "</table>\n",
       "    </div>\n",
       "    <div class=\"vDivider\"></div>\n",
       "    <div class=\"systemInfo\">\n",
       "      <h3>System Info</h3>\n",
       "      Using FIFO scheduling algorithm.<br>Resources requested: 0/8 CPUs, 0/0 GPUs, 0.0/11.04 GiB heap, 0.0/2.0 GiB objects\n",
       "    </div>\n",
       "    \n",
       "  </div>\n",
       "  <div class=\"hDivider\"></div>\n",
       "  <div class=\"trialStatus\">\n",
       "    <h3>Trial Status</h3>\n",
       "    <table>\n",
       "<thead>\n",
       "<tr><th>Trial name         </th><th>status    </th><th>loc            </th><th style=\"text-align: right;\">  max_depth</th><th style=\"text-align: right;\">  iter</th><th style=\"text-align: right;\">  total time (s)</th><th style=\"text-align: right;\">  split0_test_score</th><th style=\"text-align: right;\">  split1_test_score</th><th style=\"text-align: right;\">  split2_test_score</th></tr>\n",
       "</thead>\n",
       "<tbody>\n",
       "<tr><td>_Trainable_6c5b1d3b</td><td>TERMINATED</td><td>127.0.0.1:73913</td><td style=\"text-align: right;\">          4</td><td style=\"text-align: right;\">     1</td><td style=\"text-align: right;\">        0.173391</td><td style=\"text-align: right;\">           0.895637</td><td style=\"text-align: right;\">           0.761365</td><td style=\"text-align: right;\">            0.90719</td></tr>\n",
       "<tr><td>_Trainable_520758b2</td><td>TERMINATED</td><td>127.0.0.1:73923</td><td style=\"text-align: right;\">          5</td><td style=\"text-align: right;\">     1</td><td style=\"text-align: right;\">        0.153406</td><td style=\"text-align: right;\">           0.887395</td><td style=\"text-align: right;\">           0.777685</td><td style=\"text-align: right;\">            0.88788</td></tr>\n",
       "<tr><td>_Trainable_1edc8a68</td><td>TERMINATED</td><td>127.0.0.1:73913</td><td style=\"text-align: right;\">          4</td><td style=\"text-align: right;\">     1</td><td style=\"text-align: right;\">        0.155351</td><td style=\"text-align: right;\">           0.895637</td><td style=\"text-align: right;\">           0.761365</td><td style=\"text-align: right;\">            0.90719</td></tr>\n",
       "<tr><td>_Trainable_c3f42cb2</td><td>TERMINATED</td><td>127.0.0.1:73927</td><td style=\"text-align: right;\">          5</td><td style=\"text-align: right;\">     1</td><td style=\"text-align: right;\">        0.22261 </td><td style=\"text-align: right;\">           0.887395</td><td style=\"text-align: right;\">           0.777685</td><td style=\"text-align: right;\">            0.88788</td></tr>\n",
       "<tr><td>_Trainable_e5ba9062</td><td>TERMINATED</td><td>127.0.0.1:73928</td><td style=\"text-align: right;\">          5</td><td style=\"text-align: right;\">     1</td><td style=\"text-align: right;\">        0.202622</td><td style=\"text-align: right;\">           0.887395</td><td style=\"text-align: right;\">           0.777685</td><td style=\"text-align: right;\">            0.88788</td></tr>\n",
       "<tr><td>_Trainable_858e023b</td><td>TERMINATED</td><td>127.0.0.1:73923</td><td style=\"text-align: right;\">          5</td><td style=\"text-align: right;\">     1</td><td style=\"text-align: right;\">        0.353323</td><td style=\"text-align: right;\">           0.887395</td><td style=\"text-align: right;\">           0.777685</td><td style=\"text-align: right;\">            0.88788</td></tr>\n",
       "<tr><td>_Trainable_8a1d3f99</td><td>TERMINATED</td><td>127.0.0.1:73929</td><td style=\"text-align: right;\">          4</td><td style=\"text-align: right;\">     1</td><td style=\"text-align: right;\">        0.229659</td><td style=\"text-align: right;\">           0.895637</td><td style=\"text-align: right;\">           0.761365</td><td style=\"text-align: right;\">            0.90719</td></tr>\n",
       "<tr><td>_Trainable_2c08072d</td><td>TERMINATED</td><td>127.0.0.1:73913</td><td style=\"text-align: right;\">          4</td><td style=\"text-align: right;\">     1</td><td style=\"text-align: right;\">        0.298797</td><td style=\"text-align: right;\">           0.895637</td><td style=\"text-align: right;\">           0.761365</td><td style=\"text-align: right;\">            0.90719</td></tr>\n",
       "<tr><td>_Trainable_d31d6c6e</td><td>TERMINATED</td><td>127.0.0.1:73930</td><td style=\"text-align: right;\">          4</td><td style=\"text-align: right;\">     1</td><td style=\"text-align: right;\">        0.204116</td><td style=\"text-align: right;\">           0.895637</td><td style=\"text-align: right;\">           0.761365</td><td style=\"text-align: right;\">            0.90719</td></tr>\n",
       "<tr><td>_Trainable_561c41ba</td><td>TERMINATED</td><td>127.0.0.1:73931</td><td style=\"text-align: right;\">          4</td><td style=\"text-align: right;\">     1</td><td style=\"text-align: right;\">        0.182303</td><td style=\"text-align: right;\">           0.895637</td><td style=\"text-align: right;\">           0.761365</td><td style=\"text-align: right;\">            0.90719</td></tr>\n",
       "</tbody>\n",
       "</table>\n",
       "  </div>\n",
       "</div>\n",
       "<style>\n",
       ".tuneStatus {\n",
       "  color: var(--jp-ui-font-color1);\n",
       "}\n",
       ".tuneStatus .systemInfo {\n",
       "  display: flex;\n",
       "  flex-direction: column;\n",
       "}\n",
       ".tuneStatus td {\n",
       "  white-space: nowrap;\n",
       "}\n",
       ".tuneStatus .trialStatus {\n",
       "  display: flex;\n",
       "  flex-direction: column;\n",
       "}\n",
       ".tuneStatus h3 {\n",
       "  font-weight: bold;\n",
       "}\n",
       ".tuneStatus .hDivider {\n",
       "  border-bottom-width: var(--jp-border-width);\n",
       "  border-bottom-color: var(--jp-border-color0);\n",
       "  border-bottom-style: solid;\n",
       "}\n",
       ".tuneStatus .vDivider {\n",
       "  border-left-width: var(--jp-border-width);\n",
       "  border-left-color: var(--jp-border-color0);\n",
       "  border-left-style: solid;\n",
       "  margin: 0.5em 1em 0.5em 1em;\n",
       "}\n",
       "</style>\n"
      ],
      "text/plain": [
       "<IPython.core.display.HTML object>"
      ]
     },
     "metadata": {},
     "output_type": "display_data"
    },
    {
     "data": {
      "text/html": [
       "<div class=\"trialProgress\">\n",
       "  <h3>Trial Progress</h3>\n",
       "  <table>\n",
       "<thead>\n",
       "<tr><th>Trial name         </th><th style=\"text-align: right;\">  average_test_score</th><th>date               </th><th>done  </th><th>episodes_total  </th><th>experiment_id                   </th><th>hostname    </th><th style=\"text-align: right;\">  iterations_since_restore</th><th>node_ip  </th><th style=\"text-align: right;\">  objective</th><th style=\"text-align: right;\">  pid</th><th style=\"text-align: right;\">  split0_test_score</th><th style=\"text-align: right;\">  split1_test_score</th><th style=\"text-align: right;\">  split2_test_score</th><th style=\"text-align: right;\">  time_since_restore</th><th style=\"text-align: right;\">  time_this_iter_s</th><th style=\"text-align: right;\">  time_total_s</th><th style=\"text-align: right;\">  timestamp</th><th style=\"text-align: right;\">  timesteps_since_restore</th><th>timesteps_total  </th><th style=\"text-align: right;\">  training_iteration</th><th>trial_id  </th><th style=\"text-align: right;\">  warmup_time</th></tr>\n",
       "</thead>\n",
       "<tbody>\n",
       "<tr><td>_Trainable_1edc8a68</td><td style=\"text-align: right;\">            0.854731</td><td>2023-02-24_21-09-44</td><td>True  </td><td>                </td><td>491d0d6232f844bf9a2ec63707c8d964</td><td>hjavedani-MB</td><td style=\"text-align: right;\">                         1</td><td>127.0.0.1</td><td style=\"text-align: right;\">   0.854731</td><td style=\"text-align: right;\">73913</td><td style=\"text-align: right;\">           0.895637</td><td style=\"text-align: right;\">           0.761365</td><td style=\"text-align: right;\">            0.90719</td><td style=\"text-align: right;\">            0.155351</td><td style=\"text-align: right;\">          0.155351</td><td style=\"text-align: right;\">      0.155351</td><td style=\"text-align: right;\"> 1677301784</td><td style=\"text-align: right;\">                        0</td><td>                 </td><td style=\"text-align: right;\">                   1</td><td>1edc8a68  </td><td style=\"text-align: right;\">     0.19498 </td></tr>\n",
       "<tr><td>_Trainable_2c08072d</td><td style=\"text-align: right;\">            0.854731</td><td>2023-02-24_21-09-44</td><td>True  </td><td>                </td><td>491d0d6232f844bf9a2ec63707c8d964</td><td>hjavedani-MB</td><td style=\"text-align: right;\">                         1</td><td>127.0.0.1</td><td style=\"text-align: right;\">   0.854731</td><td style=\"text-align: right;\">73913</td><td style=\"text-align: right;\">           0.895637</td><td style=\"text-align: right;\">           0.761365</td><td style=\"text-align: right;\">            0.90719</td><td style=\"text-align: right;\">            0.298797</td><td style=\"text-align: right;\">          0.298797</td><td style=\"text-align: right;\">      0.298797</td><td style=\"text-align: right;\"> 1677301784</td><td style=\"text-align: right;\">                        0</td><td>                 </td><td style=\"text-align: right;\">                   1</td><td>2c08072d  </td><td style=\"text-align: right;\">     0.19498 </td></tr>\n",
       "<tr><td>_Trainable_520758b2</td><td style=\"text-align: right;\">            0.850987</td><td>2023-02-24_21-09-44</td><td>True  </td><td>                </td><td>0b29b1964f584b39a082136b63893f8f</td><td>hjavedani-MB</td><td style=\"text-align: right;\">                         1</td><td>127.0.0.1</td><td style=\"text-align: right;\">   0.850987</td><td style=\"text-align: right;\">73923</td><td style=\"text-align: right;\">           0.887395</td><td style=\"text-align: right;\">           0.777685</td><td style=\"text-align: right;\">            0.88788</td><td style=\"text-align: right;\">            0.153406</td><td style=\"text-align: right;\">          0.153406</td><td style=\"text-align: right;\">      0.153406</td><td style=\"text-align: right;\"> 1677301784</td><td style=\"text-align: right;\">                        0</td><td>                 </td><td style=\"text-align: right;\">                   1</td><td>520758b2  </td><td style=\"text-align: right;\">     0.153839</td></tr>\n",
       "<tr><td>_Trainable_561c41ba</td><td style=\"text-align: right;\">            0.854731</td><td>2023-02-24_21-10-01</td><td>True  </td><td>                </td><td>0e1f216f14ac4410bd387460e43e8aa4</td><td>hjavedani-MB</td><td style=\"text-align: right;\">                         1</td><td>127.0.0.1</td><td style=\"text-align: right;\">   0.854731</td><td style=\"text-align: right;\">73931</td><td style=\"text-align: right;\">           0.895637</td><td style=\"text-align: right;\">           0.761365</td><td style=\"text-align: right;\">            0.90719</td><td style=\"text-align: right;\">            0.182303</td><td style=\"text-align: right;\">          0.182303</td><td style=\"text-align: right;\">      0.182303</td><td style=\"text-align: right;\"> 1677301801</td><td style=\"text-align: right;\">                        0</td><td>                 </td><td style=\"text-align: right;\">                   1</td><td>561c41ba  </td><td style=\"text-align: right;\">     0.239339</td></tr>\n",
       "<tr><td>_Trainable_6c5b1d3b</td><td style=\"text-align: right;\">            0.854731</td><td>2023-02-24_21-09-32</td><td>True  </td><td>                </td><td>491d0d6232f844bf9a2ec63707c8d964</td><td>hjavedani-MB</td><td style=\"text-align: right;\">                         1</td><td>127.0.0.1</td><td style=\"text-align: right;\">   0.854731</td><td style=\"text-align: right;\">73913</td><td style=\"text-align: right;\">           0.895637</td><td style=\"text-align: right;\">           0.761365</td><td style=\"text-align: right;\">            0.90719</td><td style=\"text-align: right;\">            0.173391</td><td style=\"text-align: right;\">          0.173391</td><td style=\"text-align: right;\">      0.173391</td><td style=\"text-align: right;\"> 1677301772</td><td style=\"text-align: right;\">                        0</td><td>                 </td><td style=\"text-align: right;\">                   1</td><td>6c5b1d3b  </td><td style=\"text-align: right;\">     0.19498 </td></tr>\n",
       "<tr><td>_Trainable_858e023b</td><td style=\"text-align: right;\">            0.850987</td><td>2023-02-24_21-09-44</td><td>True  </td><td>                </td><td>0b29b1964f584b39a082136b63893f8f</td><td>hjavedani-MB</td><td style=\"text-align: right;\">                         1</td><td>127.0.0.1</td><td style=\"text-align: right;\">   0.850987</td><td style=\"text-align: right;\">73923</td><td style=\"text-align: right;\">           0.887395</td><td style=\"text-align: right;\">           0.777685</td><td style=\"text-align: right;\">            0.88788</td><td style=\"text-align: right;\">            0.353323</td><td style=\"text-align: right;\">          0.353323</td><td style=\"text-align: right;\">      0.353323</td><td style=\"text-align: right;\"> 1677301784</td><td style=\"text-align: right;\">                        0</td><td>                 </td><td style=\"text-align: right;\">                   1</td><td>858e023b  </td><td style=\"text-align: right;\">     0.153839</td></tr>\n",
       "<tr><td>_Trainable_8a1d3f99</td><td style=\"text-align: right;\">            0.854731</td><td>2023-02-24_21-10-02</td><td>True  </td><td>                </td><td>031a584a288a4cada7b0c5ae57b45207</td><td>hjavedani-MB</td><td style=\"text-align: right;\">                         1</td><td>127.0.0.1</td><td style=\"text-align: right;\">   0.854731</td><td style=\"text-align: right;\">73929</td><td style=\"text-align: right;\">           0.895637</td><td style=\"text-align: right;\">           0.761365</td><td style=\"text-align: right;\">            0.90719</td><td style=\"text-align: right;\">            0.229659</td><td style=\"text-align: right;\">          0.229659</td><td style=\"text-align: right;\">      0.229659</td><td style=\"text-align: right;\"> 1677301802</td><td style=\"text-align: right;\">                        0</td><td>                 </td><td style=\"text-align: right;\">                   1</td><td>8a1d3f99  </td><td style=\"text-align: right;\">     0.176193</td></tr>\n",
       "<tr><td>_Trainable_c3f42cb2</td><td style=\"text-align: right;\">            0.850987</td><td>2023-02-24_21-10-01</td><td>True  </td><td>                </td><td>146e82ccd7464e29866db65b47050b5d</td><td>hjavedani-MB</td><td style=\"text-align: right;\">                         1</td><td>127.0.0.1</td><td style=\"text-align: right;\">   0.850987</td><td style=\"text-align: right;\">73927</td><td style=\"text-align: right;\">           0.887395</td><td style=\"text-align: right;\">           0.777685</td><td style=\"text-align: right;\">            0.88788</td><td style=\"text-align: right;\">            0.22261 </td><td style=\"text-align: right;\">          0.22261 </td><td style=\"text-align: right;\">      0.22261 </td><td style=\"text-align: right;\"> 1677301801</td><td style=\"text-align: right;\">                        0</td><td>                 </td><td style=\"text-align: right;\">                   1</td><td>c3f42cb2  </td><td style=\"text-align: right;\">     0.287544</td></tr>\n",
       "<tr><td>_Trainable_d31d6c6e</td><td style=\"text-align: right;\">            0.854731</td><td>2023-02-24_21-10-01</td><td>True  </td><td>                </td><td>de13c950708049c0aeaeb1711a132a2d</td><td>hjavedani-MB</td><td style=\"text-align: right;\">                         1</td><td>127.0.0.1</td><td style=\"text-align: right;\">   0.854731</td><td style=\"text-align: right;\">73930</td><td style=\"text-align: right;\">           0.895637</td><td style=\"text-align: right;\">           0.761365</td><td style=\"text-align: right;\">            0.90719</td><td style=\"text-align: right;\">            0.204116</td><td style=\"text-align: right;\">          0.204116</td><td style=\"text-align: right;\">      0.204116</td><td style=\"text-align: right;\"> 1677301801</td><td style=\"text-align: right;\">                        0</td><td>                 </td><td style=\"text-align: right;\">                   1</td><td>d31d6c6e  </td><td style=\"text-align: right;\">     0.279793</td></tr>\n",
       "<tr><td>_Trainable_e5ba9062</td><td style=\"text-align: right;\">            0.850987</td><td>2023-02-24_21-10-01</td><td>True  </td><td>                </td><td>bd85432aadec4bdba03c2f75383b475c</td><td>hjavedani-MB</td><td style=\"text-align: right;\">                         1</td><td>127.0.0.1</td><td style=\"text-align: right;\">   0.850987</td><td style=\"text-align: right;\">73928</td><td style=\"text-align: right;\">           0.887395</td><td style=\"text-align: right;\">           0.777685</td><td style=\"text-align: right;\">            0.88788</td><td style=\"text-align: right;\">            0.202622</td><td style=\"text-align: right;\">          0.202622</td><td style=\"text-align: right;\">      0.202622</td><td style=\"text-align: right;\"> 1677301801</td><td style=\"text-align: right;\">                        0</td><td>                 </td><td style=\"text-align: right;\">                   1</td><td>e5ba9062  </td><td style=\"text-align: right;\">     0.259213</td></tr>\n",
       "</tbody>\n",
       "</table>\n",
       "</div>\n",
       "<style>\n",
       ".trialProgress {\n",
       "  display: flex;\n",
       "  flex-direction: column;\n",
       "  color: var(--jp-ui-font-color1);\n",
       "}\n",
       ".trialProgress h3 {\n",
       "  font-weight: bold;\n",
       "}\n",
       ".trialProgress td {\n",
       "  white-space: nowrap;\n",
       "}\n",
       "</style>\n"
      ],
      "text/plain": [
       "<IPython.core.display.HTML object>"
      ]
     },
     "metadata": {},
     "output_type": "display_data"
    },
    {
     "name": "stderr",
     "output_type": "stream",
     "text": [
      "2023-02-24 21:10:02,499\tINFO tune.py:762 -- Total run time: 46.52 seconds (42.21 seconds for the tuning loop).\n",
      "/Users/hjavedani/Documents/zoish/.venv/lib/python3.10/site-packages/sklearn/utils/validation.py:1111: DataConversionWarning: A column-vector y was passed when a 1d array was expected. Please change the shape of y to (n_samples, ), for example using ravel().\n",
      "  y = column_or_1d(y, warn=True)\n"
     ]
    },
    {
     "name": "stdout",
     "output_type": "stream",
     "text": [
      "['vendor name', 'Model Name', 'CHMIN']\n",
      "{'vendor name': -0.010591318144849038, 'Model Name': 0.0029131413785535853, 'MYCT': 0.03760482972145718, 'MMIN': 0.6904471284116217, 'MMAX': 0.030860577749235785, 'CACH': 0.03472517626928573, 'CHMIN': 0.006465260752226976, 'CHMAX': 0.1902390645624934}\n",
      "dict_keys(['MYCT', 'MMIN', 'MMAX', 'CACH', 'CHMAX'])\n",
      "       0         1\n",
      "0   MYCT  0.037605\n",
      "1   MMIN  0.690447\n",
      "2   MMAX  0.030861\n",
      "3   CACH  0.034725\n",
      "4  CHMAX  0.190239\n",
      "['CACH', 'MYCT', 'MMAX', 'CHMAX', 'MMIN']\n"
     ]
    }
   ],
   "source": [
    "pipeline.fit(X_train,y_train)\n",
    "y_pred = pipeline.predict(X_test)\n"
   ]
  },
  {
   "cell_type": "markdown",
   "metadata": {},
   "source": [
    "#### plot"
   ]
  },
  {
   "cell_type": "code",
   "execution_count": 8,
   "metadata": {},
   "outputs": [
    {
     "data": {
      "image/png": "[encoded data removed]",
      "text/plain": [
       "<Figure size 432x288 with 1 Axes>"
      ]
     },
     "metadata": {
      "needs_background": "light"
     },
     "output_type": "display_data"
    },
    {
     "data": {
      "text/html": [
       "<style>#sk-container-id-1 {color: black;background-color: white;}#sk-container-id-1 pre{padding: 0;}#sk-container-id-1 div.sk-toggleable {background-color: white;}#sk-container-id-1 label.sk-toggleable__label {cursor: pointer;display: block;width: 100%;margin-bottom: 0;padding: 0.3em;box-sizing: border-box;text-align: center;}#sk-container-id-1 label.sk-toggleable__label-arrow:before {content: \"▸\";float: left;margin-right: 0.25em;color: #696969;}#sk-container-id-1 label.sk-toggleable__label-arrow:hover:before {color: black;}#sk-container-id-1 div.sk-estimator:hover label.sk-toggleable__label-arrow:before {color: black;}#sk-container-id-1 div.sk-toggleable__content {max-height: 0;max-width: 0;overflow: hidden;text-align: left;background-color: #f0f8ff;}#sk-container-id-1 div.sk-toggleable__content pre {margin: 0.2em;color: black;border-radius: 0.25em;background-color: #f0f8ff;}#sk-container-id-1 input.sk-toggleable__control:checked~div.sk-toggleable__content {max-height: 200px;max-width: 100%;overflow: auto;}#sk-container-id-1 input.sk-toggleable__control:checked~label.sk-toggleable__label-arrow:before {content: \"▾\";}#sk-container-id-1 div.sk-estimator input.sk-toggleable__control:checked~label.sk-toggleable__label {background-color: #d4ebff;}#sk-container-id-1 div.sk-label input.sk-toggleable__control:checked~label.sk-toggleable__label {background-color: #d4ebff;}#sk-container-id-1 input.sk-hidden--visually {border: 0;clip: rect(1px 1px 1px 1px);clip: rect(1px, 1px, 1px, 1px);height: 1px;margin: -1px;overflow: hidden;padding: 0;position: absolute;width: 1px;}#sk-container-id-1 div.sk-estimator {font-family: monospace;background-color: #f0f8ff;border: 1px dotted black;border-radius: 0.25em;box-sizing: border-box;margin-bottom: 0.5em;}#sk-container-id-1 div.sk-estimator:hover {background-color: #d4ebff;}#sk-container-id-1 div.sk-parallel-item::after {content: \"\";width: 100%;border-bottom: 1px solid gray;flex-grow: 1;}#sk-container-id-1 div.sk-label:hover label.sk-toggleable__label {background-color: #d4ebff;}#sk-container-id-1 div.sk-serial::before {content: \"\";position: absolute;border-left: 1px solid gray;box-sizing: border-box;top: 0;bottom: 0;left: 50%;z-index: 0;}#sk-container-id-1 div.sk-serial {display: flex;flex-direction: column;align-items: center;background-color: white;padding-right: 0.2em;padding-left: 0.2em;position: relative;}#sk-container-id-1 div.sk-item {position: relative;z-index: 1;}#sk-container-id-1 div.sk-parallel {display: flex;align-items: stretch;justify-content: center;background-color: white;position: relative;}#sk-container-id-1 div.sk-item::before, #sk-container-id-1 div.sk-parallel-item::before {content: \"\";position: absolute;border-left: 1px solid gray;box-sizing: border-box;top: 0;bottom: 0;left: 50%;z-index: -1;}#sk-container-id-1 div.sk-parallel-item {display: flex;flex-direction: column;z-index: 1;position: relative;background-color: white;}#sk-container-id-1 div.sk-parallel-item:first-child::after {align-self: flex-end;width: 50%;}#sk-container-id-1 div.sk-parallel-item:last-child::after {align-self: flex-start;width: 50%;}#sk-container-id-1 div.sk-parallel-item:only-child::after {width: 0;}#sk-container-id-1 div.sk-dashed-wrapped {border: 1px dashed gray;margin: 0 0.4em 0.5em 0.4em;box-sizing: border-box;padding-bottom: 0.4em;background-color: white;}#sk-container-id-1 div.sk-label label {font-family: monospace;font-weight: bold;display: inline-block;line-height: 1.2em;}#sk-container-id-1 div.sk-label-container {text-align: center;}#sk-container-id-1 div.sk-container {/* jupyter's `normalize.less` sets `[hidden] { display: none; }` but bootstrap.min.css set `[hidden] { display: none !important; }` so we also need the `!important` here to be able to override the default hidden behavior on the sphinx rendered scikit-learn.org. See: https://github.com/scikit-learn/scikit-learn/issues/21755 */display: inline-block !important;position: relative;}#sk-container-id-1 div.sk-text-repr-fallback {display: none;}</style><div id=\"sk-container-id-1\" class=\"sk-top-container\"><div class=\"sk-text-repr-fallback\"><pre>SelectByShufflingFeatureSelector(X=               vendor name  Model Name  MYCT   MMIN  MMAX  CACH  CHMIN  CHMAX\n",
       "cdc          cyber:170/845          64  5240  20970    30    12     24    208\n",
       "c.r.d      universe:68/137         320   512   5000     4     1      5     77\n",
       "cambex             1641-11          50  2000  16000     8     3      6     52\n",
       "ibm                4341-12         185  2000  16000    16     1      6     76\n",
       "ibm                 3083:e          26  8000  16000     0     8     16    185\n",
       "...                    ...         ...   ...    ...   ...   ...    ...    ...\n",
       "ibm                   38/8         400  4000   8000     0     1      1     32\n",
       "bti                   5000         350    64     64     0     1      4     10\n",
       "honeywell         dps:8/20         140  2000   4000     8     1     20     22\n",
       "prime            50-750-...\n",
       "                                 local_dir=&#x27;~/ray_results&#x27;, max_iters=1,\n",
       "                                 method=&#x27;tunesearch&#x27;, n_features=5, n_trials=10,\n",
       "                                 pipeline_auto_early_stop=True, random_state=0,\n",
       "                                 refit=True, return_train_score=False,\n",
       "                                 scoring=&#x27;explained_variance&#x27;,\n",
       "                                 search_optimization=&#x27;hyperopt&#x27;, threshold=0.02,\n",
       "                                 use_gpu=False, verbose=3,\n",
       "                                 y=           PRP\n",
       "cdc        136\n",
       "c.r.d       28\n",
       "cambex      74\n",
       "ibm         76\n",
       "ibm        113\n",
       "...        ...\n",
       "ibm         45\n",
       "bti         15\n",
       "honeywell   32\n",
       "prime       43\n",
       "ibm         18\n",
       "\n",
       "[140 rows x 1 columns])</pre><b>In a Jupyter environment, please rerun this cell to show the HTML representation or trust the notebook. <br />On GitHub, the HTML representation is unable to render, please try loading this page with nbviewer.org.</b></div><div class=\"sk-container\" hidden><div class=\"sk-item sk-dashed-wrapped\"><div class=\"sk-label-container\"><div class=\"sk-label sk-toggleable\"><input class=\"sk-toggleable__control sk-hidden--visually\" id=\"sk-estimator-id-1\" type=\"checkbox\" ><label for=\"sk-estimator-id-1\" class=\"sk-toggleable__label sk-toggleable__label-arrow\">SelectByShufflingFeatureSelector</label><div class=\"sk-toggleable__content\"><pre>SelectByShufflingFeatureSelector(X=               vendor name  Model Name  MYCT   MMIN  MMAX  CACH  CHMIN  CHMAX\n",
       "cdc          cyber:170/845          64  5240  20970    30    12     24    208\n",
       "c.r.d      universe:68/137         320   512   5000     4     1      5     77\n",
       "cambex             1641-11          50  2000  16000     8     3      6     52\n",
       "ibm                4341-12         185  2000  16000    16     1      6     76\n",
       "ibm                 3083:e          26  8000  16000     0     8     16    185\n",
       "...                    ...         ...   ...    ...   ...   ...    ...    ...\n",
       "ibm                   38/8         400  4000   8000     0     1      1     32\n",
       "bti                   5000         350    64     64     0     1      4     10\n",
       "honeywell         dps:8/20         140  2000   4000     8     1     20     22\n",
       "prime            50-750-...\n",
       "                                 local_dir=&#x27;~/ray_results&#x27;, max_iters=1,\n",
       "                                 method=&#x27;tunesearch&#x27;, n_features=5, n_trials=10,\n",
       "                                 pipeline_auto_early_stop=True, random_state=0,\n",
       "                                 refit=True, return_train_score=False,\n",
       "                                 scoring=&#x27;explained_variance&#x27;,\n",
       "                                 search_optimization=&#x27;hyperopt&#x27;, threshold=0.02,\n",
       "                                 use_gpu=False, verbose=3,\n",
       "                                 y=           PRP\n",
       "cdc        136\n",
       "c.r.d       28\n",
       "cambex      74\n",
       "ibm         76\n",
       "ibm        113\n",
       "...        ...\n",
       "ibm         45\n",
       "bti         15\n",
       "honeywell   32\n",
       "prime       43\n",
       "ibm         18\n",
       "\n",
       "[140 rows x 1 columns])</pre></div></div></div><div class=\"sk-parallel\"><div class=\"sk-parallel-item\"><div class=\"sk-item\"><div class=\"sk-label-container\"><div class=\"sk-label sk-toggleable\"><input class=\"sk-toggleable__control sk-hidden--visually\" id=\"sk-estimator-id-2\" type=\"checkbox\" ><label for=\"sk-estimator-id-2\" class=\"sk-toggleable__label sk-toggleable__label-arrow\">estimator: XGBRegressor</label><div class=\"sk-toggleable__content\"><pre>XGBRegressor(base_score=None, booster=None, callbacks=None,\n",
       "             colsample_bylevel=None, colsample_bynode=None,\n",
       "             colsample_bytree=None, early_stopping_rounds=None,\n",
       "             enable_categorical=False, eval_metric=None, gamma=None,\n",
       "             gpu_id=None, grow_policy=None, importance_type=None,\n",
       "             interaction_constraints=None, learning_rate=None, max_bin=None,\n",
       "             max_cat_to_onehot=None, max_delta_step=None, max_depth=None,\n",
       "             max_leaves=None, min_child_weight=None, missing=nan,\n",
       "             monotone_constraints=None, n_estimators=100, n_jobs=None,\n",
       "             num_parallel_tree=None, predictor=None, random_state=None,\n",
       "             reg_alpha=None, reg_lambda=None, ...)</pre></div></div></div><div class=\"sk-serial\"><div class=\"sk-item\"><div class=\"sk-estimator sk-toggleable\"><input class=\"sk-toggleable__control sk-hidden--visually\" id=\"sk-estimator-id-3\" type=\"checkbox\" ><label for=\"sk-estimator-id-3\" class=\"sk-toggleable__label sk-toggleable__label-arrow\">XGBRegressor</label><div class=\"sk-toggleable__content\"><pre>XGBRegressor(base_score=None, booster=None, callbacks=None,\n",
       "             colsample_bylevel=None, colsample_bynode=None,\n",
       "             colsample_bytree=None, early_stopping_rounds=None,\n",
       "             enable_categorical=False, eval_metric=None, gamma=None,\n",
       "             gpu_id=None, grow_policy=None, importance_type=None,\n",
       "             interaction_constraints=None, learning_rate=None, max_bin=None,\n",
       "             max_cat_to_onehot=None, max_delta_step=None, max_depth=None,\n",
       "             max_leaves=None, min_child_weight=None, missing=nan,\n",
       "             monotone_constraints=None, n_estimators=100, n_jobs=None,\n",
       "             num_parallel_tree=None, predictor=None, random_state=None,\n",
       "             reg_alpha=None, reg_lambda=None, ...)</pre></div></div></div></div></div></div></div></div></div></div>"
      ],
      "text/plain": [
       "SelectByShufflingFeatureSelector(X=               vendor name  Model Name  MYCT   MMIN  MMAX  CACH  CHMIN  CHMAX\n",
       "cdc          cyber:170/845          64  5240  20970    30    12     24    208\n",
       "c.r.d      universe:68/137         320   512   5000     4     1      5     77\n",
       "cambex             1641-11          50  2000  16000     8     3      6     52\n",
       "ibm                4341-12         185  2000  16000    16     1      6     76\n",
       "ibm                 3083:e          26  8000  16000     0     8     16    185\n",
       "...                    ...         ...   ...    ...   ...   ...    ...    ...\n",
       "ibm                   38/8         400  4000   8000     0     1      1     32\n",
       "bti                   5000         350    64     64     0     1      4     10\n",
       "honeywell         dps:8/20         140  2000   4000     8     1     20     22\n",
       "prime            50-750-...\n",
       "                                 local_dir='~/ray_results', max_iters=1,\n",
       "                                 method='tunesearch', n_features=5, n_trials=10,\n",
       "                                 pipeline_auto_early_stop=True, random_state=0,\n",
       "                                 refit=True, return_train_score=False,\n",
       "                                 scoring='explained_variance',\n",
       "                                 search_optimization='hyperopt', threshold=0.02,\n",
       "                                 use_gpu=False, verbose=3,\n",
       "                                 y=           PRP\n",
       "cdc        136\n",
       "c.r.d       28\n",
       "cambex      74\n",
       "ibm         76\n",
       "ibm        113\n",
       "...        ...\n",
       "ibm         45\n",
       "bti         15\n",
       "honeywell   32\n",
       "prime       43\n",
       "ibm         18\n",
       "\n",
       "[140 rows x 1 columns])"
      ]
     },
     "execution_count": 8,
     "metadata": {},
     "output_type": "execute_result"
    }
   ],
   "source": [
    "SelectByShufflingFeatureSelector.select_by_shuffling_selector_factory.plot_features_all(\n",
    "    path_to_save_plot=\"../plots/single_random_search_classification\"\n",
    ")\n"
   ]
  },
  {
   "cell_type": "markdown",
   "metadata": {},
   "source": [
    "#### Check performance of the Pipeline"
   ]
  },
  {
   "cell_type": "code",
   "execution_count": 9,
   "metadata": {},
   "outputs": [
    {
     "name": "stdout",
     "output_type": "stream",
     "text": [
      "r2 score : \n",
      "0.9199440731541878\n"
     ]
    }
   ],
   "source": [
    "print('r2 score : ')\n",
    "print(r2_score(y_test,y_pred))\n"
   ]
  },
  {
   "cell_type": "markdown",
   "metadata": {},
   "source": [
    "#### Get list of features and grades"
   ]
  },
  {
   "cell_type": "code",
   "execution_count": 10,
   "metadata": {},
   "outputs": [
    {
     "name": "stdout",
     "output_type": "stream",
     "text": [
      "list of selected features+list of obligatory features that must be in                 model-list of features to drop before any selection               ['CACH', 'MYCT', 'MMAX', 'CHMAX', 'MMIN']\n",
      "list of selected features and their grades\n",
      "---------------------------------------------------------\n",
      "  column_name feature_importance\n",
      "1        MMIN           0.690447\n",
      "4       CHMAX           0.190239\n",
      "0        MYCT           0.037605\n",
      "3        CACH           0.034725\n",
      "2        MMAX           0.030861\n",
      "Note: list of obligatory features that must be in model-list of                         features to drop before any selection also has considered !\n"
     ]
    },
    {
     "data": {
      "text/html": [
       "<style>#sk-container-id-2 {color: black;background-color: white;}#sk-container-id-2 pre{padding: 0;}#sk-container-id-2 div.sk-toggleable {background-color: white;}#sk-container-id-2 label.sk-toggleable__label {cursor: pointer;display: block;width: 100%;margin-bottom: 0;padding: 0.3em;box-sizing: border-box;text-align: center;}#sk-container-id-2 label.sk-toggleable__label-arrow:before {content: \"▸\";float: left;margin-right: 0.25em;color: #696969;}#sk-container-id-2 label.sk-toggleable__label-arrow:hover:before {color: black;}#sk-container-id-2 div.sk-estimator:hover label.sk-toggleable__label-arrow:before {color: black;}#sk-container-id-2 div.sk-toggleable__content {max-height: 0;max-width: 0;overflow: hidden;text-align: left;background-color: #f0f8ff;}#sk-container-id-2 div.sk-toggleable__content pre {margin: 0.2em;color: black;border-radius: 0.25em;background-color: #f0f8ff;}#sk-container-id-2 input.sk-toggleable__control:checked~div.sk-toggleable__content {max-height: 200px;max-width: 100%;overflow: auto;}#sk-container-id-2 input.sk-toggleable__control:checked~label.sk-toggleable__label-arrow:before {content: \"▾\";}#sk-container-id-2 div.sk-estimator input.sk-toggleable__control:checked~label.sk-toggleable__label {background-color: #d4ebff;}#sk-container-id-2 div.sk-label input.sk-toggleable__control:checked~label.sk-toggleable__label {background-color: #d4ebff;}#sk-container-id-2 input.sk-hidden--visually {border: 0;clip: rect(1px 1px 1px 1px);clip: rect(1px, 1px, 1px, 1px);height: 1px;margin: -1px;overflow: hidden;padding: 0;position: absolute;width: 1px;}#sk-container-id-2 div.sk-estimator {font-family: monospace;background-color: #f0f8ff;border: 1px dotted black;border-radius: 0.25em;box-sizing: border-box;margin-bottom: 0.5em;}#sk-container-id-2 div.sk-estimator:hover {background-color: #d4ebff;}#sk-container-id-2 div.sk-parallel-item::after {content: \"\";width: 100%;border-bottom: 1px solid gray;flex-grow: 1;}#sk-container-id-2 div.sk-label:hover label.sk-toggleable__label {background-color: #d4ebff;}#sk-container-id-2 div.sk-serial::before {content: \"\";position: absolute;border-left: 1px solid gray;box-sizing: border-box;top: 0;bottom: 0;left: 50%;z-index: 0;}#sk-container-id-2 div.sk-serial {display: flex;flex-direction: column;align-items: center;background-color: white;padding-right: 0.2em;padding-left: 0.2em;position: relative;}#sk-container-id-2 div.sk-item {position: relative;z-index: 1;}#sk-container-id-2 div.sk-parallel {display: flex;align-items: stretch;justify-content: center;background-color: white;position: relative;}#sk-container-id-2 div.sk-item::before, #sk-container-id-2 div.sk-parallel-item::before {content: \"\";position: absolute;border-left: 1px solid gray;box-sizing: border-box;top: 0;bottom: 0;left: 50%;z-index: -1;}#sk-container-id-2 div.sk-parallel-item {display: flex;flex-direction: column;z-index: 1;position: relative;background-color: white;}#sk-container-id-2 div.sk-parallel-item:first-child::after {align-self: flex-end;width: 50%;}#sk-container-id-2 div.sk-parallel-item:last-child::after {align-self: flex-start;width: 50%;}#sk-container-id-2 div.sk-parallel-item:only-child::after {width: 0;}#sk-container-id-2 div.sk-dashed-wrapped {border: 1px dashed gray;margin: 0 0.4em 0.5em 0.4em;box-sizing: border-box;padding-bottom: 0.4em;background-color: white;}#sk-container-id-2 div.sk-label label {font-family: monospace;font-weight: bold;display: inline-block;line-height: 1.2em;}#sk-container-id-2 div.sk-label-container {text-align: center;}#sk-container-id-2 div.sk-container {/* jupyter's `normalize.less` sets `[hidden] { display: none; }` but bootstrap.min.css set `[hidden] { display: none !important; }` so we also need the `!important` here to be able to override the default hidden behavior on the sphinx rendered scikit-learn.org. See: https://github.com/scikit-learn/scikit-learn/issues/21755 */display: inline-block !important;position: relative;}#sk-container-id-2 div.sk-text-repr-fallback {display: none;}</style><div id=\"sk-container-id-2\" class=\"sk-top-container\"><div class=\"sk-text-repr-fallback\"><pre>SelectByShufflingFeatureSelector(X=               vendor name  Model Name  MYCT   MMIN  MMAX  CACH  CHMIN  CHMAX\n",
       "cdc          cyber:170/845          64  5240  20970    30    12     24    208\n",
       "c.r.d      universe:68/137         320   512   5000     4     1      5     77\n",
       "cambex             1641-11          50  2000  16000     8     3      6     52\n",
       "ibm                4341-12         185  2000  16000    16     1      6     76\n",
       "ibm                 3083:e          26  8000  16000     0     8     16    185\n",
       "...                    ...         ...   ...    ...   ...   ...    ...    ...\n",
       "ibm                   38/8         400  4000   8000     0     1      1     32\n",
       "bti                   5000         350    64     64     0     1      4     10\n",
       "honeywell         dps:8/20         140  2000   4000     8     1     20     22\n",
       "prime            50-750-...\n",
       "                                 local_dir=&#x27;~/ray_results&#x27;, max_iters=1,\n",
       "                                 method=&#x27;tunesearch&#x27;, n_features=5, n_trials=10,\n",
       "                                 pipeline_auto_early_stop=True, random_state=0,\n",
       "                                 refit=True, return_train_score=False,\n",
       "                                 scoring=&#x27;explained_variance&#x27;,\n",
       "                                 search_optimization=&#x27;hyperopt&#x27;, threshold=0.02,\n",
       "                                 use_gpu=False, verbose=3,\n",
       "                                 y=           PRP\n",
       "cdc        136\n",
       "c.r.d       28\n",
       "cambex      74\n",
       "ibm         76\n",
       "ibm        113\n",
       "...        ...\n",
       "ibm         45\n",
       "bti         15\n",
       "honeywell   32\n",
       "prime       43\n",
       "ibm         18\n",
       "\n",
       "[140 rows x 1 columns])</pre><b>In a Jupyter environment, please rerun this cell to show the HTML representation or trust the notebook. <br />On GitHub, the HTML representation is unable to render, please try loading this page with nbviewer.org.</b></div><div class=\"sk-container\" hidden><div class=\"sk-item sk-dashed-wrapped\"><div class=\"sk-label-container\"><div class=\"sk-label sk-toggleable\"><input class=\"sk-toggleable__control sk-hidden--visually\" id=\"sk-estimator-id-4\" type=\"checkbox\" ><label for=\"sk-estimator-id-4\" class=\"sk-toggleable__label sk-toggleable__label-arrow\">SelectByShufflingFeatureSelector</label><div class=\"sk-toggleable__content\"><pre>SelectByShufflingFeatureSelector(X=               vendor name  Model Name  MYCT   MMIN  MMAX  CACH  CHMIN  CHMAX\n",
       "cdc          cyber:170/845          64  5240  20970    30    12     24    208\n",
       "c.r.d      universe:68/137         320   512   5000     4     1      5     77\n",
       "cambex             1641-11          50  2000  16000     8     3      6     52\n",
       "ibm                4341-12         185  2000  16000    16     1      6     76\n",
       "ibm                 3083:e          26  8000  16000     0     8     16    185\n",
       "...                    ...         ...   ...    ...   ...   ...    ...    ...\n",
       "ibm                   38/8         400  4000   8000     0     1      1     32\n",
       "bti                   5000         350    64     64     0     1      4     10\n",
       "honeywell         dps:8/20         140  2000   4000     8     1     20     22\n",
       "prime            50-750-...\n",
       "                                 local_dir=&#x27;~/ray_results&#x27;, max_iters=1,\n",
       "                                 method=&#x27;tunesearch&#x27;, n_features=5, n_trials=10,\n",
       "                                 pipeline_auto_early_stop=True, random_state=0,\n",
       "                                 refit=True, return_train_score=False,\n",
       "                                 scoring=&#x27;explained_variance&#x27;,\n",
       "                                 search_optimization=&#x27;hyperopt&#x27;, threshold=0.02,\n",
       "                                 use_gpu=False, verbose=3,\n",
       "                                 y=           PRP\n",
       "cdc        136\n",
       "c.r.d       28\n",
       "cambex      74\n",
       "ibm         76\n",
       "ibm        113\n",
       "...        ...\n",
       "ibm         45\n",
       "bti         15\n",
       "honeywell   32\n",
       "prime       43\n",
       "ibm         18\n",
       "\n",
       "[140 rows x 1 columns])</pre></div></div></div><div class=\"sk-parallel\"><div class=\"sk-parallel-item\"><div class=\"sk-item\"><div class=\"sk-label-container\"><div class=\"sk-label sk-toggleable\"><input class=\"sk-toggleable__control sk-hidden--visually\" id=\"sk-estimator-id-5\" type=\"checkbox\" ><label for=\"sk-estimator-id-5\" class=\"sk-toggleable__label sk-toggleable__label-arrow\">estimator: XGBRegressor</label><div class=\"sk-toggleable__content\"><pre>XGBRegressor(base_score=None, booster=None, callbacks=None,\n",
       "             colsample_bylevel=None, colsample_bynode=None,\n",
       "             colsample_bytree=None, early_stopping_rounds=None,\n",
       "             enable_categorical=False, eval_metric=None, gamma=None,\n",
       "             gpu_id=None, grow_policy=None, importance_type=None,\n",
       "             interaction_constraints=None, learning_rate=None, max_bin=None,\n",
       "             max_cat_to_onehot=None, max_delta_step=None, max_depth=None,\n",
       "             max_leaves=None, min_child_weight=None, missing=nan,\n",
       "             monotone_constraints=None, n_estimators=100, n_jobs=None,\n",
       "             num_parallel_tree=None, predictor=None, random_state=None,\n",
       "             reg_alpha=None, reg_lambda=None, ...)</pre></div></div></div><div class=\"sk-serial\"><div class=\"sk-item\"><div class=\"sk-estimator sk-toggleable\"><input class=\"sk-toggleable__control sk-hidden--visually\" id=\"sk-estimator-id-6\" type=\"checkbox\" ><label for=\"sk-estimator-id-6\" class=\"sk-toggleable__label sk-toggleable__label-arrow\">XGBRegressor</label><div class=\"sk-toggleable__content\"><pre>XGBRegressor(base_score=None, booster=None, callbacks=None,\n",
       "             colsample_bylevel=None, colsample_bynode=None,\n",
       "             colsample_bytree=None, early_stopping_rounds=None,\n",
       "             enable_categorical=False, eval_metric=None, gamma=None,\n",
       "             gpu_id=None, grow_policy=None, importance_type=None,\n",
       "             interaction_constraints=None, learning_rate=None, max_bin=None,\n",
       "             max_cat_to_onehot=None, max_delta_step=None, max_depth=None,\n",
       "             max_leaves=None, min_child_weight=None, missing=nan,\n",
       "             monotone_constraints=None, n_estimators=100, n_jobs=None,\n",
       "             num_parallel_tree=None, predictor=None, random_state=None,\n",
       "             reg_alpha=None, reg_lambda=None, ...)</pre></div></div></div></div></div></div></div></div></div></div>"
      ],
      "text/plain": [
       "SelectByShufflingFeatureSelector(X=               vendor name  Model Name  MYCT   MMIN  MMAX  CACH  CHMIN  CHMAX\n",
       "cdc          cyber:170/845          64  5240  20970    30    12     24    208\n",
       "c.r.d      universe:68/137         320   512   5000     4     1      5     77\n",
       "cambex             1641-11          50  2000  16000     8     3      6     52\n",
       "ibm                4341-12         185  2000  16000    16     1      6     76\n",
       "ibm                 3083:e          26  8000  16000     0     8     16    185\n",
       "...                    ...         ...   ...    ...   ...   ...    ...    ...\n",
       "ibm                   38/8         400  4000   8000     0     1      1     32\n",
       "bti                   5000         350    64     64     0     1      4     10\n",
       "honeywell         dps:8/20         140  2000   4000     8     1     20     22\n",
       "prime            50-750-...\n",
       "                                 local_dir='~/ray_results', max_iters=1,\n",
       "                                 method='tunesearch', n_features=5, n_trials=10,\n",
       "                                 pipeline_auto_early_stop=True, random_state=0,\n",
       "                                 refit=True, return_train_score=False,\n",
       "                                 scoring='explained_variance',\n",
       "                                 search_optimization='hyperopt', threshold=0.02,\n",
       "                                 use_gpu=False, verbose=3,\n",
       "                                 y=           PRP\n",
       "cdc        136\n",
       "c.r.d       28\n",
       "cambex      74\n",
       "ibm         76\n",
       "ibm        113\n",
       "...        ...\n",
       "ibm         45\n",
       "bti         15\n",
       "honeywell   32\n",
       "prime       43\n",
       "ibm         18\n",
       "\n",
       "[140 rows x 1 columns])"
      ]
     },
     "execution_count": 10,
     "metadata": {},
     "output_type": "execute_result"
    }
   ],
   "source": [
    "SelectByShufflingFeatureSelector.select_by_shuffling_selector_factory.get_info_of_features_and_grades()"
   ]
  },
  {
   "cell_type": "markdown",
   "metadata": {},
   "source": [
    "#### Only list of selected features is :"
   ]
  },
  {
   "cell_type": "code",
   "execution_count": 11,
   "metadata": {},
   "outputs": [
    {
     "name": "stdout",
     "output_type": "stream",
     "text": [
      "['CACH', 'MYCT', 'MMAX', 'CHMAX', 'MMIN']\n"
     ]
    }
   ],
   "source": [
    "print(SelectByShufflingFeatureSelector.select_by_shuffling_selector_factory.get_list_of_features())"
   ]
  },
  {
   "cell_type": "markdown",
   "metadata": {},
   "source": [
    "#### Get access to feature selector instance"
   ]
  },
  {
   "cell_type": "code",
   "execution_count": 12,
   "metadata": {},
   "outputs": [
    {
     "name": "stdout",
     "output_type": "stream",
     "text": [
      "SelectByShuffling(estimator=XGBRegressor(base_score=0.5, booster='gbtree',\n",
      "                                         callbacks=None, colsample_bylevel=1,\n",
      "                                         colsample_bynode=1, colsample_bytree=1,\n",
      "                                         early_stopping_rounds=None,\n",
      "                                         enable_categorical=False,\n",
      "                                         eval_metric=None, gamma=0, gpu_id=-1,\n",
      "                                         grow_policy='depthwise',\n",
      "                                         importance_type=None,\n",
      "                                         interaction_constraints='',\n",
      "                                         learning_rate=0.300000012, max_bin=256,\n",
      "                                         max_cat_to_onehot=4, max_delta_step=0,\n",
      "                                         max_depth=4, max_leaves=0,\n",
      "                                         min_child_weight=1, missing=nan,\n",
      "                                         monotone_constraints='()',\n",
      "                                         n_estimators=100, n_jobs=0,\n",
      "                                         num_parallel_tree=1, predictor='auto',\n",
      "                                         random_state=0, reg_alpha=0,\n",
      "                                         reg_lambda=1, ...),\n",
      "                  random_state=0, scoring='explained_variance', threshold=0.02)\n"
     ]
    }
   ],
   "source": [
    "print(SelectByShufflingFeatureSelector.select_by_shuffling_selector_factory.get_feature_selector_instance())"
   ]
  },
  {
   "cell_type": "markdown",
   "metadata": {},
   "source": [
    "#### Get list of features and grades"
   ]
  },
  {
   "cell_type": "code",
   "execution_count": 13,
   "metadata": {},
   "outputs": [
    {
     "name": "stdout",
     "output_type": "stream",
     "text": [
      "list of selected features+list of obligatory features that must be in                 model-list of features to drop before any selection               ['CACH', 'MYCT', 'MMAX', 'CHMAX', 'MMIN']\n",
      "list of selected features and their grades\n",
      "---------------------------------------------------------\n",
      "  column_name feature_importance\n",
      "1        MMIN           0.690447\n",
      "4       CHMAX           0.190239\n",
      "0        MYCT           0.037605\n",
      "3        CACH           0.034725\n",
      "2        MMAX           0.030861\n",
      "Note: list of obligatory features that must be in model-list of                         features to drop before any selection also has considered !\n"
     ]
    },
    {
     "data": {
      "text/html": [
       "<style>#sk-container-id-3 {color: black;background-color: white;}#sk-container-id-3 pre{padding: 0;}#sk-container-id-3 div.sk-toggleable {background-color: white;}#sk-container-id-3 label.sk-toggleable__label {cursor: pointer;display: block;width: 100%;margin-bottom: 0;padding: 0.3em;box-sizing: border-box;text-align: center;}#sk-container-id-3 label.sk-toggleable__label-arrow:before {content: \"▸\";float: left;margin-right: 0.25em;color: #696969;}#sk-container-id-3 label.sk-toggleable__label-arrow:hover:before {color: black;}#sk-container-id-3 div.sk-estimator:hover label.sk-toggleable__label-arrow:before {color: black;}#sk-container-id-3 div.sk-toggleable__content {max-height: 0;max-width: 0;overflow: hidden;text-align: left;background-color: #f0f8ff;}#sk-container-id-3 div.sk-toggleable__content pre {margin: 0.2em;color: black;border-radius: 0.25em;background-color: #f0f8ff;}#sk-container-id-3 input.sk-toggleable__control:checked~div.sk-toggleable__content {max-height: 200px;max-width: 100%;overflow: auto;}#sk-container-id-3 input.sk-toggleable__control:checked~label.sk-toggleable__label-arrow:before {content: \"▾\";}#sk-container-id-3 div.sk-estimator input.sk-toggleable__control:checked~label.sk-toggleable__label {background-color: #d4ebff;}#sk-container-id-3 div.sk-label input.sk-toggleable__control:checked~label.sk-toggleable__label {background-color: #d4ebff;}#sk-container-id-3 input.sk-hidden--visually {border: 0;clip: rect(1px 1px 1px 1px);clip: rect(1px, 1px, 1px, 1px);height: 1px;margin: -1px;overflow: hidden;padding: 0;position: absolute;width: 1px;}#sk-container-id-3 div.sk-estimator {font-family: monospace;background-color: #f0f8ff;border: 1px dotted black;border-radius: 0.25em;box-sizing: border-box;margin-bottom: 0.5em;}#sk-container-id-3 div.sk-estimator:hover {background-color: #d4ebff;}#sk-container-id-3 div.sk-parallel-item::after {content: \"\";width: 100%;border-bottom: 1px solid gray;flex-grow: 1;}#sk-container-id-3 div.sk-label:hover label.sk-toggleable__label {background-color: #d4ebff;}#sk-container-id-3 div.sk-serial::before {content: \"\";position: absolute;border-left: 1px solid gray;box-sizing: border-box;top: 0;bottom: 0;left: 50%;z-index: 0;}#sk-container-id-3 div.sk-serial {display: flex;flex-direction: column;align-items: center;background-color: white;padding-right: 0.2em;padding-left: 0.2em;position: relative;}#sk-container-id-3 div.sk-item {position: relative;z-index: 1;}#sk-container-id-3 div.sk-parallel {display: flex;align-items: stretch;justify-content: center;background-color: white;position: relative;}#sk-container-id-3 div.sk-item::before, #sk-container-id-3 div.sk-parallel-item::before {content: \"\";position: absolute;border-left: 1px solid gray;box-sizing: border-box;top: 0;bottom: 0;left: 50%;z-index: -1;}#sk-container-id-3 div.sk-parallel-item {display: flex;flex-direction: column;z-index: 1;position: relative;background-color: white;}#sk-container-id-3 div.sk-parallel-item:first-child::after {align-self: flex-end;width: 50%;}#sk-container-id-3 div.sk-parallel-item:last-child::after {align-self: flex-start;width: 50%;}#sk-container-id-3 div.sk-parallel-item:only-child::after {width: 0;}#sk-container-id-3 div.sk-dashed-wrapped {border: 1px dashed gray;margin: 0 0.4em 0.5em 0.4em;box-sizing: border-box;padding-bottom: 0.4em;background-color: white;}#sk-container-id-3 div.sk-label label {font-family: monospace;font-weight: bold;display: inline-block;line-height: 1.2em;}#sk-container-id-3 div.sk-label-container {text-align: center;}#sk-container-id-3 div.sk-container {/* jupyter's `normalize.less` sets `[hidden] { display: none; }` but bootstrap.min.css set `[hidden] { display: none !important; }` so we also need the `!important` here to be able to override the default hidden behavior on the sphinx rendered scikit-learn.org. See: https://github.com/scikit-learn/scikit-learn/issues/21755 */display: inline-block !important;position: relative;}#sk-container-id-3 div.sk-text-repr-fallback {display: none;}</style><div id=\"sk-container-id-3\" class=\"sk-top-container\"><div class=\"sk-text-repr-fallback\"><pre>SelectByShufflingFeatureSelector(X=               vendor name  Model Name  MYCT   MMIN  MMAX  CACH  CHMIN  CHMAX\n",
       "cdc          cyber:170/845          64  5240  20970    30    12     24    208\n",
       "c.r.d      universe:68/137         320   512   5000     4     1      5     77\n",
       "cambex             1641-11          50  2000  16000     8     3      6     52\n",
       "ibm                4341-12         185  2000  16000    16     1      6     76\n",
       "ibm                 3083:e          26  8000  16000     0     8     16    185\n",
       "...                    ...         ...   ...    ...   ...   ...    ...    ...\n",
       "ibm                   38/8         400  4000   8000     0     1      1     32\n",
       "bti                   5000         350    64     64     0     1      4     10\n",
       "honeywell         dps:8/20         140  2000   4000     8     1     20     22\n",
       "prime            50-750-...\n",
       "                                 local_dir=&#x27;~/ray_results&#x27;, max_iters=1,\n",
       "                                 method=&#x27;tunesearch&#x27;, n_features=5, n_trials=10,\n",
       "                                 pipeline_auto_early_stop=True, random_state=0,\n",
       "                                 refit=True, return_train_score=False,\n",
       "                                 scoring=&#x27;explained_variance&#x27;,\n",
       "                                 search_optimization=&#x27;hyperopt&#x27;, threshold=0.02,\n",
       "                                 use_gpu=False, verbose=3,\n",
       "                                 y=           PRP\n",
       "cdc        136\n",
       "c.r.d       28\n",
       "cambex      74\n",
       "ibm         76\n",
       "ibm        113\n",
       "...        ...\n",
       "ibm         45\n",
       "bti         15\n",
       "honeywell   32\n",
       "prime       43\n",
       "ibm         18\n",
       "\n",
       "[140 rows x 1 columns])</pre><b>In a Jupyter environment, please rerun this cell to show the HTML representation or trust the notebook. <br />On GitHub, the HTML representation is unable to render, please try loading this page with nbviewer.org.</b></div><div class=\"sk-container\" hidden><div class=\"sk-item sk-dashed-wrapped\"><div class=\"sk-label-container\"><div class=\"sk-label sk-toggleable\"><input class=\"sk-toggleable__control sk-hidden--visually\" id=\"sk-estimator-id-7\" type=\"checkbox\" ><label for=\"sk-estimator-id-7\" class=\"sk-toggleable__label sk-toggleable__label-arrow\">SelectByShufflingFeatureSelector</label><div class=\"sk-toggleable__content\"><pre>SelectByShufflingFeatureSelector(X=               vendor name  Model Name  MYCT   MMIN  MMAX  CACH  CHMIN  CHMAX\n",
       "cdc          cyber:170/845          64  5240  20970    30    12     24    208\n",
       "c.r.d      universe:68/137         320   512   5000     4     1      5     77\n",
       "cambex             1641-11          50  2000  16000     8     3      6     52\n",
       "ibm                4341-12         185  2000  16000    16     1      6     76\n",
       "ibm                 3083:e          26  8000  16000     0     8     16    185\n",
       "...                    ...         ...   ...    ...   ...   ...    ...    ...\n",
       "ibm                   38/8         400  4000   8000     0     1      1     32\n",
       "bti                   5000         350    64     64     0     1      4     10\n",
       "honeywell         dps:8/20         140  2000   4000     8     1     20     22\n",
       "prime            50-750-...\n",
       "                                 local_dir=&#x27;~/ray_results&#x27;, max_iters=1,\n",
       "                                 method=&#x27;tunesearch&#x27;, n_features=5, n_trials=10,\n",
       "                                 pipeline_auto_early_stop=True, random_state=0,\n",
       "                                 refit=True, return_train_score=False,\n",
       "                                 scoring=&#x27;explained_variance&#x27;,\n",
       "                                 search_optimization=&#x27;hyperopt&#x27;, threshold=0.02,\n",
       "                                 use_gpu=False, verbose=3,\n",
       "                                 y=           PRP\n",
       "cdc        136\n",
       "c.r.d       28\n",
       "cambex      74\n",
       "ibm         76\n",
       "ibm        113\n",
       "...        ...\n",
       "ibm         45\n",
       "bti         15\n",
       "honeywell   32\n",
       "prime       43\n",
       "ibm         18\n",
       "\n",
       "[140 rows x 1 columns])</pre></div></div></div><div class=\"sk-parallel\"><div class=\"sk-parallel-item\"><div class=\"sk-item\"><div class=\"sk-label-container\"><div class=\"sk-label sk-toggleable\"><input class=\"sk-toggleable__control sk-hidden--visually\" id=\"sk-estimator-id-8\" type=\"checkbox\" ><label for=\"sk-estimator-id-8\" class=\"sk-toggleable__label sk-toggleable__label-arrow\">estimator: XGBRegressor</label><div class=\"sk-toggleable__content\"><pre>XGBRegressor(base_score=None, booster=None, callbacks=None,\n",
       "             colsample_bylevel=None, colsample_bynode=None,\n",
       "             colsample_bytree=None, early_stopping_rounds=None,\n",
       "             enable_categorical=False, eval_metric=None, gamma=None,\n",
       "             gpu_id=None, grow_policy=None, importance_type=None,\n",
       "             interaction_constraints=None, learning_rate=None, max_bin=None,\n",
       "             max_cat_to_onehot=None, max_delta_step=None, max_depth=None,\n",
       "             max_leaves=None, min_child_weight=None, missing=nan,\n",
       "             monotone_constraints=None, n_estimators=100, n_jobs=None,\n",
       "             num_parallel_tree=None, predictor=None, random_state=None,\n",
       "             reg_alpha=None, reg_lambda=None, ...)</pre></div></div></div><div class=\"sk-serial\"><div class=\"sk-item\"><div class=\"sk-estimator sk-toggleable\"><input class=\"sk-toggleable__control sk-hidden--visually\" id=\"sk-estimator-id-9\" type=\"checkbox\" ><label for=\"sk-estimator-id-9\" class=\"sk-toggleable__label sk-toggleable__label-arrow\">XGBRegressor</label><div class=\"sk-toggleable__content\"><pre>XGBRegressor(base_score=None, booster=None, callbacks=None,\n",
       "             colsample_bylevel=None, colsample_bynode=None,\n",
       "             colsample_bytree=None, early_stopping_rounds=None,\n",
       "             enable_categorical=False, eval_metric=None, gamma=None,\n",
       "             gpu_id=None, grow_policy=None, importance_type=None,\n",
       "             interaction_constraints=None, learning_rate=None, max_bin=None,\n",
       "             max_cat_to_onehot=None, max_delta_step=None, max_depth=None,\n",
       "             max_leaves=None, min_child_weight=None, missing=nan,\n",
       "             monotone_constraints=None, n_estimators=100, n_jobs=None,\n",
       "             num_parallel_tree=None, predictor=None, random_state=None,\n",
       "             reg_alpha=None, reg_lambda=None, ...)</pre></div></div></div></div></div></div></div></div></div></div>"
      ],
      "text/plain": [
       "SelectByShufflingFeatureSelector(X=               vendor name  Model Name  MYCT   MMIN  MMAX  CACH  CHMIN  CHMAX\n",
       "cdc          cyber:170/845          64  5240  20970    30    12     24    208\n",
       "c.r.d      universe:68/137         320   512   5000     4     1      5     77\n",
       "cambex             1641-11          50  2000  16000     8     3      6     52\n",
       "ibm                4341-12         185  2000  16000    16     1      6     76\n",
       "ibm                 3083:e          26  8000  16000     0     8     16    185\n",
       "...                    ...         ...   ...    ...   ...   ...    ...    ...\n",
       "ibm                   38/8         400  4000   8000     0     1      1     32\n",
       "bti                   5000         350    64     64     0     1      4     10\n",
       "honeywell         dps:8/20         140  2000   4000     8     1     20     22\n",
       "prime            50-750-...\n",
       "                                 local_dir='~/ray_results', max_iters=1,\n",
       "                                 method='tunesearch', n_features=5, n_trials=10,\n",
       "                                 pipeline_auto_early_stop=True, random_state=0,\n",
       "                                 refit=True, return_train_score=False,\n",
       "                                 scoring='explained_variance',\n",
       "                                 search_optimization='hyperopt', threshold=0.02,\n",
       "                                 use_gpu=False, verbose=3,\n",
       "                                 y=           PRP\n",
       "cdc        136\n",
       "c.r.d       28\n",
       "cambex      74\n",
       "ibm         76\n",
       "ibm        113\n",
       "...        ...\n",
       "ibm         45\n",
       "bti         15\n",
       "honeywell   32\n",
       "prime       43\n",
       "ibm         18\n",
       "\n",
       "[140 rows x 1 columns])"
      ]
     },
     "execution_count": 13,
     "metadata": {},
     "output_type": "execute_result"
    }
   ],
   "source": [
    "SelectByShufflingFeatureSelector.select_by_shuffling_selector_factory.get_info_of_features_and_grades()"
   ]
  }
 ],
 "metadata": {
  "kernelspec": {
   "display_name": "Python 3.10.4 ('.venv': poetry)",
   "language": "python",
   "name": "python3"
  },
  "language_info": {
   "codemirror_mode": {
    "name": "ipython",
    "version": 3
   },
   "file_extension": ".py",
   "mimetype": "text/x-python",
   "name": "python",
   "nbconvert_exporter": "python",
   "pygments_lexer": "ipython3",
   "version": "3.10.9"
  },
  "orig_nbformat": 4,
  "vscode": {
   "interpreter": {
    "hash": "2fd4a9ad6613f01435523ab5e4297db981c1d87a44e43e252d0e314391da6eb3"
   }
  }
 },
 "nbformat": 4,
 "nbformat_minor": 2
}
