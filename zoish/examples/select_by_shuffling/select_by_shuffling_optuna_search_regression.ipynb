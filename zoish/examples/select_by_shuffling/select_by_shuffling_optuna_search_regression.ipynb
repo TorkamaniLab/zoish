{
 "cells": [
  {
   "cell_type": "markdown",
   "metadata": {},
   "source": [
    "#### Imports\n"
   ]
  },
  {
   "cell_type": "code",
   "execution_count": 1,
   "metadata": {},
   "outputs": [
    {
     "name": "stdout",
     "output_type": "stream",
     "text": [
      "In this module the default logging will be applied.\n"
     ]
    }
   ],
   "source": [
    "from zoish.feature_selectors.select_by_shuffling import SelectByShufflingFeatureSelector\n",
    "import xgboost\n",
    "from sklearn.model_selection import train_test_split\n",
    "import pandas as pd\n",
    "from sklearn.pipeline import Pipeline\n",
    "from sklearn.metrics import r2_score\n",
    "from feature_engine.imputation import CategoricalImputer, MeanMedianImputer\n",
    "from category_encoders import OrdinalEncoder\n",
    "from optuna.samplers import TPESampler\n",
    "from optuna.pruners import HyperbandPruner\n",
    "from sklearn.linear_model import LinearRegression\n",
    "import optuna\n"
   ]
  },
  {
   "cell_type": "markdown",
   "metadata": {},
   "source": [
    "#### Computer Hardware Data Set (a regression problem)\n",
    "  \n",
    "###### https://archive.ics.uci.edu/ml/datasets/Computer+Hardware"
   ]
  },
  {
   "cell_type": "code",
   "execution_count": 2,
   "metadata": {},
   "outputs": [],
   "source": [
    "urldata= \"https://archive.ics.uci.edu/ml/machine-learning-databases/cpu-performance/machine.data\"\n",
    "# column names\n",
    "col_names=[\n",
    "    \"vendor name\",\n",
    "    \"Model Name\",\n",
    "    \"MYCT\",\n",
    "    \"MMIN\",\n",
    "    \"MMAX\",\n",
    "    \"CACH\",\n",
    "    \"CHMIN\",\n",
    "    \"CHMAX\",\n",
    "    \"PRP\"\n",
    "]\n",
    "# read data\n",
    "data = pd.read_csv(urldata,header=None,names=col_names,sep=',')\n"
   ]
  },
  {
   "cell_type": "markdown",
   "metadata": {},
   "source": [
    "#### Train test split"
   ]
  },
  {
   "cell_type": "code",
   "execution_count": 3,
   "metadata": {},
   "outputs": [],
   "source": [
    "X = data.loc[:, data.columns != \"PRP\"]\n",
    "y = data.loc[:, data.columns == \"PRP\"]\n",
    "\n",
    "\n",
    "X_train, X_test, y_train, y_test =train_test_split(X, y, test_size=0.33, random_state=42)\n",
    "y_test=y_test.values.ravel()\n",
    "y_train=y_train.values.ravel()\n"
   ]
  },
  {
   "cell_type": "markdown",
   "metadata": {},
   "source": [
    "#### Define feature selector step \n"
   ]
  },
  {
   "cell_type": "code",
   "execution_count": 4,
   "metadata": {},
   "outputs": [
    {
     "name": "stderr",
     "output_type": "stream",
     "text": [
      "\u001b[32m[I 2023-01-04 19:26:13,937]\u001b[0m A new study created in memory with name: example of optuna optimizer\u001b[0m\n"
     ]
    }
   ],
   "source": [
    "select_by_shuffling_feature_selector_factory = (\n",
    "    SelectByShufflingFeatureSelector.select_by_shuffling_selector_factory.set_model_params(\n",
    "        X=X_train,\n",
    "        y=y_train,\n",
    "        verbose=0,\n",
    "        random_state=0,\n",
    "        estimator=xgboost.XGBRegressor(),\n",
    "        estimator_params={\n",
    "            \"max_depth\": [4, 5],\n",
    "        },\n",
    "        fit_params = {\n",
    "            \"callbacks\": None,\n",
    "        },\n",
    "        method=\"optuna\",\n",
    "        threshold=0.01,\n",
    "        list_of_obligatory_features_that_must_be_in_model=[],\n",
    "        list_of_features_to_drop_before_any_selection=[],\n",
    "    )\n",
    "    .set_select_by_shuffling_params(\n",
    "        cv=3,\n",
    "        variables=None,\n",
    "        scoring='r2',\n",
    "        confirm_variables=False,\n",
    "    )\n",
    "    .set_optuna_params(\n",
    "            measure_of_accuracy=\"r2_score(y_true, y_pred)\",\n",
    "            # optuna params\n",
    "            with_stratified=False,\n",
    "            test_size=.3,\n",
    "            n_jobs=-1,\n",
    "            # optuna params\n",
    "            # optuna study init params\n",
    "            study=optuna.create_study(\n",
    "                storage=None,\n",
    "                sampler=TPESampler(),\n",
    "                pruner=HyperbandPruner(),\n",
    "                study_name=\"example of optuna optimizer\",\n",
    "                direction=\"maximize\",\n",
    "                load_if_exists=False,\n",
    "                directions=None,\n",
    "            ),\n",
    "            # optuna optimization params\n",
    "            study_optimize_objective=None,\n",
    "            study_optimize_objective_n_trials=20,\n",
    "            study_optimize_objective_timeout=600,\n",
    "            study_optimize_n_jobs=-1,\n",
    "            study_optimize_catch=(),\n",
    "            study_optimize_callbacks=None,\n",
    "            study_optimize_gc_after_trial=False,\n",
    "            study_optimize_show_progress_bar=False,\n",
    "            )\n",
    ")\n"
   ]
  },
  {
   "cell_type": "markdown",
   "metadata": {},
   "source": [
    "#### Find feature types for later use"
   ]
  },
  {
   "cell_type": "code",
   "execution_count": 5,
   "metadata": {},
   "outputs": [],
   "source": [
    "int_cols =  X_train.select_dtypes(include=['int']).columns.tolist()\n",
    "float_cols =  X_train.select_dtypes(include=['float']).columns.tolist()\n",
    "cat_cols =  X_train.select_dtypes(include=['object']).columns.tolist()\n"
   ]
  },
  {
   "cell_type": "markdown",
   "metadata": {},
   "source": [
    "#### Define pipeline"
   ]
  },
  {
   "cell_type": "code",
   "execution_count": 6,
   "metadata": {},
   "outputs": [],
   "source": [
    "\n",
    "\n",
    "pipeline =Pipeline([\n",
    "            # int missing values imputers\n",
    "            ('intimputer', MeanMedianImputer(\n",
    "                imputation_method='median', variables=int_cols)),\n",
    "            # category missing values imputers\n",
    "            ('catimputer', CategoricalImputer(variables=cat_cols)),\n",
    "            #\n",
    "            ('catencoder', OrdinalEncoder()),\n",
    "            # feature selection\n",
    "            (\"sbsfs\", select_by_shuffling_feature_selector_factory),\n",
    "            # add any regression model from sklearn e.g., LinearRegression\n",
    "            ('regression', LinearRegression())\n",
    "\n",
    "\n",
    " ])\n",
    "\n"
   ]
  },
  {
   "cell_type": "markdown",
   "metadata": {},
   "source": [
    "#### Run Pipeline"
   ]
  },
  {
   "cell_type": "code",
   "execution_count": 7,
   "metadata": {},
   "outputs": [
    {
     "name": "stderr",
     "output_type": "stream",
     "text": [
      "/Users/hjavedani/Documents/zoish/.venv/lib/python3.10/site-packages/optuna/study/study.py:393: FutureWarning: `n_jobs` argument has been deprecated in v2.7.0. This feature will be removed in v4.0.0. See https://github.com/optuna/optuna/releases/tag/v2.7.0.\n",
      "  warnings.warn(\n",
      "\u001b[32m[I 2023-01-04 19:26:14,711]\u001b[0m Trial 0 finished with value: 0.8800090780446634 and parameters: {'max_depth': 4}. Best is trial 0 with value: 0.8800090780446634.\u001b[0m\n",
      "\u001b[32m[I 2023-01-04 19:26:14,713]\u001b[0m Trial 5 finished with value: 0.8800090780446634 and parameters: {'max_depth': 4}. Best is trial 0 with value: 0.8800090780446634.\u001b[0m\n",
      "\u001b[32m[I 2023-01-04 19:26:14,718]\u001b[0m Trial 4 finished with value: 0.8800090780446634 and parameters: {'max_depth': 4}. Best is trial 0 with value: 0.8800090780446634.\u001b[0m\n",
      "\u001b[32m[I 2023-01-04 19:26:14,720]\u001b[0m Trial 1 finished with value: 0.8800090780446634 and parameters: {'max_depth': 4}. Best is trial 0 with value: 0.8800090780446634.\u001b[0m\n",
      "\u001b[32m[I 2023-01-04 19:26:14,735]\u001b[0m Trial 2 finished with value: 0.8800090780446634 and parameters: {'max_depth': 4}. Best is trial 0 with value: 0.8800090780446634.\u001b[0m\n",
      "\u001b[32m[I 2023-01-04 19:26:14,835]\u001b[0m Trial 7 finished with value: 0.8776500985591293 and parameters: {'max_depth': 5}. Best is trial 0 with value: 0.8800090780446634.\u001b[0m\n",
      "\u001b[32m[I 2023-01-04 19:26:14,854]\u001b[0m Trial 3 finished with value: 0.8776500985591293 and parameters: {'max_depth': 5}. Best is trial 0 with value: 0.8800090780446634.\u001b[0m\n",
      "\u001b[32m[I 2023-01-04 19:26:14,859]\u001b[0m Trial 6 finished with value: 0.8776500985591293 and parameters: {'max_depth': 5}. Best is trial 0 with value: 0.8800090780446634.\u001b[0m\n"
     ]
    },
    {
     "name": "stdout",
     "output_type": "stream",
     "text": [
      "r2_score(self.y, y_pred)\n",
      "r2_score(self.y, y_pred)\n",
      "r2_score(self.y, y_pred)\n",
      "r2_score(self.y, y_pred)\n",
      "r2_score(self.y, y_pred)\n",
      "r2_score(self.y, y_pred)\n",
      "r2_score(self.y, y_pred)\n",
      "r2_score(self.y, y_pred)\n"
     ]
    },
    {
     "name": "stderr",
     "output_type": "stream",
     "text": [
      "\u001b[32m[I 2023-01-04 19:26:15,363]\u001b[0m Trial 8 finished with value: 0.8800090780446634 and parameters: {'max_depth': 4}. Best is trial 0 with value: 0.8800090780446634.\u001b[0m\n",
      "\u001b[32m[I 2023-01-04 19:26:15,376]\u001b[0m Trial 11 finished with value: 0.8800090780446634 and parameters: {'max_depth': 4}. Best is trial 0 with value: 0.8800090780446634.\u001b[0m\n",
      "\u001b[32m[I 2023-01-04 19:26:15,392]\u001b[0m Trial 9 finished with value: 0.8800090780446634 and parameters: {'max_depth': 4}. Best is trial 0 with value: 0.8800090780446634.\u001b[0m\n",
      "\u001b[32m[I 2023-01-04 19:26:15,503]\u001b[0m Trial 14 finished with value: 0.8800090780446634 and parameters: {'max_depth': 4}. Best is trial 0 with value: 0.8800090780446634.\u001b[0m\n",
      "\u001b[32m[I 2023-01-04 19:26:15,515]\u001b[0m Trial 12 finished with value: 0.8776500985591293 and parameters: {'max_depth': 5}. Best is trial 0 with value: 0.8800090780446634.\u001b[0m\n",
      "\u001b[32m[I 2023-01-04 19:26:15,516]\u001b[0m Trial 10 finished with value: 0.8776500985591293 and parameters: {'max_depth': 5}. Best is trial 0 with value: 0.8800090780446634.\u001b[0m\n",
      "\u001b[32m[I 2023-01-04 19:26:15,520]\u001b[0m Trial 15 finished with value: 0.8800090780446634 and parameters: {'max_depth': 4}. Best is trial 0 with value: 0.8800090780446634.\u001b[0m\n",
      "\u001b[32m[I 2023-01-04 19:26:15,563]\u001b[0m Trial 13 finished with value: 0.8776500985591293 and parameters: {'max_depth': 5}. Best is trial 0 with value: 0.8800090780446634.\u001b[0m\n"
     ]
    },
    {
     "name": "stdout",
     "output_type": "stream",
     "text": [
      "r2_score(self.y, y_pred)\n",
      "r2_score(self.y, y_pred)\n",
      "r2_score(self.y, y_pred)\n",
      "r2_score(self.y, y_pred)\n",
      "r2_score(self.y, y_pred)\n",
      "r2_score(self.y, y_pred)\n",
      "r2_score(self.y, y_pred)\n",
      "r2_score(self.y, y_pred)\n"
     ]
    },
    {
     "name": "stderr",
     "output_type": "stream",
     "text": [
      "\u001b[32m[I 2023-01-04 19:26:15,736]\u001b[0m Trial 16 finished with value: 0.8800090780446634 and parameters: {'max_depth': 4}. Best is trial 0 with value: 0.8800090780446634.\u001b[0m\n",
      "\u001b[32m[I 2023-01-04 19:26:15,749]\u001b[0m Trial 18 finished with value: 0.8800090780446634 and parameters: {'max_depth': 4}. Best is trial 0 with value: 0.8800090780446634.\u001b[0m\n",
      "\u001b[32m[I 2023-01-04 19:26:15,781]\u001b[0m Trial 17 finished with value: 0.8776500985591293 and parameters: {'max_depth': 5}. Best is trial 0 with value: 0.8800090780446634.\u001b[0m\n",
      "\u001b[32m[I 2023-01-04 19:26:15,782]\u001b[0m Trial 19 finished with value: 0.8800090780446634 and parameters: {'max_depth': 4}. Best is trial 0 with value: 0.8800090780446634.\u001b[0m\n"
     ]
    },
    {
     "name": "stdout",
     "output_type": "stream",
     "text": [
      "r2_score(self.y, y_pred)\n",
      "r2_score(self.y, y_pred)\n",
      "r2_score(self.y, y_pred)\n",
      "r2_score(self.y, y_pred)\n",
      "['vendor name', 'Model Name', 'CHMIN']\n",
      "{'vendor name': -0.01093388142534435, 'Model Name': 0.00584561790630167, 'MYCT': 0.040827338432145366, 'MMIN': 0.7109043430857609, 'MMAX': 0.030727040115938076, 'CACH': 0.037763433033874194, 'CHMIN': 0.006424664282050685, 'CHMAX': 0.18959030592535775}\n",
      "dict_keys(['MYCT', 'MMIN', 'MMAX', 'CACH', 'CHMAX'])\n",
      "       0         1\n",
      "0   MYCT  0.040827\n",
      "1   MMIN  0.710904\n",
      "2   MMAX  0.030727\n",
      "3   CACH  0.037763\n",
      "4  CHMAX   0.18959\n",
      "['MMIN', 'MMAX', 'MYCT', 'CHMAX', 'CACH']\n"
     ]
    }
   ],
   "source": [
    "pipeline.fit(X_train,y_train)\n",
    "y_pred = pipeline.predict(X_test)\n"
   ]
  },
  {
   "cell_type": "markdown",
   "metadata": {},
   "source": [
    "#### plot"
   ]
  },
  {
   "cell_type": "code",
   "execution_count": 8,
   "metadata": {},
   "outputs": [
    {
     "data": {
      "image/png": "[encoded data removed]",
      "text/plain": [
       "<Figure size 432x288 with 1 Axes>"
      ]
     },
     "metadata": {
      "needs_background": "light"
     },
     "output_type": "display_data"
    },
    {
     "data": {
      "text/html": [
       "<style>#sk-container-id-1 {color: black;background-color: white;}#sk-container-id-1 pre{padding: 0;}#sk-container-id-1 div.sk-toggleable {background-color: white;}#sk-container-id-1 label.sk-toggleable__label {cursor: pointer;display: block;width: 100%;margin-bottom: 0;padding: 0.3em;box-sizing: border-box;text-align: center;}#sk-container-id-1 label.sk-toggleable__label-arrow:before {content: \"▸\";float: left;margin-right: 0.25em;color: #696969;}#sk-container-id-1 label.sk-toggleable__label-arrow:hover:before {color: black;}#sk-container-id-1 div.sk-estimator:hover label.sk-toggleable__label-arrow:before {color: black;}#sk-container-id-1 div.sk-toggleable__content {max-height: 0;max-width: 0;overflow: hidden;text-align: left;background-color: #f0f8ff;}#sk-container-id-1 div.sk-toggleable__content pre {margin: 0.2em;color: black;border-radius: 0.25em;background-color: #f0f8ff;}#sk-container-id-1 input.sk-toggleable__control:checked~div.sk-toggleable__content {max-height: 200px;max-width: 100%;overflow: auto;}#sk-container-id-1 input.sk-toggleable__control:checked~label.sk-toggleable__label-arrow:before {content: \"▾\";}#sk-container-id-1 div.sk-estimator input.sk-toggleable__control:checked~label.sk-toggleable__label {background-color: #d4ebff;}#sk-container-id-1 div.sk-label input.sk-toggleable__control:checked~label.sk-toggleable__label {background-color: #d4ebff;}#sk-container-id-1 input.sk-hidden--visually {border: 0;clip: rect(1px 1px 1px 1px);clip: rect(1px, 1px, 1px, 1px);height: 1px;margin: -1px;overflow: hidden;padding: 0;position: absolute;width: 1px;}#sk-container-id-1 div.sk-estimator {font-family: monospace;background-color: #f0f8ff;border: 1px dotted black;border-radius: 0.25em;box-sizing: border-box;margin-bottom: 0.5em;}#sk-container-id-1 div.sk-estimator:hover {background-color: #d4ebff;}#sk-container-id-1 div.sk-parallel-item::after {content: \"\";width: 100%;border-bottom: 1px solid gray;flex-grow: 1;}#sk-container-id-1 div.sk-label:hover label.sk-toggleable__label {background-color: #d4ebff;}#sk-container-id-1 div.sk-serial::before {content: \"\";position: absolute;border-left: 1px solid gray;box-sizing: border-box;top: 0;bottom: 0;left: 50%;z-index: 0;}#sk-container-id-1 div.sk-serial {display: flex;flex-direction: column;align-items: center;background-color: white;padding-right: 0.2em;padding-left: 0.2em;position: relative;}#sk-container-id-1 div.sk-item {position: relative;z-index: 1;}#sk-container-id-1 div.sk-parallel {display: flex;align-items: stretch;justify-content: center;background-color: white;position: relative;}#sk-container-id-1 div.sk-item::before, #sk-container-id-1 div.sk-parallel-item::before {content: \"\";position: absolute;border-left: 1px solid gray;box-sizing: border-box;top: 0;bottom: 0;left: 50%;z-index: -1;}#sk-container-id-1 div.sk-parallel-item {display: flex;flex-direction: column;z-index: 1;position: relative;background-color: white;}#sk-container-id-1 div.sk-parallel-item:first-child::after {align-self: flex-end;width: 50%;}#sk-container-id-1 div.sk-parallel-item:last-child::after {align-self: flex-start;width: 50%;}#sk-container-id-1 div.sk-parallel-item:only-child::after {width: 0;}#sk-container-id-1 div.sk-dashed-wrapped {border: 1px dashed gray;margin: 0 0.4em 0.5em 0.4em;box-sizing: border-box;padding-bottom: 0.4em;background-color: white;}#sk-container-id-1 div.sk-label label {font-family: monospace;font-weight: bold;display: inline-block;line-height: 1.2em;}#sk-container-id-1 div.sk-label-container {text-align: center;}#sk-container-id-1 div.sk-container {/* jupyter's `normalize.less` sets `[hidden] { display: none; }` but bootstrap.min.css set `[hidden] { display: none !important; }` so we also need the `!important` here to be able to override the default hidden behavior on the sphinx rendered scikit-learn.org. See: https://github.com/scikit-learn/scikit-learn/issues/21755 */display: inline-block !important;position: relative;}#sk-container-id-1 div.sk-text-repr-fallback {display: none;}</style><div id=\"sk-container-id-1\" class=\"sk-top-container\"><div class=\"sk-text-repr-fallback\"><pre>SelectByShufflingFeatureSelector(X=               vendor name  Model Name  MYCT   MMIN  MMAX  CACH  CHMIN  CHMAX\n",
       "cdc          cyber:170/845          64  5240  20970    30    12     24    208\n",
       "c.r.d      universe:68/137         320   512   5000     4     1      5     77\n",
       "cambex             1641-11          50  2000  16000     8     3      6     52\n",
       "ibm                4341-12         185  2000  16000    16     1      6     76\n",
       "ibm                 3083:e          26  8000  16000     0     8     16    185\n",
       "...                    ...         ...   ...    ...   ...   ...    ...    ...\n",
       "ibm                   38/8         400  4000   8000     0     1      1     32\n",
       "bti                   5000         350    64     64     0     1      4     10\n",
       "honeywell         dps:8/20         140  2000   4000     8     1     20     22\n",
       "prime            50-750-...\n",
       "        23,  65,  34,  40,  46,  28,  74,  24,  24,  80, 381,  22,  21,\n",
       "        24,  95, 132,  74,  31, 270, 101,  56,  42,  23,  19, 120, 426,\n",
       "        24, 199,  24,  31,  47,  62, 113,  54,  33,  41,  20,  45,  21,\n",
       "       151,  30,  30,  25,  28, 171,  41,  74, 107, 253,  28,  36,  46,\n",
       "       149,  78, 182,  38,  23, 138, 381,  28, 181,  20,  47, 183,  57,\n",
       "       749, 117,  34,  53,  37,  29,  20,  41,  80,  64, 382,  75,  30,\n",
       "        18,  34,  24,  50, 190,  34,  36, 175,  39,  34,  35,  24,  82,\n",
       "        29,  19, 360, 253,  72,  48, 128, 266,  20,  15,  76,  32,  25,\n",
       "       116,  25,  35,  81,  54,  45,  15,  32,  43,  18]))</pre><b>In a Jupyter environment, please rerun this cell to show the HTML representation or trust the notebook. <br />On GitHub, the HTML representation is unable to render, please try loading this page with nbviewer.org.</b></div><div class=\"sk-container\" hidden><div class=\"sk-item sk-dashed-wrapped\"><div class=\"sk-label-container\"><div class=\"sk-label sk-toggleable\"><input class=\"sk-toggleable__control sk-hidden--visually\" id=\"sk-estimator-id-1\" type=\"checkbox\" ><label for=\"sk-estimator-id-1\" class=\"sk-toggleable__label sk-toggleable__label-arrow\">SelectByShufflingFeatureSelector</label><div class=\"sk-toggleable__content\"><pre>SelectByShufflingFeatureSelector(X=               vendor name  Model Name  MYCT   MMIN  MMAX  CACH  CHMIN  CHMAX\n",
       "cdc          cyber:170/845          64  5240  20970    30    12     24    208\n",
       "c.r.d      universe:68/137         320   512   5000     4     1      5     77\n",
       "cambex             1641-11          50  2000  16000     8     3      6     52\n",
       "ibm                4341-12         185  2000  16000    16     1      6     76\n",
       "ibm                 3083:e          26  8000  16000     0     8     16    185\n",
       "...                    ...         ...   ...    ...   ...   ...    ...    ...\n",
       "ibm                   38/8         400  4000   8000     0     1      1     32\n",
       "bti                   5000         350    64     64     0     1      4     10\n",
       "honeywell         dps:8/20         140  2000   4000     8     1     20     22\n",
       "prime            50-750-...\n",
       "        23,  65,  34,  40,  46,  28,  74,  24,  24,  80, 381,  22,  21,\n",
       "        24,  95, 132,  74,  31, 270, 101,  56,  42,  23,  19, 120, 426,\n",
       "        24, 199,  24,  31,  47,  62, 113,  54,  33,  41,  20,  45,  21,\n",
       "       151,  30,  30,  25,  28, 171,  41,  74, 107, 253,  28,  36,  46,\n",
       "       149,  78, 182,  38,  23, 138, 381,  28, 181,  20,  47, 183,  57,\n",
       "       749, 117,  34,  53,  37,  29,  20,  41,  80,  64, 382,  75,  30,\n",
       "        18,  34,  24,  50, 190,  34,  36, 175,  39,  34,  35,  24,  82,\n",
       "        29,  19, 360, 253,  72,  48, 128, 266,  20,  15,  76,  32,  25,\n",
       "       116,  25,  35,  81,  54,  45,  15,  32,  43,  18]))</pre></div></div></div><div class=\"sk-parallel\"><div class=\"sk-parallel-item\"><div class=\"sk-item\"><div class=\"sk-label-container\"><div class=\"sk-label sk-toggleable\"><input class=\"sk-toggleable__control sk-hidden--visually\" id=\"sk-estimator-id-2\" type=\"checkbox\" ><label for=\"sk-estimator-id-2\" class=\"sk-toggleable__label sk-toggleable__label-arrow\">estimator: XGBRegressor</label><div class=\"sk-toggleable__content\"><pre>XGBRegressor(base_score=None, booster=None, callbacks=None,\n",
       "             colsample_bylevel=None, colsample_bynode=None,\n",
       "             colsample_bytree=None, early_stopping_rounds=None,\n",
       "             enable_categorical=False, eval_metric=None, gamma=None,\n",
       "             gpu_id=None, grow_policy=None, importance_type=None,\n",
       "             interaction_constraints=None, learning_rate=None, max_bin=None,\n",
       "             max_cat_to_onehot=None, max_delta_step=None, max_depth=None,\n",
       "             max_leaves=None, min_child_weight=None, missing=nan,\n",
       "             monotone_constraints=None, n_estimators=100, n_jobs=None,\n",
       "             num_parallel_tree=None, predictor=None, random_state=None,\n",
       "             reg_alpha=None, reg_lambda=None, ...)</pre></div></div></div><div class=\"sk-serial\"><div class=\"sk-item\"><div class=\"sk-estimator sk-toggleable\"><input class=\"sk-toggleable__control sk-hidden--visually\" id=\"sk-estimator-id-3\" type=\"checkbox\" ><label for=\"sk-estimator-id-3\" class=\"sk-toggleable__label sk-toggleable__label-arrow\">XGBRegressor</label><div class=\"sk-toggleable__content\"><pre>XGBRegressor(base_score=None, booster=None, callbacks=None,\n",
       "             colsample_bylevel=None, colsample_bynode=None,\n",
       "             colsample_bytree=None, early_stopping_rounds=None,\n",
       "             enable_categorical=False, eval_metric=None, gamma=None,\n",
       "             gpu_id=None, grow_policy=None, importance_type=None,\n",
       "             interaction_constraints=None, learning_rate=None, max_bin=None,\n",
       "             max_cat_to_onehot=None, max_delta_step=None, max_depth=None,\n",
       "             max_leaves=None, min_child_weight=None, missing=nan,\n",
       "             monotone_constraints=None, n_estimators=100, n_jobs=None,\n",
       "             num_parallel_tree=None, predictor=None, random_state=None,\n",
       "             reg_alpha=None, reg_lambda=None, ...)</pre></div></div></div></div></div></div></div></div></div></div>"
      ],
      "text/plain": [
       "SelectByShufflingFeatureSelector(X=               vendor name  Model Name  MYCT   MMIN  MMAX  CACH  CHMIN  CHMAX\n",
       "cdc          cyber:170/845          64  5240  20970    30    12     24    208\n",
       "c.r.d      universe:68/137         320   512   5000     4     1      5     77\n",
       "cambex             1641-11          50  2000  16000     8     3      6     52\n",
       "ibm                4341-12         185  2000  16000    16     1      6     76\n",
       "ibm                 3083:e          26  8000  16000     0     8     16    185\n",
       "...                    ...         ...   ...    ...   ...   ...    ...    ...\n",
       "ibm                   38/8         400  4000   8000     0     1      1     32\n",
       "bti                   5000         350    64     64     0     1      4     10\n",
       "honeywell         dps:8/20         140  2000   4000     8     1     20     22\n",
       "prime            50-750-...\n",
       "        23,  65,  34,  40,  46,  28,  74,  24,  24,  80, 381,  22,  21,\n",
       "        24,  95, 132,  74,  31, 270, 101,  56,  42,  23,  19, 120, 426,\n",
       "        24, 199,  24,  31,  47,  62, 113,  54,  33,  41,  20,  45,  21,\n",
       "       151,  30,  30,  25,  28, 171,  41,  74, 107, 253,  28,  36,  46,\n",
       "       149,  78, 182,  38,  23, 138, 381,  28, 181,  20,  47, 183,  57,\n",
       "       749, 117,  34,  53,  37,  29,  20,  41,  80,  64, 382,  75,  30,\n",
       "        18,  34,  24,  50, 190,  34,  36, 175,  39,  34,  35,  24,  82,\n",
       "        29,  19, 360, 253,  72,  48, 128, 266,  20,  15,  76,  32,  25,\n",
       "       116,  25,  35,  81,  54,  45,  15,  32,  43,  18]))"
      ]
     },
     "execution_count": 8,
     "metadata": {},
     "output_type": "execute_result"
    }
   ],
   "source": [
    "SelectByShufflingFeatureSelector.select_by_shuffling_selector_factory.plot_features_all(\n",
    "    path_to_save_plot=\"../plots/select_by_shuffling_optuna_search_classification\"\n",
    ")\n"
   ]
  },
  {
   "cell_type": "markdown",
   "metadata": {},
   "source": [
    "#### Check performance of the Pipeline"
   ]
  },
  {
   "cell_type": "code",
   "execution_count": 9,
   "metadata": {},
   "outputs": [
    {
     "name": "stdout",
     "output_type": "stream",
     "text": [
      "r2 score : \n",
      "0.9199440731541852\n"
     ]
    }
   ],
   "source": [
    "print('r2 score : ')\n",
    "print(r2_score(y_test,y_pred))\n"
   ]
  },
  {
   "cell_type": "markdown",
   "metadata": {},
   "source": [
    "#### Get access to feature selector instance"
   ]
  },
  {
   "cell_type": "code",
   "execution_count": 10,
   "metadata": {},
   "outputs": [
    {
     "name": "stdout",
     "output_type": "stream",
     "text": [
      "list of selected features+list of obligatory features that must be in                 model-list of features to drop before any selection               ['MMIN', 'MMAX', 'MYCT', 'CHMAX', 'CACH']\n",
      "list of selected features and their grades\n",
      "---------------------------------------------------------\n",
      "  column_name feature_importance\n",
      "1        MMIN           0.710904\n",
      "4       CHMAX            0.18959\n",
      "0        MYCT           0.040827\n",
      "3        CACH           0.037763\n",
      "2        MMAX           0.030727\n",
      "Note: list of obligatory features that must be in model-list of                         features to drop before any selection also has considered !\n"
     ]
    },
    {
     "data": {
      "text/html": [
       "<style>#sk-container-id-2 {color: black;background-color: white;}#sk-container-id-2 pre{padding: 0;}#sk-container-id-2 div.sk-toggleable {background-color: white;}#sk-container-id-2 label.sk-toggleable__label {cursor: pointer;display: block;width: 100%;margin-bottom: 0;padding: 0.3em;box-sizing: border-box;text-align: center;}#sk-container-id-2 label.sk-toggleable__label-arrow:before {content: \"▸\";float: left;margin-right: 0.25em;color: #696969;}#sk-container-id-2 label.sk-toggleable__label-arrow:hover:before {color: black;}#sk-container-id-2 div.sk-estimator:hover label.sk-toggleable__label-arrow:before {color: black;}#sk-container-id-2 div.sk-toggleable__content {max-height: 0;max-width: 0;overflow: hidden;text-align: left;background-color: #f0f8ff;}#sk-container-id-2 div.sk-toggleable__content pre {margin: 0.2em;color: black;border-radius: 0.25em;background-color: #f0f8ff;}#sk-container-id-2 input.sk-toggleable__control:checked~div.sk-toggleable__content {max-height: 200px;max-width: 100%;overflow: auto;}#sk-container-id-2 input.sk-toggleable__control:checked~label.sk-toggleable__label-arrow:before {content: \"▾\";}#sk-container-id-2 div.sk-estimator input.sk-toggleable__control:checked~label.sk-toggleable__label {background-color: #d4ebff;}#sk-container-id-2 div.sk-label input.sk-toggleable__control:checked~label.sk-toggleable__label {background-color: #d4ebff;}#sk-container-id-2 input.sk-hidden--visually {border: 0;clip: rect(1px 1px 1px 1px);clip: rect(1px, 1px, 1px, 1px);height: 1px;margin: -1px;overflow: hidden;padding: 0;position: absolute;width: 1px;}#sk-container-id-2 div.sk-estimator {font-family: monospace;background-color: #f0f8ff;border: 1px dotted black;border-radius: 0.25em;box-sizing: border-box;margin-bottom: 0.5em;}#sk-container-id-2 div.sk-estimator:hover {background-color: #d4ebff;}#sk-container-id-2 div.sk-parallel-item::after {content: \"\";width: 100%;border-bottom: 1px solid gray;flex-grow: 1;}#sk-container-id-2 div.sk-label:hover label.sk-toggleable__label {background-color: #d4ebff;}#sk-container-id-2 div.sk-serial::before {content: \"\";position: absolute;border-left: 1px solid gray;box-sizing: border-box;top: 0;bottom: 0;left: 50%;z-index: 0;}#sk-container-id-2 div.sk-serial {display: flex;flex-direction: column;align-items: center;background-color: white;padding-right: 0.2em;padding-left: 0.2em;position: relative;}#sk-container-id-2 div.sk-item {position: relative;z-index: 1;}#sk-container-id-2 div.sk-parallel {display: flex;align-items: stretch;justify-content: center;background-color: white;position: relative;}#sk-container-id-2 div.sk-item::before, #sk-container-id-2 div.sk-parallel-item::before {content: \"\";position: absolute;border-left: 1px solid gray;box-sizing: border-box;top: 0;bottom: 0;left: 50%;z-index: -1;}#sk-container-id-2 div.sk-parallel-item {display: flex;flex-direction: column;z-index: 1;position: relative;background-color: white;}#sk-container-id-2 div.sk-parallel-item:first-child::after {align-self: flex-end;width: 50%;}#sk-container-id-2 div.sk-parallel-item:last-child::after {align-self: flex-start;width: 50%;}#sk-container-id-2 div.sk-parallel-item:only-child::after {width: 0;}#sk-container-id-2 div.sk-dashed-wrapped {border: 1px dashed gray;margin: 0 0.4em 0.5em 0.4em;box-sizing: border-box;padding-bottom: 0.4em;background-color: white;}#sk-container-id-2 div.sk-label label {font-family: monospace;font-weight: bold;display: inline-block;line-height: 1.2em;}#sk-container-id-2 div.sk-label-container {text-align: center;}#sk-container-id-2 div.sk-container {/* jupyter's `normalize.less` sets `[hidden] { display: none; }` but bootstrap.min.css set `[hidden] { display: none !important; }` so we also need the `!important` here to be able to override the default hidden behavior on the sphinx rendered scikit-learn.org. See: https://github.com/scikit-learn/scikit-learn/issues/21755 */display: inline-block !important;position: relative;}#sk-container-id-2 div.sk-text-repr-fallback {display: none;}</style><div id=\"sk-container-id-2\" class=\"sk-top-container\"><div class=\"sk-text-repr-fallback\"><pre>SelectByShufflingFeatureSelector(X=               vendor name  Model Name  MYCT   MMIN  MMAX  CACH  CHMIN  CHMAX\n",
       "cdc          cyber:170/845          64  5240  20970    30    12     24    208\n",
       "c.r.d      universe:68/137         320   512   5000     4     1      5     77\n",
       "cambex             1641-11          50  2000  16000     8     3      6     52\n",
       "ibm                4341-12         185  2000  16000    16     1      6     76\n",
       "ibm                 3083:e          26  8000  16000     0     8     16    185\n",
       "...                    ...         ...   ...    ...   ...   ...    ...    ...\n",
       "ibm                   38/8         400  4000   8000     0     1      1     32\n",
       "bti                   5000         350    64     64     0     1      4     10\n",
       "honeywell         dps:8/20         140  2000   4000     8     1     20     22\n",
       "prime            50-750-...\n",
       "        23,  65,  34,  40,  46,  28,  74,  24,  24,  80, 381,  22,  21,\n",
       "        24,  95, 132,  74,  31, 270, 101,  56,  42,  23,  19, 120, 426,\n",
       "        24, 199,  24,  31,  47,  62, 113,  54,  33,  41,  20,  45,  21,\n",
       "       151,  30,  30,  25,  28, 171,  41,  74, 107, 253,  28,  36,  46,\n",
       "       149,  78, 182,  38,  23, 138, 381,  28, 181,  20,  47, 183,  57,\n",
       "       749, 117,  34,  53,  37,  29,  20,  41,  80,  64, 382,  75,  30,\n",
       "        18,  34,  24,  50, 190,  34,  36, 175,  39,  34,  35,  24,  82,\n",
       "        29,  19, 360, 253,  72,  48, 128, 266,  20,  15,  76,  32,  25,\n",
       "       116,  25,  35,  81,  54,  45,  15,  32,  43,  18]))</pre><b>In a Jupyter environment, please rerun this cell to show the HTML representation or trust the notebook. <br />On GitHub, the HTML representation is unable to render, please try loading this page with nbviewer.org.</b></div><div class=\"sk-container\" hidden><div class=\"sk-item sk-dashed-wrapped\"><div class=\"sk-label-container\"><div class=\"sk-label sk-toggleable\"><input class=\"sk-toggleable__control sk-hidden--visually\" id=\"sk-estimator-id-4\" type=\"checkbox\" ><label for=\"sk-estimator-id-4\" class=\"sk-toggleable__label sk-toggleable__label-arrow\">SelectByShufflingFeatureSelector</label><div class=\"sk-toggleable__content\"><pre>SelectByShufflingFeatureSelector(X=               vendor name  Model Name  MYCT   MMIN  MMAX  CACH  CHMIN  CHMAX\n",
       "cdc          cyber:170/845          64  5240  20970    30    12     24    208\n",
       "c.r.d      universe:68/137         320   512   5000     4     1      5     77\n",
       "cambex             1641-11          50  2000  16000     8     3      6     52\n",
       "ibm                4341-12         185  2000  16000    16     1      6     76\n",
       "ibm                 3083:e          26  8000  16000     0     8     16    185\n",
       "...                    ...         ...   ...    ...   ...   ...    ...    ...\n",
       "ibm                   38/8         400  4000   8000     0     1      1     32\n",
       "bti                   5000         350    64     64     0     1      4     10\n",
       "honeywell         dps:8/20         140  2000   4000     8     1     20     22\n",
       "prime            50-750-...\n",
       "        23,  65,  34,  40,  46,  28,  74,  24,  24,  80, 381,  22,  21,\n",
       "        24,  95, 132,  74,  31, 270, 101,  56,  42,  23,  19, 120, 426,\n",
       "        24, 199,  24,  31,  47,  62, 113,  54,  33,  41,  20,  45,  21,\n",
       "       151,  30,  30,  25,  28, 171,  41,  74, 107, 253,  28,  36,  46,\n",
       "       149,  78, 182,  38,  23, 138, 381,  28, 181,  20,  47, 183,  57,\n",
       "       749, 117,  34,  53,  37,  29,  20,  41,  80,  64, 382,  75,  30,\n",
       "        18,  34,  24,  50, 190,  34,  36, 175,  39,  34,  35,  24,  82,\n",
       "        29,  19, 360, 253,  72,  48, 128, 266,  20,  15,  76,  32,  25,\n",
       "       116,  25,  35,  81,  54,  45,  15,  32,  43,  18]))</pre></div></div></div><div class=\"sk-parallel\"><div class=\"sk-parallel-item\"><div class=\"sk-item\"><div class=\"sk-label-container\"><div class=\"sk-label sk-toggleable\"><input class=\"sk-toggleable__control sk-hidden--visually\" id=\"sk-estimator-id-5\" type=\"checkbox\" ><label for=\"sk-estimator-id-5\" class=\"sk-toggleable__label sk-toggleable__label-arrow\">estimator: XGBRegressor</label><div class=\"sk-toggleable__content\"><pre>XGBRegressor(base_score=None, booster=None, callbacks=None,\n",
       "             colsample_bylevel=None, colsample_bynode=None,\n",
       "             colsample_bytree=None, early_stopping_rounds=None,\n",
       "             enable_categorical=False, eval_metric=None, gamma=None,\n",
       "             gpu_id=None, grow_policy=None, importance_type=None,\n",
       "             interaction_constraints=None, learning_rate=None, max_bin=None,\n",
       "             max_cat_to_onehot=None, max_delta_step=None, max_depth=None,\n",
       "             max_leaves=None, min_child_weight=None, missing=nan,\n",
       "             monotone_constraints=None, n_estimators=100, n_jobs=None,\n",
       "             num_parallel_tree=None, predictor=None, random_state=None,\n",
       "             reg_alpha=None, reg_lambda=None, ...)</pre></div></div></div><div class=\"sk-serial\"><div class=\"sk-item\"><div class=\"sk-estimator sk-toggleable\"><input class=\"sk-toggleable__control sk-hidden--visually\" id=\"sk-estimator-id-6\" type=\"checkbox\" ><label for=\"sk-estimator-id-6\" class=\"sk-toggleable__label sk-toggleable__label-arrow\">XGBRegressor</label><div class=\"sk-toggleable__content\"><pre>XGBRegressor(base_score=None, booster=None, callbacks=None,\n",
       "             colsample_bylevel=None, colsample_bynode=None,\n",
       "             colsample_bytree=None, early_stopping_rounds=None,\n",
       "             enable_categorical=False, eval_metric=None, gamma=None,\n",
       "             gpu_id=None, grow_policy=None, importance_type=None,\n",
       "             interaction_constraints=None, learning_rate=None, max_bin=None,\n",
       "             max_cat_to_onehot=None, max_delta_step=None, max_depth=None,\n",
       "             max_leaves=None, min_child_weight=None, missing=nan,\n",
       "             monotone_constraints=None, n_estimators=100, n_jobs=None,\n",
       "             num_parallel_tree=None, predictor=None, random_state=None,\n",
       "             reg_alpha=None, reg_lambda=None, ...)</pre></div></div></div></div></div></div></div></div></div></div>"
      ],
      "text/plain": [
       "SelectByShufflingFeatureSelector(X=               vendor name  Model Name  MYCT   MMIN  MMAX  CACH  CHMIN  CHMAX\n",
       "cdc          cyber:170/845          64  5240  20970    30    12     24    208\n",
       "c.r.d      universe:68/137         320   512   5000     4     1      5     77\n",
       "cambex             1641-11          50  2000  16000     8     3      6     52\n",
       "ibm                4341-12         185  2000  16000    16     1      6     76\n",
       "ibm                 3083:e          26  8000  16000     0     8     16    185\n",
       "...                    ...         ...   ...    ...   ...   ...    ...    ...\n",
       "ibm                   38/8         400  4000   8000     0     1      1     32\n",
       "bti                   5000         350    64     64     0     1      4     10\n",
       "honeywell         dps:8/20         140  2000   4000     8     1     20     22\n",
       "prime            50-750-...\n",
       "        23,  65,  34,  40,  46,  28,  74,  24,  24,  80, 381,  22,  21,\n",
       "        24,  95, 132,  74,  31, 270, 101,  56,  42,  23,  19, 120, 426,\n",
       "        24, 199,  24,  31,  47,  62, 113,  54,  33,  41,  20,  45,  21,\n",
       "       151,  30,  30,  25,  28, 171,  41,  74, 107, 253,  28,  36,  46,\n",
       "       149,  78, 182,  38,  23, 138, 381,  28, 181,  20,  47, 183,  57,\n",
       "       749, 117,  34,  53,  37,  29,  20,  41,  80,  64, 382,  75,  30,\n",
       "        18,  34,  24,  50, 190,  34,  36, 175,  39,  34,  35,  24,  82,\n",
       "        29,  19, 360, 253,  72,  48, 128, 266,  20,  15,  76,  32,  25,\n",
       "       116,  25,  35,  81,  54,  45,  15,  32,  43,  18]))"
      ]
     },
     "execution_count": 10,
     "metadata": {},
     "output_type": "execute_result"
    }
   ],
   "source": [
    "SelectByShufflingFeatureSelector.select_by_shuffling_selector_factory.get_info_of_features_and_grades()"
   ]
  }
 ],
 "metadata": {
  "kernelspec": {
   "display_name": "Python 3.10.4 ('.venv': poetry)",
   "language": "python",
   "name": "python3"
  },
  "language_info": {
   "codemirror_mode": {
    "name": "ipython",
    "version": 3
   },
   "file_extension": ".py",
   "mimetype": "text/x-python",
   "name": "python",
   "nbconvert_exporter": "python",
   "pygments_lexer": "ipython3",
   "version": "3.10.6"
  },
  "orig_nbformat": 4,
  "vscode": {
   "interpreter": {
    "hash": "2fd4a9ad6613f01435523ab5e4297db981c1d87a44e43e252d0e314391da6eb3"
   }
  }
 },
 "nbformat": 4,
 "nbformat_minor": 2
}
