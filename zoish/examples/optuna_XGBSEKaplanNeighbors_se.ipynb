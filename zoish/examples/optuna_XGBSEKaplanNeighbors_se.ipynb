{
 "cells": [
  {
   "cell_type": "code",
   "execution_count": 1,
   "metadata": {},
   "outputs": [
    {
     "name": "stderr",
     "output_type": "stream",
     "text": [
      "IProgress not found. Please update jupyter and ipywidgets. See https://ipywidgets.readthedocs.io/en/stable/user_install.html\n",
      "\u001b[32m[I 2022-09-07 06:22:45,742]\u001b[0m A new study created in memory with name: no-name-c465a0b4-fa9e-4c60-bd38-47cdc0e3d01c\u001b[0m\n"
     ]
    },
    {
     "data": {
      "text/plain": [
       "<Figure size 432x288 with 0 Axes>"
      ]
     },
     "metadata": {},
     "output_type": "display_data"
    }
   ],
   "source": [
    "from zoish.feature_selectors.optunashap import OptunaShapFeatureSelector\n",
    "import logging\n",
    "import numpy as np\n",
    "import pandas as pd\n",
    "import xgboost\n",
    "import xgbse\n",
    "import optuna\n",
    "from optuna.samplers import TPESampler\n",
    "from optuna.pruners import HyperbandPruner\n",
    "from xgbse.converters import convert_to_structured\n",
    "from xgbse.metrics import concordance_index, approx_brier_score\n",
    "import matplotlib.pyplot as plt\n",
    "from sklearn.model_selection import KFold,train_test_split\n",
    "from sklearn.pipeline import Pipeline\n",
    "from sklearn.metrics import (\n",
    "    classification_report,\n",
    "    confusion_matrix,\n",
    "    f1_score)\n"
   ]
  },
  {
   "cell_type": "markdown",
   "metadata": {},
   "source": [
    "# Install pytorch, pycox needs it"
   ]
  },
  {
   "cell_type": "code",
   "execution_count": 2,
   "metadata": {},
   "outputs": [
    {
     "name": "stdout",
     "output_type": "stream",
     "text": [
      "Requirement already satisfied: torch in /Users/hjavedani/Documents/zoish/.venv/lib/python3.10/site-packages (1.12.1)\n",
      "Requirement already satisfied: torchvision in /Users/hjavedani/Documents/zoish/.venv/lib/python3.10/site-packages (0.13.1)\n",
      "Requirement already satisfied: torchaudio in /Users/hjavedani/Documents/zoish/.venv/lib/python3.10/site-packages (0.12.1)\n",
      "Requirement already satisfied: typing-extensions in /Users/hjavedani/Documents/zoish/.venv/lib/python3.10/site-packages (from torch) (4.2.0)\n",
      "Requirement already satisfied: requests in /Users/hjavedani/Documents/zoish/.venv/lib/python3.10/site-packages (from torchvision) (2.28.1)\n",
      "Requirement already satisfied: pillow!=8.3.*,>=5.3.0 in /Users/hjavedani/Documents/zoish/.venv/lib/python3.10/site-packages (from torchvision) (9.1.1)\n",
      "Requirement already satisfied: numpy in /Users/hjavedani/Documents/zoish/.venv/lib/python3.10/site-packages (from torchvision) (1.21.6)\n",
      "Requirement already satisfied: urllib3<1.27,>=1.21.1 in /Users/hjavedani/Documents/zoish/.venv/lib/python3.10/site-packages (from requests->torchvision) (1.26.12)\n",
      "Requirement already satisfied: certifi>=2017.4.17 in /Users/hjavedani/Documents/zoish/.venv/lib/python3.10/site-packages (from requests->torchvision) (2022.6.15)\n",
      "Requirement already satisfied: idna<4,>=2.5 in /Users/hjavedani/Documents/zoish/.venv/lib/python3.10/site-packages (from requests->torchvision) (3.3)\n",
      "Requirement already satisfied: charset-normalizer<3,>=2 in /Users/hjavedani/Documents/zoish/.venv/lib/python3.10/site-packages (from requests->torchvision) (2.1.1)\n",
      "\n",
      "\u001b[1m[\u001b[0m\u001b[34;49mnotice\u001b[0m\u001b[1;39;49m]\u001b[0m\u001b[39;49m A new release of pip available: \u001b[0m\u001b[31;49m22.1.2\u001b[0m\u001b[39;49m -> \u001b[0m\u001b[32;49m22.2.2\u001b[0m\n",
      "\u001b[1m[\u001b[0m\u001b[34;49mnotice\u001b[0m\u001b[1;39;49m]\u001b[0m\u001b[39;49m To update, run: \u001b[0m\u001b[32;49mpip install --upgrade pip\u001b[0m\n"
     ]
    }
   ],
   "source": [
    "!pip3 install torch torchvision torchaudio\n"
   ]
  },
  {
   "cell_type": "markdown",
   "metadata": {},
   "source": [
    "# Example : XGBoost Survival Embeddings (XGBSEKaplanNeighbors)\n",
    "For more information refer to this link :\n",
    "https://loft-br.github.io/xgboost-survival-embeddings/examples/confidence_interval.html"
   ]
  },
  {
   "cell_type": "markdown",
   "metadata": {},
   "source": [
    "# Data"
   ]
  },
  {
   "cell_type": "code",
   "execution_count": 3,
   "metadata": {},
   "outputs": [
    {
     "data": {
      "text/html": [
       "<div>\n",
       "<style scoped>\n",
       "    .dataframe tbody tr th:only-of-type {\n",
       "        vertical-align: middle;\n",
       "    }\n",
       "\n",
       "    .dataframe tbody tr th {\n",
       "        vertical-align: top;\n",
       "    }\n",
       "\n",
       "    .dataframe thead th {\n",
       "        text-align: right;\n",
       "    }\n",
       "</style>\n",
       "<table border=\"1\" class=\"dataframe\">\n",
       "  <thead>\n",
       "    <tr style=\"text-align: right;\">\n",
       "      <th></th>\n",
       "      <th>x0</th>\n",
       "      <th>x1</th>\n",
       "      <th>x2</th>\n",
       "      <th>x3</th>\n",
       "      <th>x4</th>\n",
       "      <th>x5</th>\n",
       "      <th>x6</th>\n",
       "      <th>x7</th>\n",
       "      <th>x8</th>\n",
       "      <th>duration</th>\n",
       "      <th>event</th>\n",
       "    </tr>\n",
       "  </thead>\n",
       "  <tbody>\n",
       "    <tr>\n",
       "      <th>0</th>\n",
       "      <td>5.603834</td>\n",
       "      <td>7.811392</td>\n",
       "      <td>10.797988</td>\n",
       "      <td>5.967607</td>\n",
       "      <td>1.0</td>\n",
       "      <td>1.0</td>\n",
       "      <td>0.0</td>\n",
       "      <td>1.0</td>\n",
       "      <td>56.840000</td>\n",
       "      <td>99.333336</td>\n",
       "      <td>0</td>\n",
       "    </tr>\n",
       "    <tr>\n",
       "      <th>1</th>\n",
       "      <td>5.284882</td>\n",
       "      <td>9.581043</td>\n",
       "      <td>10.204620</td>\n",
       "      <td>5.664970</td>\n",
       "      <td>1.0</td>\n",
       "      <td>0.0</td>\n",
       "      <td>0.0</td>\n",
       "      <td>1.0</td>\n",
       "      <td>85.940002</td>\n",
       "      <td>95.733330</td>\n",
       "      <td>1</td>\n",
       "    </tr>\n",
       "    <tr>\n",
       "      <th>2</th>\n",
       "      <td>5.920251</td>\n",
       "      <td>6.776564</td>\n",
       "      <td>12.431715</td>\n",
       "      <td>5.873857</td>\n",
       "      <td>0.0</td>\n",
       "      <td>1.0</td>\n",
       "      <td>0.0</td>\n",
       "      <td>1.0</td>\n",
       "      <td>48.439999</td>\n",
       "      <td>140.233337</td>\n",
       "      <td>0</td>\n",
       "    </tr>\n",
       "    <tr>\n",
       "      <th>3</th>\n",
       "      <td>6.654017</td>\n",
       "      <td>5.341846</td>\n",
       "      <td>8.646379</td>\n",
       "      <td>5.655888</td>\n",
       "      <td>0.0</td>\n",
       "      <td>0.0</td>\n",
       "      <td>0.0</td>\n",
       "      <td>0.0</td>\n",
       "      <td>66.910004</td>\n",
       "      <td>239.300003</td>\n",
       "      <td>0</td>\n",
       "    </tr>\n",
       "    <tr>\n",
       "      <th>4</th>\n",
       "      <td>5.456747</td>\n",
       "      <td>5.339741</td>\n",
       "      <td>10.555724</td>\n",
       "      <td>6.008429</td>\n",
       "      <td>1.0</td>\n",
       "      <td>0.0</td>\n",
       "      <td>0.0</td>\n",
       "      <td>1.0</td>\n",
       "      <td>67.849998</td>\n",
       "      <td>56.933334</td>\n",
       "      <td>1</td>\n",
       "    </tr>\n",
       "  </tbody>\n",
       "</table>\n",
       "</div>"
      ],
      "text/plain": [
       "         x0        x1         x2        x3   x4   x5   x6   x7         x8  \\\n",
       "0  5.603834  7.811392  10.797988  5.967607  1.0  1.0  0.0  1.0  56.840000   \n",
       "1  5.284882  9.581043  10.204620  5.664970  1.0  0.0  0.0  1.0  85.940002   \n",
       "2  5.920251  6.776564  12.431715  5.873857  0.0  1.0  0.0  1.0  48.439999   \n",
       "3  6.654017  5.341846   8.646379  5.655888  0.0  0.0  0.0  0.0  66.910004   \n",
       "4  5.456747  5.339741  10.555724  6.008429  1.0  0.0  0.0  1.0  67.849998   \n",
       "\n",
       "     duration  event  \n",
       "0   99.333336      0  \n",
       "1   95.733330      1  \n",
       "2  140.233337      0  \n",
       "3  239.300003      0  \n",
       "4   56.933334      1  "
      ]
     },
     "execution_count": 3,
     "metadata": {},
     "output_type": "execute_result"
    }
   ],
   "source": [
    "from pycox.datasets import metabric\n",
    "# read data metabric\n",
    "data = metabric.read_df()\n",
    "data.head()"
   ]
  },
  {
   "cell_type": "markdown",
   "metadata": {},
   "source": [
    "# Define labels in this example: \n",
    "\n",
    "y for feature selection (if you want to feature selection based on event)\n",
    "y_fs = data['event']\n",
    "\n",
    "Also in grid_xgbse bellow,  xgbse_focus should be set = \"event\",\n",
    "\n",
    "\n",
    "y for feature selection (if you want to perform feature selection based on duration)\n",
    "y_fs = data['duration']\n",
    "\n",
    "Also in grid_xgbse bellow,  xgbse_focus should be set = \"duration\",\n",
    "\n"
   ]
  },
  {
   "cell_type": "code",
   "execution_count": 4,
   "metadata": {},
   "outputs": [],
   "source": [
    "\n",
    "# splitting to X, T, E format\n",
    "X = data.drop(['duration', 'event'], axis=1)\n",
    "T = data['duration']\n",
    "E = data['event']\n",
    "y = convert_to_structured(T, E)\n",
    "# y for for feature selection (if you want do feature selection based on event)\n",
    "# y_fs = data[['event']]\n",
    "# also in grid_xgbse should set xgbse_model_needed = \"classification\",\n",
    "\n",
    "\n",
    "# y for for feature selection (if you want do feature selection based on duration)\n",
    "# y_fs = data[['duration']]\n",
    "# also in grid_xgbse should set xgbse_model_needed = \"regression\",\n",
    "\n",
    "y_fs = data[['duration']]\n",
    "\n"
   ]
  },
  {
   "cell_type": "code",
   "execution_count": 5,
   "metadata": {},
   "outputs": [
    {
     "data": {
      "text/html": [
       "<div>\n",
       "<style scoped>\n",
       "    .dataframe tbody tr th:only-of-type {\n",
       "        vertical-align: middle;\n",
       "    }\n",
       "\n",
       "    .dataframe tbody tr th {\n",
       "        vertical-align: top;\n",
       "    }\n",
       "\n",
       "    .dataframe thead th {\n",
       "        text-align: right;\n",
       "    }\n",
       "</style>\n",
       "<table border=\"1\" class=\"dataframe\">\n",
       "  <thead>\n",
       "    <tr style=\"text-align: right;\">\n",
       "      <th></th>\n",
       "      <th>duration</th>\n",
       "    </tr>\n",
       "  </thead>\n",
       "  <tbody>\n",
       "    <tr>\n",
       "      <th>0</th>\n",
       "      <td>99.333336</td>\n",
       "    </tr>\n",
       "    <tr>\n",
       "      <th>1</th>\n",
       "      <td>95.733330</td>\n",
       "    </tr>\n",
       "    <tr>\n",
       "      <th>2</th>\n",
       "      <td>140.233337</td>\n",
       "    </tr>\n",
       "    <tr>\n",
       "      <th>3</th>\n",
       "      <td>239.300003</td>\n",
       "    </tr>\n",
       "    <tr>\n",
       "      <th>4</th>\n",
       "      <td>56.933334</td>\n",
       "    </tr>\n",
       "  </tbody>\n",
       "</table>\n",
       "</div>"
      ],
      "text/plain": [
       "     duration\n",
       "0   99.333336\n",
       "1   95.733330\n",
       "2  140.233337\n",
       "3  239.300003\n",
       "4   56.933334"
      ]
     },
     "execution_count": 5,
     "metadata": {},
     "output_type": "execute_result"
    }
   ],
   "source": [
    "y_fs.head()"
   ]
  },
  {
   "cell_type": "markdown",
   "metadata": {},
   "source": [
    "# Train test split for feature selection and for the model itself\n",
    "\n",
    "splitting between train and validation (the following uses for the feature selection step - random_state should be the same in both)\n",
    " - X_train, X_test, y_train_fs, y_test_fs = train_test_split(X, y_fs, test_size=1/3, random_state = 0)\n",
    "\n",
    "splitting between train and validation (the following uses for the main model - random_state should be the same in both)\n",
    "- _ , _ , y_train, y_test = train_test_split(X, y, test_size=1/3, random_state = 0)\n"
   ]
  },
  {
   "cell_type": "code",
   "execution_count": 6,
   "metadata": {},
   "outputs": [
    {
     "data": {
      "text/plain": [
       "array([ 15,  30,  45,  60,  75,  90, 105, 120, 135, 150, 165, 180, 195,\n",
       "       210, 225, 240, 255, 270, 285, 300])"
      ]
     },
     "execution_count": 6,
     "metadata": {},
     "output_type": "execute_result"
    }
   ],
   "source": [
    "# splitting between train, and validation (the following is for feature selection step - random_state should be same in both)\n",
    "X_train, X_test, y_train_fs, y_test_fs = train_test_split(X, y_fs, test_size=1/3, random_state = 0)\n",
    "# splitting between train, and validation (the following is for fit main model - random_state should be same in both)\n",
    "_ , _ , y_train, y_test = train_test_split(X, y, test_size=1/3, random_state = 0)\n",
    "\n",
    "TIME_BINS = np.arange(15, 315, 15)\n",
    "TIME_BINS\n"
   ]
  },
  {
   "cell_type": "markdown",
   "metadata": {},
   "source": [
    "# Define Feature selector and set its arguments  \n",
    "\n",
    "The feature selector in this example (or when the focus is on \"duration\") will use XGBRegressor.\n",
    "\n",
    "So estimator_params should be matched with XGBRegressor."
   ]
  },
  {
   "cell_type": "code",
   "execution_count": 7,
   "metadata": {},
   "outputs": [
    {
     "name": "stderr",
     "output_type": "stream",
     "text": [
      "\u001b[32m[I 2022-09-07 06:22:49,471]\u001b[0m A new study created in memory with name: no-name-f4d9a02d-ceca-4105-b96a-92de150ed00c\u001b[0m\n",
      "root - INFO - Setting value for logging_basicConfig\n",
      "root - INFO - Setting value for verbose\n",
      "root - INFO - Setting value for xgbse_focus\n",
      "root - INFO - Setting value for random_state\n",
      "root - INFO - Setting value for n_features\n",
      "root - INFO - Setting value for list_of_obligatory_features_that_must_be_in_model\n",
      "root - INFO - Setting value for list of features to drop before any selection\n",
      "root - INFO - Setting value for estimator\n",
      "root - INFO - Getting value for estimator\n",
      "root - INFO - XGBSEKaplanNeighbors(xgb_params={'aft_loss_distribution': 'normal',\n",
      "                                 'aft_loss_distribution_scale': 1,\n",
      "                                 'booster': 'dart', 'colsample_bynode': 0.5,\n",
      "                                 'eval_metric': 'aft-nloglik',\n",
      "                                 'learning_rate': 0.05, 'max_depth': 8,\n",
      "                                 'min_child_weight': 50,\n",
      "                                 'objective': 'survival:aft', 'subsample': 0.5,\n",
      "                                 'tree_method': 'hist'})\n",
      "root - INFO - Getting value for estimator\n",
      "root - INFO - Setting value for estimator_params\n",
      "root - INFO - Setting value for estimator\n",
      "root - INFO - Getting value for estimator\n",
      "root - INFO - Getting value for estimator\n",
      "root - INFO - Getting value for estimator\n",
      "root - INFO - Getting value for estimator\n",
      "root - INFO - Getting value for estimator\n",
      "root - INFO - Getting value for estimator\n",
      "root - INFO - Getting value for estimator\n",
      "root - INFO - Getting value for estimator\n",
      "root - INFO - Getting value for estimator\n",
      "root - INFO - Setting value for estimator_params\n",
      "root - INFO - Getting value for estimator\n",
      "root - INFO - Getting value for estimator\n",
      "root - INFO - Getting value for estimator\n",
      "root - INFO - Setting value for model_output\n",
      "root - INFO - Setting value for feature perturbation\n",
      "root - INFO - Setting value for algorithm\n",
      "root - INFO - Setting value for shap_n_jobs\n",
      "root - INFO - Setting value for memory_tolerance\n",
      "root - INFO - Setting value for feature_names\n",
      "root - INFO - Setting value for approximate\n",
      "root - INFO - Setting value for shortcut\n",
      "root - INFO - Setting value for plot shap summary\n",
      "root - INFO - Setting value for save_shap_summary_plot\n",
      "root - INFO - Setting value for path_to_save_plot\n",
      "root - INFO - Setting value for shap_fig\n",
      "root - INFO - Setting value for test_size\n",
      "root - INFO - Setting value for with_stratified\n",
      "root - INFO - Setting value for performance metric\n",
      "root - INFO - Setting value for study\n",
      "root - INFO - Setting value for study optimize objective\n",
      "root - INFO - Setting value for study_optimize_objective_n_trials\n",
      "root - INFO - Setting value for study_optimize_objective_timeout\n",
      "root - INFO - Setting value for study_optimize_n_jobs\n",
      "root - INFO - Setting value for study_optimize_catch\n",
      "root - INFO - Setting value for study_optimize_callbacks\n",
      "root - INFO - Setting value for study_optimize_gc_after_trial\n",
      "root - INFO - Setting value for study_optimize_show_progress_bar\n",
      "root - INFO - Getting value for logging_basicConfig\n",
      "root - INFO - Setting value for best estimator\n",
      "root - INFO - Setting value for importance_df\n"
     ]
    },
    {
     "data": {
      "text/plain": [
       "<Figure size 432x288 with 0 Axes>"
      ]
     },
     "metadata": {},
     "output_type": "display_data"
    }
   ],
   "source": [
    "optuna_xgbse = OptunaShapFeatureSelector(\n",
    "        # general argument setting        \n",
    "        verbose=1,\n",
    "        random_state=0,\n",
    "        logging_basicConfig = None,\n",
    "        # general argument setting        \n",
    "        n_features=5,\n",
    "        list_of_obligatory_features_that_must_be_in_model=[],\n",
    "        list_of_features_to_drop_before_any_selection=[],\n",
    "        # shap argument setting        \n",
    "        estimator=xgbse.XGBSEKaplanNeighbors(),\n",
    "        estimator_params={\n",
    "        \"max_depth\": [4, 5],\n",
    "        \"min_child_weight\": [0.1, 0.9],\n",
    "        \"gamma\": [1, 9],\n",
    "        },\n",
    "        # shap arguments\n",
    "        model_output=\"raw\", \n",
    "        feature_perturbation=\"interventional\", \n",
    "        algorithm=\"auto\", \n",
    "        shap_n_jobs=-1, \n",
    "        memory_tolerance=-1, \n",
    "        feature_names=None, \n",
    "        approximate=False, \n",
    "        shortcut=False, \n",
    "        plot_shap_summary=False,\n",
    "        save_shap_summary_plot=True,\n",
    "        path_to_save_plot = './summary_plot.png',\n",
    "        shap_fig = plt.figure(),\n",
    "        ## optuna params\n",
    "        test_size=0.33,\n",
    "        with_stratified = False,\n",
    "        performance_metric = 'r2',\n",
    "        # optuna study init params\n",
    "        study = optuna.create_study(\n",
    "            storage = None,\n",
    "            sampler = TPESampler(),\n",
    "            pruner= HyperbandPruner(),\n",
    "            study_name  = None,\n",
    "            direction = \"maximize\",\n",
    "            load_if_exists = False,\n",
    "            directions  = None,\n",
    "            ),\n",
    "        study_optimize_objective_n_trials=10, \n",
    "        xgbse_focus = \"duration\",\n",
    "\n",
    "\n",
    ")\n"
   ]
  },
  {
   "cell_type": "markdown",
   "metadata": {},
   "source": [
    "# Build sklearn Pipeline \n",
    "\n",
    "(in this example only feature selector, because features already in\n",
    "form of numbers)"
   ]
  },
  {
   "cell_type": "code",
   "execution_count": 8,
   "metadata": {},
   "outputs": [
    {
     "name": "stderr",
     "output_type": "stream",
     "text": [
      "root - INFO - Getting value for estimator\n",
      "root - INFO - Getting value for performance metric\n",
      "root - INFO - Getting value for estimator_params\n",
      "root - INFO - Getting value for verbose\n",
      "root - INFO - Getting value for test_size\n",
      "root - INFO - Getting value for random_state\n",
      "root - INFO - Getting value for study\n",
      "root - INFO - Getting value for study optimize objective\n",
      "root - INFO - Getting value for study_optimize_objective_n_trials\n",
      "root - INFO - Getting value for study_optimize_objective_timeout\n",
      "root - INFO - Getting value for study_optimize_n_jobs\n",
      "root - INFO - Getting value for study_optimize_catch\n",
      "root - INFO - Getting value for study_optimize_callbacks\n",
      "root - INFO - Getting value for study_optimize_gc_after_trial\n",
      "root - INFO - Getting value for study_optimize_show_progress_bar\n",
      "root - INFO - Getting value for with_stratified\n",
      "root - INFO - Getting value for xgbse_focus\n"
     ]
    },
    {
     "name": "stdout",
     "output_type": "stream",
     "text": [
      "[0]\tvalidation-rmse:116.34125[0]\tvalidation-rmse:116.34125\n",
      "\n",
      "[0]\tvalidation-rmse:116.34125\n",
      "[1]\tvalidation-rmse:96.93900\n",
      "[1]\tvalidation-rmse:96.93900\n",
      "[1]\tvalidation-rmse:96.93900\n",
      "[2]\tvalidation-rmse:85.74233\n",
      "[0]\tvalidation-rmse:116.34125\n",
      "[2]\tvalidation-rmse:85.74233\n",
      "[2]\tvalidation-rmse:85.74233\n",
      "[0]\tvalidation-rmse:116.34125\n",
      "[0]\tvalidation-rmse:116.34125\n",
      "[1]\tvalidation-rmse:96.93900\n",
      "[3]\tvalidation-rmse:80.67430\n",
      "[3]\tvalidation-rmse:80.67430\n",
      "[3]\tvalidation-rmse:80.67430\n",
      "[1]\tvalidation-rmse:96.93900\n",
      "[2]\tvalidation-rmse:85.74233\n",
      "[1]\tvalidation-rmse:96.93900\n",
      "[0]\tvalidation-rmse:116.34125\n",
      "[4]\tvalidation-rmse:77.17819\n",
      "[4]\tvalidation-rmse:77.17819\n",
      "[4]\tvalidation-rmse:77.17819\n",
      "[2]\tvalidation-rmse:85.74233\n",
      "[0]\tvalidation-rmse:116.47100\n",
      "[3]\tvalidation-rmse:80.67430\n",
      "[5]\tvalidation-rmse:75.68631\n",
      "[2]\tvalidation-rmse:85.74233\n",
      "[5]\tvalidation-rmse:75.68631\n",
      "[1]\tvalidation-rmse:96.93900\n",
      "[5]\tvalidation-rmse:75.68631\n",
      "[3]\tvalidation-rmse:80.67430\n",
      "[4]\tvalidation-rmse:77.17819[6]\tvalidation-rmse:74.96988\n",
      "\n",
      "[6]\tvalidation-rmse:74.96988[3]\tvalidation-rmse:80.67430\n",
      "[2]\tvalidation-rmse:85.74233\n",
      "\n",
      "[1]\tvalidation-rmse:97.50656\n",
      "[4]\tvalidation-rmse:77.17819\n",
      "[6]\tvalidation-rmse:74.96988\n",
      "[5]\tvalidation-rmse:75.68631\n",
      "[4]\tvalidation-rmse:77.17819\n",
      "[5]\tvalidation-rmse:75.68631[7]\tvalidation-rmse:74.80721\n",
      "\n",
      "[7]\tvalidation-rmse:74.80721\n",
      "[3]\tvalidation-rmse:80.67430\n",
      "[7]\tvalidation-rmse:74.80721\n",
      "[2]\tvalidation-rmse:86.02381\n",
      "[6]\tvalidation-rmse:74.96988\n",
      "[5]\tvalidation-rmse:75.68631\n",
      "[6]\tvalidation-rmse:74.96988\n",
      "[8]\tvalidation-rmse:74.60984\n"
     ]
    },
    {
     "name": "stderr",
     "output_type": "stream",
     "text": [
      "`n_jobs` argument has been deprecated in v2.7.0. This feature will be removed in v4.0.0. See https://github.com/optuna/optuna/releases/tag/v2.7.0.\n",
      "The distribution is specified by [0.1, 0.9] and step=1, but the range is not divisible by `step`. It will be replaced by [0.1, 0.1].\n"
     ]
    },
    {
     "name": "stdout",
     "output_type": "stream",
     "text": [
      "[8]\tvalidation-rmse:74.60984[4]\tvalidation-rmse:77.17819\n",
      "\n",
      "[8]\tvalidation-rmse:74.60984\n",
      "[7]\tvalidation-rmse:74.80721\n",
      "[3]\tvalidation-rmse:80.38959\n",
      "[6]\tvalidation-rmse:74.96988\n",
      "[7]\tvalidation-rmse:74.80721\n",
      "[9]\tvalidation-rmse:74.85212\n",
      "[5]\tvalidation-rmse:75.68631[9]\tvalidation-rmse:74.85212\n",
      "\n",
      "[8]\tvalidation-rmse:74.60984[9]\tvalidation-rmse:74.85212\n",
      "\n",
      "[7]\tvalidation-rmse:74.80721\n"
     ]
    },
    {
     "name": "stderr",
     "output_type": "stream",
     "text": [
      "\u001b[32m[I 2022-09-07 06:22:49,691]\u001b[0m Trial 2 finished with value: 0.01724778885129019 and parameters: {'max_depth': 4, 'min_child_weight': 0, 'gamma': 1.344605670850771}. Best is trial 2 with value: 0.01724778885129019.\u001b[0m\n"
     ]
    },
    {
     "name": "stdout",
     "output_type": "stream",
     "text": [
      "[8]\tvalidation-rmse:74.60984[4]\tvalidation-rmse:77.76430\n",
      "[9]\tvalidation-rmse:74.85212\n",
      "\n",
      "[6]\tvalidation-rmse:74.96988\n"
     ]
    },
    {
     "name": "stderr",
     "output_type": "stream",
     "text": [
      "\u001b[32m[I 2022-09-07 06:22:49,695]\u001b[0m Trial 0 finished with value: 0.01724778885129019 and parameters: {'max_depth': 4, 'min_child_weight': 0, 'gamma': 5.339052358468782}. Best is trial 2 with value: 0.01724778885129019.\u001b[0m\n",
      "\u001b[32m[I 2022-09-07 06:22:49,698]\u001b[0m Trial 1 finished with value: 0.01724778885129019 and parameters: {'max_depth': 4, 'min_child_weight': 0, 'gamma': 8.598167746795482}. Best is trial 2 with value: 0.01724778885129019.\u001b[0m\n"
     ]
    },
    {
     "name": "stdout",
     "output_type": "stream",
     "text": [
      "[8]\tvalidation-rmse:74.60984\n",
      "[7]\tvalidation-rmse:74.80721[5]\tvalidation-rmse:76.58114\n",
      "\n",
      "[9]\tvalidation-rmse:74.85212"
     ]
    },
    {
     "name": "stderr",
     "output_type": "stream",
     "text": [
      "\u001b[32m[I 2022-09-07 06:22:49,707]\u001b[0m Trial 7 finished with value: 0.01724778885129019 and parameters: {'max_depth': 4, 'min_child_weight': 0, 'gamma': 2.7844916962753503}. Best is trial 2 with value: 0.01724778885129019.\u001b[0m\n"
     ]
    },
    {
     "name": "stdout",
     "output_type": "stream",
     "text": [
      "\n",
      "[9]\tvalidation-rmse:74.85212\n",
      "[8]\tvalidation-rmse:74.60984[6]\tvalidation-rmse:76.15698\n",
      "\n"
     ]
    },
    {
     "name": "stderr",
     "output_type": "stream",
     "text": [
      "The distribution is specified by [0.1, 0.9] and step=1, but the range is not divisible by `step`. It will be replaced by [0.1, 0.1].\n",
      "\u001b[32m[I 2022-09-07 06:22:49,720]\u001b[0m Trial 6 finished with value: 0.01724778885129019 and parameters: {'max_depth': 4, 'min_child_weight': 0, 'gamma': 4.640684948017875}. Best is trial 2 with value: 0.01724778885129019.\u001b[0m\n",
      "The distribution is specified by [0.1, 0.9] and step=1, but the range is not divisible by `step`. It will be replaced by [0.1, 0.1].\n",
      "\u001b[32m[I 2022-09-07 06:22:49,724]\u001b[0m Trial 4 finished with value: 0.01724778885129019 and parameters: {'max_depth': 4, 'min_child_weight': 0, 'gamma': 6.249286842297109}. Best is trial 2 with value: 0.01724778885129019.\u001b[0m\n"
     ]
    },
    {
     "name": "stdout",
     "output_type": "stream",
     "text": [
      "[9]\tvalidation-rmse:74.85212[7]\tvalidation-rmse:75.92025\n",
      "\n",
      "[0]\tvalidation-rmse:116.34125\n"
     ]
    },
    {
     "name": "stderr",
     "output_type": "stream",
     "text": [
      "\u001b[32m[I 2022-09-07 06:22:49,732]\u001b[0m Trial 3 finished with value: 0.01724778885129019 and parameters: {'max_depth': 4, 'min_child_weight': 0, 'gamma': 2.2125479637879284}. Best is trial 2 with value: 0.01724778885129019.\u001b[0m\n"
     ]
    },
    {
     "name": "stdout",
     "output_type": "stream",
     "text": [
      "[0]\tvalidation-rmse:116.47100\n",
      "[8]\tvalidation-rmse:75.67320\n",
      "[1]\tvalidation-rmse:96.93900\n",
      "[9]\tvalidation-rmse:75.68884\n",
      "[1]\tvalidation-rmse:97.50656\n",
      "[2]\tvalidation-rmse:85.74233\n"
     ]
    },
    {
     "name": "stderr",
     "output_type": "stream",
     "text": [
      "\u001b[32m[I 2022-09-07 06:22:49,747]\u001b[0m Trial 5 finished with value: -0.004846115711912846 and parameters: {'max_depth': 5, 'min_child_weight': 0, 'gamma': 1.0253063065608368}. Best is trial 2 with value: 0.01724778885129019.\u001b[0m\n"
     ]
    },
    {
     "name": "stdout",
     "output_type": "stream",
     "text": [
      "[2]\tvalidation-rmse:86.02381\n",
      "[3]\tvalidation-rmse:80.67430\n",
      "[3]\tvalidation-rmse:80.38959\n",
      "[4]\tvalidation-rmse:77.17819\n",
      "[5]\tvalidation-rmse:75.68631\n",
      "[4]\tvalidation-rmse:77.76430\n",
      "[6]\tvalidation-rmse:74.96988\n",
      "[5]\tvalidation-rmse:76.58114\n",
      "[7]\tvalidation-rmse:74.80721\n",
      "[6]\tvalidation-rmse:76.15698\n",
      "[8]\tvalidation-rmse:74.60984\n",
      "[7]\tvalidation-rmse:75.92025\n",
      "[9]\tvalidation-rmse:74.85212\n",
      "[8]\tvalidation-rmse:75.67320\n"
     ]
    },
    {
     "name": "stderr",
     "output_type": "stream",
     "text": [
      "\u001b[32m[I 2022-09-07 06:22:49,784]\u001b[0m Trial 9 finished with value: 0.01724778885129019 and parameters: {'max_depth': 4, 'min_child_weight': 0, 'gamma': 4.87322523170415}. Best is trial 2 with value: 0.01724778885129019.\u001b[0m\n"
     ]
    },
    {
     "name": "stdout",
     "output_type": "stream",
     "text": [
      "[9]\tvalidation-rmse:75.68884\n"
     ]
    },
    {
     "name": "stderr",
     "output_type": "stream",
     "text": [
      "\u001b[32m[I 2022-09-07 06:22:49,799]\u001b[0m Trial 8 finished with value: -0.004846115711912846 and parameters: {'max_depth': 5, 'min_child_weight': 0, 'gamma': 8.729215622244794}. Best is trial 2 with value: 0.01724778885129019.\u001b[0m\n"
     ]
    },
    {
     "name": "stdout",
     "output_type": "stream",
     "text": [
      "{'max_depth': 4, 'min_child_weight': 0, 'gamma': 1.344605670850771}\n",
      "[0]\tvalidation-rmse:116.34125\n",
      "[1]\tvalidation-rmse:96.93900\n",
      "[2]\tvalidation-rmse:85.74233\n",
      "[3]\tvalidation-rmse:80.67430\n",
      "[4]\tvalidation-rmse:77.17819\n",
      "[5]\tvalidation-rmse:75.68631\n",
      "[6]\tvalidation-rmse:74.96988\n",
      "[7]\tvalidation-rmse:74.80721\n",
      "[8]\tvalidation-rmse:74.60984\n",
      "[9]\tvalidation-rmse:74.85212\n"
     ]
    },
    {
     "name": "stderr",
     "output_type": "stream",
     "text": [
      "root - INFO - Setting value for best estimator\n",
      "root - INFO - Getting value for estimator\n",
      "root - INFO - Getting value for estimator\n",
      "root - INFO - Getting value for best estimator\n",
      "root - INFO - Getting value for model_output\n",
      "root - INFO - Getting value for feature perturbation\n",
      "root - INFO - Getting value for algorithm\n",
      "root - INFO - Getting value for shap_n_jobs\n",
      "root - INFO - Getting value for memory_tolerance\n",
      "root - INFO - Getting value for feature_names\n"
     ]
    },
    {
     "name": "stdout",
     "output_type": "stream",
     "text": [
      "XGBRegressor\n"
     ]
    },
    {
     "name": "stderr",
     "output_type": "stream",
     "text": [
      "root - INFO - Getting value for approximate\n",
      "root - INFO - Getting value for shortcut\n",
      "root - INFO - Getting value for plot shap summary\n",
      "root - INFO - Getting value for save_shap_summary_plot\n",
      "root - INFO - Getting value for n_features\n"
     ]
    },
    {
     "name": "stdout",
     "output_type": "stream",
     "text": [
      ".values =\n",
      "array([[-2.05171872e+01,  3.49701147e+00,  1.21635859e+00, ...,\n",
      "         4.61964133e+00, -1.12680848e-01,  4.53966749e+00],\n",
      "       [-6.34295267e+00,  7.58534358e+00, -1.22623208e+01, ...,\n",
      "         4.73083571e+00, -1.12680848e-01, -1.36199884e+01],\n",
      "       [ 3.03174441e+00,  8.50356220e+00, -2.08184213e+01, ...,\n",
      "         3.80822283e+00, -1.12680848e-01,  4.18465937e+00],\n",
      "       ...,\n",
      "       [ 6.69514964e+00,  2.31327843e+00,  1.70247070e+00, ...,\n",
      "        -2.87580416e+01, -1.42007463e-02,  1.96700466e+01],\n",
      "       [-1.69423441e+01, -1.27754553e+01,  5.55881561e+00, ...,\n",
      "        -3.16229933e+01, -3.57449158e-02,  2.23570470e+01],\n",
      "       [ 4.05584881e+00,  4.47072402e+00, -3.45506907e-01, ...,\n",
      "        -1.82640919e+01, -6.82871809e-02, -3.82825404e+00]])\n",
      "\n",
      ".base_values =\n",
      "array([[122.60388172],\n",
      "       [122.60388172],\n",
      "       [122.60388172],\n",
      "       ...,\n",
      "       [122.60388172],\n",
      "       [122.60388172],\n",
      "       [122.60388172]])\n",
      "\n",
      ".data =\n",
      "array([[ 5.259714 ,  7.07262  , 11.602811 , ...,  0.       ,  1.       ,\n",
      "        56.11     ],\n",
      "       [ 5.557993 ,  6.741262 ,  9.116503 , ...,  0.       ,  1.       ,\n",
      "        75.71     ],\n",
      "       [ 5.6806765,  6.141229 ,  9.638722 , ...,  0.       ,  1.       ,\n",
      "        49.87     ],\n",
      "       ...,\n",
      "       [ 5.8149223,  8.205788 , 11.880357 , ...,  1.       ,  0.       ,\n",
      "        41.17     ],\n",
      "       [ 7.0540814,  5.0545154, 13.592611 , ...,  1.       ,  0.       ,\n",
      "        35.14     ],\n",
      "       [ 5.7935643,  8.5377865, 10.824402 , ...,  1.       ,  1.       ,\n",
      "        52.55     ]], dtype=float32)\n"
     ]
    },
    {
     "name": "stderr",
     "output_type": "stream",
     "text": [
      "root - INFO - Getting value for path_to_save_plot\n",
      "root - INFO - Getting value for shap_fig\n",
      "Matplotlib is currently using module://matplotlib_inline.backend_inline, which is a non-GUI backend, so cannot show the figure.\n",
      "root - INFO - Setting value for importance_df\n",
      "root - INFO - Getting value for importance_df\n",
      "root - INFO - Getting value for importance_df\n",
      "root - INFO - Getting value for importance_df\n",
      "root - INFO - Getting value for importance_df\n",
      "root - INFO - Setting value for importance_df\n",
      "root - INFO - Getting value for importance_df\n",
      "root - INFO - Getting value for importance_df\n",
      "root - INFO - Getting value for n_features\n",
      "root - INFO - Getting value for n_features\n",
      "root - INFO - Getting value for importance_df\n",
      "root - INFO - Getting value for importance_df\n"
     ]
    },
    {
     "name": "stdout",
     "output_type": "stream",
     "text": [
      "    0          1\n",
      "0  x0   4.280432\n",
      "1  x1   7.762735\n",
      "2  x2   3.644847\n",
      "3  x3   3.302002\n",
      "4  x4    4.60284\n",
      "5  x5   1.319713\n",
      "6  x6  10.035227\n",
      "7  x7   0.152524\n",
      "8  x8  12.944945\n",
      "  column_name shap_importance\n",
      "0          x0        4.280432\n",
      "1          x1        7.762735\n",
      "2          x2        3.644847\n",
      "3          x3        3.302002\n",
      "4          x4         4.60284\n",
      "5          x5        1.319713\n",
      "6          x6       10.035227\n",
      "7          x7        0.152524\n",
      "8          x8       12.944945\n",
      "  column_name shap_importance\n",
      "8          x8       12.944945\n",
      "6          x6       10.035227\n",
      "1          x1        7.762735\n",
      "4          x4         4.60284\n",
      "0          x0        4.280432\n",
      "2          x2        3.644847\n",
      "3          x3        3.302002\n",
      "5          x5        1.319713\n",
      "7          x7        0.152524\n",
      "  column_name shap_importance\n",
      "8          x8       12.944945\n",
      "6          x6       10.035227\n",
      "1          x1        7.762735\n",
      "4          x4         4.60284\n",
      "0          x0        4.280432\n"
     ]
    },
    {
     "data": {
      "image/png": "[encoded data removed]",
      "text/plain": [
       "<Figure size 576x252 with 2 Axes>"
      ]
     },
     "metadata": {
      "needs_background": "light"
     },
     "output_type": "display_data"
    }
   ],
   "source": [
    "\n",
    "pipeline = Pipeline([\n",
    "            # feature selection\n",
    "            ('optuna_xgbse', optuna_xgbse),\n",
    "\n",
    " ])\n",
    "\n",
    "X_train=pipeline.fit_transform(X_train,y_train_fs)\n"
   ]
  },
  {
   "cell_type": "markdown",
   "metadata": {},
   "source": [
    "# Transform X_test\n",
    "\n",
    "X_train already transformed (features already selected), it is time to transform X_text\n",
    "\n"
   ]
  },
  {
   "cell_type": "code",
   "execution_count": 9,
   "metadata": {},
   "outputs": [],
   "source": [
    "X_test = pipeline.transform(X_test)"
   ]
  },
  {
   "cell_type": "markdown",
   "metadata": {},
   "source": [
    "# Prepare for using XGBSEKaplanNeighbors and fit the model\n",
    "\n",
    "Note that features already selected by the above pipeline\n"
   ]
  },
  {
   "cell_type": "code",
   "execution_count": 10,
   "metadata": {},
   "outputs": [],
   "source": [
    "PARAMS_TREE = {\n",
    "    'objective': 'survival:cox',\n",
    "    'eval_metric': 'cox-nloglik',\n",
    "    'tree_method': 'hist',\n",
    "    'max_depth': 10,\n",
    "    'booster':'dart',\n",
    "    'subsample': 1.0,\n",
    "    'min_child_weight': 50,\n",
    "    'colsample_bynode': 1.0\n",
    "}\n",
    "\n",
    "xgbse_model = xgbse.XGBSEKaplanNeighbors(PARAMS_TREE)\n",
    "xgbse_model.fit(X_train, y_train, time_bins=TIME_BINS)\n",
    "mean, upper_ci, lower_ci  = xgbse_model.predict(X_test,return_ci=True)\n",
    "\n"
   ]
  },
  {
   "cell_type": "markdown",
   "metadata": {},
   "source": [
    "# To easily plot confidence intervals\n"
   ]
  },
  {
   "cell_type": "code",
   "execution_count": 11,
   "metadata": {},
   "outputs": [],
   "source": [
    "# to easily plot confidence intervals\n",
    "def plot_ci(mean, upper_ci, lower_ci, i=42, title='Probability of survival $P(T \\geq t)$'):\n",
    "\n",
    "    # plotting mean and confidence intervals\n",
    "    plt.figure(figsize=(12, 4), dpi=120)\n",
    "    plt.plot(mean.columns,mean.iloc[i])\n",
    "    plt.fill_between(mean.columns, lower_ci.iloc[i], upper_ci.iloc[i], alpha=0.2)\n",
    "\n",
    "    plt.title(title)\n",
    "    plt.xlabel('Time [days]')\n",
    "    plt.ylabel('Probability')\n",
    "    plt.tight_layout()\n"
   ]
  },
  {
   "cell_type": "markdown",
   "metadata": {},
   "source": [
    "# Check performance of the feature selector and model integrated"
   ]
  },
  {
   "cell_type": "code",
   "execution_count": 12,
   "metadata": {},
   "outputs": [
    {
     "name": "stdout",
     "output_type": "stream",
     "text": [
      "C-index: 0.6362251688624119\n",
      "Avg. Brier Score: 0.17961582533009496\n"
     ]
    },
    {
     "data": {
      "image/png": "[encoded data removed]",
      "text/plain": [
       "<Figure size 1440x480 with 1 Axes>"
      ]
     },
     "metadata": {
      "needs_background": "light"
     },
     "output_type": "display_data"
    }
   ],
   "source": [
    "# print metrics\n",
    "print(f\"C-index: {concordance_index(y_test, mean)}\")\n",
    "print(f\"Avg. Brier Score: {approx_brier_score(y_test, mean)}\")\n",
    "\n",
    "# plotting CIs\n",
    "plot_ci(mean, upper_ci, lower_ci)\n",
    "\n"
   ]
  },
  {
   "cell_type": "markdown",
   "metadata": {},
   "source": [
    "It is interesting to see that obtained results by using only selected five features are comparable to the original example in \n",
    "\n",
    "https://loft-br.github.io/xgboost-survival-embeddings/examples/confidence_interval.html\n",
    "\n",
    "the model used all eight features with the same test and train data and parameters. "
   ]
  }
 ],
 "metadata": {
  "kernelspec": {
   "display_name": "Python 3.10.4 ('.venv': poetry)",
   "language": "python",
   "name": "python3"
  },
  "language_info": {
   "codemirror_mode": {
    "name": "ipython",
    "version": 3
   },
   "file_extension": ".py",
   "mimetype": "text/x-python",
   "name": "python",
   "nbconvert_exporter": "python",
   "pygments_lexer": "ipython3",
   "version": "3.10.4"
  },
  "orig_nbformat": 4,
  "vscode": {
   "interpreter": {
    "hash": "2fd4a9ad6613f01435523ab5e4297db981c1d87a44e43e252d0e314391da6eb3"
   }
  }
 },
 "nbformat": 4,
 "nbformat_minor": 2
}
