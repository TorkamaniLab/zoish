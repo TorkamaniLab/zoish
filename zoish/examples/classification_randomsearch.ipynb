{
 "cells": [
  {
   "cell_type": "code",
   "execution_count": 1,
   "metadata": {},
   "outputs": [
    {
     "name": "stderr",
     "output_type": "stream",
     "text": [
      "IProgress not found. Please update jupyter and ipywidgets. See https://ipywidgets.readthedocs.io/en/stable/user_install.html\n"
     ]
    },
    {
     "data": {
      "text/plain": [
       "<Figure size 432x288 with 0 Axes>"
      ]
     },
     "metadata": {},
     "output_type": "display_data"
    }
   ],
   "source": [
    "from zoish.feature_selectors.randomshap import RandomizedSearchCVShapFeatureSelector\n",
    "import logging\n",
    "from sklearn.model_selection import KFold,train_test_split\n",
    "import pandas as pd\n",
    "from sklearn.pipeline import Pipeline\n",
    "from feature_engine.imputation import (\n",
    "    CategoricalImputer,\n",
    "    MeanMedianImputer\n",
    "    )\n",
    "from category_encoders import OrdinalEncoder\n",
    "from sklearn.linear_model import LogisticRegression\n",
    "from sklearn.metrics import (\n",
    "    classification_report,\n",
    "    confusion_matrix,\n",
    "    f1_score)\n",
    "from sklearn.model_selection import StratifiedKFold\n",
    "import matplotlib.pyplot as plt\n"
   ]
  },
  {
   "cell_type": "markdown",
   "metadata": {},
   "source": [
    "# Example 1 : Use Adult Data Set (a classification problem)\n",
    "  \n",
    "https://archive.ics.uci.edu/ml/datasets/Adult"
   ]
  },
  {
   "cell_type": "code",
   "execution_count": 2,
   "metadata": {},
   "outputs": [
    {
     "data": {
      "text/html": [
       "<div>\n",
       "<style scoped>\n",
       "    .dataframe tbody tr th:only-of-type {\n",
       "        vertical-align: middle;\n",
       "    }\n",
       "\n",
       "    .dataframe tbody tr th {\n",
       "        vertical-align: top;\n",
       "    }\n",
       "\n",
       "    .dataframe thead th {\n",
       "        text-align: right;\n",
       "    }\n",
       "</style>\n",
       "<table border=\"1\" class=\"dataframe\">\n",
       "  <thead>\n",
       "    <tr style=\"text-align: right;\">\n",
       "      <th></th>\n",
       "      <th>age</th>\n",
       "      <th>workclass</th>\n",
       "      <th>fnlwgt</th>\n",
       "      <th>education</th>\n",
       "      <th>education-num</th>\n",
       "      <th>marital-status</th>\n",
       "      <th>occupation</th>\n",
       "      <th>relationship</th>\n",
       "      <th>race</th>\n",
       "      <th>sex</th>\n",
       "      <th>capital-gain</th>\n",
       "      <th>capital-loss</th>\n",
       "      <th>hours-per-week</th>\n",
       "      <th>native-country</th>\n",
       "      <th>label</th>\n",
       "    </tr>\n",
       "  </thead>\n",
       "  <tbody>\n",
       "    <tr>\n",
       "      <th>0</th>\n",
       "      <td>39</td>\n",
       "      <td>State-gov</td>\n",
       "      <td>77516</td>\n",
       "      <td>Bachelors</td>\n",
       "      <td>13</td>\n",
       "      <td>Never-married</td>\n",
       "      <td>Adm-clerical</td>\n",
       "      <td>Not-in-family</td>\n",
       "      <td>White</td>\n",
       "      <td>Male</td>\n",
       "      <td>2174</td>\n",
       "      <td>0</td>\n",
       "      <td>40</td>\n",
       "      <td>United-States</td>\n",
       "      <td>&lt;=50K</td>\n",
       "    </tr>\n",
       "    <tr>\n",
       "      <th>1</th>\n",
       "      <td>50</td>\n",
       "      <td>Self-emp-not-inc</td>\n",
       "      <td>83311</td>\n",
       "      <td>Bachelors</td>\n",
       "      <td>13</td>\n",
       "      <td>Married-civ-spouse</td>\n",
       "      <td>Exec-managerial</td>\n",
       "      <td>Husband</td>\n",
       "      <td>White</td>\n",
       "      <td>Male</td>\n",
       "      <td>0</td>\n",
       "      <td>0</td>\n",
       "      <td>13</td>\n",
       "      <td>United-States</td>\n",
       "      <td>&lt;=50K</td>\n",
       "    </tr>\n",
       "    <tr>\n",
       "      <th>2</th>\n",
       "      <td>38</td>\n",
       "      <td>Private</td>\n",
       "      <td>215646</td>\n",
       "      <td>HS-grad</td>\n",
       "      <td>9</td>\n",
       "      <td>Divorced</td>\n",
       "      <td>Handlers-cleaners</td>\n",
       "      <td>Not-in-family</td>\n",
       "      <td>White</td>\n",
       "      <td>Male</td>\n",
       "      <td>0</td>\n",
       "      <td>0</td>\n",
       "      <td>40</td>\n",
       "      <td>United-States</td>\n",
       "      <td>&lt;=50K</td>\n",
       "    </tr>\n",
       "    <tr>\n",
       "      <th>3</th>\n",
       "      <td>53</td>\n",
       "      <td>Private</td>\n",
       "      <td>234721</td>\n",
       "      <td>11th</td>\n",
       "      <td>7</td>\n",
       "      <td>Married-civ-spouse</td>\n",
       "      <td>Handlers-cleaners</td>\n",
       "      <td>Husband</td>\n",
       "      <td>Black</td>\n",
       "      <td>Male</td>\n",
       "      <td>0</td>\n",
       "      <td>0</td>\n",
       "      <td>40</td>\n",
       "      <td>United-States</td>\n",
       "      <td>&lt;=50K</td>\n",
       "    </tr>\n",
       "    <tr>\n",
       "      <th>4</th>\n",
       "      <td>28</td>\n",
       "      <td>Private</td>\n",
       "      <td>338409</td>\n",
       "      <td>Bachelors</td>\n",
       "      <td>13</td>\n",
       "      <td>Married-civ-spouse</td>\n",
       "      <td>Prof-specialty</td>\n",
       "      <td>Wife</td>\n",
       "      <td>Black</td>\n",
       "      <td>Female</td>\n",
       "      <td>0</td>\n",
       "      <td>0</td>\n",
       "      <td>40</td>\n",
       "      <td>Cuba</td>\n",
       "      <td>&lt;=50K</td>\n",
       "    </tr>\n",
       "  </tbody>\n",
       "</table>\n",
       "</div>"
      ],
      "text/plain": [
       "   age          workclass  fnlwgt   education  education-num  \\\n",
       "0   39          State-gov   77516   Bachelors             13   \n",
       "1   50   Self-emp-not-inc   83311   Bachelors             13   \n",
       "2   38            Private  215646     HS-grad              9   \n",
       "3   53            Private  234721        11th              7   \n",
       "4   28            Private  338409   Bachelors             13   \n",
       "\n",
       "        marital-status          occupation    relationship    race      sex  \\\n",
       "0        Never-married        Adm-clerical   Not-in-family   White     Male   \n",
       "1   Married-civ-spouse     Exec-managerial         Husband   White     Male   \n",
       "2             Divorced   Handlers-cleaners   Not-in-family   White     Male   \n",
       "3   Married-civ-spouse   Handlers-cleaners         Husband   Black     Male   \n",
       "4   Married-civ-spouse      Prof-specialty            Wife   Black   Female   \n",
       "\n",
       "   capital-gain  capital-loss  hours-per-week  native-country   label  \n",
       "0          2174             0              40   United-States   <=50K  \n",
       "1             0             0              13   United-States   <=50K  \n",
       "2             0             0              40   United-States   <=50K  \n",
       "3             0             0              40   United-States   <=50K  \n",
       "4             0             0              40            Cuba   <=50K  "
      ]
     },
     "execution_count": 2,
     "metadata": {},
     "output_type": "execute_result"
    }
   ],
   "source": [
    "urldata= \"https://archive.ics.uci.edu/ml/machine-learning-databases/adult/adult.data\"\n",
    "# column names\n",
    "col_names=[\"age\", \"workclass\", \"fnlwgt\" , \"education\" ,\"education-num\",\n",
    "\"marital-status\",\"occupation\",\"relationship\",\"race\",\"sex\",\"capital-gain\",\"capital-loss\",\"hours-per-week\",\n",
    "\"native-country\",\"label\"\n",
    "]\n",
    "# read data\n",
    "data = pd.read_csv(urldata,header=None,names=col_names,sep=',')\n",
    "data.head()"
   ]
  },
  {
   "cell_type": "markdown",
   "metadata": {},
   "source": [
    "# Define labels\n"
   ]
  },
  {
   "cell_type": "code",
   "execution_count": 3,
   "metadata": {},
   "outputs": [],
   "source": [
    "data.loc[data['label']=='<=50K','label']=0\n",
    "data.loc[data['label']==' <=50K','label']=0\n",
    "\n",
    "data.loc[data['label']=='>50K','label']=1\n",
    "data.loc[data['label']==' >50K','label']=1\n",
    "\n",
    "data['label']=data['label'].astype(int)"
   ]
  },
  {
   "cell_type": "markdown",
   "metadata": {},
   "source": [
    "# Train test split"
   ]
  },
  {
   "cell_type": "code",
   "execution_count": 4,
   "metadata": {},
   "outputs": [],
   "source": [
    "X = data.loc[:, data.columns != \"label\"]\n",
    "y = data.loc[:, data.columns == \"label\"]\n",
    "\n",
    "\n",
    "X_train, X_test, y_train, y_test =train_test_split(X, y, test_size=0.33, stratify=y['label'], random_state=42)\n"
   ]
  },
  {
   "cell_type": "markdown",
   "metadata": {},
   "source": [
    "# Find feature types for later use"
   ]
  },
  {
   "cell_type": "code",
   "execution_count": 5,
   "metadata": {},
   "outputs": [],
   "source": [
    "int_cols =  X_train.select_dtypes(include=['int']).columns.tolist()\n",
    "float_cols =  X_train.select_dtypes(include=['float']).columns.tolist()\n",
    "cat_cols =  X_train.select_dtypes(include=['object']).columns.tolist()\n"
   ]
  },
  {
   "cell_type": "markdown",
   "metadata": {},
   "source": [
    "# Define Feature selector and set it argumens "
   ]
  },
  {
   "cell_type": "code",
   "execution_count": 6,
   "metadata": {},
   "outputs": [
    {
     "data": {
      "text/plain": [
       "<Figure size 432x288 with 0 Axes>"
      ]
     },
     "metadata": {},
     "output_type": "display_data"
    }
   ],
   "source": [
    "from zoish.utils.helper_funcs import RandomForestClassifier\n",
    "\n",
    "\n",
    "grid_classification_xgb = RandomizedSearchCVShapFeatureSelector(\n",
    "        # general argument setting        \n",
    "        verbose=5,\n",
    "        random_state=0,\n",
    "        logging_basicConfig = None,\n",
    "        # general argument setting        \n",
    "        n_features=4,\n",
    "        list_of_obligatory_features_that_must_be_in_model=[],\n",
    "        list_of_features_to_drop_before_any_selection=[],\n",
    "        # shap argument setting        \n",
    "        estimator=RandomForestClassifier(),\n",
    "        estimator_params={\n",
    "        \"max_depth\": [4, 5],\n",
    "        \"n_estimators\": [50, 100],\n",
    "        },\n",
    "        # shap arguments\n",
    "        model_output=\"raw\", \n",
    "        feature_perturbation=\"interventional\", \n",
    "        algorithm=\"auto\", \n",
    "        shap_n_jobs=-1, \n",
    "        memory_tolerance=-1, \n",
    "        feature_names=None, \n",
    "        approximate=False, \n",
    "        shortcut=False, \n",
    "        plot_shap_summary=True,\n",
    "        save_shap_summary_plot=False,\n",
    "        path_to_save_plot = './summary_plot.png',\n",
    "        shap_fig = plt.figure(),\n",
    "        n_iter = 10,\n",
    "        ## optuna params\n",
    "        performance_metric = 'f1',\n",
    "        cv = StratifiedKFold(n_splits=3, shuffle=True),\n",
    "\n",
    ")\n"
   ]
  },
  {
   "cell_type": "markdown",
   "metadata": {},
   "source": [
    "# Build sklearn Pipeline"
   ]
  },
  {
   "cell_type": "code",
   "execution_count": 7,
   "metadata": {},
   "outputs": [],
   "source": [
    "\n",
    "\n",
    "pipeline =Pipeline([\n",
    "            # int missing values imputers\n",
    "            ('intimputer', MeanMedianImputer(\n",
    "                imputation_method='median', variables=int_cols)),\n",
    "            # category missing values imputers\n",
    "            ('catimputer', CategoricalImputer(variables=cat_cols)),\n",
    "            #\n",
    "            ('catencoder', OrdinalEncoder()),\n",
    "            # feature selection\n",
    "            ('SFC_XGBCLS_OPTUNA', grid_classification_xgb),\n",
    "            # classification model\n",
    "            ('logistic', LogisticRegression())\n",
    "\n",
    "\n",
    " ])\n",
    "\n"
   ]
  },
  {
   "cell_type": "markdown",
   "metadata": {},
   "source": [
    "# Run Pipeline"
   ]
  },
  {
   "cell_type": "code",
   "execution_count": 8,
   "metadata": {},
   "outputs": [
    {
     "name": "stderr",
     "output_type": "stream",
     "text": [
      "The total space of parameters 4 is smaller than n_iter=10. Running 4 iterations. For exhaustive searches, use GridSearchCV.\n",
      "A column-vector y was passed when a 1d array was expected. Please change the shape of y to (n_samples,), for example using ravel().\n"
     ]
    },
    {
     "name": "stdout",
     "output_type": "stream",
     "text": [
      "Fitting 3 folds for each of 4 candidates, totalling 12 fits\n",
      "[CV 1/3] END ......max_depth=4, n_estimators=50;, score=0.597 total time=   0.3s\n"
     ]
    },
    {
     "name": "stderr",
     "output_type": "stream",
     "text": [
      "A column-vector y was passed when a 1d array was expected. Please change the shape of y to (n_samples,), for example using ravel().\n"
     ]
    },
    {
     "name": "stdout",
     "output_type": "stream",
     "text": [
      "[CV 2/3] END ......max_depth=4, n_estimators=50;, score=0.609 total time=   0.2s\n"
     ]
    },
    {
     "name": "stderr",
     "output_type": "stream",
     "text": [
      "A column-vector y was passed when a 1d array was expected. Please change the shape of y to (n_samples,), for example using ravel().\n"
     ]
    },
    {
     "name": "stdout",
     "output_type": "stream",
     "text": [
      "[CV 3/3] END ......max_depth=4, n_estimators=50;, score=0.615 total time=   0.3s\n"
     ]
    },
    {
     "name": "stderr",
     "output_type": "stream",
     "text": [
      "A column-vector y was passed when a 1d array was expected. Please change the shape of y to (n_samples,), for example using ravel().\n"
     ]
    },
    {
     "name": "stdout",
     "output_type": "stream",
     "text": [
      "[CV 1/3] END .....max_depth=4, n_estimators=100;, score=0.596 total time=   0.5s\n"
     ]
    },
    {
     "name": "stderr",
     "output_type": "stream",
     "text": [
      "A column-vector y was passed when a 1d array was expected. Please change the shape of y to (n_samples,), for example using ravel().\n"
     ]
    },
    {
     "name": "stdout",
     "output_type": "stream",
     "text": [
      "[CV 2/3] END .....max_depth=4, n_estimators=100;, score=0.610 total time=   0.6s\n"
     ]
    },
    {
     "name": "stderr",
     "output_type": "stream",
     "text": [
      "A column-vector y was passed when a 1d array was expected. Please change the shape of y to (n_samples,), for example using ravel().\n"
     ]
    },
    {
     "name": "stdout",
     "output_type": "stream",
     "text": [
      "[CV 3/3] END .....max_depth=4, n_estimators=100;, score=0.615 total time=   0.6s\n"
     ]
    },
    {
     "name": "stderr",
     "output_type": "stream",
     "text": [
      "A column-vector y was passed when a 1d array was expected. Please change the shape of y to (n_samples,), for example using ravel().\n"
     ]
    },
    {
     "name": "stdout",
     "output_type": "stream",
     "text": [
      "[CV 1/3] END ......max_depth=5, n_estimators=50;, score=0.605 total time=   0.3s\n"
     ]
    },
    {
     "name": "stderr",
     "output_type": "stream",
     "text": [
      "A column-vector y was passed when a 1d array was expected. Please change the shape of y to (n_samples,), for example using ravel().\n"
     ]
    },
    {
     "name": "stdout",
     "output_type": "stream",
     "text": [
      "[CV 2/3] END ......max_depth=5, n_estimators=50;, score=0.639 total time=   0.3s\n"
     ]
    },
    {
     "name": "stderr",
     "output_type": "stream",
     "text": [
      "A column-vector y was passed when a 1d array was expected. Please change the shape of y to (n_samples,), for example using ravel().\n"
     ]
    },
    {
     "name": "stdout",
     "output_type": "stream",
     "text": [
      "[CV 3/3] END ......max_depth=5, n_estimators=50;, score=0.622 total time=   0.3s\n"
     ]
    },
    {
     "name": "stderr",
     "output_type": "stream",
     "text": [
      "A column-vector y was passed when a 1d array was expected. Please change the shape of y to (n_samples,), for example using ravel().\n"
     ]
    },
    {
     "name": "stdout",
     "output_type": "stream",
     "text": [
      "[CV 1/3] END .....max_depth=5, n_estimators=100;, score=0.616 total time=   0.6s\n"
     ]
    },
    {
     "name": "stderr",
     "output_type": "stream",
     "text": [
      "A column-vector y was passed when a 1d array was expected. Please change the shape of y to (n_samples,), for example using ravel().\n"
     ]
    },
    {
     "name": "stdout",
     "output_type": "stream",
     "text": [
      "[CV 2/3] END .....max_depth=5, n_estimators=100;, score=0.628 total time=   0.8s\n"
     ]
    },
    {
     "name": "stderr",
     "output_type": "stream",
     "text": [
      "A column-vector y was passed when a 1d array was expected. Please change the shape of y to (n_samples,), for example using ravel().\n"
     ]
    },
    {
     "name": "stdout",
     "output_type": "stream",
     "text": [
      "[CV 3/3] END .....max_depth=5, n_estimators=100;, score=0.620 total time=   1.0s\n"
     ]
    },
    {
     "name": "stderr",
     "output_type": "stream",
     "text": [
      "A column-vector y was passed when a 1d array was expected. Please change the shape of y to (n_samples,), for example using ravel().\n"
     ]
    },
    {
     "name": "stdout",
     "output_type": "stream",
     "text": [
      "RandomForestClassifier\n",
      ".values =\n",
      "array([[[ 6.42465054e-02, -6.42465054e-02],\n",
      "        [ 9.52498915e-04, -9.52498915e-04],\n",
      "        [-2.18348990e-04,  2.18348990e-04],\n",
      "        ...,\n",
      "        [ 2.66320779e-03, -2.66320779e-03],\n",
      "        [ 1.36647790e-02, -1.36647790e-02],\n",
      "        [-6.18098832e-05,  6.18098832e-05]],\n",
      "\n",
      "       [[ 4.79211771e-02, -4.79211771e-02],\n",
      "        [ 2.05761190e-03, -2.05761190e-03],\n",
      "        [-9.58453592e-05,  9.58453592e-05],\n",
      "        ...,\n",
      "        [ 2.22395185e-03, -2.22395185e-03],\n",
      "        [ 9.63916272e-03, -9.63916272e-03],\n",
      "        [-1.05631583e-04,  1.05631583e-04]],\n",
      "\n",
      "       [[-2.01230540e-02,  2.01230540e-02],\n",
      "        [ 2.08730876e-03, -2.08730876e-03],\n",
      "        [ 1.27356116e-05, -1.27356116e-05],\n",
      "        ...,\n",
      "        [ 2.36525896e-03, -2.36525896e-03],\n",
      "        [ 1.35789879e-02, -1.35789879e-02],\n",
      "        [-1.39910718e-04,  1.39910718e-04]],\n",
      "\n",
      "       ...,\n",
      "\n",
      "       [[-3.57567902e-02,  3.57567902e-02],\n",
      "        [ 4.12604936e-03, -4.12604936e-03],\n",
      "        [ 1.52878208e-04, -1.52878208e-04],\n",
      "        ...,\n",
      "        [ 5.28080664e-03, -5.28080664e-03],\n",
      "        [-4.19825122e-02,  4.19825122e-02],\n",
      "        [-5.02205154e-04,  5.02205154e-04]],\n",
      "\n",
      "       [[ 8.58024140e-02, -8.58024140e-02],\n",
      "        [ 1.82202485e-03, -1.82202485e-03],\n",
      "        [ 1.43980698e-03, -1.43980698e-03],\n",
      "        ...,\n",
      "        [ 4.30492764e-03, -4.30492764e-03],\n",
      "        [-3.80433206e-02,  3.80433206e-02],\n",
      "        [-2.47736969e-04,  2.47736969e-04]],\n",
      "\n",
      "       [[ 4.21144296e-02, -4.21144296e-02],\n",
      "        [ 1.53785658e-03, -1.53785658e-03],\n",
      "        [-2.89045245e-04,  2.89045245e-04],\n",
      "        ...,\n",
      "        [ 2.19680340e-03, -2.19680340e-03],\n",
      "        [ 1.13010001e-02, -1.13010001e-02],\n",
      "        [-1.53501991e-04,  1.53501991e-04]]])\n",
      "\n",
      ".base_values =\n",
      "array([[0.7588485, 0.2411515],\n",
      "       [0.7588485, 0.2411515],\n",
      "       [0.7588485, 0.2411515],\n",
      "       ...,\n",
      "       [0.7588485, 0.2411515],\n",
      "       [0.7588485, 0.2411515],\n",
      "       [0.7588485, 0.2411515]])\n",
      "\n",
      ".data =\n",
      "array([[    24,      1, 228649, ...,      0,     38,      1],\n",
      "       [    28,      1, 122540, ...,      0,     40,      1],\n",
      "       [    38,      1,  81965, ...,      0,     40,      1],\n",
      "       ...,\n",
      "       [    55,      1,  82098, ...,      0,     55,      1],\n",
      "       [    26,      1,  50053, ...,      0,     55,      1],\n",
      "       [    19,      1, 415354, ...,      0,     40,      1]])\n"
     ]
    },
    {
     "data": {
      "image/png": "[encoded data removed]",
      "text/plain": [
       "<Figure size 504x302.4 with 2 Axes>"
      ]
     },
     "metadata": {
      "needs_background": "light"
     },
     "output_type": "display_data"
    },
    {
     "name": "stdout",
     "output_type": "stream",
     "text": [
      "                 0                                                1\n",
      "0              age       [0.03382226410648493, 0.03382226410648493]\n",
      "1        workclass     [0.003964892940408369, 0.003964892940408368]\n",
      "2           fnlwgt  [0.00024947531754395004, 0.0002494753175439498]\n",
      "3        education      [0.009428719932721787, 0.00942871993272179]\n",
      "4    education-num     [0.039732613865385374, 0.039732613865385374]\n",
      "5   marital-status       [0.07993213635861758, 0.07993213635861758]\n",
      "6       occupation     [0.027588764794919868, 0.027588764794919868]\n",
      "7     relationship       [0.06102510285903436, 0.06102510285903435]\n",
      "8             race  [0.00045917947127806653, 0.0004591794712780669]\n",
      "9              sex       [0.0129975139797284, 0.012997513979728401]\n",
      "10    capital-gain       [0.03395040683606244, 0.03395040683606244]\n",
      "11    capital-loss     [0.006376360048468647, 0.006376360048468647]\n",
      "12  hours-per-week       [0.023049009704641393, 0.0230490097046414]\n",
      "13  native-country   [0.0006017255608241065, 0.0006017255608241069]\n",
      "       column_name                                  shap_importance\n",
      "0              age       [0.03382226410648493, 0.03382226410648493]\n",
      "1        workclass     [0.003964892940408369, 0.003964892940408368]\n",
      "2           fnlwgt  [0.00024947531754395004, 0.0002494753175439498]\n",
      "3        education      [0.009428719932721787, 0.00942871993272179]\n",
      "4    education-num     [0.039732613865385374, 0.039732613865385374]\n",
      "5   marital-status       [0.07993213635861758, 0.07993213635861758]\n",
      "6       occupation     [0.027588764794919868, 0.027588764794919868]\n",
      "7     relationship       [0.06102510285903436, 0.06102510285903435]\n",
      "8             race  [0.00045917947127806653, 0.0004591794712780669]\n",
      "9              sex       [0.0129975139797284, 0.012997513979728401]\n",
      "10    capital-gain       [0.03395040683606244, 0.03395040683606244]\n",
      "11    capital-loss     [0.006376360048468647, 0.006376360048468647]\n",
      "12  hours-per-week       [0.023049009704641393, 0.0230490097046414]\n",
      "13  native-country   [0.0006017255608241065, 0.0006017255608241069]\n",
      "       column_name                                  shap_importance\n",
      "5   marital-status       [0.07993213635861758, 0.07993213635861758]\n",
      "7     relationship       [0.06102510285903436, 0.06102510285903435]\n",
      "4    education-num     [0.039732613865385374, 0.039732613865385374]\n",
      "10    capital-gain       [0.03395040683606244, 0.03395040683606244]\n",
      "0              age       [0.03382226410648493, 0.03382226410648493]\n",
      "6       occupation     [0.027588764794919868, 0.027588764794919868]\n",
      "12  hours-per-week       [0.023049009704641393, 0.0230490097046414]\n",
      "9              sex       [0.0129975139797284, 0.012997513979728401]\n",
      "3        education      [0.009428719932721787, 0.00942871993272179]\n",
      "11    capital-loss     [0.006376360048468647, 0.006376360048468647]\n",
      "1        workclass     [0.003964892940408369, 0.003964892940408368]\n",
      "13  native-country   [0.0006017255608241065, 0.0006017255608241069]\n",
      "8             race  [0.00045917947127806653, 0.0004591794712780669]\n",
      "2           fnlwgt  [0.00024947531754395004, 0.0002494753175439498]\n",
      "       column_name                               shap_importance\n",
      "5   marital-status    [0.07993213635861758, 0.07993213635861758]\n",
      "7     relationship    [0.06102510285903436, 0.06102510285903435]\n",
      "4    education-num  [0.039732613865385374, 0.039732613865385374]\n",
      "10    capital-gain    [0.03395040683606244, 0.03395040683606244]\n"
     ]
    },
    {
     "name": "stderr",
     "output_type": "stream",
     "text": [
      "A column-vector y was passed when a 1d array was expected. Please change the shape of y to (n_samples, ), for example using ravel().\n"
     ]
    }
   ],
   "source": [
    "pipeline.fit(X_train,y_train)\n",
    "y_pred = pipeline.predict(X_test)\n"
   ]
  },
  {
   "cell_type": "markdown",
   "metadata": {},
   "source": [
    "# Check performance of the Pipeline"
   ]
  },
  {
   "cell_type": "code",
   "execution_count": 9,
   "metadata": {},
   "outputs": [
    {
     "name": "stdout",
     "output_type": "stream",
     "text": [
      "F1 score : \n",
      "0.6165445928479104\n",
      "Classification report : \n",
      "              precision    recall  f1-score   support\n",
      "\n",
      "           0       0.87      0.92      0.89      8158\n",
      "           1       0.70      0.55      0.62      2588\n",
      "\n",
      "    accuracy                           0.83     10746\n",
      "   macro avg       0.78      0.74      0.76     10746\n",
      "weighted avg       0.83      0.83      0.83     10746\n",
      "\n",
      "Confusion matrix : \n",
      "[[7535  623]\n",
      " [1157 1431]]\n"
     ]
    }
   ],
   "source": [
    "print('F1 score : ')\n",
    "print(f1_score(y_test,y_pred))\n",
    "print('Classification report : ')\n",
    "print(classification_report(y_test,y_pred))\n",
    "print('Confusion matrix : ')\n",
    "print(confusion_matrix(y_test,y_pred))\n"
   ]
  }
 ],
 "metadata": {
  "kernelspec": {
   "display_name": "Python 3.10.4 ('.venv': poetry)",
   "language": "python",
   "name": "python3"
  },
  "language_info": {
   "codemirror_mode": {
    "name": "ipython",
    "version": 3
   },
   "file_extension": ".py",
   "mimetype": "text/x-python",
   "name": "python",
   "nbconvert_exporter": "python",
   "pygments_lexer": "ipython3",
   "version": "3.10.4"
  },
  "orig_nbformat": 4,
  "vscode": {
   "interpreter": {
    "hash": "2fd4a9ad6613f01435523ab5e4297db981c1d87a44e43e252d0e314391da6eb3"
   }
  }
 },
 "nbformat": 4,
 "nbformat_minor": 2
}
