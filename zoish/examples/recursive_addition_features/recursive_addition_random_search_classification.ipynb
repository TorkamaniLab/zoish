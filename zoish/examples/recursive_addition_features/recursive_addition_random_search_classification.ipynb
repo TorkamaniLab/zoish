{
 "cells": [
  {
   "cell_type": "markdown",
   "metadata": {},
   "source": [
    "### Imports"
   ]
  },
  {
   "cell_type": "code",
   "execution_count": 1,
   "metadata": {},
   "outputs": [
    {
     "name": "stdout",
     "output_type": "stream",
     "text": [
      "In this module the default logging will be applied.\n"
     ]
    }
   ],
   "source": [
    "from zoish.feature_selectors.recursive_feature_addition import RecursiveFeatureAdditionFeatureSelector\n",
    "import xgboost\n",
    "from sklearn.model_selection import KFold, train_test_split\n",
    "import pandas as pd\n",
    "from sklearn.pipeline import Pipeline\n",
    "from sklearn.svm import SVC\n",
    "from sklearn.metrics import classification_report, confusion_matrix, f1_score,make_scorer\n",
    "from feature_engine.imputation import CategoricalImputer, MeanMedianImputer\n",
    "from category_encoders import OrdinalEncoder\n"
   ]
  },
  {
   "cell_type": "markdown",
   "metadata": {},
   "source": [
    "#### Example: Use Adult Data Set (a classification problem)\n",
    "###### https://archive.ics.uci.edu/ml/datasets/Adult\n"
   ]
  },
  {
   "cell_type": "markdown",
   "metadata": {},
   "source": [
    "#### Read data"
   ]
  },
  {
   "cell_type": "code",
   "execution_count": 2,
   "metadata": {},
   "outputs": [
    {
     "data": {
      "text/html": [
       "<div>\n",
       "<style scoped>\n",
       "    .dataframe tbody tr th:only-of-type {\n",
       "        vertical-align: middle;\n",
       "    }\n",
       "\n",
       "    .dataframe tbody tr th {\n",
       "        vertical-align: top;\n",
       "    }\n",
       "\n",
       "    .dataframe thead th {\n",
       "        text-align: right;\n",
       "    }\n",
       "</style>\n",
       "<table border=\"1\" class=\"dataframe\">\n",
       "  <thead>\n",
       "    <tr style=\"text-align: right;\">\n",
       "      <th></th>\n",
       "      <th>age</th>\n",
       "      <th>workclass</th>\n",
       "      <th>fnlwgt</th>\n",
       "      <th>education</th>\n",
       "      <th>education-num</th>\n",
       "      <th>marital-status</th>\n",
       "      <th>occupation</th>\n",
       "      <th>relationship</th>\n",
       "      <th>race</th>\n",
       "      <th>sex</th>\n",
       "      <th>capital-gain</th>\n",
       "      <th>capital-loss</th>\n",
       "      <th>hours-per-week</th>\n",
       "      <th>native-country</th>\n",
       "      <th>label</th>\n",
       "    </tr>\n",
       "  </thead>\n",
       "  <tbody>\n",
       "    <tr>\n",
       "      <th>0</th>\n",
       "      <td>39</td>\n",
       "      <td>State-gov</td>\n",
       "      <td>77516</td>\n",
       "      <td>Bachelors</td>\n",
       "      <td>13</td>\n",
       "      <td>Never-married</td>\n",
       "      <td>Adm-clerical</td>\n",
       "      <td>Not-in-family</td>\n",
       "      <td>White</td>\n",
       "      <td>Male</td>\n",
       "      <td>2174</td>\n",
       "      <td>0</td>\n",
       "      <td>40</td>\n",
       "      <td>United-States</td>\n",
       "      <td>&lt;=50K</td>\n",
       "    </tr>\n",
       "    <tr>\n",
       "      <th>1</th>\n",
       "      <td>50</td>\n",
       "      <td>Self-emp-not-inc</td>\n",
       "      <td>83311</td>\n",
       "      <td>Bachelors</td>\n",
       "      <td>13</td>\n",
       "      <td>Married-civ-spouse</td>\n",
       "      <td>Exec-managerial</td>\n",
       "      <td>Husband</td>\n",
       "      <td>White</td>\n",
       "      <td>Male</td>\n",
       "      <td>0</td>\n",
       "      <td>0</td>\n",
       "      <td>13</td>\n",
       "      <td>United-States</td>\n",
       "      <td>&lt;=50K</td>\n",
       "    </tr>\n",
       "    <tr>\n",
       "      <th>2</th>\n",
       "      <td>38</td>\n",
       "      <td>Private</td>\n",
       "      <td>215646</td>\n",
       "      <td>HS-grad</td>\n",
       "      <td>9</td>\n",
       "      <td>Divorced</td>\n",
       "      <td>Handlers-cleaners</td>\n",
       "      <td>Not-in-family</td>\n",
       "      <td>White</td>\n",
       "      <td>Male</td>\n",
       "      <td>0</td>\n",
       "      <td>0</td>\n",
       "      <td>40</td>\n",
       "      <td>United-States</td>\n",
       "      <td>&lt;=50K</td>\n",
       "    </tr>\n",
       "    <tr>\n",
       "      <th>3</th>\n",
       "      <td>53</td>\n",
       "      <td>Private</td>\n",
       "      <td>234721</td>\n",
       "      <td>11th</td>\n",
       "      <td>7</td>\n",
       "      <td>Married-civ-spouse</td>\n",
       "      <td>Handlers-cleaners</td>\n",
       "      <td>Husband</td>\n",
       "      <td>Black</td>\n",
       "      <td>Male</td>\n",
       "      <td>0</td>\n",
       "      <td>0</td>\n",
       "      <td>40</td>\n",
       "      <td>United-States</td>\n",
       "      <td>&lt;=50K</td>\n",
       "    </tr>\n",
       "    <tr>\n",
       "      <th>4</th>\n",
       "      <td>28</td>\n",
       "      <td>Private</td>\n",
       "      <td>338409</td>\n",
       "      <td>Bachelors</td>\n",
       "      <td>13</td>\n",
       "      <td>Married-civ-spouse</td>\n",
       "      <td>Prof-specialty</td>\n",
       "      <td>Wife</td>\n",
       "      <td>Black</td>\n",
       "      <td>Female</td>\n",
       "      <td>0</td>\n",
       "      <td>0</td>\n",
       "      <td>40</td>\n",
       "      <td>Cuba</td>\n",
       "      <td>&lt;=50K</td>\n",
       "    </tr>\n",
       "  </tbody>\n",
       "</table>\n",
       "</div>"
      ],
      "text/plain": [
       "   age          workclass  fnlwgt   education  education-num  \\\n",
       "0   39          State-gov   77516   Bachelors             13   \n",
       "1   50   Self-emp-not-inc   83311   Bachelors             13   \n",
       "2   38            Private  215646     HS-grad              9   \n",
       "3   53            Private  234721        11th              7   \n",
       "4   28            Private  338409   Bachelors             13   \n",
       "\n",
       "        marital-status          occupation    relationship    race      sex  \\\n",
       "0        Never-married        Adm-clerical   Not-in-family   White     Male   \n",
       "1   Married-civ-spouse     Exec-managerial         Husband   White     Male   \n",
       "2             Divorced   Handlers-cleaners   Not-in-family   White     Male   \n",
       "3   Married-civ-spouse   Handlers-cleaners         Husband   Black     Male   \n",
       "4   Married-civ-spouse      Prof-specialty            Wife   Black   Female   \n",
       "\n",
       "   capital-gain  capital-loss  hours-per-week  native-country   label  \n",
       "0          2174             0              40   United-States   <=50K  \n",
       "1             0             0              13   United-States   <=50K  \n",
       "2             0             0              40   United-States   <=50K  \n",
       "3             0             0              40   United-States   <=50K  \n",
       "4             0             0              40            Cuba   <=50K  "
      ]
     },
     "execution_count": 2,
     "metadata": {},
     "output_type": "execute_result"
    }
   ],
   "source": [
    "urldata = \"https://archive.ics.uci.edu/ml/machine-learning-databases/adult/adult.data\"\n",
    "# column names\n",
    "col_names = [\n",
    "    \"age\",\n",
    "    \"workclass\",\n",
    "    \"fnlwgt\",\n",
    "    \"education\",\n",
    "    \"education-num\",\n",
    "    \"marital-status\",\n",
    "    \"occupation\",\n",
    "    \"relationship\",\n",
    "    \"race\",\n",
    "    \"sex\",\n",
    "    \"capital-gain\",\n",
    "    \"capital-loss\",\n",
    "    \"hours-per-week\",\n",
    "    \"native-country\",\n",
    "    \"label\",\n",
    "]\n",
    "# read data\n",
    "data = pd.read_csv(urldata, header=None, names=col_names, sep=\",\")\n",
    "data.head()"
   ]
  },
  {
   "cell_type": "markdown",
   "metadata": {},
   "source": [
    "#### Define labels and train-test split\n"
   ]
  },
  {
   "cell_type": "code",
   "execution_count": 3,
   "metadata": {},
   "outputs": [],
   "source": [
    "data.loc[data[\"label\"] == \"<=50K\", \"label\"] = 0\n",
    "data.loc[data[\"label\"] == \" <=50K\", \"label\"] = 0\n",
    "\n",
    "data.loc[data[\"label\"] == \">50K\", \"label\"] = 1\n",
    "data.loc[data[\"label\"] == \" >50K\", \"label\"] = 1\n",
    "\n",
    "data[\"label\"] = data[\"label\"].astype(int)\n",
    "\n",
    "# # Train test split\n",
    "\n",
    "X = data.loc[:, data.columns != \"label\"]\n",
    "y = data.loc[:, data.columns == \"label\"]\n",
    "\n",
    "\n",
    "X_train, X_test, y_train, y_test = train_test_split(\n",
    "    X, y, test_size=0.33, stratify=y[\"label\"], random_state=42\n",
    ")\n"
   ]
  },
  {
   "cell_type": "markdown",
   "metadata": {},
   "source": [
    "#### Define feature selector step "
   ]
  },
  {
   "cell_type": "code",
   "execution_count": 4,
   "metadata": {},
   "outputs": [],
   "source": [
    "\n",
    "recursive_addition_feature_selector_factory = (\n",
    "    RecursiveFeatureAdditionFeatureSelector.recursive_addition_feature_selector_factory.set_model_params(\n",
    "        X=X_train,\n",
    "        y=y_train,\n",
    "        verbose=0,\n",
    "        random_state=0,\n",
    "        estimator=xgboost.XGBClassifier(),\n",
    "        estimator_params={\n",
    "            \"max_depth\": [4, 5],\n",
    "        },\n",
    "        fit_params = {\n",
    "            \"callbacks\": None,\n",
    "        },\n",
    "        method=\"randomsearch\",\n",
    "        threshold=0.025,\n",
    "        list_of_obligatory_features_that_must_be_in_model=['relationship', 'marital-status','fnlwgt'],\n",
    "        list_of_features_to_drop_before_any_selection=['education-num'],\n",
    "    )\n",
    "    .set_recursive_addition_feature_params(\n",
    "        cv=3,\n",
    "        variables=None,\n",
    "        scoring='roc_auc',\n",
    "        confirm_variables=True,\n",
    "        \n",
    "    )\n",
    "    .set_randomsearchcv_params(\n",
    "        measure_of_accuracy=make_scorer(f1_score, greater_is_better=True, average='macro'),\n",
    "        verbose=10,\n",
    "        n_jobs=-1,\n",
    "        cv=KFold(5),\n",
    "        n_iter=2,\n",
    "    )\n",
    ")"
   ]
  },
  {
   "cell_type": "markdown",
   "metadata": {},
   "source": [
    "#### Find feature type for later use\n"
   ]
  },
  {
   "cell_type": "code",
   "execution_count": 5,
   "metadata": {},
   "outputs": [],
   "source": [
    "int_cols = X_train.select_dtypes(include=[\"int\"]).columns.tolist()\n",
    "float_cols = X_train.select_dtypes(include=[\"float\"]).columns.tolist()\n",
    "cat_cols = X_train.select_dtypes(include=[\"object\"]).columns.tolist()\n"
   ]
  },
  {
   "cell_type": "markdown",
   "metadata": {},
   "source": [
    "#### Define pipeline"
   ]
  },
  {
   "cell_type": "code",
   "execution_count": 6,
   "metadata": {},
   "outputs": [],
   "source": [
    "pipeline = Pipeline(\n",
    "    [\n",
    "        # int missing values imputers\n",
    "        (\n",
    "            \"intimputer\",\n",
    "            MeanMedianImputer(imputation_method=\"median\", variables=int_cols),\n",
    "        ),\n",
    "        # category missing values imputers\n",
    "        (\"catimputer\", CategoricalImputer(variables=cat_cols)),\n",
    "        #\n",
    "        (\"catencoder\", OrdinalEncoder()),\n",
    "        # feature selection\n",
    "        (\"rafsf\", recursive_addition_feature_selector_factory),\n",
    "        # classification model\n",
    "        (\"SVC\", SVC()),\n",
    "    ]\n",
    ")"
   ]
  },
  {
   "cell_type": "markdown",
   "metadata": {},
   "source": [
    "#### Run Pipeline"
   ]
  },
  {
   "cell_type": "code",
   "execution_count": 7,
   "metadata": {},
   "outputs": [
    {
     "name": "stdout",
     "output_type": "stream",
     "text": [
      "Fitting 5 folds for each of 2 candidates, totalling 10 fits\n",
      "[CV 1/5; 1/2] START max_depth=4.................................................\n",
      "[CV 1/5; 1/2] END ..................max_depth=4;, score=0.792 total time=   0.5s\n",
      "[CV 2/5; 1/2] START max_depth=4.................................................\n",
      "[CV 2/5; 1/2] END ..................max_depth=4;, score=0.815 total time=   0.5s\n",
      "[CV 3/5; 1/2] START max_depth=4.................................................\n",
      "[CV 3/5; 1/2] END ..................max_depth=4;, score=0.827 total time=   0.4s\n",
      "[CV 4/5; 1/2] START max_depth=4.................................................\n",
      "[CV 4/5; 1/2] END ..................max_depth=4;, score=0.821 total time=   0.5s\n",
      "[CV 5/5; 1/2] START max_depth=4.................................................\n",
      "[CV 5/5; 1/2] END ..................max_depth=4;, score=0.812 total time=   0.4s\n",
      "[CV 1/5; 2/2] START max_depth=5.................................................\n",
      "[CV 1/5; 2/2] END ..................max_depth=5;, score=0.792 total time=   0.5s\n",
      "[CV 2/5; 2/2] START max_depth=5.................................................\n",
      "[CV 2/5; 2/2] END ..................max_depth=5;, score=0.813 total time=   0.5s\n",
      "[CV 3/5; 2/2] START max_depth=5.................................................\n",
      "[CV 3/5; 2/2] END ..................max_depth=5;, score=0.820 total time=   0.5s\n",
      "[CV 4/5; 2/2] START max_depth=5.................................................\n",
      "[CV 4/5; 2/2] END ..................max_depth=5;, score=0.815 total time=   0.5s\n",
      "[CV 5/5; 2/2] START max_depth=5.................................................\n",
      "[CV 5/5; 2/2] END ..................max_depth=5;, score=0.807 total time=   0.6s\n",
      "                0         1\n",
      "0  marital-status         0\n",
      "1   education-num  0.088544\n",
      "2    capital-gain  0.037016\n",
      "this list of features also will be selected!                     ['relationship', 'marital-status', 'fnlwgt']\n",
      "this list of features  will be dropped!                     ['education-num']\n",
      "['marital-status', 'fnlwgt', 'capital-gain', 'relationship']\n"
     ]
    }
   ],
   "source": [
    "pipeline.fit(X_train, y_train.values.ravel())\n",
    "y_pred = pipeline.predict(X_test)"
   ]
  },
  {
   "cell_type": "markdown",
   "metadata": {},
   "source": [
    "#### Check performance of the Pipeline"
   ]
  },
  {
   "cell_type": "code",
   "execution_count": 8,
   "metadata": {},
   "outputs": [
    {
     "name": "stdout",
     "output_type": "stream",
     "text": [
      "F1 score : \n",
      "0.2559463986599665\n",
      "Classification report : \n",
      "              precision    recall  f1-score   support\n",
      "\n",
      "           0       0.79      1.00      0.88      8158\n",
      "           1       0.96      0.15      0.26      2588\n",
      "\n",
      "    accuracy                           0.79     10746\n",
      "   macro avg       0.87      0.57      0.57     10746\n",
      "weighted avg       0.83      0.79      0.73     10746\n",
      "\n",
      "Confusion matrix : \n",
      "[[8143   15]\n",
      " [2206  382]]\n"
     ]
    }
   ],
   "source": [
    "\n",
    "print(\"F1 score : \")\n",
    "print(f1_score(y_test, y_pred))\n",
    "print(\"Classification report : \")\n",
    "print(classification_report(y_test, y_pred))\n",
    "print(\"Confusion matrix : \")\n",
    "print(confusion_matrix(y_test, y_pred))\n"
   ]
  },
  {
   "cell_type": "markdown",
   "metadata": {},
   "source": [
    "#### Plot for selected features"
   ]
  },
  {
   "cell_type": "code",
   "execution_count": 9,
   "metadata": {},
   "outputs": [
    {
     "data": {
      "image/png": "[encoded data removed]",
      "text/plain": [
       "<Figure size 432x288 with 1 Axes>"
      ]
     },
     "metadata": {
      "needs_background": "light"
     },
     "output_type": "display_data"
    },
    {
     "data": {
      "text/html": [
       "<style>#sk-container-id-1 {color: black;background-color: white;}#sk-container-id-1 pre{padding: 0;}#sk-container-id-1 div.sk-toggleable {background-color: white;}#sk-container-id-1 label.sk-toggleable__label {cursor: pointer;display: block;width: 100%;margin-bottom: 0;padding: 0.3em;box-sizing: border-box;text-align: center;}#sk-container-id-1 label.sk-toggleable__label-arrow:before {content: \"▸\";float: left;margin-right: 0.25em;color: #696969;}#sk-container-id-1 label.sk-toggleable__label-arrow:hover:before {color: black;}#sk-container-id-1 div.sk-estimator:hover label.sk-toggleable__label-arrow:before {color: black;}#sk-container-id-1 div.sk-toggleable__content {max-height: 0;max-width: 0;overflow: hidden;text-align: left;background-color: #f0f8ff;}#sk-container-id-1 div.sk-toggleable__content pre {margin: 0.2em;color: black;border-radius: 0.25em;background-color: #f0f8ff;}#sk-container-id-1 input.sk-toggleable__control:checked~div.sk-toggleable__content {max-height: 200px;max-width: 100%;overflow: auto;}#sk-container-id-1 input.sk-toggleable__control:checked~label.sk-toggleable__label-arrow:before {content: \"▾\";}#sk-container-id-1 div.sk-estimator input.sk-toggleable__control:checked~label.sk-toggleable__label {background-color: #d4ebff;}#sk-container-id-1 div.sk-label input.sk-toggleable__control:checked~label.sk-toggleable__label {background-color: #d4ebff;}#sk-container-id-1 input.sk-hidden--visually {border: 0;clip: rect(1px 1px 1px 1px);clip: rect(1px, 1px, 1px, 1px);height: 1px;margin: -1px;overflow: hidden;padding: 0;position: absolute;width: 1px;}#sk-container-id-1 div.sk-estimator {font-family: monospace;background-color: #f0f8ff;border: 1px dotted black;border-radius: 0.25em;box-sizing: border-box;margin-bottom: 0.5em;}#sk-container-id-1 div.sk-estimator:hover {background-color: #d4ebff;}#sk-container-id-1 div.sk-parallel-item::after {content: \"\";width: 100%;border-bottom: 1px solid gray;flex-grow: 1;}#sk-container-id-1 div.sk-label:hover label.sk-toggleable__label {background-color: #d4ebff;}#sk-container-id-1 div.sk-serial::before {content: \"\";position: absolute;border-left: 1px solid gray;box-sizing: border-box;top: 0;bottom: 0;left: 50%;z-index: 0;}#sk-container-id-1 div.sk-serial {display: flex;flex-direction: column;align-items: center;background-color: white;padding-right: 0.2em;padding-left: 0.2em;position: relative;}#sk-container-id-1 div.sk-item {position: relative;z-index: 1;}#sk-container-id-1 div.sk-parallel {display: flex;align-items: stretch;justify-content: center;background-color: white;position: relative;}#sk-container-id-1 div.sk-item::before, #sk-container-id-1 div.sk-parallel-item::before {content: \"\";position: absolute;border-left: 1px solid gray;box-sizing: border-box;top: 0;bottom: 0;left: 50%;z-index: -1;}#sk-container-id-1 div.sk-parallel-item {display: flex;flex-direction: column;z-index: 1;position: relative;background-color: white;}#sk-container-id-1 div.sk-parallel-item:first-child::after {align-self: flex-end;width: 50%;}#sk-container-id-1 div.sk-parallel-item:last-child::after {align-self: flex-start;width: 50%;}#sk-container-id-1 div.sk-parallel-item:only-child::after {width: 0;}#sk-container-id-1 div.sk-dashed-wrapped {border: 1px dashed gray;margin: 0 0.4em 0.5em 0.4em;box-sizing: border-box;padding-bottom: 0.4em;background-color: white;}#sk-container-id-1 div.sk-label label {font-family: monospace;font-weight: bold;display: inline-block;line-height: 1.2em;}#sk-container-id-1 div.sk-label-container {text-align: center;}#sk-container-id-1 div.sk-container {/* jupyter's `normalize.less` sets `[hidden] { display: none; }` but bootstrap.min.css set `[hidden] { display: none !important; }` so we also need the `!important` here to be able to override the default hidden behavior on the sphinx rendered scikit-learn.org. See: https://github.com/scikit-learn/scikit-learn/issues/21755 */display: inline-block !important;position: relative;}#sk-container-id-1 div.sk-text-repr-fallback {display: none;}</style><div id=\"sk-container-id-1\" class=\"sk-top-container\"><div class=\"sk-text-repr-fallback\"><pre>RecursiveFeatureAdditionFeatureSelector(X=       age   workclass  fnlwgt      education  education-num  \\\n",
       "3977    24     Private  228649      Bachelors             13   \n",
       "20418   28     Private  122540           10th              6   \n",
       "20647   38     Private   81965      Assoc-voc             11   \n",
       "30435   47     Private  107460        HS-grad              9   \n",
       "8820    28     Private  302406    Prof-school             15   \n",
       "...    ...         ...     ...            ...            ...   \n",
       "4639    30   Local-gov  125159      Bachelors             13   \n",
       "20560   39     Private  421633   Some-college             10   \n",
       "23650   55     Private   82098        HS-grad              9   \n",
       "25301   26     Priv...\n",
       "                                        list_of_obligatory_features_that_must_be_in_model=[&#x27;relationship&#x27;,\n",
       "                                                                                           &#x27;marital-status&#x27;,\n",
       "                                                                                           &#x27;fnlwgt&#x27;],\n",
       "                                        measure_of_accuracy=make_scorer(f1_score, average=macro),\n",
       "                                        method=&#x27;randomsearch&#x27;, n_features=2,\n",
       "                                        n_iter=2, n_jobs=-1, random_state=0,\n",
       "                                        scoring=&#x27;roc_auc&#x27;, threshold=0.025,\n",
       "                                        verbose=10,\n",
       "                                        y=       label\n",
       "3977       0\n",
       "20418      0\n",
       "20647      0\n",
       "30435      0\n",
       "8820       0\n",
       "...      ...\n",
       "4639       1\n",
       "20560      0\n",
       "23650      0\n",
       "25301      0\n",
       "5800       0\n",
       "\n",
       "[21815 rows x 1 columns])</pre><b>In a Jupyter environment, please rerun this cell to show the HTML representation or trust the notebook. <br />On GitHub, the HTML representation is unable to render, please try loading this page with nbviewer.org.</b></div><div class=\"sk-container\" hidden><div class=\"sk-item sk-dashed-wrapped\"><div class=\"sk-label-container\"><div class=\"sk-label sk-toggleable\"><input class=\"sk-toggleable__control sk-hidden--visually\" id=\"sk-estimator-id-1\" type=\"checkbox\" ><label for=\"sk-estimator-id-1\" class=\"sk-toggleable__label sk-toggleable__label-arrow\">RecursiveFeatureAdditionFeatureSelector</label><div class=\"sk-toggleable__content\"><pre>RecursiveFeatureAdditionFeatureSelector(X=       age   workclass  fnlwgt      education  education-num  \\\n",
       "3977    24     Private  228649      Bachelors             13   \n",
       "20418   28     Private  122540           10th              6   \n",
       "20647   38     Private   81965      Assoc-voc             11   \n",
       "30435   47     Private  107460        HS-grad              9   \n",
       "8820    28     Private  302406    Prof-school             15   \n",
       "...    ...         ...     ...            ...            ...   \n",
       "4639    30   Local-gov  125159      Bachelors             13   \n",
       "20560   39     Private  421633   Some-college             10   \n",
       "23650   55     Private   82098        HS-grad              9   \n",
       "25301   26     Priv...\n",
       "                                        list_of_obligatory_features_that_must_be_in_model=[&#x27;relationship&#x27;,\n",
       "                                                                                           &#x27;marital-status&#x27;,\n",
       "                                                                                           &#x27;fnlwgt&#x27;],\n",
       "                                        measure_of_accuracy=make_scorer(f1_score, average=macro),\n",
       "                                        method=&#x27;randomsearch&#x27;, n_features=2,\n",
       "                                        n_iter=2, n_jobs=-1, random_state=0,\n",
       "                                        scoring=&#x27;roc_auc&#x27;, threshold=0.025,\n",
       "                                        verbose=10,\n",
       "                                        y=       label\n",
       "3977       0\n",
       "20418      0\n",
       "20647      0\n",
       "30435      0\n",
       "8820       0\n",
       "...      ...\n",
       "4639       1\n",
       "20560      0\n",
       "23650      0\n",
       "25301      0\n",
       "5800       0\n",
       "\n",
       "[21815 rows x 1 columns])</pre></div></div></div><div class=\"sk-parallel\"><div class=\"sk-parallel-item\"><div class=\"sk-item\"><div class=\"sk-label-container\"><div class=\"sk-label sk-toggleable\"><input class=\"sk-toggleable__control sk-hidden--visually\" id=\"sk-estimator-id-2\" type=\"checkbox\" ><label for=\"sk-estimator-id-2\" class=\"sk-toggleable__label sk-toggleable__label-arrow\">estimator: XGBClassifier</label><div class=\"sk-toggleable__content\"><pre>XGBClassifier(base_score=None, booster=None, callbacks=None,\n",
       "              colsample_bylevel=None, colsample_bynode=None,\n",
       "              colsample_bytree=None, early_stopping_rounds=None,\n",
       "              enable_categorical=False, eval_metric=None, gamma=None,\n",
       "              gpu_id=None, grow_policy=None, importance_type=None,\n",
       "              interaction_constraints=None, learning_rate=None, max_bin=None,\n",
       "              max_cat_to_onehot=None, max_delta_step=None, max_depth=None,\n",
       "              max_leaves=None, min_child_weight=None, missing=nan,\n",
       "              monotone_constraints=None, n_estimators=100, n_jobs=None,\n",
       "              num_parallel_tree=None, predictor=None, random_state=None,\n",
       "              reg_alpha=None, reg_lambda=None, ...)</pre></div></div></div><div class=\"sk-serial\"><div class=\"sk-item\"><div class=\"sk-estimator sk-toggleable\"><input class=\"sk-toggleable__control sk-hidden--visually\" id=\"sk-estimator-id-3\" type=\"checkbox\" ><label for=\"sk-estimator-id-3\" class=\"sk-toggleable__label sk-toggleable__label-arrow\">XGBClassifier</label><div class=\"sk-toggleable__content\"><pre>XGBClassifier(base_score=None, booster=None, callbacks=None,\n",
       "              colsample_bylevel=None, colsample_bynode=None,\n",
       "              colsample_bytree=None, early_stopping_rounds=None,\n",
       "              enable_categorical=False, eval_metric=None, gamma=None,\n",
       "              gpu_id=None, grow_policy=None, importance_type=None,\n",
       "              interaction_constraints=None, learning_rate=None, max_bin=None,\n",
       "              max_cat_to_onehot=None, max_delta_step=None, max_depth=None,\n",
       "              max_leaves=None, min_child_weight=None, missing=nan,\n",
       "              monotone_constraints=None, n_estimators=100, n_jobs=None,\n",
       "              num_parallel_tree=None, predictor=None, random_state=None,\n",
       "              reg_alpha=None, reg_lambda=None, ...)</pre></div></div></div></div></div></div></div></div></div></div>"
      ],
      "text/plain": [
       "RecursiveFeatureAdditionFeatureSelector(X=       age   workclass  fnlwgt      education  education-num  \\\n",
       "3977    24     Private  228649      Bachelors             13   \n",
       "20418   28     Private  122540           10th              6   \n",
       "20647   38     Private   81965      Assoc-voc             11   \n",
       "30435   47     Private  107460        HS-grad              9   \n",
       "8820    28     Private  302406    Prof-school             15   \n",
       "...    ...         ...     ...            ...            ...   \n",
       "4639    30   Local-gov  125159      Bachelors             13   \n",
       "20560   39     Private  421633   Some-college             10   \n",
       "23650   55     Private   82098        HS-grad              9   \n",
       "25301   26     Priv...\n",
       "                                        list_of_obligatory_features_that_must_be_in_model=['relationship',\n",
       "                                                                                           'marital-status',\n",
       "                                                                                           'fnlwgt'],\n",
       "                                        measure_of_accuracy=make_scorer(f1_score, average=macro),\n",
       "                                        method='randomsearch', n_features=2,\n",
       "                                        n_iter=2, n_jobs=-1, random_state=0,\n",
       "                                        scoring='roc_auc', threshold=0.025,\n",
       "                                        verbose=10,\n",
       "                                        y=       label\n",
       "3977       0\n",
       "20418      0\n",
       "20647      0\n",
       "30435      0\n",
       "8820       0\n",
       "...      ...\n",
       "4639       1\n",
       "20560      0\n",
       "23650      0\n",
       "25301      0\n",
       "5800       0\n",
       "\n",
       "[21815 rows x 1 columns])"
      ]
     },
     "execution_count": 9,
     "metadata": {},
     "output_type": "execute_result"
    }
   ],
   "source": [
    "RecursiveFeatureAdditionFeatureSelector.recursive_addition_feature_selector_factory.plot_features_all(\n",
    "    path_to_save_plot=\"../plots/recursive_addition_random_search_classification\"\n",
    ")\n"
   ]
  },
  {
   "cell_type": "markdown",
   "metadata": {},
   "source": [
    "#### Get list of features and grades"
   ]
  },
  {
   "cell_type": "code",
   "execution_count": 10,
   "metadata": {},
   "outputs": [
    {
     "name": "stdout",
     "output_type": "stream",
     "text": [
      "list of selected features+list of obligatory features that must be in                 model-list of features to drop before any selection               ['marital-status', 'fnlwgt', 'capital-gain', 'relationship']\n",
      "list of selected features and their grades\n",
      "---------------------------------------------------------\n",
      "      column_name feature_importance\n",
      "2    capital-gain           0.037016\n",
      "0  marital-status                  0\n",
      "Note: list of obligatory features that must be in model-list of                         features to drop before any selection also has considered !\n"
     ]
    },
    {
     "data": {
      "text/html": [
       "<style>#sk-container-id-2 {color: black;background-color: white;}#sk-container-id-2 pre{padding: 0;}#sk-container-id-2 div.sk-toggleable {background-color: white;}#sk-container-id-2 label.sk-toggleable__label {cursor: pointer;display: block;width: 100%;margin-bottom: 0;padding: 0.3em;box-sizing: border-box;text-align: center;}#sk-container-id-2 label.sk-toggleable__label-arrow:before {content: \"▸\";float: left;margin-right: 0.25em;color: #696969;}#sk-container-id-2 label.sk-toggleable__label-arrow:hover:before {color: black;}#sk-container-id-2 div.sk-estimator:hover label.sk-toggleable__label-arrow:before {color: black;}#sk-container-id-2 div.sk-toggleable__content {max-height: 0;max-width: 0;overflow: hidden;text-align: left;background-color: #f0f8ff;}#sk-container-id-2 div.sk-toggleable__content pre {margin: 0.2em;color: black;border-radius: 0.25em;background-color: #f0f8ff;}#sk-container-id-2 input.sk-toggleable__control:checked~div.sk-toggleable__content {max-height: 200px;max-width: 100%;overflow: auto;}#sk-container-id-2 input.sk-toggleable__control:checked~label.sk-toggleable__label-arrow:before {content: \"▾\";}#sk-container-id-2 div.sk-estimator input.sk-toggleable__control:checked~label.sk-toggleable__label {background-color: #d4ebff;}#sk-container-id-2 div.sk-label input.sk-toggleable__control:checked~label.sk-toggleable__label {background-color: #d4ebff;}#sk-container-id-2 input.sk-hidden--visually {border: 0;clip: rect(1px 1px 1px 1px);clip: rect(1px, 1px, 1px, 1px);height: 1px;margin: -1px;overflow: hidden;padding: 0;position: absolute;width: 1px;}#sk-container-id-2 div.sk-estimator {font-family: monospace;background-color: #f0f8ff;border: 1px dotted black;border-radius: 0.25em;box-sizing: border-box;margin-bottom: 0.5em;}#sk-container-id-2 div.sk-estimator:hover {background-color: #d4ebff;}#sk-container-id-2 div.sk-parallel-item::after {content: \"\";width: 100%;border-bottom: 1px solid gray;flex-grow: 1;}#sk-container-id-2 div.sk-label:hover label.sk-toggleable__label {background-color: #d4ebff;}#sk-container-id-2 div.sk-serial::before {content: \"\";position: absolute;border-left: 1px solid gray;box-sizing: border-box;top: 0;bottom: 0;left: 50%;z-index: 0;}#sk-container-id-2 div.sk-serial {display: flex;flex-direction: column;align-items: center;background-color: white;padding-right: 0.2em;padding-left: 0.2em;position: relative;}#sk-container-id-2 div.sk-item {position: relative;z-index: 1;}#sk-container-id-2 div.sk-parallel {display: flex;align-items: stretch;justify-content: center;background-color: white;position: relative;}#sk-container-id-2 div.sk-item::before, #sk-container-id-2 div.sk-parallel-item::before {content: \"\";position: absolute;border-left: 1px solid gray;box-sizing: border-box;top: 0;bottom: 0;left: 50%;z-index: -1;}#sk-container-id-2 div.sk-parallel-item {display: flex;flex-direction: column;z-index: 1;position: relative;background-color: white;}#sk-container-id-2 div.sk-parallel-item:first-child::after {align-self: flex-end;width: 50%;}#sk-container-id-2 div.sk-parallel-item:last-child::after {align-self: flex-start;width: 50%;}#sk-container-id-2 div.sk-parallel-item:only-child::after {width: 0;}#sk-container-id-2 div.sk-dashed-wrapped {border: 1px dashed gray;margin: 0 0.4em 0.5em 0.4em;box-sizing: border-box;padding-bottom: 0.4em;background-color: white;}#sk-container-id-2 div.sk-label label {font-family: monospace;font-weight: bold;display: inline-block;line-height: 1.2em;}#sk-container-id-2 div.sk-label-container {text-align: center;}#sk-container-id-2 div.sk-container {/* jupyter's `normalize.less` sets `[hidden] { display: none; }` but bootstrap.min.css set `[hidden] { display: none !important; }` so we also need the `!important` here to be able to override the default hidden behavior on the sphinx rendered scikit-learn.org. See: https://github.com/scikit-learn/scikit-learn/issues/21755 */display: inline-block !important;position: relative;}#sk-container-id-2 div.sk-text-repr-fallback {display: none;}</style><div id=\"sk-container-id-2\" class=\"sk-top-container\"><div class=\"sk-text-repr-fallback\"><pre>RecursiveFeatureAdditionFeatureSelector(X=       age   workclass  fnlwgt      education  education-num  \\\n",
       "3977    24     Private  228649      Bachelors             13   \n",
       "20418   28     Private  122540           10th              6   \n",
       "20647   38     Private   81965      Assoc-voc             11   \n",
       "30435   47     Private  107460        HS-grad              9   \n",
       "8820    28     Private  302406    Prof-school             15   \n",
       "...    ...         ...     ...            ...            ...   \n",
       "4639    30   Local-gov  125159      Bachelors             13   \n",
       "20560   39     Private  421633   Some-college             10   \n",
       "23650   55     Private   82098        HS-grad              9   \n",
       "25301   26     Priv...\n",
       "                                        list_of_obligatory_features_that_must_be_in_model=[&#x27;relationship&#x27;,\n",
       "                                                                                           &#x27;marital-status&#x27;,\n",
       "                                                                                           &#x27;fnlwgt&#x27;],\n",
       "                                        measure_of_accuracy=make_scorer(f1_score, average=macro),\n",
       "                                        method=&#x27;randomsearch&#x27;, n_features=2,\n",
       "                                        n_iter=2, n_jobs=-1, random_state=0,\n",
       "                                        scoring=&#x27;roc_auc&#x27;, threshold=0.025,\n",
       "                                        verbose=10,\n",
       "                                        y=       label\n",
       "3977       0\n",
       "20418      0\n",
       "20647      0\n",
       "30435      0\n",
       "8820       0\n",
       "...      ...\n",
       "4639       1\n",
       "20560      0\n",
       "23650      0\n",
       "25301      0\n",
       "5800       0\n",
       "\n",
       "[21815 rows x 1 columns])</pre><b>In a Jupyter environment, please rerun this cell to show the HTML representation or trust the notebook. <br />On GitHub, the HTML representation is unable to render, please try loading this page with nbviewer.org.</b></div><div class=\"sk-container\" hidden><div class=\"sk-item sk-dashed-wrapped\"><div class=\"sk-label-container\"><div class=\"sk-label sk-toggleable\"><input class=\"sk-toggleable__control sk-hidden--visually\" id=\"sk-estimator-id-4\" type=\"checkbox\" ><label for=\"sk-estimator-id-4\" class=\"sk-toggleable__label sk-toggleable__label-arrow\">RecursiveFeatureAdditionFeatureSelector</label><div class=\"sk-toggleable__content\"><pre>RecursiveFeatureAdditionFeatureSelector(X=       age   workclass  fnlwgt      education  education-num  \\\n",
       "3977    24     Private  228649      Bachelors             13   \n",
       "20418   28     Private  122540           10th              6   \n",
       "20647   38     Private   81965      Assoc-voc             11   \n",
       "30435   47     Private  107460        HS-grad              9   \n",
       "8820    28     Private  302406    Prof-school             15   \n",
       "...    ...         ...     ...            ...            ...   \n",
       "4639    30   Local-gov  125159      Bachelors             13   \n",
       "20560   39     Private  421633   Some-college             10   \n",
       "23650   55     Private   82098        HS-grad              9   \n",
       "25301   26     Priv...\n",
       "                                        list_of_obligatory_features_that_must_be_in_model=[&#x27;relationship&#x27;,\n",
       "                                                                                           &#x27;marital-status&#x27;,\n",
       "                                                                                           &#x27;fnlwgt&#x27;],\n",
       "                                        measure_of_accuracy=make_scorer(f1_score, average=macro),\n",
       "                                        method=&#x27;randomsearch&#x27;, n_features=2,\n",
       "                                        n_iter=2, n_jobs=-1, random_state=0,\n",
       "                                        scoring=&#x27;roc_auc&#x27;, threshold=0.025,\n",
       "                                        verbose=10,\n",
       "                                        y=       label\n",
       "3977       0\n",
       "20418      0\n",
       "20647      0\n",
       "30435      0\n",
       "8820       0\n",
       "...      ...\n",
       "4639       1\n",
       "20560      0\n",
       "23650      0\n",
       "25301      0\n",
       "5800       0\n",
       "\n",
       "[21815 rows x 1 columns])</pre></div></div></div><div class=\"sk-parallel\"><div class=\"sk-parallel-item\"><div class=\"sk-item\"><div class=\"sk-label-container\"><div class=\"sk-label sk-toggleable\"><input class=\"sk-toggleable__control sk-hidden--visually\" id=\"sk-estimator-id-5\" type=\"checkbox\" ><label for=\"sk-estimator-id-5\" class=\"sk-toggleable__label sk-toggleable__label-arrow\">estimator: XGBClassifier</label><div class=\"sk-toggleable__content\"><pre>XGBClassifier(base_score=None, booster=None, callbacks=None,\n",
       "              colsample_bylevel=None, colsample_bynode=None,\n",
       "              colsample_bytree=None, early_stopping_rounds=None,\n",
       "              enable_categorical=False, eval_metric=None, gamma=None,\n",
       "              gpu_id=None, grow_policy=None, importance_type=None,\n",
       "              interaction_constraints=None, learning_rate=None, max_bin=None,\n",
       "              max_cat_to_onehot=None, max_delta_step=None, max_depth=None,\n",
       "              max_leaves=None, min_child_weight=None, missing=nan,\n",
       "              monotone_constraints=None, n_estimators=100, n_jobs=None,\n",
       "              num_parallel_tree=None, predictor=None, random_state=None,\n",
       "              reg_alpha=None, reg_lambda=None, ...)</pre></div></div></div><div class=\"sk-serial\"><div class=\"sk-item\"><div class=\"sk-estimator sk-toggleable\"><input class=\"sk-toggleable__control sk-hidden--visually\" id=\"sk-estimator-id-6\" type=\"checkbox\" ><label for=\"sk-estimator-id-6\" class=\"sk-toggleable__label sk-toggleable__label-arrow\">XGBClassifier</label><div class=\"sk-toggleable__content\"><pre>XGBClassifier(base_score=None, booster=None, callbacks=None,\n",
       "              colsample_bylevel=None, colsample_bynode=None,\n",
       "              colsample_bytree=None, early_stopping_rounds=None,\n",
       "              enable_categorical=False, eval_metric=None, gamma=None,\n",
       "              gpu_id=None, grow_policy=None, importance_type=None,\n",
       "              interaction_constraints=None, learning_rate=None, max_bin=None,\n",
       "              max_cat_to_onehot=None, max_delta_step=None, max_depth=None,\n",
       "              max_leaves=None, min_child_weight=None, missing=nan,\n",
       "              monotone_constraints=None, n_estimators=100, n_jobs=None,\n",
       "              num_parallel_tree=None, predictor=None, random_state=None,\n",
       "              reg_alpha=None, reg_lambda=None, ...)</pre></div></div></div></div></div></div></div></div></div></div>"
      ],
      "text/plain": [
       "RecursiveFeatureAdditionFeatureSelector(X=       age   workclass  fnlwgt      education  education-num  \\\n",
       "3977    24     Private  228649      Bachelors             13   \n",
       "20418   28     Private  122540           10th              6   \n",
       "20647   38     Private   81965      Assoc-voc             11   \n",
       "30435   47     Private  107460        HS-grad              9   \n",
       "8820    28     Private  302406    Prof-school             15   \n",
       "...    ...         ...     ...            ...            ...   \n",
       "4639    30   Local-gov  125159      Bachelors             13   \n",
       "20560   39     Private  421633   Some-college             10   \n",
       "23650   55     Private   82098        HS-grad              9   \n",
       "25301   26     Priv...\n",
       "                                        list_of_obligatory_features_that_must_be_in_model=['relationship',\n",
       "                                                                                           'marital-status',\n",
       "                                                                                           'fnlwgt'],\n",
       "                                        measure_of_accuracy=make_scorer(f1_score, average=macro),\n",
       "                                        method='randomsearch', n_features=2,\n",
       "                                        n_iter=2, n_jobs=-1, random_state=0,\n",
       "                                        scoring='roc_auc', threshold=0.025,\n",
       "                                        verbose=10,\n",
       "                                        y=       label\n",
       "3977       0\n",
       "20418      0\n",
       "20647      0\n",
       "30435      0\n",
       "8820       0\n",
       "...      ...\n",
       "4639       1\n",
       "20560      0\n",
       "23650      0\n",
       "25301      0\n",
       "5800       0\n",
       "\n",
       "[21815 rows x 1 columns])"
      ]
     },
     "execution_count": 10,
     "metadata": {},
     "output_type": "execute_result"
    }
   ],
   "source": [
    "RecursiveFeatureAdditionFeatureSelector.recursive_addition_feature_selector_factory.get_info_of_features_and_grades()"
   ]
  },
  {
   "cell_type": "markdown",
   "metadata": {},
   "source": [
    "#### Only list of selected features is :"
   ]
  },
  {
   "cell_type": "code",
   "execution_count": 11,
   "metadata": {},
   "outputs": [
    {
     "name": "stdout",
     "output_type": "stream",
     "text": [
      "['marital-status', 'fnlwgt', 'capital-gain', 'relationship']\n"
     ]
    }
   ],
   "source": [
    "print(RecursiveFeatureAdditionFeatureSelector.recursive_addition_feature_selector_factory.get_list_of_features())"
   ]
  },
  {
   "cell_type": "markdown",
   "metadata": {},
   "source": [
    "#### Get access to feature selector instance"
   ]
  },
  {
   "cell_type": "code",
   "execution_count": 12,
   "metadata": {},
   "outputs": [
    {
     "name": "stdout",
     "output_type": "stream",
     "text": [
      "RecursiveFeatureAddition(confirm_variables=True,\n",
      "                         cv=KFold(n_splits=5, random_state=None, shuffle=False),\n",
      "                         estimator=XGBClassifier(base_score=0.5,\n",
      "                                                 booster='gbtree',\n",
      "                                                 callbacks=None,\n",
      "                                                 colsample_bylevel=1,\n",
      "                                                 colsample_bynode=1,\n",
      "                                                 colsample_bytree=1,\n",
      "                                                 early_stopping_rounds=None,\n",
      "                                                 enable_categorical=False,\n",
      "                                                 eval_metric=None, gamma=0,\n",
      "                                                 gpu_id=-1,\n",
      "                                                 grow_policy='depthwise',\n",
      "                                                 importance_type=None,\n",
      "                                                 interaction_constraints='',\n",
      "                                                 learning_rate=0.300000012,\n",
      "                                                 max_bin=256,\n",
      "                                                 max_cat_to_onehot=4,\n",
      "                                                 max_delta_step=0, max_depth=4,\n",
      "                                                 max_leaves=0,\n",
      "                                                 min_child_weight=1,\n",
      "                                                 missing=nan,\n",
      "                                                 monotone_constraints='()',\n",
      "                                                 n_estimators=100, n_jobs=0,\n",
      "                                                 num_parallel_tree=1,\n",
      "                                                 predictor='auto',\n",
      "                                                 random_state=0, reg_alpha=0,\n",
      "                                                 reg_lambda=1, ...),\n",
      "                         threshold=0.025)\n"
     ]
    }
   ],
   "source": [
    "print(RecursiveFeatureAdditionFeatureSelector.recursive_addition_feature_selector_factory.get_feature_selector_instance())"
   ]
  }
 ],
 "metadata": {
  "kernelspec": {
   "display_name": "Python 3.10.6 ('.venv': poetry)",
   "language": "python",
   "name": "python3"
  },
  "language_info": {
   "codemirror_mode": {
    "name": "ipython",
    "version": 3
   },
   "file_extension": ".py",
   "mimetype": "text/x-python",
   "name": "python",
   "nbconvert_exporter": "python",
   "pygments_lexer": "ipython3",
   "version": "3.10.9"
  },
  "orig_nbformat": 4,
  "vscode": {
   "interpreter": {
    "hash": "2fd4a9ad6613f01435523ab5e4297db981c1d87a44e43e252d0e314391da6eb3"
   }
  }
 },
 "nbformat": 4,
 "nbformat_minor": 2
}
