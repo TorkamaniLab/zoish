{
 "cells": [
  {
   "cell_type": "markdown",
   "metadata": {},
   "source": [
    "#### Imports\n"
   ]
  },
  {
   "cell_type": "code",
   "execution_count": 1,
   "metadata": {},
   "outputs": [
    {
     "name": "stdout",
     "output_type": "stream",
     "text": [
      "In this module the default logging will be applied.\n"
     ]
    }
   ],
   "source": [
    "from zoish.feature_selectors.recursive_feature_addition import RecursiveFeatureAdditionFeatureSelector\n",
    "import xgboost\n",
    "from sklearn.model_selection import KFold, train_test_split\n",
    "import pandas as pd\n",
    "from sklearn.pipeline import Pipeline\n",
    "from sklearn.linear_model import LogisticRegression\n",
    "from sklearn.metrics import classification_report, confusion_matrix, f1_score,make_scorer\n",
    "from feature_engine.imputation import MeanMedianImputer\n"
   ]
  },
  {
   "cell_type": "markdown",
   "metadata": {},
   "source": [
    "#### Example: Audiology (Standardized) Data Set\n",
    "###### https://archive.ics.uci.edu/ml/datasets/Audiology+%28Standardized%29\n",
    "\n",
    "\n",
    "#### Read data\n"
   ]
  },
  {
   "cell_type": "code",
   "execution_count": 2,
   "metadata": {},
   "outputs": [
    {
     "data": {
      "text/html": [
       "<div>\n",
       "<style scoped>\n",
       "    .dataframe tbody tr th:only-of-type {\n",
       "        vertical-align: middle;\n",
       "    }\n",
       "\n",
       "    .dataframe tbody tr th {\n",
       "        vertical-align: top;\n",
       "    }\n",
       "\n",
       "    .dataframe thead th {\n",
       "        text-align: right;\n",
       "    }\n",
       "</style>\n",
       "<table border=\"1\" class=\"dataframe\">\n",
       "  <thead>\n",
       "    <tr style=\"text-align: right;\">\n",
       "      <th></th>\n",
       "      <th>class</th>\n",
       "      <th>lymphatics</th>\n",
       "      <th>block of affere</th>\n",
       "      <th>bl. of lymph. c</th>\n",
       "      <th>bl. of lymph. s</th>\n",
       "      <th>by pass</th>\n",
       "      <th>extravasates</th>\n",
       "      <th>regeneration of</th>\n",
       "      <th>early uptake in</th>\n",
       "      <th>lym.nodes dimin</th>\n",
       "      <th>lym.nodes enlar</th>\n",
       "      <th>changes in lym.</th>\n",
       "      <th>defect in node</th>\n",
       "      <th>changes in node</th>\n",
       "      <th>special forms</th>\n",
       "      <th>dislocation of</th>\n",
       "      <th>exclusion of no</th>\n",
       "      <th>no. of nodes in</th>\n",
       "    </tr>\n",
       "  </thead>\n",
       "  <tbody>\n",
       "    <tr>\n",
       "      <th>3</th>\n",
       "      <td>4</td>\n",
       "      <td>2</td>\n",
       "      <td>1</td>\n",
       "      <td>1</td>\n",
       "      <td>1</td>\n",
       "      <td>1</td>\n",
       "      <td>1</td>\n",
       "      <td>2</td>\n",
       "      <td>1</td>\n",
       "      <td>2</td>\n",
       "      <td>2</td>\n",
       "      <td>2</td>\n",
       "      <td>4</td>\n",
       "      <td>8</td>\n",
       "      <td>1</td>\n",
       "      <td>1</td>\n",
       "      <td>2</td>\n",
       "      <td>2</td>\n",
       "    </tr>\n",
       "    <tr>\n",
       "      <th>2</th>\n",
       "      <td>3</td>\n",
       "      <td>2</td>\n",
       "      <td>1</td>\n",
       "      <td>1</td>\n",
       "      <td>2</td>\n",
       "      <td>2</td>\n",
       "      <td>1</td>\n",
       "      <td>2</td>\n",
       "      <td>1</td>\n",
       "      <td>3</td>\n",
       "      <td>3</td>\n",
       "      <td>2</td>\n",
       "      <td>3</td>\n",
       "      <td>4</td>\n",
       "      <td>2</td>\n",
       "      <td>2</td>\n",
       "      <td>2</td>\n",
       "      <td>2</td>\n",
       "    </tr>\n",
       "    <tr>\n",
       "      <th>3</th>\n",
       "      <td>3</td>\n",
       "      <td>2</td>\n",
       "      <td>2</td>\n",
       "      <td>2</td>\n",
       "      <td>2</td>\n",
       "      <td>2</td>\n",
       "      <td>2</td>\n",
       "      <td>2</td>\n",
       "      <td>1</td>\n",
       "      <td>4</td>\n",
       "      <td>3</td>\n",
       "      <td>3</td>\n",
       "      <td>4</td>\n",
       "      <td>8</td>\n",
       "      <td>3</td>\n",
       "      <td>2</td>\n",
       "      <td>2</td>\n",
       "      <td>7</td>\n",
       "    </tr>\n",
       "    <tr>\n",
       "      <th>3</th>\n",
       "      <td>3</td>\n",
       "      <td>1</td>\n",
       "      <td>1</td>\n",
       "      <td>1</td>\n",
       "      <td>1</td>\n",
       "      <td>2</td>\n",
       "      <td>1</td>\n",
       "      <td>2</td>\n",
       "      <td>1</td>\n",
       "      <td>3</td>\n",
       "      <td>3</td>\n",
       "      <td>4</td>\n",
       "      <td>4</td>\n",
       "      <td>4</td>\n",
       "      <td>3</td>\n",
       "      <td>1</td>\n",
       "      <td>2</td>\n",
       "      <td>6</td>\n",
       "    </tr>\n",
       "    <tr>\n",
       "      <th>2</th>\n",
       "      <td>3</td>\n",
       "      <td>1</td>\n",
       "      <td>1</td>\n",
       "      <td>1</td>\n",
       "      <td>1</td>\n",
       "      <td>1</td>\n",
       "      <td>1</td>\n",
       "      <td>1</td>\n",
       "      <td>1</td>\n",
       "      <td>2</td>\n",
       "      <td>2</td>\n",
       "      <td>4</td>\n",
       "      <td>3</td>\n",
       "      <td>5</td>\n",
       "      <td>1</td>\n",
       "      <td>2</td>\n",
       "      <td>2</td>\n",
       "      <td>1</td>\n",
       "    </tr>\n",
       "  </tbody>\n",
       "</table>\n",
       "</div>"
      ],
      "text/plain": [
       "   class  lymphatics  block of affere  bl. of lymph. c  bl. of lymph. s  \\\n",
       "3      4           2                1                1                1   \n",
       "2      3           2                1                1                2   \n",
       "3      3           2                2                2                2   \n",
       "3      3           1                1                1                1   \n",
       "2      3           1                1                1                1   \n",
       "\n",
       "   by pass  extravasates  regeneration of  early uptake in  lym.nodes dimin  \\\n",
       "3        1             1                2                1                2   \n",
       "2        2             1                2                1                3   \n",
       "3        2             2                2                1                4   \n",
       "3        2             1                2                1                3   \n",
       "2        1             1                1                1                2   \n",
       "\n",
       "   lym.nodes enlar  changes in lym.  defect in node  changes in node  \\\n",
       "3                2                2               4                8   \n",
       "2                3                2               3                4   \n",
       "3                3                3               4                8   \n",
       "3                3                4               4                4   \n",
       "2                2                4               3                5   \n",
       "\n",
       "   special forms  dislocation of  exclusion of no  no. of nodes in  \n",
       "3              1               1                2                2  \n",
       "2              2               2                2                2  \n",
       "3              3               2                2                7  \n",
       "3              3               1                2                6  \n",
       "2              1               2                2                1  "
      ]
     },
     "execution_count": 2,
     "metadata": {},
     "output_type": "execute_result"
    }
   ],
   "source": [
    "urldata = \"https://archive.ics.uci.edu/ml/machine-learning-databases/lymphography/lymphography.data\"\n",
    "urlname = \"https://archive.ics.uci.edu/ml/machine-learning-databases/lung-cancer/lung-cancer.names\"\n",
    "# column names\n",
    "col_names = [\n",
    "    \"class\",\n",
    "    \"lymphatics\",\n",
    "    \"block of affere\",\n",
    "    \"bl. of lymph. c\",\n",
    "    \"bl. of lymph. s\",\n",
    "    \"by pass\",\n",
    "    \"extravasates\",\n",
    "    \"regeneration of\",\n",
    "    \"early uptake in\",\n",
    "    \"lym.nodes dimin\",\n",
    "    \"lym.nodes enlar\",\n",
    "    \"changes in lym.\",\n",
    "    \"defect in node\",\n",
    "    \"changes in node\",\n",
    "    \"special forms\",\n",
    "    \"dislocation of\",\n",
    "    \"exclusion of no\",\n",
    "    \"no. of nodes in\",\n",
    "\n",
    "]\n",
    "\n",
    "data = pd.read_csv(urldata,names=col_names)\n",
    "data.head()\n"
   ]
  },
  {
   "cell_type": "markdown",
   "metadata": {},
   "source": [
    "#### Define labels and train-test split\n"
   ]
  },
  {
   "cell_type": "code",
   "execution_count": 3,
   "metadata": {},
   "outputs": [],
   "source": [
    "\n",
    "\n",
    "data.loc[(data[\"class\"] == 1) | (data[\"class\"] == 2), \"class\"] = 0\n",
    "data.loc[data[\"class\"] == 3, \"class\"] = 1\n",
    "data.loc[data[\"class\"] == 4, \"class\"] = 2\n",
    "data[\"class\"] = data[\"class\"].astype(int)"
   ]
  },
  {
   "cell_type": "markdown",
   "metadata": {},
   "source": [
    "#### Train test split\n"
   ]
  },
  {
   "cell_type": "code",
   "execution_count": 4,
   "metadata": {},
   "outputs": [],
   "source": [
    "X = data.loc[:, data.columns != \"class\"]\n",
    "y = data.loc[:, data.columns == \"class\"]\n",
    "\n",
    "X_train, X_test, y_train, y_test = train_test_split(\n",
    "    X, y, test_size=0.50,  random_state=42\n",
    ")\n",
    "y_test=y_test.values.ravel()\n",
    "y_train=y_train.values.ravel()\n"
   ]
  },
  {
   "cell_type": "markdown",
   "metadata": {},
   "source": [
    "#### Define feature selector step \n"
   ]
  },
  {
   "cell_type": "code",
   "execution_count": 5,
   "metadata": {},
   "outputs": [],
   "source": [
    "\n",
    "recursive_addition_feature_selector_factory = (\n",
    "    RecursiveFeatureAdditionFeatureSelector.recursive_addition_feature_selector_factory.set_model_params(\n",
    "        X=X_train,\n",
    "        y=y_train,\n",
    "        verbose=0,\n",
    "        random_state=0,\n",
    "        estimator=xgboost.XGBClassifier(),\n",
    "        estimator_params={\n",
    "            \"max_depth\": [4, 5],\n",
    "            \"gamma\":[0.0,1.0],\n",
    "            \"learning_rate\":[0.01,0.1]\n",
    "        },\n",
    "        fit_params = {\n",
    "            \"eval_set\":None, \n",
    "            \"eval_metric\":None,\n",
    "        },\n",
    "        method=\"gridsearch\",\n",
    "        threshold=0.01,\n",
    "        list_of_obligatory_features_that_must_be_in_model=[],\n",
    "        list_of_features_to_drop_before_any_selection=[],\n",
    "    ).set_recursive_addition_feature_params(\n",
    "        cv=2,\n",
    "        variables=None,\n",
    "        scoring='roc_auc_ovr',\n",
    "        confirm_variables=False,\n",
    "        \n",
    "    )\n",
    "    .set_gridsearchcv_params(\n",
    "        measure_of_accuracy=make_scorer(f1_score, greater_is_better=True, average='micro'),\n",
    "        verbose=10,\n",
    "        n_jobs=-1,\n",
    "        cv=KFold(3),\n",
    "    )\n",
    ")"
   ]
  },
  {
   "cell_type": "markdown",
   "metadata": {},
   "source": [
    "#### Find feature type for later use\n"
   ]
  },
  {
   "cell_type": "code",
   "execution_count": 6,
   "metadata": {},
   "outputs": [
    {
     "name": "stdout",
     "output_type": "stream",
     "text": [
      "['lymphatics', 'block of affere', 'bl. of lymph. c', 'bl. of lymph. s', 'by pass', 'extravasates', 'regeneration of', 'early uptake in', 'lym.nodes dimin', 'lym.nodes enlar', 'changes in lym.', 'defect in node', 'changes in node', 'special forms', 'dislocation of', 'exclusion of no', 'no. of nodes in']\n"
     ]
    }
   ],
   "source": [
    "int_cols = X_train.select_dtypes(include=[\"int\"]).columns.tolist()\n",
    "print(int_cols)"
   ]
  },
  {
   "cell_type": "markdown",
   "metadata": {},
   "source": [
    "#### Define pipeline"
   ]
  },
  {
   "cell_type": "code",
   "execution_count": 7,
   "metadata": {},
   "outputs": [],
   "source": [
    "pipeline = Pipeline(\n",
    "    [\n",
    "        # int missing values imputers\n",
    "        (\n",
    "            \"intimputer\",\n",
    "            MeanMedianImputer(imputation_method=\"median\", variables=int_cols),\n",
    "        ),\n",
    "        (\"rafsf\", recursive_addition_feature_selector_factory),\n",
    "        # classification model\n",
    "        (\"logistic\", LogisticRegression(solver='liblinear',max_iter=100)),\n",
    "    ]\n",
    ")"
   ]
  },
  {
   "cell_type": "markdown",
   "metadata": {},
   "source": [
    "#### Run Pipeline\n"
   ]
  },
  {
   "cell_type": "code",
   "execution_count": 8,
   "metadata": {},
   "outputs": [
    {
     "name": "stdout",
     "output_type": "stream",
     "text": [
      "Fitting 3 folds for each of 8 candidates, totalling 24 fits\n",
      "[CV 1/3; 1/8] START gamma=0.0, learning_rate=0.01, max_depth=4..................\n",
      "[CV 1/3; 1/8] END gamma=0.0, learning_rate=0.01, max_depth=4;, score=0.520 total time=   0.6s\n",
      "[CV 2/3; 1/8] START gamma=0.0, learning_rate=0.01, max_depth=4..................\n",
      "[CV 2/3; 1/8] END gamma=0.0, learning_rate=0.01, max_depth=4;, score=0.480 total time=   0.7s\n",
      "[CV 3/3; 1/8] START gamma=0.0, learning_rate=0.01, max_depth=4..................\n",
      "[CV 3/3; 1/8] END gamma=0.0, learning_rate=0.01, max_depth=4;, score=0.375 total time=   0.7s\n",
      "[CV 1/3; 2/8] START gamma=0.0, learning_rate=0.01, max_depth=5..................\n",
      "[CV 1/3; 2/8] END gamma=0.0, learning_rate=0.01, max_depth=5;, score=0.520 total time=   0.7s\n",
      "[CV 2/3; 2/8] START gamma=0.0, learning_rate=0.01, max_depth=5..................\n",
      "[CV 2/3; 2/8] END gamma=0.0, learning_rate=0.01, max_depth=5;, score=0.440 total time=   0.6s\n",
      "[CV 3/3; 2/8] START gamma=0.0, learning_rate=0.01, max_depth=5..................\n",
      "[CV 3/3; 2/8] END gamma=0.0, learning_rate=0.01, max_depth=5;, score=0.375 total time=   0.6s\n",
      "[CV 1/3; 3/8] START gamma=0.0, learning_rate=0.1, max_depth=4...................\n",
      "[CV 1/3; 3/8] END gamma=0.0, learning_rate=0.1, max_depth=4;, score=0.520 total time=   0.5s\n",
      "[CV 2/3; 3/8] START gamma=0.0, learning_rate=0.1, max_depth=4...................\n",
      "[CV 2/3; 3/8] END gamma=0.0, learning_rate=0.1, max_depth=4;, score=0.520 total time=   0.5s\n",
      "[CV 3/3; 3/8] START gamma=0.0, learning_rate=0.1, max_depth=4...................\n",
      "[CV 3/3; 3/8] END gamma=0.0, learning_rate=0.1, max_depth=4;, score=0.375 total time=   0.7s\n",
      "[CV 1/3; 4/8] START gamma=0.0, learning_rate=0.1, max_depth=5...................\n",
      "[CV 1/3; 4/8] END gamma=0.0, learning_rate=0.1, max_depth=5;, score=0.480 total time=   0.7s\n",
      "[CV 2/3; 4/8] START gamma=0.0, learning_rate=0.1, max_depth=5...................\n",
      "[CV 2/3; 4/8] END gamma=0.0, learning_rate=0.1, max_depth=5;, score=0.480 total time=   0.7s\n",
      "[CV 3/3; 4/8] START gamma=0.0, learning_rate=0.1, max_depth=5...................\n",
      "[CV 3/3; 4/8] END gamma=0.0, learning_rate=0.1, max_depth=5;, score=0.375 total time=   0.6s\n",
      "[CV 1/3; 5/8] START gamma=1.0, learning_rate=0.01, max_depth=4..................\n",
      "[CV 1/3; 5/8] END gamma=1.0, learning_rate=0.01, max_depth=4;, score=0.680 total time=   0.4s\n",
      "[CV 2/3; 5/8] START gamma=1.0, learning_rate=0.01, max_depth=4..................\n",
      "[CV 2/3; 5/8] END gamma=1.0, learning_rate=0.01, max_depth=4;, score=0.400 total time=   0.5s\n",
      "[CV 3/3; 5/8] START gamma=1.0, learning_rate=0.01, max_depth=4..................\n",
      "[CV 3/3; 5/8] END gamma=1.0, learning_rate=0.01, max_depth=4;, score=0.417 total time=   0.3s\n",
      "[CV 1/3; 6/8] START gamma=1.0, learning_rate=0.01, max_depth=5..................\n",
      "[CV 1/3; 6/8] END gamma=1.0, learning_rate=0.01, max_depth=5;, score=0.680 total time=   0.3s\n",
      "[CV 2/3; 6/8] START gamma=1.0, learning_rate=0.01, max_depth=5..................\n",
      "[CV 2/3; 6/8] END gamma=1.0, learning_rate=0.01, max_depth=5;, score=0.480 total time=   0.3s\n",
      "[CV 3/3; 6/8] START gamma=1.0, learning_rate=0.01, max_depth=5..................\n",
      "[CV 3/3; 6/8] END gamma=1.0, learning_rate=0.01, max_depth=5;, score=0.417 total time=   0.4s\n",
      "[CV 1/3; 7/8] START gamma=1.0, learning_rate=0.1, max_depth=4...................\n",
      "[CV 1/3; 7/8] END gamma=1.0, learning_rate=0.1, max_depth=4;, score=0.520 total time=   0.3s\n",
      "[CV 2/3; 7/8] START gamma=1.0, learning_rate=0.1, max_depth=4...................\n",
      "[CV 2/3; 7/8] END gamma=1.0, learning_rate=0.1, max_depth=4;, score=0.560 total time=   0.3s\n",
      "[CV 3/3; 7/8] START gamma=1.0, learning_rate=0.1, max_depth=4...................\n",
      "[CV 3/3; 7/8] END gamma=1.0, learning_rate=0.1, max_depth=4;, score=0.417 total time=   0.3s\n",
      "[CV 1/3; 8/8] START gamma=1.0, learning_rate=0.1, max_depth=5...................\n",
      "[CV 1/3; 8/8] END gamma=1.0, learning_rate=0.1, max_depth=5;, score=0.520 total time=   0.3s\n",
      "[CV 2/3; 8/8] START gamma=1.0, learning_rate=0.1, max_depth=5...................\n",
      "[CV 2/3; 8/8] END gamma=1.0, learning_rate=0.1, max_depth=5;, score=0.640 total time=   0.3s\n",
      "[CV 3/3; 8/8] START gamma=1.0, learning_rate=0.1, max_depth=5...................\n",
      "[CV 3/3; 8/8] END gamma=1.0, learning_rate=0.1, max_depth=5;, score=0.417 total time=   0.3s\n",
      "                 0        1\n",
      "0  lym.nodes dimin        0\n",
      "1  changes in node  0.14923\n",
      "['changes in node']\n"
     ]
    }
   ],
   "source": [
    "pipeline.fit(X_train, y_train)\n",
    "y_pred = pipeline.predict(X_test)\n"
   ]
  },
  {
   "cell_type": "markdown",
   "metadata": {},
   "source": [
    "#### Check performance of the Pipeline\n"
   ]
  },
  {
   "cell_type": "code",
   "execution_count": 9,
   "metadata": {},
   "outputs": [
    {
     "name": "stdout",
     "output_type": "stream",
     "text": [
      "Confusion matrix : \n",
      "[[26  5  0]\n",
      " [19  4  0]\n",
      " [20  0  0]]\n"
     ]
    }
   ],
   "source": [
    "\n",
    "print(\"Confusion matrix : \")\n",
    "print(confusion_matrix(y_test, y_pred))\n",
    "\n"
   ]
  },
  {
   "cell_type": "markdown",
   "metadata": {},
   "source": [
    "#### Get access to feature selector instance"
   ]
  },
  {
   "cell_type": "code",
   "execution_count": 10,
   "metadata": {},
   "outputs": [
    {
     "name": "stdout",
     "output_type": "stream",
     "text": [
      "RecursiveFeatureAddition(cv=KFold(n_splits=3, random_state=None, shuffle=False),\n",
      "                         estimator=XGBClassifier(base_score=0.5,\n",
      "                                                 booster='gbtree',\n",
      "                                                 callbacks=None,\n",
      "                                                 colsample_bylevel=1,\n",
      "                                                 colsample_bynode=1,\n",
      "                                                 colsample_bytree=1,\n",
      "                                                 early_stopping_rounds=None,\n",
      "                                                 enable_categorical=False,\n",
      "                                                 eval_metric=None, gamma=1.0,\n",
      "                                                 gpu_id=-1,\n",
      "                                                 grow_policy='depthwise',\n",
      "                                                 importance_type=None,\n",
      "                                                 interaction_constraints='',\n",
      "                                                 learning_rate=0.01,\n",
      "                                                 max_bin=256,\n",
      "                                                 max_cat_to_onehot=4,\n",
      "                                                 max_delta_step=0, max_depth=5,\n",
      "                                                 max_leaves=0,\n",
      "                                                 min_child_weight=1,\n",
      "                                                 missing=nan,\n",
      "                                                 monotone_constraints='()',\n",
      "                                                 n_estimators=100, n_jobs=0,\n",
      "                                                 num_parallel_tree=1,\n",
      "                                                 objective='multi:softprob',\n",
      "                                                 predictor='auto',\n",
      "                                                 random_state=0, reg_alpha=0, ...),\n",
      "                         scoring='roc_auc_ovr')\n"
     ]
    }
   ],
   "source": [
    "print(RecursiveFeatureAdditionFeatureSelector.recursive_addition_feature_selector_factory.get_feature_selector_instance())"
   ]
  }
 ],
 "metadata": {
  "kernelspec": {
   "display_name": "Python 3.10.6 ('.venv': poetry)",
   "language": "python",
   "name": "python3"
  },
  "language_info": {
   "codemirror_mode": {
    "name": "ipython",
    "version": 3
   },
   "file_extension": ".py",
   "mimetype": "text/x-python",
   "name": "python",
   "nbconvert_exporter": "python",
   "pygments_lexer": "ipython3",
   "version": "3.10.6"
  },
  "orig_nbformat": 4,
  "vscode": {
   "interpreter": {
    "hash": "2fd4a9ad6613f01435523ab5e4297db981c1d87a44e43e252d0e314391da6eb3"
   }
  }
 },
 "nbformat": 4,
 "nbformat_minor": 2
}
