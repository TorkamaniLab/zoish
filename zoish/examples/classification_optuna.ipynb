{
 "cells": [
  {
   "cell_type": "code",
   "execution_count": 1,
   "metadata": {},
   "outputs": [
    {
     "name": "stderr",
     "output_type": "stream",
     "text": [
      "IProgress not found. Please update jupyter and ipywidgets. See https://ipywidgets.readthedocs.io/en/stable/user_install.html\n"
     ]
    }
   ],
   "source": [
    "from zoish.feature_selectors.zoish_feature_selector import ScallyShapFeatureSelector\n",
    "import xgboost\n",
    "from optuna.pruners import HyperbandPruner\n",
    "from optuna.samplers._tpe.sampler import TPESampler\n",
    "from sklearn.model_selection import KFold,train_test_split\n",
    "import pandas as pd\n",
    "from sklearn.pipeline import Pipeline\n",
    "from feature_engine.imputation import (\n",
    "    CategoricalImputer,\n",
    "    MeanMedianImputer\n",
    "    )\n",
    "from category_encoders import OrdinalEncoder\n",
    "from sklearn.linear_model import LogisticRegression\n",
    "from sklearn.metrics import (\n",
    "    classification_report,\n",
    "    confusion_matrix,\n",
    "    f1_score)"
   ]
  },
  {
   "cell_type": "markdown",
   "metadata": {},
   "source": [
    "# Example 1 : Use Adult Data Set (a classification problem)\n",
    "  \n",
    "https://archive.ics.uci.edu/ml/datasets/Adult"
   ]
  },
  {
   "cell_type": "code",
   "execution_count": 2,
   "metadata": {},
   "outputs": [
    {
     "data": {
      "text/html": [
       "<div>\n",
       "<style scoped>\n",
       "    .dataframe tbody tr th:only-of-type {\n",
       "        vertical-align: middle;\n",
       "    }\n",
       "\n",
       "    .dataframe tbody tr th {\n",
       "        vertical-align: top;\n",
       "    }\n",
       "\n",
       "    .dataframe thead th {\n",
       "        text-align: right;\n",
       "    }\n",
       "</style>\n",
       "<table border=\"1\" class=\"dataframe\">\n",
       "  <thead>\n",
       "    <tr style=\"text-align: right;\">\n",
       "      <th></th>\n",
       "      <th>age</th>\n",
       "      <th>workclass</th>\n",
       "      <th>fnlwgt</th>\n",
       "      <th>education</th>\n",
       "      <th>education-num</th>\n",
       "      <th>marital-status</th>\n",
       "      <th>occupation</th>\n",
       "      <th>relationship</th>\n",
       "      <th>race</th>\n",
       "      <th>sex</th>\n",
       "      <th>capital-gain</th>\n",
       "      <th>capital-loss</th>\n",
       "      <th>hours-per-week</th>\n",
       "      <th>native-country</th>\n",
       "      <th>label</th>\n",
       "    </tr>\n",
       "  </thead>\n",
       "  <tbody>\n",
       "    <tr>\n",
       "      <th>0</th>\n",
       "      <td>39</td>\n",
       "      <td>State-gov</td>\n",
       "      <td>77516</td>\n",
       "      <td>Bachelors</td>\n",
       "      <td>13</td>\n",
       "      <td>Never-married</td>\n",
       "      <td>Adm-clerical</td>\n",
       "      <td>Not-in-family</td>\n",
       "      <td>White</td>\n",
       "      <td>Male</td>\n",
       "      <td>2174</td>\n",
       "      <td>0</td>\n",
       "      <td>40</td>\n",
       "      <td>United-States</td>\n",
       "      <td>&lt;=50K</td>\n",
       "    </tr>\n",
       "    <tr>\n",
       "      <th>1</th>\n",
       "      <td>50</td>\n",
       "      <td>Self-emp-not-inc</td>\n",
       "      <td>83311</td>\n",
       "      <td>Bachelors</td>\n",
       "      <td>13</td>\n",
       "      <td>Married-civ-spouse</td>\n",
       "      <td>Exec-managerial</td>\n",
       "      <td>Husband</td>\n",
       "      <td>White</td>\n",
       "      <td>Male</td>\n",
       "      <td>0</td>\n",
       "      <td>0</td>\n",
       "      <td>13</td>\n",
       "      <td>United-States</td>\n",
       "      <td>&lt;=50K</td>\n",
       "    </tr>\n",
       "    <tr>\n",
       "      <th>2</th>\n",
       "      <td>38</td>\n",
       "      <td>Private</td>\n",
       "      <td>215646</td>\n",
       "      <td>HS-grad</td>\n",
       "      <td>9</td>\n",
       "      <td>Divorced</td>\n",
       "      <td>Handlers-cleaners</td>\n",
       "      <td>Not-in-family</td>\n",
       "      <td>White</td>\n",
       "      <td>Male</td>\n",
       "      <td>0</td>\n",
       "      <td>0</td>\n",
       "      <td>40</td>\n",
       "      <td>United-States</td>\n",
       "      <td>&lt;=50K</td>\n",
       "    </tr>\n",
       "    <tr>\n",
       "      <th>3</th>\n",
       "      <td>53</td>\n",
       "      <td>Private</td>\n",
       "      <td>234721</td>\n",
       "      <td>11th</td>\n",
       "      <td>7</td>\n",
       "      <td>Married-civ-spouse</td>\n",
       "      <td>Handlers-cleaners</td>\n",
       "      <td>Husband</td>\n",
       "      <td>Black</td>\n",
       "      <td>Male</td>\n",
       "      <td>0</td>\n",
       "      <td>0</td>\n",
       "      <td>40</td>\n",
       "      <td>United-States</td>\n",
       "      <td>&lt;=50K</td>\n",
       "    </tr>\n",
       "    <tr>\n",
       "      <th>4</th>\n",
       "      <td>28</td>\n",
       "      <td>Private</td>\n",
       "      <td>338409</td>\n",
       "      <td>Bachelors</td>\n",
       "      <td>13</td>\n",
       "      <td>Married-civ-spouse</td>\n",
       "      <td>Prof-specialty</td>\n",
       "      <td>Wife</td>\n",
       "      <td>Black</td>\n",
       "      <td>Female</td>\n",
       "      <td>0</td>\n",
       "      <td>0</td>\n",
       "      <td>40</td>\n",
       "      <td>Cuba</td>\n",
       "      <td>&lt;=50K</td>\n",
       "    </tr>\n",
       "  </tbody>\n",
       "</table>\n",
       "</div>"
      ],
      "text/plain": [
       "   age          workclass  fnlwgt   education  education-num  \\\n",
       "0   39          State-gov   77516   Bachelors             13   \n",
       "1   50   Self-emp-not-inc   83311   Bachelors             13   \n",
       "2   38            Private  215646     HS-grad              9   \n",
       "3   53            Private  234721        11th              7   \n",
       "4   28            Private  338409   Bachelors             13   \n",
       "\n",
       "        marital-status          occupation    relationship    race      sex  \\\n",
       "0        Never-married        Adm-clerical   Not-in-family   White     Male   \n",
       "1   Married-civ-spouse     Exec-managerial         Husband   White     Male   \n",
       "2             Divorced   Handlers-cleaners   Not-in-family   White     Male   \n",
       "3   Married-civ-spouse   Handlers-cleaners         Husband   Black     Male   \n",
       "4   Married-civ-spouse      Prof-specialty            Wife   Black   Female   \n",
       "\n",
       "   capital-gain  capital-loss  hours-per-week  native-country   label  \n",
       "0          2174             0              40   United-States   <=50K  \n",
       "1             0             0              13   United-States   <=50K  \n",
       "2             0             0              40   United-States   <=50K  \n",
       "3             0             0              40   United-States   <=50K  \n",
       "4             0             0              40            Cuba   <=50K  "
      ]
     },
     "execution_count": 2,
     "metadata": {},
     "output_type": "execute_result"
    }
   ],
   "source": [
    "urldata= \"https://archive.ics.uci.edu/ml/machine-learning-databases/adult/adult.data\"\n",
    "# column names\n",
    "col_names=[\"age\", \"workclass\", \"fnlwgt\" , \"education\" ,\"education-num\",\n",
    "\"marital-status\",\"occupation\",\"relationship\",\"race\",\"sex\",\"capital-gain\",\"capital-loss\",\"hours-per-week\",\n",
    "\"native-country\",\"label\"\n",
    "]\n",
    "# read data\n",
    "data = pd.read_csv(urldata,header=None,names=col_names,sep=',')\n",
    "data.head()"
   ]
  },
  {
   "cell_type": "markdown",
   "metadata": {},
   "source": [
    "# Define labels\n"
   ]
  },
  {
   "cell_type": "code",
   "execution_count": 3,
   "metadata": {},
   "outputs": [],
   "source": [
    "data.loc[data['label']=='<=50K','label']=0\n",
    "data.loc[data['label']==' <=50K','label']=0\n",
    "\n",
    "data.loc[data['label']=='>50K','label']=1\n",
    "data.loc[data['label']==' >50K','label']=1\n",
    "\n",
    "data['label']=data['label'].astype(int)"
   ]
  },
  {
   "cell_type": "markdown",
   "metadata": {},
   "source": [
    "# Train test split"
   ]
  },
  {
   "cell_type": "code",
   "execution_count": 4,
   "metadata": {},
   "outputs": [],
   "source": [
    "X = data.loc[:, data.columns != \"label\"]\n",
    "y = data.loc[:, data.columns == \"label\"]\n",
    "\n",
    "\n",
    "X_train, X_test, y_train, y_test =train_test_split(X, y, test_size=0.33, stratify=y['label'], random_state=42)\n"
   ]
  },
  {
   "cell_type": "markdown",
   "metadata": {},
   "source": [
    "# Find feature types for later use"
   ]
  },
  {
   "cell_type": "code",
   "execution_count": 5,
   "metadata": {},
   "outputs": [],
   "source": [
    "int_cols =  X_train.select_dtypes(include=['int']).columns.tolist()\n",
    "float_cols =  X_train.select_dtypes(include=['float']).columns.tolist()\n",
    "cat_cols =  X_train.select_dtypes(include=['object']).columns.tolist()\n"
   ]
  },
  {
   "cell_type": "markdown",
   "metadata": {},
   "source": [
    "# Define Feature selector and set it argumens "
   ]
  },
  {
   "cell_type": "code",
   "execution_count": 6,
   "metadata": {},
   "outputs": [
    {
     "name": "stdout",
     "output_type": "stream",
     "text": [
      "Setting value for n_features\n",
      "Setting value for estimator\n",
      "Getting value for estimator\n",
      "XGBClassifier(base_score=None, booster=None, callbacks=None,\n",
      "              colsample_bylevel=None, colsample_bynode=None,\n",
      "              colsample_bytree=None, early_stopping_rounds=None,\n",
      "              enable_categorical=False, eval_metric=None, gamma=None,\n",
      "              gpu_id=None, grow_policy=None, importance_type=None,\n",
      "              interaction_constraints=None, learning_rate=None, max_bin=None,\n",
      "              max_cat_to_onehot=None, max_delta_step=None, max_depth=None,\n",
      "              max_leaves=None, min_child_weight=None, missing=nan,\n",
      "              monotone_constraints=None, n_estimators=100, n_jobs=None,\n",
      "              num_parallel_tree=None, predictor=None, random_state=None,\n",
      "              reg_alpha=None, reg_lambda=None, ...)\n",
      "Getting value for estimator\n",
      "Getting value for estimator\n",
      "Getting value for estimator\n",
      "Getting value for estimator\n",
      "Getting value for estimator\n",
      "Getting value for estimator\n",
      "Getting value for estimator\n",
      "Setting value for estimator_params\n",
      "Getting value for estimator\n",
      "Getting value for estimator\n",
      "Setting value for hyper_parameter_optimization_method\n",
      "Setting value for shap_version\n",
      "Setting value for measure_of_accuracy\n",
      "Setting value for list_of_obligatory_features\n",
      "Setting value for test_size\n",
      "Setting value for Cross Validation object\n",
      "Setting value for with_shap_summary_plot\n",
      "Setting value for with_stratified\n",
      "Setting value for verbose\n",
      "Setting value for random_state\n",
      "Setting value for n_jobs\n",
      "Setting value for n_iter\n",
      "Setting value for eval_metric\n",
      "Setting value for number_of_trials\n",
      "Setting value for sampler\n",
      "Setting value for pruner\n",
      "Setting value for best_estimator\n",
      "Setting value for importance_df\n"
     ]
    }
   ],
   "source": [
    "\n",
    "SFC_XGBCLS_OPTUNA = ScallyShapFeatureSelector(\n",
    "        n_features=5,\n",
    "        estimator=xgboost.XGBClassifier(),\n",
    "        estimator_params={\n",
    "            \"max_depth\": [2, 3],\n",
    "            \"min_child_weight\": [0.1, 0.9],\n",
    "            \"gamma\": [1, 9],\n",
    "        },\n",
    "        hyper_parameter_optimization_method=\"optuna\",\n",
    "        shap_version=\"v0\",\n",
    "        measure_of_accuracy=\"f1\",\n",
    "        list_of_obligatory_features=[],\n",
    "        test_size=0.33,\n",
    "        cv=KFold(n_splits=3, random_state=42, shuffle=True),\n",
    "        with_shap_summary_plot=True,\n",
    "        with_stratified=False,\n",
    "        verbose=0,\n",
    "        random_state=42,\n",
    "        n_jobs=-1,\n",
    "        n_iter=100,\n",
    "        eval_metric=\"auc\",\n",
    "        number_of_trials=20,\n",
    "        sampler=TPESampler(),\n",
    "        pruner=HyperbandPruner(),\n",
    "    )\n"
   ]
  },
  {
   "cell_type": "markdown",
   "metadata": {},
   "source": [
    "# Build sklearn Pipeline"
   ]
  },
  {
   "cell_type": "code",
   "execution_count": 7,
   "metadata": {},
   "outputs": [],
   "source": [
    "\n",
    "\n",
    "pipeline =Pipeline([\n",
    "            # int missing values imputers\n",
    "            ('intimputer', MeanMedianImputer(\n",
    "                imputation_method='median', variables=int_cols)),\n",
    "            # category missing values imputers\n",
    "            ('catimputer', CategoricalImputer(variables=cat_cols)),\n",
    "            #\n",
    "            ('catencoder', OrdinalEncoder()),\n",
    "            # feature selection\n",
    "            ('SFC_XGBCLS_OPTUNA', SFC_XGBCLS_OPTUNA),\n",
    "            # classification model\n",
    "            ('logistic', LogisticRegression())\n",
    "\n",
    "\n",
    " ])\n",
    "\n"
   ]
  },
  {
   "cell_type": "markdown",
   "metadata": {},
   "source": [
    "# Run Pipeline"
   ]
  },
  {
   "cell_type": "code",
   "execution_count": 8,
   "metadata": {},
   "outputs": [
    {
     "name": "stderr",
     "output_type": "stream",
     "text": [
      "\u001b[32m[I 2022-07-25 15:42:00,622]\u001b[0m A new study created in memory with name: no-name-d3232ac6-2464-4749-863d-9e27881c8b3a\u001b[0m\n"
     ]
    },
    {
     "name": "stdout",
     "output_type": "stream",
     "text": [
      "Getting value for hyper_parameter_optimization_method\n",
      "Getting value for hyper_parameter_optimization_method\n",
      "Getting value for hyper_parameter_optimization_method\n",
      "Getting value for estimator\n",
      "Getting value for measure_of_accuracy\n",
      "Getting value for estimator_params\n",
      "Getting value for verbose\n",
      "Getting value for test_size\n",
      "Getting value for random_state\n",
      "Getting value for eval_metric\n",
      "Getting value for number_of_trials\n",
      "Getting value for sampler\n",
      "Getting value for pruner\n",
      "Getting value for with_stratified\n",
      "       age  workclass  fnlwgt  education  education-num  marital-status  \\\n",
      "27476   35          1  177102          4              9               2   \n",
      "10052   61          1  193479          4              9               4   \n",
      "11713   24          3  169624          4              9               2   \n",
      "2513    47          3  174525          4              9               5   \n",
      "12308   26          1  175789          4              9               2   \n",
      "...    ...        ...     ...        ...            ...             ...   \n",
      "7523    29          1  109621          4              9               5   \n",
      "5490    62          5  200577          9             14               5   \n",
      "12365   30          2  117944          4              9               5   \n",
      "11729   19          1  158118          4              9               1   \n",
      "8964    22          1  199266          1             13               1   \n",
      "\n",
      "       occupation  relationship  race  sex  capital-gain  capital-loss  \\\n",
      "27476           2             3     1    2             0             0   \n",
      "10052           1             3     1    2             0             0   \n",
      "11713          11             3     2    2             0             0   \n",
      "2513           11             4     1    1          3942             0   \n",
      "12308           2             1     1    2             0             0   \n",
      "...           ...           ...   ...  ...           ...           ...   \n",
      "7523           10             4     1    1             0             0   \n",
      "5490            6             4     1    1             0             0   \n",
      "12365           5             4     1    1             0             0   \n",
      "11729           9             2     1    2             0          1719   \n",
      "8964            4             2     1    2             0             0   \n",
      "\n",
      "       hours-per-week  native-country  \n",
      "27476              40               1  \n",
      "10052              24               1  \n",
      "11713              37               1  \n",
      "2513               40               5  \n",
      "12308              40               1  \n",
      "...               ...             ...  \n",
      "7523               40               1  \n",
      "5490               45               1  \n",
      "12365              25               1  \n",
      "11729              40               1  \n",
      "8964               30               1  \n",
      "\n",
      "[14616 rows x 14 columns]\n",
      "[0]\tvalidation-auc:0.85926\n",
      "[1]\tvalidation-auc:0.87514\n",
      "[2]\tvalidation-auc:0.88917\n",
      "[3]\tvalidation-auc:0.89795\n",
      "[4]\tvalidation-auc:0.89957\n",
      "[5]\tvalidation-auc:0.90308\n",
      "[6]\tvalidation-auc:0.90722\n",
      "[7]\tvalidation-auc:0.90877\n",
      "[8]\tvalidation-auc:0.90935\n",
      "[9]\tvalidation-auc:0.91047\n"
     ]
    },
    {
     "name": "stderr",
     "output_type": "stream",
     "text": [
      "\u001b[32m[I 2022-07-25 15:42:00,765]\u001b[0m Trial 0 finished with value: 0.6490747087045922 and parameters: {'max_depth': 3, 'min_child_weight': 0.6143949968843346, 'gamma': 3.8856906963864057}. Best is trial 0 with value: 0.6490747087045922.\u001b[0m\n"
     ]
    },
    {
     "name": "stdout",
     "output_type": "stream",
     "text": [
      "[0]\tvalidation-auc:0.82538\n",
      "[1]\tvalidation-auc:0.84194\n",
      "[2]\tvalidation-auc:0.85871\n",
      "[3]\tvalidation-auc:0.87262\n",
      "[4]\tvalidation-auc:0.88612\n",
      "[5]\tvalidation-auc:0.89044\n",
      "[6]\tvalidation-auc:0.89237\n",
      "[7]\tvalidation-auc:0.89322\n",
      "[8]\tvalidation-auc:0.89807\n",
      "[9]\tvalidation-auc:0.90037\n"
     ]
    },
    {
     "name": "stderr",
     "output_type": "stream",
     "text": [
      "\u001b[32m[I 2022-07-25 15:42:00,869]\u001b[0m Trial 1 finished with value: 0.6225839267548322 and parameters: {'max_depth': 2, 'min_child_weight': 0.44987033391430065, 'gamma': 8.136395547089071}. Best is trial 0 with value: 0.6490747087045922.\u001b[0m\n"
     ]
    },
    {
     "name": "stdout",
     "output_type": "stream",
     "text": [
      "[0]\tvalidation-auc:0.85926\n",
      "[1]\tvalidation-auc:0.87514\n",
      "[2]\tvalidation-auc:0.88917\n",
      "[3]\tvalidation-auc:0.89816\n",
      "[4]\tvalidation-auc:0.89971\n",
      "[5]\tvalidation-auc:0.90367\n",
      "[6]\tvalidation-auc:0.90642\n",
      "[7]\tvalidation-auc:0.90934\n",
      "[8]\tvalidation-auc:0.90985\n",
      "[9]\tvalidation-auc:0.91075\n"
     ]
    },
    {
     "name": "stderr",
     "output_type": "stream",
     "text": [
      "\u001b[32m[I 2022-07-25 15:42:00,979]\u001b[0m Trial 2 finished with value: 0.6408304498269897 and parameters: {'max_depth': 3, 'min_child_weight': 0.8468210582576646, 'gamma': 1.0515765820499983}. Best is trial 0 with value: 0.6490747087045922.\u001b[0m\n"
     ]
    },
    {
     "name": "stdout",
     "output_type": "stream",
     "text": [
      "[0]\tvalidation-auc:0.82538\n",
      "[1]\tvalidation-auc:0.84194\n"
     ]
    },
    {
     "name": "stderr",
     "output_type": "stream",
     "text": [
      "\u001b[32m[I 2022-07-25 15:42:01,005]\u001b[0m Trial 3 pruned. Trial was pruned at iteration 1.\u001b[0m\n"
     ]
    },
    {
     "name": "stdout",
     "output_type": "stream",
     "text": [
      "[0]\tvalidation-auc:0.82538\n",
      "[1]\tvalidation-auc:0.84194\n",
      "[2]\tvalidation-auc:0.85911\n",
      "[3]\tvalidation-auc:0.87281\n",
      "[4]\tvalidation-auc:0.88634\n",
      "[5]\tvalidation-auc:0.89025\n",
      "[6]\tvalidation-auc:0.89120\n",
      "[7]\tvalidation-auc:0.89633\n",
      "[8]\tvalidation-auc:0.89686\n",
      "[9]\tvalidation-auc:0.90157\n"
     ]
    },
    {
     "name": "stderr",
     "output_type": "stream",
     "text": [
      "\u001b[32m[I 2022-07-25 15:42:01,092]\u001b[0m Trial 4 finished with value: 0.6315429353404037 and parameters: {'max_depth': 2, 'min_child_weight': 0.8530099493817311, 'gamma': 6.5401602964739025}. Best is trial 0 with value: 0.6490747087045922.\u001b[0m\n"
     ]
    },
    {
     "name": "stdout",
     "output_type": "stream",
     "text": [
      "[0]\tvalidation-auc:0.82538\n",
      "[1]\tvalidation-auc:0.84194\n",
      "[2]\tvalidation-auc:0.85911\n",
      "[3]\tvalidation-auc:0.87281\n",
      "[4]\tvalidation-auc:0.88634\n",
      "[5]\tvalidation-auc:0.89025\n",
      "[6]\tvalidation-auc:0.89120\n",
      "[7]\tvalidation-auc:0.89633\n",
      "[8]\tvalidation-auc:0.89686\n",
      "[9]\tvalidation-auc:0.90039\n"
     ]
    },
    {
     "name": "stderr",
     "output_type": "stream",
     "text": [
      "\u001b[32m[I 2022-07-25 15:42:01,191]\u001b[0m Trial 5 finished with value: 0.6324786324786325 and parameters: {'max_depth': 2, 'min_child_weight': 0.16713703885792935, 'gamma': 7.06990520469909}. Best is trial 0 with value: 0.6490747087045922.\u001b[0m\n"
     ]
    },
    {
     "name": "stdout",
     "output_type": "stream",
     "text": [
      "[0]\tvalidation-auc:0.85926\n",
      "[1]\tvalidation-auc:0.87514\n",
      "[2]\tvalidation-auc:0.88917\n"
     ]
    },
    {
     "name": "stderr",
     "output_type": "stream",
     "text": [
      "\u001b[32m[I 2022-07-25 15:42:01,231]\u001b[0m Trial 6 pruned. Trial was pruned at iteration 3.\u001b[0m\n"
     ]
    },
    {
     "name": "stdout",
     "output_type": "stream",
     "text": [
      "[0]\tvalidation-auc:0.85926\n",
      "[1]\tvalidation-auc:0.87514\n",
      "[2]\tvalidation-auc:0.88917\n"
     ]
    },
    {
     "name": "stderr",
     "output_type": "stream",
     "text": [
      "\u001b[32m[I 2022-07-25 15:42:01,278]\u001b[0m Trial 7 pruned. Trial was pruned at iteration 3.\u001b[0m\n"
     ]
    },
    {
     "name": "stdout",
     "output_type": "stream",
     "text": [
      "[0]\tvalidation-auc:0.85926\n",
      "[1]\tvalidation-auc:0.87514\n",
      "[2]\tvalidation-auc:0.88917\n",
      "[3]\tvalidation-auc:0.89816\n",
      "[4]\tvalidation-auc:0.89969\n",
      "[5]\tvalidation-auc:0.90319\n",
      "[6]\tvalidation-auc:0.90733\n",
      "[7]\tvalidation-auc:0.90909\n",
      "[8]\tvalidation-auc:0.90916\n",
      "[9]\tvalidation-auc:0.91028\n"
     ]
    },
    {
     "name": "stderr",
     "output_type": "stream",
     "text": [
      "\u001b[32m[I 2022-07-25 15:42:01,366]\u001b[0m Trial 8 pruned. Trial was pruned at iteration 9.\u001b[0m\n"
     ]
    },
    {
     "name": "stdout",
     "output_type": "stream",
     "text": [
      "[0]\tvalidation-auc:0.85926\n",
      "[1]\tvalidation-auc:0.87514\n",
      "[2]\tvalidation-auc:0.88917\n",
      "[3]\tvalidation-auc:0.89816\n",
      "[4]\tvalidation-auc:0.89969\n",
      "[5]\tvalidation-auc:0.90319\n",
      "[6]\tvalidation-auc:0.90765\n",
      "[7]\tvalidation-auc:0.90821\n",
      "[8]\tvalidation-auc:0.90893\n",
      "[9]\tvalidation-auc:0.91035\n"
     ]
    },
    {
     "name": "stderr",
     "output_type": "stream",
     "text": [
      "\u001b[32m[I 2022-07-25 15:42:01,448]\u001b[0m Trial 9 pruned. Trial was pruned at iteration 9.\u001b[0m\n"
     ]
    },
    {
     "name": "stdout",
     "output_type": "stream",
     "text": [
      "[0]\tvalidation-auc:0.82538\n",
      "[1]\tvalidation-auc:0.84194\n",
      "[2]\tvalidation-auc:0.85911\n",
      "[3]\tvalidation-auc:0.87281\n",
      "[4]\tvalidation-auc:0.88634\n",
      "[5]\tvalidation-auc:0.89025\n",
      "[6]\tvalidation-auc:0.89155\n",
      "[7]\tvalidation-auc:0.89720\n",
      "[8]\tvalidation-auc:0.89813\n",
      "[9]\tvalidation-auc:0.90243\n"
     ]
    },
    {
     "name": "stderr",
     "output_type": "stream",
     "text": [
      "\u001b[32m[I 2022-07-25 15:42:01,530]\u001b[0m Trial 10 finished with value: 0.6322624743677375 and parameters: {'max_depth': 2, 'min_child_weight': 0.4562536800896443, 'gamma': 2.847051866470565}. Best is trial 0 with value: 0.6490747087045922.\u001b[0m\n"
     ]
    },
    {
     "name": "stdout",
     "output_type": "stream",
     "text": [
      "[0]\tvalidation-auc:0.85926\n",
      "[1]\tvalidation-auc:0.87514\n",
      "[2]\tvalidation-auc:0.88917\n",
      "[3]\tvalidation-auc:0.89789\n"
     ]
    },
    {
     "name": "stderr",
     "output_type": "stream",
     "text": [
      "\u001b[32m[I 2022-07-25 15:42:01,572]\u001b[0m Trial 11 pruned. Trial was pruned at iteration 3.\u001b[0m\n"
     ]
    },
    {
     "name": "stdout",
     "output_type": "stream",
     "text": [
      "[0]\tvalidation-auc:0.85926\n",
      "[1]\tvalidation-auc:0.87514\n",
      "[2]\tvalidation-auc:0.88917\n",
      "[3]\tvalidation-auc:0.89789\n"
     ]
    },
    {
     "name": "stderr",
     "output_type": "stream",
     "text": [
      "\u001b[32m[I 2022-07-25 15:42:01,611]\u001b[0m Trial 12 pruned. Trial was pruned at iteration 3.\u001b[0m\n"
     ]
    },
    {
     "name": "stdout",
     "output_type": "stream",
     "text": [
      "[0]\tvalidation-auc:0.85926\n",
      "[1]\tvalidation-auc:0.87514\n",
      "[2]\tvalidation-auc:0.88917\n",
      "[3]\tvalidation-auc:0.89816\n",
      "[4]\tvalidation-auc:0.89969\n",
      "[5]\tvalidation-auc:0.90319\n",
      "[6]\tvalidation-auc:0.90765\n",
      "[7]\tvalidation-auc:0.90821\n",
      "[8]\tvalidation-auc:0.90893\n"
     ]
    },
    {
     "name": "stderr",
     "output_type": "stream",
     "text": [
      "\u001b[32m[I 2022-07-25 15:42:01,687]\u001b[0m Trial 13 pruned. Trial was pruned at iteration 9.\u001b[0m\n"
     ]
    },
    {
     "name": "stdout",
     "output_type": "stream",
     "text": [
      "[0]\tvalidation-auc:0.82538\n",
      "[1]\tvalidation-auc:0.84194\n"
     ]
    },
    {
     "name": "stderr",
     "output_type": "stream",
     "text": [
      "\u001b[32m[I 2022-07-25 15:42:01,724]\u001b[0m Trial 14 pruned. Trial was pruned at iteration 1.\u001b[0m\n"
     ]
    },
    {
     "name": "stdout",
     "output_type": "stream",
     "text": [
      "[0]\tvalidation-auc:0.82538\n",
      "[1]\tvalidation-auc:0.84194\n"
     ]
    },
    {
     "name": "stderr",
     "output_type": "stream",
     "text": [
      "\u001b[32m[I 2022-07-25 15:42:01,762]\u001b[0m Trial 15 pruned. Trial was pruned at iteration 1.\u001b[0m\n"
     ]
    },
    {
     "name": "stdout",
     "output_type": "stream",
     "text": [
      "[0]\tvalidation-auc:0.82538\n",
      "[1]\tvalidation-auc:0.84194\n",
      "[2]\tvalidation-auc:0.85911\n",
      "[3]\tvalidation-auc:0.87281\n",
      "[4]\tvalidation-auc:0.88634\n",
      "[5]\tvalidation-auc:0.89025\n",
      "[6]\tvalidation-auc:0.89155\n",
      "[7]\tvalidation-auc:0.89720\n",
      "[8]\tvalidation-auc:0.89813\n",
      "[9]\tvalidation-auc:0.90243\n"
     ]
    },
    {
     "name": "stderr",
     "output_type": "stream",
     "text": [
      "\u001b[32m[I 2022-07-25 15:42:01,849]\u001b[0m Trial 16 finished with value: 0.6322624743677375 and parameters: {'max_depth': 2, 'min_child_weight': 0.5392878452337309, 'gamma': 2.670718277948712}. Best is trial 0 with value: 0.6490747087045922.\u001b[0m\n"
     ]
    },
    {
     "name": "stdout",
     "output_type": "stream",
     "text": [
      "[0]\tvalidation-auc:0.82538\n",
      "[1]\tvalidation-auc:0.84194\n",
      "[2]\tvalidation-auc:0.85911\n",
      "[3]\tvalidation-auc:0.87281\n",
      "[4]\tvalidation-auc:0.88634\n",
      "[5]\tvalidation-auc:0.89025\n",
      "[6]\tvalidation-auc:0.89155\n",
      "[7]\tvalidation-auc:0.89720\n",
      "[8]\tvalidation-auc:0.89813\n",
      "[9]\tvalidation-auc:0.90243\n"
     ]
    },
    {
     "name": "stderr",
     "output_type": "stream",
     "text": [
      "\u001b[32m[I 2022-07-25 15:42:01,938]\u001b[0m Trial 17 finished with value: 0.6322624743677375 and parameters: {'max_depth': 2, 'min_child_weight': 0.5948390666038161, 'gamma': 4.674831538418772}. Best is trial 0 with value: 0.6490747087045922.\u001b[0m\n"
     ]
    },
    {
     "name": "stdout",
     "output_type": "stream",
     "text": [
      "[0]\tvalidation-auc:0.85926\n",
      "[1]\tvalidation-auc:0.87514\n",
      "[2]\tvalidation-auc:0.88917\n",
      "[3]\tvalidation-auc:0.89816\n",
      "[4]\tvalidation-auc:0.89971\n",
      "[5]\tvalidation-auc:0.90367\n",
      "[6]\tvalidation-auc:0.90642\n",
      "[7]\tvalidation-auc:0.90934\n",
      "[8]\tvalidation-auc:0.90985\n",
      "[9]\tvalidation-auc:0.91075\n"
     ]
    },
    {
     "name": "stderr",
     "output_type": "stream",
     "text": [
      "\u001b[32m[I 2022-07-25 15:42:02,046]\u001b[0m Trial 18 finished with value: 0.6408304498269897 and parameters: {'max_depth': 3, 'min_child_weight': 0.7429279599091139, 'gamma': 1.2150113190474134}. Best is trial 0 with value: 0.6490747087045922.\u001b[0m\n"
     ]
    },
    {
     "name": "stdout",
     "output_type": "stream",
     "text": [
      "[0]\tvalidation-auc:0.82538\n",
      "[1]\tvalidation-auc:0.84194\n",
      "[2]\tvalidation-auc:0.85911\n",
      "[3]\tvalidation-auc:0.87281\n",
      "[4]\tvalidation-auc:0.88634\n",
      "[5]\tvalidation-auc:0.89025\n",
      "[6]\tvalidation-auc:0.89155\n",
      "[7]\tvalidation-auc:0.89720\n",
      "[8]\tvalidation-auc:0.89813\n",
      "[9]\tvalidation-auc:0.90243\n"
     ]
    },
    {
     "name": "stderr",
     "output_type": "stream",
     "text": [
      "\u001b[32m[I 2022-07-25 15:42:02,141]\u001b[0m Trial 19 finished with value: 0.6322624743677375 and parameters: {'max_depth': 2, 'min_child_weight': 0.7497643275330873, 'gamma': 4.164903086198162}. Best is trial 0 with value: 0.6490747087045922.\u001b[0m\n"
     ]
    },
    {
     "name": "stdout",
     "output_type": "stream",
     "text": [
      "{'max_depth': 3, 'min_child_weight': 0.6143949968843346, 'gamma': 3.8856906963864057}\n",
      "[0]\tvalidation-rmse:0.42537\n",
      "[1]\tvalidation-rmse:0.38315\n",
      "[2]\tvalidation-rmse:0.35846\n",
      "[3]\tvalidation-rmse:0.34306\n",
      "[4]\tvalidation-rmse:0.33453\n",
      "[5]\tvalidation-rmse:0.32833\n",
      "[6]\tvalidation-rmse:0.32396\n",
      "[7]\tvalidation-rmse:0.32138\n",
      "[8]\tvalidation-rmse:0.32010\n",
      "[9]\tvalidation-rmse:0.31752\n",
      "Setting value for best_estimator\n",
      "Getting value for estimator\n",
      "Getting value for best_estimator\n",
      "Getting value for shap_version\n",
      "Getting value for n_jobs\n",
      ".values =\n",
      "array([[-0.05766597, -0.00091042,  0.00026423, ..., -0.00520326,\n",
      "        -0.01761336,  0.        ],\n",
      "       [-0.03810894, -0.00211806,  0.00026423, ..., -0.00554902,\n",
      "        -0.01312835,  0.        ],\n",
      "       [ 0.03157522, -0.00211806,  0.00045955, ..., -0.00471693,\n",
      "        -0.01577177,  0.        ],\n",
      "       ...,\n",
      "       [ 0.0358651 , -0.00211806,  0.00232863, ..., -0.00720389,\n",
      "         0.06241207,  0.        ],\n",
      "       [-0.09191545, -0.00091042, -0.00536114, ..., -0.00591712,\n",
      "         0.05179433,  0.        ],\n",
      "       [-0.04088842, -0.00211806,  0.00026423, ..., -0.00554902,\n",
      "        -0.011473  ,  0.        ]])\n",
      "\n",
      ".base_values =\n",
      "array([[0.24622532],\n",
      "       [0.24622532],\n",
      "       [0.24622532],\n",
      "       ...,\n",
      "       [0.24622532],\n",
      "       [0.24622532],\n",
      "       [0.24622532]])\n",
      "\n",
      ".data =\n",
      "array([[    24,      1, 228649, ...,      0,     38,      1],\n",
      "       [    28,      1, 122540, ...,      0,     40,      1],\n",
      "       [    38,      1,  81965, ...,      0,     40,      1],\n",
      "       ...,\n",
      "       [    55,      1,  82098, ...,      0,     55,      1],\n",
      "       [    26,      1,  50053, ...,      0,     55,      1],\n",
      "       [    19,      1, 415354, ...,      0,     40,      1]])\n",
      "Getting value for with_shap_summary_plot\n",
      "Getting value for n_features\n"
     ]
    },
    {
     "data": {
      "image/png": "[encoded data removed]",
      "text/plain": [
       "<Figure size 576x252 with 2 Axes>"
      ]
     },
     "metadata": {
      "needs_background": "light"
     },
     "output_type": "display_data"
    },
    {
     "name": "stdout",
     "output_type": "stream",
     "text": [
      "Getting value for estimator\n",
      "Setting value for importance_df\n",
      "Getting value for importance_df\n",
      "                 0         1\n",
      "0              age  0.032061\n",
      "1        workclass  0.003375\n",
      "2           fnlwgt  0.001323\n",
      "3        education       0.0\n",
      "4    education-num  0.057741\n",
      "5   marital-status  0.097023\n",
      "6       occupation  0.025032\n",
      "7     relationship  0.036853\n",
      "8             race       0.0\n",
      "9              sex       0.0\n",
      "10    capital-gain  0.046402\n",
      "11    capital-loss  0.012001\n",
      "12  hours-per-week  0.028178\n",
      "13  native-country       0.0\n",
      "Getting value for importance_df\n",
      "Getting value for importance_df\n",
      "       column_name shap_importance\n",
      "0              age        0.032061\n",
      "1        workclass        0.003375\n",
      "2           fnlwgt        0.001323\n",
      "3        education             0.0\n",
      "4    education-num        0.057741\n",
      "5   marital-status        0.097023\n",
      "6       occupation        0.025032\n",
      "7     relationship        0.036853\n",
      "8             race             0.0\n",
      "9              sex             0.0\n",
      "10    capital-gain        0.046402\n",
      "11    capital-loss        0.012001\n",
      "12  hours-per-week        0.028178\n",
      "13  native-country             0.0\n",
      "Getting value for importance_df\n",
      "Setting value for importance_df\n",
      "Getting value for importance_df\n",
      "       column_name shap_importance\n",
      "5   marital-status        0.097023\n",
      "4    education-num        0.057741\n",
      "10    capital-gain        0.046402\n",
      "7     relationship        0.036853\n",
      "0              age        0.032061\n",
      "12  hours-per-week        0.028178\n",
      "6       occupation        0.025032\n",
      "11    capital-loss        0.012001\n",
      "1        workclass        0.003375\n",
      "2           fnlwgt        0.001323\n",
      "3        education             0.0\n",
      "8             race             0.0\n",
      "9              sex             0.0\n",
      "13  native-country             0.0\n",
      "Getting value for importance_df\n",
      "Getting value for n_features\n",
      "       column_name shap_importance\n",
      "5   marital-status        0.097023\n",
      "4    education-num        0.057741\n",
      "10    capital-gain        0.046402\n",
      "7     relationship        0.036853\n",
      "0              age        0.032061\n",
      "Getting value for n_features\n",
      "Getting value for importance_df\n",
      "Getting value for importance_df\n"
     ]
    },
    {
     "name": "stderr",
     "output_type": "stream",
     "text": [
      "A column-vector y was passed when a 1d array was expected. Please change the shape of y to (n_samples, ), for example using ravel().\n",
      "lbfgs failed to converge (status=1):\n",
      "STOP: TOTAL NO. of ITERATIONS REACHED LIMIT.\n",
      "\n",
      "Increase the number of iterations (max_iter) or scale the data as shown in:\n",
      "    https://scikit-learn.org/stable/modules/preprocessing.html\n",
      "Please also refer to the documentation for alternative solver options:\n",
      "    https://scikit-learn.org/stable/modules/linear_model.html#logistic-regression\n"
     ]
    }
   ],
   "source": [
    "pipeline.fit(X_train,y_train)\n",
    "y_pred = pipeline.predict(X_test)\n"
   ]
  },
  {
   "cell_type": "markdown",
   "metadata": {},
   "source": [
    "# Check performance of the Pipeline"
   ]
  },
  {
   "cell_type": "code",
   "execution_count": 9,
   "metadata": {},
   "outputs": [
    {
     "name": "stdout",
     "output_type": "stream",
     "text": [
      "F1 score : \n",
      "0.612790188348664\n",
      "Classification report : \n",
      "              precision    recall  f1-score   support\n",
      "\n",
      "           0       0.86      0.93      0.90      8158\n",
      "           1       0.71      0.54      0.61      2588\n",
      "\n",
      "    accuracy                           0.84     10746\n",
      "   macro avg       0.79      0.73      0.75     10746\n",
      "weighted avg       0.83      0.84      0.83     10746\n",
      "\n",
      "Confusion matrix : \n",
      "[[7579  579]\n",
      " [1189 1399]]\n"
     ]
    }
   ],
   "source": [
    "print('F1 score : ')\n",
    "print(f1_score(y_test,y_pred))\n",
    "print('Classification report : ')\n",
    "print(classification_report(y_test,y_pred))\n",
    "print('Confusion matrix : ')\n",
    "print(confusion_matrix(y_test,y_pred))\n"
   ]
  }
 ],
 "metadata": {
  "kernelspec": {
   "display_name": "Python 3.10.0 ('venv': venv)",
   "language": "python",
   "name": "python3"
  },
  "language_info": {
   "codemirror_mode": {
    "name": "ipython",
    "version": 3
   },
   "file_extension": ".py",
   "mimetype": "text/x-python",
   "name": "python",
   "nbconvert_exporter": "python",
   "pygments_lexer": "ipython3",
   "version": "3.10.0"
  },
  "orig_nbformat": 4,
  "vscode": {
   "interpreter": {
    "hash": "add46f487f5dc8b7282944f49c7d25cfd054500e09c87c2c4724ed1adc4ae5cc"
   }
  }
 },
 "nbformat": 4,
 "nbformat_minor": 2
}
