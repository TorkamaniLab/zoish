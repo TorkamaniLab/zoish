{
 "cells": [
  {
   "cell_type": "code",
   "execution_count": 1,
   "metadata": {},
   "outputs": [
    {
     "name": "stderr",
     "output_type": "stream",
     "text": [
      "IProgress not found. Please update jupyter and ipywidgets. See https://ipywidgets.readthedocs.io/en/stable/user_install.html\n",
      "\u001b[32m[I 2022-09-07 06:20:46,595]\u001b[0m A new study created in memory with name: no-name-cab76b90-f011-4ee0-b331-f8a258223d73\u001b[0m\n"
     ]
    },
    {
     "data": {
      "text/plain": [
       "<Figure size 432x288 with 0 Axes>"
      ]
     },
     "metadata": {},
     "output_type": "display_data"
    }
   ],
   "source": [
    "from zoish.feature_selectors.optunashap import OptunaShapFeatureSelector\n",
    "import xgboost\n",
    "from optuna.pruners import HyperbandPruner\n",
    "from optuna.samplers._tpe.sampler import TPESampler\n",
    "from sklearn.model_selection import KFold,train_test_split\n",
    "import pandas as pd\n",
    "from sklearn.pipeline import Pipeline\n",
    "from feature_engine.imputation import (\n",
    "    CategoricalImputer,\n",
    "    MeanMedianImputer\n",
    "    )\n",
    "from category_encoders import OrdinalEncoder\n",
    "from sklearn.linear_model import LogisticRegression\n",
    "from sklearn.metrics import (\n",
    "    classification_report,\n",
    "    confusion_matrix,\n",
    "    f1_score)\n",
    "import matplotlib.pyplot as plt\n",
    "import optuna\n"
   ]
  },
  {
   "cell_type": "markdown",
   "metadata": {},
   "source": [
    "# Example 1 : Use Adult Data Set (a classification problem)\n",
    "  \n",
    "https://archive.ics.uci.edu/ml/datasets/Adult"
   ]
  },
  {
   "cell_type": "code",
   "execution_count": 2,
   "metadata": {},
   "outputs": [
    {
     "data": {
      "text/html": [
       "<div>\n",
       "<style scoped>\n",
       "    .dataframe tbody tr th:only-of-type {\n",
       "        vertical-align: middle;\n",
       "    }\n",
       "\n",
       "    .dataframe tbody tr th {\n",
       "        vertical-align: top;\n",
       "    }\n",
       "\n",
       "    .dataframe thead th {\n",
       "        text-align: right;\n",
       "    }\n",
       "</style>\n",
       "<table border=\"1\" class=\"dataframe\">\n",
       "  <thead>\n",
       "    <tr style=\"text-align: right;\">\n",
       "      <th></th>\n",
       "      <th>age</th>\n",
       "      <th>workclass</th>\n",
       "      <th>fnlwgt</th>\n",
       "      <th>education</th>\n",
       "      <th>education-num</th>\n",
       "      <th>marital-status</th>\n",
       "      <th>occupation</th>\n",
       "      <th>relationship</th>\n",
       "      <th>race</th>\n",
       "      <th>sex</th>\n",
       "      <th>capital-gain</th>\n",
       "      <th>capital-loss</th>\n",
       "      <th>hours-per-week</th>\n",
       "      <th>native-country</th>\n",
       "      <th>label</th>\n",
       "    </tr>\n",
       "  </thead>\n",
       "  <tbody>\n",
       "    <tr>\n",
       "      <th>0</th>\n",
       "      <td>39</td>\n",
       "      <td>State-gov</td>\n",
       "      <td>77516</td>\n",
       "      <td>Bachelors</td>\n",
       "      <td>13</td>\n",
       "      <td>Never-married</td>\n",
       "      <td>Adm-clerical</td>\n",
       "      <td>Not-in-family</td>\n",
       "      <td>White</td>\n",
       "      <td>Male</td>\n",
       "      <td>2174</td>\n",
       "      <td>0</td>\n",
       "      <td>40</td>\n",
       "      <td>United-States</td>\n",
       "      <td>&lt;=50K</td>\n",
       "    </tr>\n",
       "    <tr>\n",
       "      <th>1</th>\n",
       "      <td>50</td>\n",
       "      <td>Self-emp-not-inc</td>\n",
       "      <td>83311</td>\n",
       "      <td>Bachelors</td>\n",
       "      <td>13</td>\n",
       "      <td>Married-civ-spouse</td>\n",
       "      <td>Exec-managerial</td>\n",
       "      <td>Husband</td>\n",
       "      <td>White</td>\n",
       "      <td>Male</td>\n",
       "      <td>0</td>\n",
       "      <td>0</td>\n",
       "      <td>13</td>\n",
       "      <td>United-States</td>\n",
       "      <td>&lt;=50K</td>\n",
       "    </tr>\n",
       "    <tr>\n",
       "      <th>2</th>\n",
       "      <td>38</td>\n",
       "      <td>Private</td>\n",
       "      <td>215646</td>\n",
       "      <td>HS-grad</td>\n",
       "      <td>9</td>\n",
       "      <td>Divorced</td>\n",
       "      <td>Handlers-cleaners</td>\n",
       "      <td>Not-in-family</td>\n",
       "      <td>White</td>\n",
       "      <td>Male</td>\n",
       "      <td>0</td>\n",
       "      <td>0</td>\n",
       "      <td>40</td>\n",
       "      <td>United-States</td>\n",
       "      <td>&lt;=50K</td>\n",
       "    </tr>\n",
       "    <tr>\n",
       "      <th>3</th>\n",
       "      <td>53</td>\n",
       "      <td>Private</td>\n",
       "      <td>234721</td>\n",
       "      <td>11th</td>\n",
       "      <td>7</td>\n",
       "      <td>Married-civ-spouse</td>\n",
       "      <td>Handlers-cleaners</td>\n",
       "      <td>Husband</td>\n",
       "      <td>Black</td>\n",
       "      <td>Male</td>\n",
       "      <td>0</td>\n",
       "      <td>0</td>\n",
       "      <td>40</td>\n",
       "      <td>United-States</td>\n",
       "      <td>&lt;=50K</td>\n",
       "    </tr>\n",
       "    <tr>\n",
       "      <th>4</th>\n",
       "      <td>28</td>\n",
       "      <td>Private</td>\n",
       "      <td>338409</td>\n",
       "      <td>Bachelors</td>\n",
       "      <td>13</td>\n",
       "      <td>Married-civ-spouse</td>\n",
       "      <td>Prof-specialty</td>\n",
       "      <td>Wife</td>\n",
       "      <td>Black</td>\n",
       "      <td>Female</td>\n",
       "      <td>0</td>\n",
       "      <td>0</td>\n",
       "      <td>40</td>\n",
       "      <td>Cuba</td>\n",
       "      <td>&lt;=50K</td>\n",
       "    </tr>\n",
       "  </tbody>\n",
       "</table>\n",
       "</div>"
      ],
      "text/plain": [
       "   age          workclass  fnlwgt   education  education-num  \\\n",
       "0   39          State-gov   77516   Bachelors             13   \n",
       "1   50   Self-emp-not-inc   83311   Bachelors             13   \n",
       "2   38            Private  215646     HS-grad              9   \n",
       "3   53            Private  234721        11th              7   \n",
       "4   28            Private  338409   Bachelors             13   \n",
       "\n",
       "        marital-status          occupation    relationship    race      sex  \\\n",
       "0        Never-married        Adm-clerical   Not-in-family   White     Male   \n",
       "1   Married-civ-spouse     Exec-managerial         Husband   White     Male   \n",
       "2             Divorced   Handlers-cleaners   Not-in-family   White     Male   \n",
       "3   Married-civ-spouse   Handlers-cleaners         Husband   Black     Male   \n",
       "4   Married-civ-spouse      Prof-specialty            Wife   Black   Female   \n",
       "\n",
       "   capital-gain  capital-loss  hours-per-week  native-country   label  \n",
       "0          2174             0              40   United-States   <=50K  \n",
       "1             0             0              13   United-States   <=50K  \n",
       "2             0             0              40   United-States   <=50K  \n",
       "3             0             0              40   United-States   <=50K  \n",
       "4             0             0              40            Cuba   <=50K  "
      ]
     },
     "execution_count": 2,
     "metadata": {},
     "output_type": "execute_result"
    }
   ],
   "source": [
    "urldata= \"https://archive.ics.uci.edu/ml/machine-learning-databases/adult/adult.data\"\n",
    "# column names\n",
    "col_names=[\"age\", \"workclass\", \"fnlwgt\" , \"education\" ,\"education-num\",\n",
    "\"marital-status\",\"occupation\",\"relationship\",\"race\",\"sex\",\"capital-gain\",\"capital-loss\",\"hours-per-week\",\n",
    "\"native-country\",\"label\"\n",
    "]\n",
    "# read data\n",
    "data = pd.read_csv(urldata,header=None,names=col_names,sep=',')\n",
    "data.head()"
   ]
  },
  {
   "cell_type": "markdown",
   "metadata": {},
   "source": [
    "# Define labels\n"
   ]
  },
  {
   "cell_type": "code",
   "execution_count": 3,
   "metadata": {},
   "outputs": [],
   "source": [
    "data.loc[data['label']=='<=50K','label']=0\n",
    "data.loc[data['label']==' <=50K','label']=0\n",
    "\n",
    "data.loc[data['label']=='>50K','label']=1\n",
    "data.loc[data['label']==' >50K','label']=1\n",
    "\n",
    "data['label']=data['label'].astype(int)"
   ]
  },
  {
   "cell_type": "markdown",
   "metadata": {},
   "source": [
    "# Train test split"
   ]
  },
  {
   "cell_type": "code",
   "execution_count": 4,
   "metadata": {},
   "outputs": [],
   "source": [
    "X = data.loc[:, data.columns != \"label\"]\n",
    "y = data.loc[:, data.columns == \"label\"]\n",
    "\n",
    "\n",
    "X_train, X_test, y_train, y_test =train_test_split(X, y, test_size=0.33, stratify=y['label'], random_state=42)\n"
   ]
  },
  {
   "cell_type": "markdown",
   "metadata": {},
   "source": [
    "# Find feature types for later use"
   ]
  },
  {
   "cell_type": "code",
   "execution_count": 5,
   "metadata": {},
   "outputs": [],
   "source": [
    "int_cols =  X_train.select_dtypes(include=['int']).columns.tolist()\n",
    "float_cols =  X_train.select_dtypes(include=['float']).columns.tolist()\n",
    "cat_cols =  X_train.select_dtypes(include=['object']).columns.tolist()\n"
   ]
  },
  {
   "cell_type": "markdown",
   "metadata": {},
   "source": [
    "# Define Feature selector and set it argumens "
   ]
  },
  {
   "cell_type": "code",
   "execution_count": 6,
   "metadata": {},
   "outputs": [
    {
     "name": "stderr",
     "output_type": "stream",
     "text": [
      "\u001b[32m[I 2022-09-07 06:20:47,575]\u001b[0m A new study created in memory with name: no-name-cacb4c0a-a036-40f1-b6c2-4ae3c428ba0f\u001b[0m\n",
      "root - INFO - Setting value for logging_basicConfig\n",
      "root - INFO - Setting value for verbose\n",
      "root - INFO - Setting value for xgbse_focus\n",
      "root - INFO - Setting value for random_state\n",
      "root - INFO - Setting value for n_features\n",
      "root - INFO - Setting value for list_of_obligatory_features_that_must_be_in_model\n",
      "root - INFO - Setting value for list of features to drop before any selection\n",
      "root - INFO - Setting value for estimator\n",
      "root - INFO - Getting value for estimator\n",
      "root - INFO - XGBClassifier(base_score=None, booster=None, callbacks=None,\n",
      "              colsample_bylevel=None, colsample_bynode=None,\n",
      "              colsample_bytree=None, early_stopping_rounds=None,\n",
      "              enable_categorical=False, eval_metric=None, gamma=None,\n",
      "              gpu_id=None, grow_policy=None, importance_type=None,\n",
      "              interaction_constraints=None, learning_rate=None, max_bin=None,\n",
      "              max_cat_to_onehot=None, max_delta_step=None, max_depth=None,\n",
      "              max_leaves=None, min_child_weight=None, missing=nan,\n",
      "              monotone_constraints=None, n_estimators=100, n_jobs=None,\n",
      "              num_parallel_tree=None, predictor=None, random_state=None,\n",
      "              reg_alpha=None, reg_lambda=None, ...)\n",
      "root - INFO - Getting value for estimator\n",
      "root - INFO - Getting value for estimator\n",
      "root - INFO - Getting value for estimator\n",
      "root - INFO - Getting value for estimator\n",
      "root - INFO - Getting value for estimator\n",
      "root - INFO - Getting value for estimator\n",
      "root - INFO - Getting value for estimator\n",
      "root - INFO - Getting value for estimator\n",
      "root - INFO - Getting value for estimator\n",
      "root - INFO - Getting value for estimator\n",
      "root - INFO - Getting value for estimator\n",
      "root - INFO - Getting value for estimator\n",
      "root - INFO - Getting value for estimator\n",
      "root - INFO - Setting value for estimator_params\n",
      "root - INFO - Getting value for estimator\n",
      "root - INFO - Getting value for estimator\n",
      "root - INFO - Setting value for model_output\n",
      "root - INFO - Setting value for feature perturbation\n",
      "root - INFO - Setting value for algorithm\n",
      "root - INFO - Setting value for shap_n_jobs\n",
      "root - INFO - Setting value for memory_tolerance\n",
      "root - INFO - Setting value for feature_names\n",
      "root - INFO - Setting value for approximate\n",
      "root - INFO - Setting value for shortcut\n",
      "root - INFO - Setting value for plot shap summary\n",
      "root - INFO - Setting value for save_shap_summary_plot\n",
      "root - INFO - Setting value for path_to_save_plot\n",
      "root - INFO - Setting value for shap_fig\n",
      "root - INFO - Setting value for test_size\n",
      "root - INFO - Setting value for with_stratified\n",
      "root - INFO - Setting value for performance metric\n",
      "root - INFO - Setting value for study\n",
      "root - INFO - Setting value for study optimize objective\n",
      "root - INFO - Setting value for study_optimize_objective_n_trials\n",
      "root - INFO - Setting value for study_optimize_objective_timeout\n",
      "root - INFO - Setting value for study_optimize_n_jobs\n",
      "root - INFO - Setting value for study_optimize_catch\n",
      "root - INFO - Setting value for study_optimize_callbacks\n",
      "root - INFO - Setting value for study_optimize_gc_after_trial\n",
      "root - INFO - Setting value for study_optimize_show_progress_bar\n",
      "root - INFO - Getting value for logging_basicConfig\n",
      "root - INFO - Setting value for best estimator\n",
      "root - INFO - Setting value for importance_df\n"
     ]
    },
    {
     "data": {
      "text/plain": [
       "<Figure size 432x288 with 0 Axes>"
      ]
     },
     "metadata": {},
     "output_type": "display_data"
    }
   ],
   "source": [
    "optuna_classification_lgb = OptunaShapFeatureSelector(\n",
    "        # general argument setting        \n",
    "        verbose=1,\n",
    "        random_state=0,\n",
    "        logging_basicConfig = None,\n",
    "        # general argument setting        \n",
    "        n_features=4,\n",
    "        list_of_obligatory_features_that_must_be_in_model=[],\n",
    "        list_of_features_to_drop_before_any_selection=[],\n",
    "        # shap argument setting  \n",
    "        estimator=xgboost.XGBClassifier(),\n",
    "        estimator_params={\n",
    "        \"max_depth\": [4, 9],\n",
    "        \"reg_alpha\": [0, 1],\n",
    "        \"objective\":['binary:logistic'],\n",
    "\n",
    "        },\n",
    "      \n",
    "        # shap arguments\n",
    "        model_output=\"raw\", \n",
    "        feature_perturbation=\"interventional\", \n",
    "        algorithm=\"auto\", \n",
    "        shap_n_jobs=-1, \n",
    "        memory_tolerance=-1, \n",
    "        feature_names=None, \n",
    "        approximate=False, \n",
    "        shortcut=False, \n",
    "        plot_shap_summary=False,\n",
    "        save_shap_summary_plot=True,\n",
    "        path_to_save_plot = './summary_plot.png',\n",
    "        shap_fig = plt.figure(),\n",
    "        ## optuna params\n",
    "        test_size=0.33,\n",
    "        with_stratified = False,\n",
    "        performance_metric = 'f1',\n",
    "        # optuna study init params\n",
    "        study = optuna.create_study(\n",
    "            storage = None,\n",
    "            sampler = TPESampler(),\n",
    "            pruner= HyperbandPruner(),\n",
    "            study_name  = None,\n",
    "            direction = \"maximize\",\n",
    "            load_if_exists = False,\n",
    "            directions  = None,\n",
    "            ),\n",
    "        study_optimize_objective_n_trials=10, \n",
    "\n",
    ")"
   ]
  },
  {
   "cell_type": "markdown",
   "metadata": {},
   "source": [
    "# Build sklearn Pipeline"
   ]
  },
  {
   "cell_type": "code",
   "execution_count": 7,
   "metadata": {},
   "outputs": [],
   "source": [
    "\n",
    "\n",
    "pipeline =Pipeline([\n",
    "            # int missing values imputers\n",
    "            ('intimputer', MeanMedianImputer(\n",
    "                imputation_method='median', variables=int_cols)),\n",
    "            # category missing values imputers\n",
    "            ('catimputer', CategoricalImputer(variables=cat_cols)),\n",
    "            #\n",
    "            ('catencoder', OrdinalEncoder()),\n",
    "            # feature selection\n",
    "            ('optuna_classification_lgb', optuna_classification_lgb),\n",
    "            # classification model\n",
    "            ('logistic', LogisticRegression())\n",
    "\n",
    "\n",
    " ])\n",
    "\n"
   ]
  },
  {
   "cell_type": "markdown",
   "metadata": {},
   "source": [
    "# Run Pipeline"
   ]
  },
  {
   "cell_type": "code",
   "execution_count": 8,
   "metadata": {},
   "outputs": [
    {
     "name": "stderr",
     "output_type": "stream",
     "text": [
      "root - INFO - Getting value for estimator\n",
      "root - INFO - Getting value for performance metric\n",
      "root - INFO - Getting value for estimator_params\n",
      "root - INFO - Getting value for verbose\n",
      "root - INFO - Getting value for test_size\n",
      "root - INFO - Getting value for random_state\n",
      "root - INFO - Getting value for study\n",
      "root - INFO - Getting value for study optimize objective\n",
      "root - INFO - Getting value for study_optimize_objective_n_trials\n",
      "root - INFO - Getting value for study_optimize_objective_timeout\n",
      "root - INFO - Getting value for study_optimize_n_jobs\n",
      "root - INFO - Getting value for study_optimize_catch\n",
      "root - INFO - Getting value for study_optimize_callbacks\n",
      "root - INFO - Getting value for study_optimize_gc_after_trial\n",
      "root - INFO - Getting value for study_optimize_show_progress_bar\n",
      "root - INFO - Getting value for with_stratified\n",
      "root - INFO - Getting value for xgbse_focus\n"
     ]
    },
    {
     "name": "stdout",
     "output_type": "stream",
     "text": [
      "[0]\tvalidation-logloss:0.55277\n",
      "[0]\tvalidation-logloss:0.54243\n",
      "[0]\tvalidation-logloss:0.54454\n",
      "[0]\tvalidation-logloss:0.55276\n",
      "[0]\tvalidation-logloss:0.54651\n",
      "[0]\tvalidation-logloss:0.55270\n",
      "[0]\tvalidation-logloss:0.54482\n",
      "[1]\tvalidation-logloss:0.47507\n",
      "[0]\tvalidation-logloss:0.54173\n",
      "[1]\tvalidation-logloss:0.47512\n",
      "[1]\tvalidation-logloss:0.47527\n",
      "[1]\tvalidation-logloss:0.46495\n",
      "[2]\tvalidation-logloss:0.42639\n",
      "[1]\tvalidation-logloss:0.46326\n",
      "[2]\tvalidation-logloss:0.42644[2]\tvalidation-logloss:0.42688\n",
      "\n",
      "[1]\tvalidation-logloss:0.46146\n",
      "[1]\tvalidation-logloss:0.46305\n",
      "[3]\tvalidation-logloss:0.39407\n",
      "[3]\tvalidation-logloss:0.39457[3]\tvalidation-logloss:0.39412\n",
      "\n",
      "[1]\tvalidation-logloss:0.46039\n",
      "[2]\tvalidation-logloss:0.41414\n",
      "[4]\tvalidation-logloss:0.37273\n",
      "[2]\tvalidation-logloss:0.41058\n",
      "[4]\tvalidation-logloss:0.37290[4]\tvalidation-logloss:0.37278\n",
      "\n"
     ]
    },
    {
     "name": "stderr",
     "output_type": "stream",
     "text": [
      "`n_jobs` argument has been deprecated in v2.7.0. This feature will be removed in v4.0.0. See https://github.com/optuna/optuna/releases/tag/v2.7.0.\n"
     ]
    },
    {
     "name": "stdout",
     "output_type": "stream",
     "text": [
      "[2]\tvalidation-logloss:0.41144\n",
      "[2]\tvalidation-logloss:0.40970\n",
      "[5]\tvalidation-logloss:0.35687\n",
      "[3]\tvalidation-logloss:0.38108\n",
      "[5]\tvalidation-logloss:0.35691\n",
      "[5]\tvalidation-logloss:0.35707\n",
      "[2]\tvalidation-logloss:0.40892\n",
      "[3]\tvalidation-logloss:0.37690\n",
      "[6]\tvalidation-logloss:0.34684\n",
      "[6]\tvalidation-logloss:0.34689\n",
      "[6]\tvalidation-logloss:0.34691\n",
      "[3]\tvalidation-logloss:0.37836\n",
      "[4]\tvalidation-logloss:0.35858\n",
      "[7]\tvalidation-logloss:0.33820\n",
      "[3]\tvalidation-logloss:0.37715\n",
      "[7]\tvalidation-logloss:0.33824\n",
      "[7]\tvalidation-logloss:0.33824\n",
      "[8]\tvalidation-logloss:0.33156\n",
      "[4]\tvalidation-logloss:0.35491\n",
      "[8]\tvalidation-logloss:0.33162\n",
      "[8]\tvalidation-logloss:0.33159\n",
      "[3]\tvalidation-logloss:0.37654\n",
      "[5]\tvalidation-logloss:0.34207\n",
      "[4]\tvalidation-logloss:0.35546\n",
      "[9]\tvalidation-logloss:0.32686\n",
      "[9]\tvalidation-logloss:0.32651\n",
      "[4]\tvalidation-logloss:0.35432\n",
      "[9]\tvalidation-logloss:0.32689\n",
      "[6]\tvalidation-logloss:0.33224[5]\tvalidation-logloss:0.33998\n",
      "\n"
     ]
    },
    {
     "name": "stderr",
     "output_type": "stream",
     "text": [
      "\u001b[32m[I 2022-09-07 06:20:48,133]\u001b[0m Trial 7 finished with value: 0.6429305032523109 and parameters: {'max_depth': 4, 'reg_alpha': 0.3075797116097816, 'objective': 'binary:logistic'}. Best is trial 7 with value: 0.6429305032523109.\u001b[0m\n"
     ]
    },
    {
     "name": "stdout",
     "output_type": "stream",
     "text": [
      "[5]\tvalidation-logloss:0.33975\n"
     ]
    },
    {
     "name": "stderr",
     "output_type": "stream",
     "text": [
      "\u001b[32m[I 2022-09-07 06:20:48,137]\u001b[0m Trial 0 finished with value: 0.6429312132734186 and parameters: {'max_depth': 4, 'reg_alpha': 0.01813148003284626, 'objective': 'binary:logistic'}. Best is trial 0 with value: 0.6429312132734186.\u001b[0m\n"
     ]
    },
    {
     "name": "stdout",
     "output_type": "stream",
     "text": [
      "[4]\tvalidation-logloss:0.35320\n"
     ]
    },
    {
     "name": "stderr",
     "output_type": "stream",
     "text": [
      "\u001b[32m[I 2022-09-07 06:20:48,156]\u001b[0m Trial 6 finished with value: 0.6424657534246576 and parameters: {'max_depth': 4, 'reg_alpha': 0.2883933533777495, 'objective': 'binary:logistic'}. Best is trial 0 with value: 0.6429312132734186.\u001b[0m\n"
     ]
    },
    {
     "name": "stdout",
     "output_type": "stream",
     "text": [
      "[5]\tvalidation-logloss:0.33855\n",
      "[7]\tvalidation-logloss:0.32531\n",
      "[6]\tvalidation-logloss:0.32887\n",
      "[6]\tvalidation-logloss:0.32973\n",
      "[0]\tvalidation-logloss:0.54932\n",
      "[0]\tvalidation-logloss:0.54933\n",
      "[5]\tvalidation-logloss:0.33677\n",
      "[8]\tvalidation-logloss:0.31961\n",
      "[1]\tvalidation-logloss:0.47001\n",
      "[6]\tvalidation-logloss:0.32799\n",
      "[7]\tvalidation-logloss:0.32017\n",
      "[1]\tvalidation-logloss:0.47039\n",
      "[7]\tvalidation-logloss:0.32184\n",
      "[9]\tvalidation-logloss:0.31631\n",
      "[2]\tvalidation-logloss:0.41991\n",
      "[2]\tvalidation-logloss:0.42044\n",
      "[6]\tvalidation-logloss:0.32649\n",
      "[7]\tvalidation-logloss:0.31971\n",
      "[8]\tvalidation-logloss:0.31543\n",
      "[8]\tvalidation-logloss:0.31513[3]\tvalidation-logloss:0.38684\n",
      "\n"
     ]
    },
    {
     "name": "stderr",
     "output_type": "stream",
     "text": [
      "\u001b[32m[I 2022-09-07 06:20:48,261]\u001b[0m Trial 5 finished with value: 0.6666666666666666 and parameters: {'max_depth': 6, 'reg_alpha': 0.38916705554741104, 'objective': 'binary:logistic'}. Best is trial 5 with value: 0.6666666666666666.\u001b[0m\n"
     ]
    },
    {
     "name": "stdout",
     "output_type": "stream",
     "text": [
      "[3]\tvalidation-logloss:0.38741\n",
      "[4]\tvalidation-logloss:0.36457\n",
      "[7]\tvalidation-logloss:0.31954\n",
      "[4]\tvalidation-logloss:0.36504\n",
      "[8]\tvalidation-logloss:0.31540\n",
      "[9]\tvalidation-logloss:0.31176\n",
      "[9]\tvalidation-logloss:0.31092\n",
      "[5]\tvalidation-logloss:0.34979\n",
      "[5]\tvalidation-logloss:0.35024\n"
     ]
    },
    {
     "name": "stderr",
     "output_type": "stream",
     "text": [
      "\u001b[32m[I 2022-09-07 06:20:48,321]\u001b[0m Trial 4 finished with value: 0.6767810026385224 and parameters: {'max_depth': 7, 'reg_alpha': 0.06326849045141614, 'objective': 'binary:logistic'}. Best is trial 4 with value: 0.6767810026385224.\u001b[0m\n",
      "\u001b[32m[I 2022-09-07 06:20:48,321]\u001b[0m Trial 2 finished with value: 0.6802721088435374 and parameters: {'max_depth': 7, 'reg_alpha': 0.6974483030213288, 'objective': 'binary:logistic'}. Best is trial 2 with value: 0.6802721088435374.\u001b[0m\n"
     ]
    },
    {
     "name": "stdout",
     "output_type": "stream",
     "text": [
      "[8]\tvalidation-logloss:0.31415\n",
      "[6]\tvalidation-logloss:0.33858[9]\tvalidation-logloss:0.31175\n",
      "\n",
      "[6]\tvalidation-logloss:0.33872\n",
      "[7]\tvalidation-logloss:0.33066\n",
      "[7]\tvalidation-logloss:0.33084\n",
      "[9]\tvalidation-logloss:0.30888\n"
     ]
    },
    {
     "name": "stderr",
     "output_type": "stream",
     "text": [
      "\u001b[32m[I 2022-09-07 06:20:48,352]\u001b[0m Trial 1 finished with value: 0.6803385416666666 and parameters: {'max_depth': 8, 'reg_alpha': 0.9163305332955618, 'objective': 'binary:logistic'}. Best is trial 1 with value: 0.6803385416666666.\u001b[0m\n"
     ]
    },
    {
     "name": "stdout",
     "output_type": "stream",
     "text": [
      "[8]\tvalidation-logloss:0.32511\n",
      "[8]\tvalidation-logloss:0.32614\n"
     ]
    },
    {
     "name": "stderr",
     "output_type": "stream",
     "text": [
      "\u001b[32m[I 2022-09-07 06:20:48,368]\u001b[0m Trial 3 finished with value: 0.6809616634178038 and parameters: {'max_depth': 8, 'reg_alpha': 0.036340502314841316, 'objective': 'binary:logistic'}. Best is trial 3 with value: 0.6809616634178038.\u001b[0m\n"
     ]
    },
    {
     "name": "stdout",
     "output_type": "stream",
     "text": [
      "[9]\tvalidation-logloss:0.32054\n",
      "[9]\tvalidation-logloss:0.32136\n"
     ]
    },
    {
     "name": "stderr",
     "output_type": "stream",
     "text": [
      "\u001b[32m[I 2022-09-07 06:20:48,387]\u001b[0m Trial 8 finished with value: 0.654950996958432 and parameters: {'max_depth': 5, 'reg_alpha': 0.27028572564495257, 'objective': 'binary:logistic'}. Best is trial 3 with value: 0.6809616634178038.\u001b[0m\n",
      "\u001b[32m[I 2022-09-07 06:20:48,390]\u001b[0m Trial 9 finished with value: 0.6515561569688769 and parameters: {'max_depth': 5, 'reg_alpha': 0.8941760810584997, 'objective': 'binary:logistic'}. Best is trial 3 with value: 0.6809616634178038.\u001b[0m\n"
     ]
    },
    {
     "name": "stdout",
     "output_type": "stream",
     "text": [
      "{'max_depth': 8, 'reg_alpha': 0.036340502314841316, 'objective': 'binary:logistic'}\n",
      "[0]\tvalidation-logloss:0.54173\n",
      "[1]\tvalidation-logloss:0.46039\n",
      "[2]\tvalidation-logloss:0.40892\n",
      "[3]\tvalidation-logloss:0.37654\n",
      "[4]\tvalidation-logloss:0.35320\n",
      "[5]\tvalidation-logloss:0.33677\n",
      "[6]\tvalidation-logloss:0.32649\n",
      "[7]\tvalidation-logloss:0.31954\n",
      "[8]\tvalidation-logloss:0.31415\n",
      "[9]\tvalidation-logloss:0.30888\n"
     ]
    },
    {
     "name": "stderr",
     "output_type": "stream",
     "text": [
      "root - INFO - Setting value for best estimator\n",
      "root - INFO - Getting value for estimator\n",
      "root - INFO - Getting value for estimator\n",
      "root - INFO - Getting value for best estimator\n",
      "root - INFO - Getting value for model_output\n",
      "root - INFO - Getting value for feature perturbation\n",
      "root - INFO - Getting value for algorithm\n",
      "root - INFO - Getting value for shap_n_jobs\n",
      "root - INFO - Getting value for memory_tolerance\n",
      "root - INFO - Getting value for feature_names\n",
      "root - INFO - Getting value for approximate\n",
      "root - INFO - Getting value for shortcut\n"
     ]
    },
    {
     "name": "stdout",
     "output_type": "stream",
     "text": [
      "XGBClassifier\n"
     ]
    },
    {
     "name": "stderr",
     "output_type": "stream",
     "text": [
      "root - INFO - Getting value for plot shap summary\n",
      "root - INFO - Getting value for save_shap_summary_plot\n",
      "root - INFO - Getting value for n_features\n"
     ]
    },
    {
     "name": "stdout",
     "output_type": "stream",
     "text": [
      ".values =\n",
      "array([[-9.10303789e-01, -1.12843513e-02, -1.24129955e-02, ...,\n",
      "        -4.80518372e-02, -8.65773615e-02,  6.02098209e-03],\n",
      "       [-3.96913426e-01, -1.46956966e-02, -1.94955011e-02, ...,\n",
      "        -2.39463445e-02, -8.21640032e-02,  2.63483514e-03],\n",
      "       [ 1.75606696e-01, -2.64018862e-02, -5.40810376e-02, ...,\n",
      "        -3.25700751e-02, -1.10812352e-01,  2.40987836e-03],\n",
      "       ...,\n",
      "       [ 3.24966017e-01, -1.73864848e-02,  2.49571584e-02, ...,\n",
      "        -5.62963346e-02,  2.36158086e-01,  5.67035791e-03],\n",
      "       [-7.50866507e-01, -3.52910553e-02, -9.26629802e-02, ...,\n",
      "        -7.88950512e-02,  2.11419847e-01,  2.60363899e-02],\n",
      "       [-6.61772492e-01, -9.97473222e-03,  4.71244369e-02, ...,\n",
      "        -2.64343525e-02, -5.59895344e-02, -6.16705858e-04]])\n",
      "\n",
      ".base_values =\n",
      "array([[-1.32896655],\n",
      "       [-1.32896655],\n",
      "       [-1.32896655],\n",
      "       ...,\n",
      "       [-1.32896655],\n",
      "       [-1.32896655],\n",
      "       [-1.32896655]])\n",
      "\n",
      ".data =\n",
      "array([[    24,      1, 228649, ...,      0,     38,      1],\n",
      "       [    28,      1, 122540, ...,      0,     40,      1],\n",
      "       [    38,      1,  81965, ...,      0,     40,      1],\n",
      "       ...,\n",
      "       [    55,      1,  82098, ...,      0,     55,      1],\n",
      "       [    26,      1,  50053, ...,      0,     55,      1],\n",
      "       [    19,      1, 415354, ...,      0,     40,      1]])\n"
     ]
    },
    {
     "name": "stderr",
     "output_type": "stream",
     "text": [
      "root - INFO - Getting value for path_to_save_plot\n",
      "root - INFO - Getting value for shap_fig\n",
      "Matplotlib is currently using module://matplotlib_inline.backend_inline, which is a non-GUI backend, so cannot show the figure.\n",
      "root - INFO - Setting value for importance_df\n",
      "root - INFO - Getting value for importance_df\n",
      "root - INFO - Getting value for importance_df\n",
      "root - INFO - Getting value for importance_df\n",
      "root - INFO - Getting value for importance_df\n",
      "root - INFO - Setting value for importance_df\n",
      "root - INFO - Getting value for importance_df\n",
      "root - INFO - Getting value for importance_df\n",
      "root - INFO - Getting value for n_features\n",
      "root - INFO - Getting value for n_features\n",
      "root - INFO - Getting value for importance_df\n",
      "root - INFO - Getting value for importance_df\n",
      "A column-vector y was passed when a 1d array was expected. Please change the shape of y to (n_samples, ), for example using ravel().\n"
     ]
    },
    {
     "name": "stdout",
     "output_type": "stream",
     "text": [
      "                 0         1\n",
      "0              age  0.346439\n",
      "1        workclass   0.03468\n",
      "2           fnlwgt  0.032279\n",
      "3        education   0.01282\n",
      "4    education-num   0.36053\n",
      "5   marital-status  0.952064\n",
      "6       occupation  0.186888\n",
      "7     relationship  0.139749\n",
      "8             race  0.005657\n",
      "9              sex  0.062113\n",
      "10    capital-gain  0.321273\n",
      "11    capital-loss  0.082421\n",
      "12  hours-per-week  0.183555\n",
      "13  native-country  0.011391\n",
      "       column_name shap_importance\n",
      "0              age        0.346439\n",
      "1        workclass         0.03468\n",
      "2           fnlwgt        0.032279\n",
      "3        education         0.01282\n",
      "4    education-num         0.36053\n",
      "5   marital-status        0.952064\n",
      "6       occupation        0.186888\n",
      "7     relationship        0.139749\n",
      "8             race        0.005657\n",
      "9              sex        0.062113\n",
      "10    capital-gain        0.321273\n",
      "11    capital-loss        0.082421\n",
      "12  hours-per-week        0.183555\n",
      "13  native-country        0.011391\n",
      "       column_name shap_importance\n",
      "5   marital-status        0.952064\n",
      "4    education-num         0.36053\n",
      "0              age        0.346439\n",
      "10    capital-gain        0.321273\n",
      "6       occupation        0.186888\n",
      "12  hours-per-week        0.183555\n",
      "7     relationship        0.139749\n",
      "11    capital-loss        0.082421\n",
      "9              sex        0.062113\n",
      "1        workclass         0.03468\n",
      "2           fnlwgt        0.032279\n",
      "3        education         0.01282\n",
      "13  native-country        0.011391\n",
      "8             race        0.005657\n",
      "       column_name shap_importance\n",
      "5   marital-status        0.952064\n",
      "4    education-num         0.36053\n",
      "0              age        0.346439\n",
      "10    capital-gain        0.321273\n"
     ]
    },
    {
     "data": {
      "image/png": "[encoded data removed]",
      "text/plain": [
       "<Figure size 576x223.2 with 2 Axes>"
      ]
     },
     "metadata": {
      "needs_background": "light"
     },
     "output_type": "display_data"
    }
   ],
   "source": [
    "pipeline.fit(X_train,y_train)\n",
    "y_pred = pipeline.predict(X_test)\n"
   ]
  },
  {
   "cell_type": "markdown",
   "metadata": {},
   "source": [
    "# Check performance of the Pipeline"
   ]
  },
  {
   "cell_type": "code",
   "execution_count": 9,
   "metadata": {},
   "outputs": [
    {
     "name": "stdout",
     "output_type": "stream",
     "text": [
      "F1 score : \n",
      "0.6111595466434175\n",
      "Classification report : \n",
      "              precision    recall  f1-score   support\n",
      "\n",
      "           0       0.86      0.93      0.89      8158\n",
      "           1       0.70      0.54      0.61      2588\n",
      "\n",
      "    accuracy                           0.83     10746\n",
      "   macro avg       0.78      0.73      0.75     10746\n",
      "weighted avg       0.83      0.83      0.83     10746\n",
      "\n",
      "Confusion matrix : \n",
      "[[7560  598]\n",
      " [1186 1402]]\n"
     ]
    }
   ],
   "source": [
    "print('F1 score : ')\n",
    "print(f1_score(y_test,y_pred))\n",
    "print('Classification report : ')\n",
    "print(classification_report(y_test,y_pred))\n",
    "print('Confusion matrix : ')\n",
    "print(confusion_matrix(y_test,y_pred))\n"
   ]
  }
 ],
 "metadata": {
  "kernelspec": {
   "display_name": "Python 3.10.4 ('.venv': poetry)",
   "language": "python",
   "name": "python3"
  },
  "language_info": {
   "codemirror_mode": {
    "name": "ipython",
    "version": 3
   },
   "file_extension": ".py",
   "mimetype": "text/x-python",
   "name": "python",
   "nbconvert_exporter": "python",
   "pygments_lexer": "ipython3",
   "version": "3.10.4"
  },
  "orig_nbformat": 4,
  "vscode": {
   "interpreter": {
    "hash": "2fd4a9ad6613f01435523ab5e4297db981c1d87a44e43e252d0e314391da6eb3"
   }
  }
 },
 "nbformat": 4,
 "nbformat_minor": 2
}
