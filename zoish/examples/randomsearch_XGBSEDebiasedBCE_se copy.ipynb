{
 "cells": [
  {
   "cell_type": "code",
   "execution_count": 1,
   "metadata": {},
   "outputs": [
    {
     "name": "stderr",
     "output_type": "stream",
     "text": [
      "IProgress not found. Please update jupyter and ipywidgets. See https://ipywidgets.readthedocs.io/en/stable/user_install.html\n"
     ]
    },
    {
     "data": {
      "text/plain": [
       "<Figure size 432x288 with 0 Axes>"
      ]
     },
     "metadata": {},
     "output_type": "display_data"
    }
   ],
   "source": [
    "from zoish.feature_selectors.randomshap import RandomizedSearchCVShapFeatureSelector\n",
    "import logging\n",
    "import numpy as np\n",
    "import pandas as pd\n",
    "import xgboost\n",
    "import xgbse\n",
    "from xgbse.converters import convert_to_structured\n",
    "from xgbse.metrics import concordance_index, approx_brier_score,dist_calibration_score\n",
    "import matplotlib.pyplot as plt\n",
    "from sklearn.model_selection import KFold,train_test_split\n",
    "from sklearn.pipeline import Pipeline\n",
    "from sklearn.metrics import (\n",
    "    classification_report,\n",
    "    confusion_matrix,\n",
    "    f1_score)\n"
   ]
  },
  {
   "cell_type": "markdown",
   "metadata": {},
   "source": [
    "# Install pytorch, pycox needs it"
   ]
  },
  {
   "cell_type": "code",
   "execution_count": 2,
   "metadata": {},
   "outputs": [
    {
     "name": "stdout",
     "output_type": "stream",
     "text": [
      "Requirement already satisfied: torch in /Users/hjavedani/Documents/zoish/.venv/lib/python3.10/site-packages (1.12.1)\n",
      "Requirement already satisfied: torchvision in /Users/hjavedani/Documents/zoish/.venv/lib/python3.10/site-packages (0.13.1)\n",
      "Requirement already satisfied: torchaudio in /Users/hjavedani/Documents/zoish/.venv/lib/python3.10/site-packages (0.12.1)\n",
      "Requirement already satisfied: typing-extensions in /Users/hjavedani/Documents/zoish/.venv/lib/python3.10/site-packages (from torch) (4.2.0)\n",
      "Requirement already satisfied: numpy in /Users/hjavedani/Documents/zoish/.venv/lib/python3.10/site-packages (from torchvision) (1.21.6)\n",
      "Requirement already satisfied: requests in /Users/hjavedani/Documents/zoish/.venv/lib/python3.10/site-packages (from torchvision) (2.28.1)\n",
      "Requirement already satisfied: pillow!=8.3.*,>=5.3.0 in /Users/hjavedani/Documents/zoish/.venv/lib/python3.10/site-packages (from torchvision) (9.1.1)\n",
      "Requirement already satisfied: idna<4,>=2.5 in /Users/hjavedani/Documents/zoish/.venv/lib/python3.10/site-packages (from requests->torchvision) (3.3)\n",
      "Requirement already satisfied: urllib3<1.27,>=1.21.1 in /Users/hjavedani/Documents/zoish/.venv/lib/python3.10/site-packages (from requests->torchvision) (1.26.12)\n",
      "Requirement already satisfied: certifi>=2017.4.17 in /Users/hjavedani/Documents/zoish/.venv/lib/python3.10/site-packages (from requests->torchvision) (2022.6.15)\n",
      "Requirement already satisfied: charset-normalizer<3,>=2 in /Users/hjavedani/Documents/zoish/.venv/lib/python3.10/site-packages (from requests->torchvision) (2.1.1)\n",
      "\n",
      "\u001b[1m[\u001b[0m\u001b[34;49mnotice\u001b[0m\u001b[1;39;49m]\u001b[0m\u001b[39;49m A new release of pip available: \u001b[0m\u001b[31;49m22.1.2\u001b[0m\u001b[39;49m -> \u001b[0m\u001b[32;49m22.2.2\u001b[0m\n",
      "\u001b[1m[\u001b[0m\u001b[34;49mnotice\u001b[0m\u001b[1;39;49m]\u001b[0m\u001b[39;49m To update, run: \u001b[0m\u001b[32;49mpip install --upgrade pip\u001b[0m\n"
     ]
    }
   ],
   "source": [
    "!pip3 install torch torchvision torchaudio\n"
   ]
  },
  {
   "cell_type": "markdown",
   "metadata": {},
   "source": [
    "# Example : XGBoost Survival Embeddings (XGBSEKaplanNeighbors)\n",
    "For more information refer to this link :\n",
    "https://loft-br.github.io/xgboost-survival-embeddings/examples/confidence_interval.html"
   ]
  },
  {
   "cell_type": "markdown",
   "metadata": {},
   "source": [
    "# Data"
   ]
  },
  {
   "cell_type": "code",
   "execution_count": 3,
   "metadata": {},
   "outputs": [
    {
     "data": {
      "text/html": [
       "<div>\n",
       "<style scoped>\n",
       "    .dataframe tbody tr th:only-of-type {\n",
       "        vertical-align: middle;\n",
       "    }\n",
       "\n",
       "    .dataframe tbody tr th {\n",
       "        vertical-align: top;\n",
       "    }\n",
       "\n",
       "    .dataframe thead th {\n",
       "        text-align: right;\n",
       "    }\n",
       "</style>\n",
       "<table border=\"1\" class=\"dataframe\">\n",
       "  <thead>\n",
       "    <tr style=\"text-align: right;\">\n",
       "      <th></th>\n",
       "      <th>x0</th>\n",
       "      <th>x1</th>\n",
       "      <th>x2</th>\n",
       "      <th>x3</th>\n",
       "      <th>x4</th>\n",
       "      <th>x5</th>\n",
       "      <th>x6</th>\n",
       "      <th>x7</th>\n",
       "      <th>x8</th>\n",
       "      <th>duration</th>\n",
       "      <th>event</th>\n",
       "    </tr>\n",
       "  </thead>\n",
       "  <tbody>\n",
       "    <tr>\n",
       "      <th>0</th>\n",
       "      <td>5.603834</td>\n",
       "      <td>7.811392</td>\n",
       "      <td>10.797988</td>\n",
       "      <td>5.967607</td>\n",
       "      <td>1.0</td>\n",
       "      <td>1.0</td>\n",
       "      <td>0.0</td>\n",
       "      <td>1.0</td>\n",
       "      <td>56.840000</td>\n",
       "      <td>99.333336</td>\n",
       "      <td>0</td>\n",
       "    </tr>\n",
       "    <tr>\n",
       "      <th>1</th>\n",
       "      <td>5.284882</td>\n",
       "      <td>9.581043</td>\n",
       "      <td>10.204620</td>\n",
       "      <td>5.664970</td>\n",
       "      <td>1.0</td>\n",
       "      <td>0.0</td>\n",
       "      <td>0.0</td>\n",
       "      <td>1.0</td>\n",
       "      <td>85.940002</td>\n",
       "      <td>95.733330</td>\n",
       "      <td>1</td>\n",
       "    </tr>\n",
       "    <tr>\n",
       "      <th>2</th>\n",
       "      <td>5.920251</td>\n",
       "      <td>6.776564</td>\n",
       "      <td>12.431715</td>\n",
       "      <td>5.873857</td>\n",
       "      <td>0.0</td>\n",
       "      <td>1.0</td>\n",
       "      <td>0.0</td>\n",
       "      <td>1.0</td>\n",
       "      <td>48.439999</td>\n",
       "      <td>140.233337</td>\n",
       "      <td>0</td>\n",
       "    </tr>\n",
       "    <tr>\n",
       "      <th>3</th>\n",
       "      <td>6.654017</td>\n",
       "      <td>5.341846</td>\n",
       "      <td>8.646379</td>\n",
       "      <td>5.655888</td>\n",
       "      <td>0.0</td>\n",
       "      <td>0.0</td>\n",
       "      <td>0.0</td>\n",
       "      <td>0.0</td>\n",
       "      <td>66.910004</td>\n",
       "      <td>239.300003</td>\n",
       "      <td>0</td>\n",
       "    </tr>\n",
       "    <tr>\n",
       "      <th>4</th>\n",
       "      <td>5.456747</td>\n",
       "      <td>5.339741</td>\n",
       "      <td>10.555724</td>\n",
       "      <td>6.008429</td>\n",
       "      <td>1.0</td>\n",
       "      <td>0.0</td>\n",
       "      <td>0.0</td>\n",
       "      <td>1.0</td>\n",
       "      <td>67.849998</td>\n",
       "      <td>56.933334</td>\n",
       "      <td>1</td>\n",
       "    </tr>\n",
       "  </tbody>\n",
       "</table>\n",
       "</div>"
      ],
      "text/plain": [
       "         x0        x1         x2        x3   x4   x5   x6   x7         x8  \\\n",
       "0  5.603834  7.811392  10.797988  5.967607  1.0  1.0  0.0  1.0  56.840000   \n",
       "1  5.284882  9.581043  10.204620  5.664970  1.0  0.0  0.0  1.0  85.940002   \n",
       "2  5.920251  6.776564  12.431715  5.873857  0.0  1.0  0.0  1.0  48.439999   \n",
       "3  6.654017  5.341846   8.646379  5.655888  0.0  0.0  0.0  0.0  66.910004   \n",
       "4  5.456747  5.339741  10.555724  6.008429  1.0  0.0  0.0  1.0  67.849998   \n",
       "\n",
       "     duration  event  \n",
       "0   99.333336      0  \n",
       "1   95.733330      1  \n",
       "2  140.233337      0  \n",
       "3  239.300003      0  \n",
       "4   56.933334      1  "
      ]
     },
     "execution_count": 3,
     "metadata": {},
     "output_type": "execute_result"
    }
   ],
   "source": [
    "from pycox.datasets import metabric\n",
    "# read data metabric\n",
    "data = metabric.read_df()\n",
    "data.head()"
   ]
  },
  {
   "cell_type": "markdown",
   "metadata": {},
   "source": [
    "# Define labels in this example: \n",
    "\n",
    "y for feature selection (if you want to feature selection based on event)\n",
    "y_fs = data['event']\n",
    "\n",
    "Also in grid_xgbse bellow,  xgbse_focus should be set = \"event\",\n",
    "\n",
    "\n",
    "y for feature selection (if you want to perform feature selection based on duration)\n",
    "y_fs = data['duration']\n",
    "\n",
    "Also in grid_xgbse bellow,  xgbse_focus should be set = \"duration\",\n",
    "\n"
   ]
  },
  {
   "cell_type": "code",
   "execution_count": 4,
   "metadata": {},
   "outputs": [
    {
     "data": {
      "text/plain": [
       "array([ 15,  30,  45,  60,  75,  90, 105, 120, 135, 150, 165, 180, 195,\n",
       "       210, 225, 240, 255, 270, 285, 300])"
      ]
     },
     "execution_count": 4,
     "metadata": {},
     "output_type": "execute_result"
    }
   ],
   "source": [
    "\n",
    "# splitting to X, T, E format\n",
    "X = data.drop(['duration', 'event'], axis=1)\n",
    "T = data['duration']\n",
    "E = data['event']\n",
    "y = convert_to_structured(T, E)\n",
    "# y for for feature selection (if you want do feature selection based on event)\n",
    "# y_fs = data[['event']]\n",
    "# also in grid_xgbse should set xgbse_model_needed = \"classification\",\n",
    "\n",
    "\n",
    "# y for for feature selection (if you want do feature selection based on duration)\n",
    "# y_fs = data[['duration']]\n",
    "# also in grid_xgbse should set xgbse_model_needed = \"regression\",\n",
    "\n",
    "y_fs = data[['event']]\n",
    "TIME_BINS = np.arange(15, 315, 15)\n",
    "TIME_BINS\n",
    "\n"
   ]
  },
  {
   "cell_type": "code",
   "execution_count": 5,
   "metadata": {},
   "outputs": [
    {
     "data": {
      "text/html": [
       "<div>\n",
       "<style scoped>\n",
       "    .dataframe tbody tr th:only-of-type {\n",
       "        vertical-align: middle;\n",
       "    }\n",
       "\n",
       "    .dataframe tbody tr th {\n",
       "        vertical-align: top;\n",
       "    }\n",
       "\n",
       "    .dataframe thead th {\n",
       "        text-align: right;\n",
       "    }\n",
       "</style>\n",
       "<table border=\"1\" class=\"dataframe\">\n",
       "  <thead>\n",
       "    <tr style=\"text-align: right;\">\n",
       "      <th></th>\n",
       "      <th>event</th>\n",
       "    </tr>\n",
       "  </thead>\n",
       "  <tbody>\n",
       "    <tr>\n",
       "      <th>0</th>\n",
       "      <td>0</td>\n",
       "    </tr>\n",
       "    <tr>\n",
       "      <th>1</th>\n",
       "      <td>1</td>\n",
       "    </tr>\n",
       "    <tr>\n",
       "      <th>2</th>\n",
       "      <td>0</td>\n",
       "    </tr>\n",
       "    <tr>\n",
       "      <th>3</th>\n",
       "      <td>0</td>\n",
       "    </tr>\n",
       "    <tr>\n",
       "      <th>4</th>\n",
       "      <td>1</td>\n",
       "    </tr>\n",
       "  </tbody>\n",
       "</table>\n",
       "</div>"
      ],
      "text/plain": [
       "   event\n",
       "0      0\n",
       "1      1\n",
       "2      0\n",
       "3      0\n",
       "4      1"
      ]
     },
     "execution_count": 5,
     "metadata": {},
     "output_type": "execute_result"
    }
   ],
   "source": [
    "y_fs.head()"
   ]
  },
  {
   "cell_type": "markdown",
   "metadata": {},
   "source": [
    "# Train test split for feature selection and for the model itself\n",
    "\n",
    "splitting between train and validation (the following uses for the feature selection step - random_state should be the same in both)\n",
    " - X_train, X_test, y_train_fs, y_test_fs = train_test_split(X, y_fs, test_size=1/3, random_state = 0)\n",
    "\n",
    "splitting between train and validation (the following uses for the main model - random_state should be the same in both)\n",
    "- _ , _ , y_train, y_test = train_test_split(X, y, test_size=1/3, random_state = 0)\n"
   ]
  },
  {
   "cell_type": "code",
   "execution_count": 6,
   "metadata": {},
   "outputs": [],
   "source": [
    "# splitting between train, and validation (the following is for feature selection step - random_state should be same in both)\n",
    "X_train, X_test, y_train_fs, y_test_fs = train_test_split(X, y_fs, test_size=1/3, random_state = 0)\n",
    "# splitting between train, and validation (the following is for fit main model - random_state should be same in both)\n",
    "_ , _ , y_train, y_test = train_test_split(X, y, test_size=1/3, random_state = 0)\n"
   ]
  },
  {
   "cell_type": "markdown",
   "metadata": {},
   "source": [
    "# Define Feature selector and set its arguments  \n",
    "\n",
    "The feature selector in this example (or when the focus is on \"duration\") will use XGBRegressor.\n",
    "\n",
    "So estimator_params should be matched with XGBRegressor."
   ]
  },
  {
   "cell_type": "code",
   "execution_count": 7,
   "metadata": {},
   "outputs": [
    {
     "name": "stderr",
     "output_type": "stream",
     "text": [
      "root - INFO - Setting value for logging_basicConfig\n",
      "root - INFO - Setting value for verbose\n",
      "root - INFO - Setting value for xgbse_focus\n",
      "root - INFO - Setting value for random_state\n",
      "root - INFO - Setting value for n_features\n",
      "root - INFO - Setting value for list_of_obligatory_features_that_must_be_in_model\n",
      "root - INFO - Setting value for list of features to drop before any selection\n",
      "root - INFO - Setting value for estimator\n",
      "root - INFO - Getting value for estimator\n",
      "root - INFO - XGBSEDebiasedBCE(lr_params={'C': 0.001, 'max_iter': 500},\n",
      "                 xgb_params={'aft_loss_distribution': 'normal',\n",
      "                             'aft_loss_distribution_scale': 1,\n",
      "                             'booster': 'dart', 'colsample_bynode': 0.5,\n",
      "                             'eval_metric': 'aft-nloglik',\n",
      "                             'learning_rate': 0.05, 'max_depth': 8,\n",
      "                             'min_child_weight': 50,\n",
      "                             'objective': 'survival:aft', 'subsample': 0.5,\n",
      "                             'tree_method': 'hist'})\n",
      "root - INFO - Getting value for estimator\n",
      "root - INFO - Getting value for estimator\n",
      "root - INFO - Setting value for estimator_params\n",
      "root - INFO - Setting value for estimator\n",
      "root - INFO - Getting value for estimator\n",
      "root - INFO - Getting value for estimator\n",
      "root - INFO - Getting value for estimator\n",
      "root - INFO - Getting value for estimator\n",
      "root - INFO - Getting value for estimator\n",
      "root - INFO - Getting value for estimator\n",
      "root - INFO - Getting value for estimator\n",
      "root - INFO - Getting value for estimator\n",
      "root - INFO - Getting value for estimator\n",
      "root - INFO - Setting value for estimator_params\n",
      "root - INFO - Getting value for estimator\n",
      "root - INFO - Getting value for estimator\n",
      "root - INFO - Getting value for estimator\n",
      "root - INFO - Setting value for model_output\n",
      "root - INFO - Setting value for feature perturbation\n",
      "root - INFO - Setting value for algorithm\n",
      "root - INFO - Setting value for shap_n_jobs\n",
      "root - INFO - Setting value for random_search_n_jobs\n",
      "root - INFO - Setting value for memory_tolerance\n",
      "root - INFO - Setting value for feature_names\n",
      "root - INFO - Setting value for approximate\n",
      "root - INFO - Setting value for shortcut\n",
      "root - INFO - Setting value for plot shap summary\n",
      "root - INFO - Setting value for save_shap_summary_plot\n",
      "root - INFO - Setting value for path_to_save_plot\n",
      "root - INFO - Setting value for shap_fig\n",
      "root - INFO - Setting value for cv\n",
      "root - INFO - Setting value for performance metric\n",
      "root - INFO - Setting value for n_iter\n",
      "root - INFO - Getting value for logging_basicConfig\n",
      "root - INFO - Setting value for best estimator\n",
      "root - INFO - Setting value for importance_df\n"
     ]
    },
    {
     "data": {
      "text/plain": [
       "<Figure size 432x288 with 0 Axes>"
      ]
     },
     "metadata": {},
     "output_type": "display_data"
    }
   ],
   "source": [
    "random_xgbse = RandomizedSearchCVShapFeatureSelector(\n",
    "        # general argument setting        \n",
    "        verbose=5,\n",
    "        random_state=0,\n",
    "        logging_basicConfig = None,\n",
    "        # general argument setting        \n",
    "        n_features=3,\n",
    "        list_of_obligatory_features_that_must_be_in_model=[],\n",
    "        list_of_features_to_drop_before_any_selection=[],\n",
    "        # shap argument setting        \n",
    "        estimator_params={\n",
    "        \"max_depth\": [4, 30],\n",
    "        \"min_child_weight\": [0.1, 0.9],\n",
    "        \"n_estimators\" :[100,1000],\n",
    "        \"gamma\": [1, 9],\n",
    "        },\n",
    "        estimator=xgbse.XGBSEDebiasedBCE(lr_params=None, n_jobs=-1,xgb_params=None ),\n",
    "        # shap arguments\n",
    "        model_output=\"raw\", \n",
    "        feature_perturbation=\"interventional\", \n",
    "        algorithm=\"auto\", \n",
    "        shap_n_jobs=-1, \n",
    "        memory_tolerance=-1, \n",
    "        feature_names=None, \n",
    "        approximate=False, \n",
    "        shortcut=False, \n",
    "        plot_shap_summary=True,\n",
    "        save_shap_summary_plot=False,\n",
    "        path_to_save_plot = './summary_plot.png',\n",
    "        shap_fig = plt.figure(),\n",
    "        ## grid search params\n",
    "        performance_metric = 'cind',\n",
    "        cv = KFold(n_splits=3, shuffle=True),\n",
    "        n_iter=4,\n",
    "        # this argument is necessary and only \n",
    "        # meaningful for Survival Embedding\n",
    "        xgbse_focus = \"event\",\n",
    "\n",
    ")\n"
   ]
  },
  {
   "cell_type": "markdown",
   "metadata": {},
   "source": [
    "# Build sklearn Pipeline \n",
    "\n",
    "(in this example only feature selector, because features already in\n",
    "form of numbers)"
   ]
  },
  {
   "cell_type": "code",
   "execution_count": 8,
   "metadata": {},
   "outputs": [
    {
     "name": "stderr",
     "output_type": "stream",
     "text": [
      "root - INFO - Getting value for estimator\n",
      "root - INFO - Getting value for estimator_params\n",
      "root - INFO - Getting value for performance metric\n",
      "root - INFO - Getting value for verbose\n",
      "root - INFO - Getting value for random_search_n_jobs\n",
      "root - INFO - Getting value for n_iter\n",
      "root - INFO - Getting value for cv\n",
      "root - INFO - Getting value for xgbse_focus\n"
     ]
    },
    {
     "name": "stdout",
     "output_type": "stream",
     "text": [
      "Fitting 3 folds for each of 4 candidates, totalling 12 fits\n"
     ]
    },
    {
     "name": "stderr",
     "output_type": "stream",
     "text": [
      "Scoring failed. The score on this train-test partition for these parameters will be set to nan. Details: \n",
      "Traceback (most recent call last):\n",
      "  File \"/Users/hjavedani/Documents/zoish/.venv/lib/python3.10/site-packages/sklearn/model_selection/_validation.py\", line 767, in _score\n",
      "    scores = scorer(estimator, X_test, y_test)\n",
      "  File \"/Users/hjavedani/Documents/zoish/.venv/lib/python3.10/site-packages/sklearn/metrics/_scorer.py\", line 219, in __call__\n",
      "    return self._score(\n",
      "  File \"/Users/hjavedani/Documents/zoish/.venv/lib/python3.10/site-packages/sklearn/metrics/_scorer.py\", line 267, in _score\n",
      "    return self._sign * self._score_func(y_true, y_pred, **self._kwargs)\n",
      "  File \"/Users/hjavedani/Documents/zoish/.venv/lib/python3.10/site-packages/xgbse/metrics.py\", line 52, in concordance_index\n",
      "    risks = 1 - survival.mean(axis=1)\n",
      "  File \"/Users/hjavedani/Documents/zoish/.venv/lib/python3.10/site-packages/numpy/core/_methods.py\", line 167, in _mean\n",
      "    rcount = _count_reduce_items(arr, axis, keepdims=keepdims, where=where)\n",
      "  File \"/Users/hjavedani/Documents/zoish/.venv/lib/python3.10/site-packages/numpy/core/_methods.py\", line 76, in _count_reduce_items\n",
      "    items *= arr.shape[mu.normalize_axis_index(ax, arr.ndim)]\n",
      "numpy.AxisError: axis 1 is out of bounds for array of dimension 1\n",
      "\n"
     ]
    },
    {
     "name": "stdout",
     "output_type": "stream",
     "text": [
      "[CV 1/3] END gamma=9, max_depth=30, min_child_weight=0.9, n_estimators=100;, score=nan total time=   0.3s\n",
      "[CV 2/3] END gamma=9, max_depth=30, min_child_weight=0.9, n_estimators=100;, score=nan total time=   0.2s\n",
      "[CV 3/3] END gamma=9, max_depth=30, min_child_weight=0.9, n_estimators=100;, score=nan total time=   0.2s\n",
      "[CV 1/3] END gamma=9, max_depth=30, min_child_weight=0.9, n_estimators=1000;, score=nan total time=   2.1s\n",
      "[CV 2/3] END gamma=9, max_depth=30, min_child_weight=0.9, n_estimators=1000;, score=nan total time=   2.0s\n",
      "[CV 3/3] END gamma=9, max_depth=30, min_child_weight=0.9, n_estimators=1000;, score=nan total time=   2.0s\n",
      "[CV 1/3] END gamma=9, max_depth=4, min_child_weight=0.1, n_estimators=1000;, score=nan total time=   0.6s\n",
      "[CV 2/3] END gamma=9, max_depth=4, min_child_weight=0.1, n_estimators=1000;, score=nan total time=   0.6s\n",
      "[CV 3/3] END gamma=9, max_depth=4, min_child_weight=0.1, n_estimators=1000;, score=nan total time=   0.6s\n",
      "[CV 1/3] END gamma=1, max_depth=4, min_child_weight=0.1, n_estimators=1000;, score=nan total time=   0.5s\n",
      "[CV 2/3] END gamma=1, max_depth=4, min_child_weight=0.1, n_estimators=1000;, score=nan total time=   0.5s\n",
      "[CV 3/3] END gamma=1, max_depth=4, min_child_weight=0.1, n_estimators=1000;, score=nan total time=   0.6s\n"
     ]
    },
    {
     "name": "stderr",
     "output_type": "stream",
     "text": [
      "One or more of the test scores are non-finite: [nan nan nan nan]\n",
      "root - INFO - Setting value for best estimator\n",
      "root - INFO - Getting value for estimator\n",
      "root - INFO - Getting value for estimator\n",
      "root - INFO - Getting value for best estimator\n",
      "root - INFO - Getting value for model_output\n",
      "root - INFO - Getting value for feature perturbation\n",
      "root - INFO - Getting value for algorithm\n",
      "root - INFO - Getting value for shap_n_jobs\n",
      "root - INFO - Getting value for memory_tolerance\n",
      "root - INFO - Getting value for feature_names\n",
      "root - INFO - Getting value for approximate\n",
      "root - INFO - Getting value for shortcut\n"
     ]
    },
    {
     "name": "stdout",
     "output_type": "stream",
     "text": [
      "XGBRegressor\n"
     ]
    },
    {
     "name": "stderr",
     "output_type": "stream",
     "text": [
      "root - INFO - Getting value for plot shap summary\n",
      "root - INFO - Getting value for n_features\n"
     ]
    },
    {
     "name": "stdout",
     "output_type": "stream",
     "text": [
      ".values =\n",
      "array([[ 0.        ,  0.        ,  0.        , ...,  0.        ,\n",
      "         0.        , -0.08747166],\n",
      "       [ 0.        ,  0.        ,  0.        , ...,  0.        ,\n",
      "         0.        ,  0.13268902],\n",
      "       [ 0.        ,  0.        ,  0.        , ...,  0.        ,\n",
      "         0.        , -0.08747166],\n",
      "       ...,\n",
      "       [ 0.        ,  0.        ,  0.        , ...,  0.        ,\n",
      "         0.        , -0.08747166],\n",
      "       [ 0.        ,  0.        ,  0.        , ...,  0.        ,\n",
      "         0.        , -0.08747166],\n",
      "       [ 0.        ,  0.        ,  0.        , ...,  0.        ,\n",
      "         0.        , -0.08747166]])\n",
      "\n",
      ".base_values =\n",
      "array([[0.57683277],\n",
      "       [0.57683277],\n",
      "       [0.57683277],\n",
      "       ...,\n",
      "       [0.57683277],\n",
      "       [0.57683277],\n",
      "       [0.57683277]])\n",
      "\n",
      ".data =\n",
      "array([[ 5.259714 ,  7.07262  , 11.602811 , ...,  0.       ,  1.       ,\n",
      "        56.11     ],\n",
      "       [ 5.557993 ,  6.741262 ,  9.116503 , ...,  0.       ,  1.       ,\n",
      "        75.71     ],\n",
      "       [ 5.6806765,  6.141229 ,  9.638722 , ...,  0.       ,  1.       ,\n",
      "        49.87     ],\n",
      "       ...,\n",
      "       [ 5.8149223,  8.205788 , 11.880357 , ...,  1.       ,  0.       ,\n",
      "        41.17     ],\n",
      "       [ 7.0540814,  5.0545154, 13.592611 , ...,  1.       ,  0.       ,\n",
      "        35.14     ],\n",
      "       [ 5.7935643,  8.5377865, 10.824402 , ...,  1.       ,  1.       ,\n",
      "        52.55     ]], dtype=float32)\n"
     ]
    },
    {
     "data": {
      "image/png": "[encoded data removed]",
      "text/plain": [
       "<Figure size 576x194.4 with 2 Axes>"
      ]
     },
     "metadata": {
      "needs_background": "light"
     },
     "output_type": "display_data"
    },
    {
     "name": "stderr",
     "output_type": "stream",
     "text": [
      "root - INFO - Getting value for save_shap_summary_plot\n",
      "root - INFO - Setting value for importance_df\n",
      "root - INFO - Getting value for importance_df\n",
      "root - INFO - Getting value for importance_df\n",
      "root - INFO - Getting value for importance_df\n",
      "root - INFO - Getting value for importance_df\n",
      "root - INFO - Setting value for importance_df\n",
      "root - INFO - Getting value for importance_df\n",
      "root - INFO - Getting value for importance_df\n",
      "root - INFO - Getting value for n_features\n",
      "root - INFO - Getting value for n_features\n",
      "root - INFO - Getting value for importance_df\n",
      "root - INFO - Getting value for importance_df\n"
     ]
    },
    {
     "name": "stdout",
     "output_type": "stream",
     "text": [
      "    0         1\n",
      "0  x0       0.0\n",
      "1  x1       0.0\n",
      "2  x2       0.0\n",
      "3  x3       0.0\n",
      "4  x4       0.0\n",
      "5  x5       0.0\n",
      "6  x6       0.0\n",
      "7  x7       0.0\n",
      "8  x8  0.081753\n",
      "  column_name shap_importance\n",
      "0          x0             0.0\n",
      "1          x1             0.0\n",
      "2          x2             0.0\n",
      "3          x3             0.0\n",
      "4          x4             0.0\n",
      "5          x5             0.0\n",
      "6          x6             0.0\n",
      "7          x7             0.0\n",
      "8          x8        0.081753\n",
      "  column_name shap_importance\n",
      "8          x8        0.081753\n",
      "0          x0             0.0\n",
      "1          x1             0.0\n",
      "2          x2             0.0\n",
      "3          x3             0.0\n",
      "4          x4             0.0\n",
      "5          x5             0.0\n",
      "6          x6             0.0\n",
      "7          x7             0.0\n",
      "  column_name shap_importance\n",
      "8          x8        0.081753\n",
      "0          x0             0.0\n",
      "1          x1             0.0\n"
     ]
    }
   ],
   "source": [
    "\n",
    "pipeline = Pipeline([\n",
    "            # feature selection\n",
    "            ('random_xgbse', random_xgbse),\n",
    "\n",
    " ])\n",
    "\n",
    "X_train=pipeline.fit_transform(X_train,y_train_fs)\n"
   ]
  },
  {
   "cell_type": "markdown",
   "metadata": {},
   "source": [
    "# Transform X_test\n",
    "\n",
    "X_train already transformed (features already selected), it is time to transform X_text\n",
    "\n"
   ]
  },
  {
   "cell_type": "code",
   "execution_count": 9,
   "metadata": {},
   "outputs": [],
   "source": [
    "X_test = pipeline.transform(X_test)"
   ]
  },
  {
   "cell_type": "markdown",
   "metadata": {},
   "source": [
    "# Prepare for using XGBSEKaplanNeighbors and fit the model\n",
    "\n",
    "Note that features already selected by the above pipeline\n"
   ]
  },
  {
   "cell_type": "code",
   "execution_count": 10,
   "metadata": {},
   "outputs": [
    {
     "name": "stdout",
     "output_type": "stream",
     "text": [
      "(635, 20)\n"
     ]
    },
    {
     "data": {
      "text/html": [
       "<div>\n",
       "<style scoped>\n",
       "    .dataframe tbody tr th:only-of-type {\n",
       "        vertical-align: middle;\n",
       "    }\n",
       "\n",
       "    .dataframe tbody tr th {\n",
       "        vertical-align: top;\n",
       "    }\n",
       "\n",
       "    .dataframe thead th {\n",
       "        text-align: right;\n",
       "    }\n",
       "</style>\n",
       "<table border=\"1\" class=\"dataframe\">\n",
       "  <thead>\n",
       "    <tr style=\"text-align: right;\">\n",
       "      <th></th>\n",
       "      <th>15</th>\n",
       "      <th>30</th>\n",
       "      <th>45</th>\n",
       "      <th>60</th>\n",
       "      <th>75</th>\n",
       "      <th>90</th>\n",
       "      <th>105</th>\n",
       "      <th>120</th>\n",
       "      <th>135</th>\n",
       "      <th>150</th>\n",
       "      <th>165</th>\n",
       "      <th>180</th>\n",
       "      <th>195</th>\n",
       "      <th>210</th>\n",
       "      <th>225</th>\n",
       "      <th>240</th>\n",
       "      <th>255</th>\n",
       "      <th>270</th>\n",
       "      <th>285</th>\n",
       "      <th>300</th>\n",
       "    </tr>\n",
       "  </thead>\n",
       "  <tbody>\n",
       "    <tr>\n",
       "      <th>0</th>\n",
       "      <td>0.988457</td>\n",
       "      <td>0.951992</td>\n",
       "      <td>0.917748</td>\n",
       "      <td>0.894999</td>\n",
       "      <td>0.857367</td>\n",
       "      <td>0.744759</td>\n",
       "      <td>0.695067</td>\n",
       "      <td>0.656383</td>\n",
       "      <td>0.626517</td>\n",
       "      <td>0.582831</td>\n",
       "      <td>0.550359</td>\n",
       "      <td>0.498549</td>\n",
       "      <td>0.471531</td>\n",
       "      <td>0.420150</td>\n",
       "      <td>0.343943</td>\n",
       "      <td>0.276323</td>\n",
       "      <td>0.234998</td>\n",
       "      <td>0.197158</td>\n",
       "      <td>0.160678</td>\n",
       "      <td>0.117115</td>\n",
       "    </tr>\n",
       "    <tr>\n",
       "      <th>1</th>\n",
       "      <td>0.962961</td>\n",
       "      <td>0.899493</td>\n",
       "      <td>0.830915</td>\n",
       "      <td>0.686187</td>\n",
       "      <td>0.641077</td>\n",
       "      <td>0.563583</td>\n",
       "      <td>0.434710</td>\n",
       "      <td>0.354465</td>\n",
       "      <td>0.310763</td>\n",
       "      <td>0.300019</td>\n",
       "      <td>0.234044</td>\n",
       "      <td>0.190015</td>\n",
       "      <td>0.157334</td>\n",
       "      <td>0.131209</td>\n",
       "      <td>0.098454</td>\n",
       "      <td>0.078969</td>\n",
       "      <td>0.069971</td>\n",
       "      <td>0.047585</td>\n",
       "      <td>0.039659</td>\n",
       "      <td>0.029250</td>\n",
       "    </tr>\n",
       "    <tr>\n",
       "      <th>2</th>\n",
       "      <td>0.991113</td>\n",
       "      <td>0.958020</td>\n",
       "      <td>0.918356</td>\n",
       "      <td>0.884887</td>\n",
       "      <td>0.853819</td>\n",
       "      <td>0.759216</td>\n",
       "      <td>0.725029</td>\n",
       "      <td>0.630986</td>\n",
       "      <td>0.561856</td>\n",
       "      <td>0.472877</td>\n",
       "      <td>0.447535</td>\n",
       "      <td>0.425983</td>\n",
       "      <td>0.398551</td>\n",
       "      <td>0.361272</td>\n",
       "      <td>0.313742</td>\n",
       "      <td>0.252497</td>\n",
       "      <td>0.202492</td>\n",
       "      <td>0.149729</td>\n",
       "      <td>0.128412</td>\n",
       "      <td>0.091805</td>\n",
       "    </tr>\n",
       "    <tr>\n",
       "      <th>3</th>\n",
       "      <td>0.988796</td>\n",
       "      <td>0.959173</td>\n",
       "      <td>0.869733</td>\n",
       "      <td>0.827470</td>\n",
       "      <td>0.788397</td>\n",
       "      <td>0.699229</td>\n",
       "      <td>0.620619</td>\n",
       "      <td>0.540580</td>\n",
       "      <td>0.503725</td>\n",
       "      <td>0.474142</td>\n",
       "      <td>0.434164</td>\n",
       "      <td>0.395908</td>\n",
       "      <td>0.367339</td>\n",
       "      <td>0.335113</td>\n",
       "      <td>0.274223</td>\n",
       "      <td>0.224630</td>\n",
       "      <td>0.184353</td>\n",
       "      <td>0.142219</td>\n",
       "      <td>0.120744</td>\n",
       "      <td>0.085730</td>\n",
       "    </tr>\n",
       "    <tr>\n",
       "      <th>4</th>\n",
       "      <td>0.982556</td>\n",
       "      <td>0.959433</td>\n",
       "      <td>0.897989</td>\n",
       "      <td>0.857152</td>\n",
       "      <td>0.786782</td>\n",
       "      <td>0.689115</td>\n",
       "      <td>0.610282</td>\n",
       "      <td>0.554854</td>\n",
       "      <td>0.537577</td>\n",
       "      <td>0.494436</td>\n",
       "      <td>0.435023</td>\n",
       "      <td>0.409009</td>\n",
       "      <td>0.376665</td>\n",
       "      <td>0.307758</td>\n",
       "      <td>0.237082</td>\n",
       "      <td>0.200328</td>\n",
       "      <td>0.168579</td>\n",
       "      <td>0.134569</td>\n",
       "      <td>0.110871</td>\n",
       "      <td>0.080289</td>\n",
       "    </tr>\n",
       "  </tbody>\n",
       "</table>\n",
       "</div>"
      ],
      "text/plain": [
       "        15        30        45        60        75        90        105  \\\n",
       "0  0.988457  0.951992  0.917748  0.894999  0.857367  0.744759  0.695067   \n",
       "1  0.962961  0.899493  0.830915  0.686187  0.641077  0.563583  0.434710   \n",
       "2  0.991113  0.958020  0.918356  0.884887  0.853819  0.759216  0.725029   \n",
       "3  0.988796  0.959173  0.869733  0.827470  0.788397  0.699229  0.620619   \n",
       "4  0.982556  0.959433  0.897989  0.857152  0.786782  0.689115  0.610282   \n",
       "\n",
       "        120       135       150       165       180       195       210  \\\n",
       "0  0.656383  0.626517  0.582831  0.550359  0.498549  0.471531  0.420150   \n",
       "1  0.354465  0.310763  0.300019  0.234044  0.190015  0.157334  0.131209   \n",
       "2  0.630986  0.561856  0.472877  0.447535  0.425983  0.398551  0.361272   \n",
       "3  0.540580  0.503725  0.474142  0.434164  0.395908  0.367339  0.335113   \n",
       "4  0.554854  0.537577  0.494436  0.435023  0.409009  0.376665  0.307758   \n",
       "\n",
       "        225       240       255       270       285       300  \n",
       "0  0.343943  0.276323  0.234998  0.197158  0.160678  0.117115  \n",
       "1  0.098454  0.078969  0.069971  0.047585  0.039659  0.029250  \n",
       "2  0.313742  0.252497  0.202492  0.149729  0.128412  0.091805  \n",
       "3  0.274223  0.224630  0.184353  0.142219  0.120744  0.085730  \n",
       "4  0.237082  0.200328  0.168579  0.134569  0.110871  0.080289  "
      ]
     },
     "execution_count": 10,
     "metadata": {},
     "output_type": "execute_result"
    }
   ],
   "source": [
    "\n",
    "# fitting xgbse model\n",
    "xgbse_model = xgbse.XGBSEDebiasedBCE()\n",
    "xgbse_model.fit(X_train, y_train, time_bins=TIME_BINS)\n",
    "\n",
    "# predicting\n",
    "y_pred = xgbse_model.predict(X_test)\n",
    "\n",
    "print(y_pred.shape)\n",
    "y_pred.head()\n"
   ]
  },
  {
   "cell_type": "code",
   "execution_count": 11,
   "metadata": {},
   "outputs": [
    {
     "data": {
      "image/png": "[encoded data removed]",
      "text/plain": [
       "<Figure size 432x288 with 1 Axes>"
      ]
     },
     "metadata": {
      "needs_background": "light"
     },
     "output_type": "display_data"
    }
   ],
   "source": [
    "y_pred.mean().plot.line();\n"
   ]
  },
  {
   "cell_type": "markdown",
   "metadata": {},
   "source": [
    "# Neighbors\n",
    "We can also use our model for querying comparables based on survivability."
   ]
  },
  {
   "cell_type": "code",
   "execution_count": 12,
   "metadata": {},
   "outputs": [
    {
     "name": "stdout",
     "output_type": "stream",
     "text": [
      "(635, 5)\n"
     ]
    },
    {
     "data": {
      "text/html": [
       "<div>\n",
       "<style scoped>\n",
       "    .dataframe tbody tr th:only-of-type {\n",
       "        vertical-align: middle;\n",
       "    }\n",
       "\n",
       "    .dataframe tbody tr th {\n",
       "        vertical-align: top;\n",
       "    }\n",
       "\n",
       "    .dataframe thead th {\n",
       "        text-align: right;\n",
       "    }\n",
       "</style>\n",
       "<table border=\"1\" class=\"dataframe\">\n",
       "  <thead>\n",
       "    <tr style=\"text-align: right;\">\n",
       "      <th></th>\n",
       "      <th>neighbor_1</th>\n",
       "      <th>neighbor_2</th>\n",
       "      <th>neighbor_3</th>\n",
       "      <th>neighbor_4</th>\n",
       "      <th>neighbor_5</th>\n",
       "    </tr>\n",
       "  </thead>\n",
       "  <tbody>\n",
       "    <tr>\n",
       "      <th>829</th>\n",
       "      <td>418</td>\n",
       "      <td>628</td>\n",
       "      <td>324</td>\n",
       "      <td>646</td>\n",
       "      <td>296</td>\n",
       "    </tr>\n",
       "    <tr>\n",
       "      <th>670</th>\n",
       "      <td>588</td>\n",
       "      <td>1846</td>\n",
       "      <td>864</td>\n",
       "      <td>1082</td>\n",
       "      <td>1046</td>\n",
       "    </tr>\n",
       "    <tr>\n",
       "      <th>1064</th>\n",
       "      <td>416</td>\n",
       "      <td>411</td>\n",
       "      <td>1133</td>\n",
       "      <td>1252</td>\n",
       "      <td>44</td>\n",
       "    </tr>\n",
       "    <tr>\n",
       "      <th>85</th>\n",
       "      <td>137</td>\n",
       "      <td>84</td>\n",
       "      <td>274</td>\n",
       "      <td>1250</td>\n",
       "      <td>1188</td>\n",
       "    </tr>\n",
       "    <tr>\n",
       "      <th>1814</th>\n",
       "      <td>1143</td>\n",
       "      <td>344</td>\n",
       "      <td>531</td>\n",
       "      <td>1214</td>\n",
       "      <td>477</td>\n",
       "    </tr>\n",
       "  </tbody>\n",
       "</table>\n",
       "</div>"
      ],
      "text/plain": [
       "      neighbor_1  neighbor_2  neighbor_3  neighbor_4  neighbor_5\n",
       "829          418         628         324         646         296\n",
       "670          588        1846         864        1082        1046\n",
       "1064         416         411        1133        1252          44\n",
       "85           137          84         274        1250        1188\n",
       "1814        1143         344         531        1214         477"
      ]
     },
     "execution_count": 12,
     "metadata": {},
     "output_type": "execute_result"
    }
   ],
   "source": [
    "neighbors = xgbse_model.get_neighbors(\n",
    "    query_data = X_test,\n",
    "    index_data = X_train,\n",
    "    n_neighbors = 5\n",
    ")\n",
    "\n",
    "print(neighbors.shape)\n",
    "neighbors.head(5)"
   ]
  },
  {
   "cell_type": "markdown",
   "metadata": {},
   "source": [
    "example: selecting a data point from query data (X_test) and checking its features\n",
    "\n"
   ]
  },
  {
   "cell_type": "code",
   "execution_count": 13,
   "metadata": {},
   "outputs": [
    {
     "data": {
      "text/html": [
       "<div>\n",
       "<style scoped>\n",
       "    .dataframe tbody tr th:only-of-type {\n",
       "        vertical-align: middle;\n",
       "    }\n",
       "\n",
       "    .dataframe tbody tr th {\n",
       "        vertical-align: top;\n",
       "    }\n",
       "\n",
       "    .dataframe thead th {\n",
       "        text-align: right;\n",
       "    }\n",
       "</style>\n",
       "<table border=\"1\" class=\"dataframe\">\n",
       "  <thead>\n",
       "    <tr style=\"text-align: right;\">\n",
       "      <th></th>\n",
       "      <th>x8</th>\n",
       "      <th>x0</th>\n",
       "      <th>x1</th>\n",
       "    </tr>\n",
       "  </thead>\n",
       "  <tbody>\n",
       "    <tr>\n",
       "      <th>399</th>\n",
       "      <td>67.620003</td>\n",
       "      <td>5.572504</td>\n",
       "      <td>7.367552</td>\n",
       "    </tr>\n",
       "  </tbody>\n",
       "</table>\n",
       "</div>"
      ],
      "text/plain": [
       "            x8        x0        x1\n",
       "399  67.620003  5.572504  7.367552"
      ]
     },
     "execution_count": 13,
     "metadata": {},
     "output_type": "execute_result"
    }
   ],
   "source": [
    "desired = neighbors.iloc[10]\n",
    "\n",
    "X_test.loc[X_test.index == desired.name]"
   ]
  },
  {
   "cell_type": "markdown",
   "metadata": {},
   "source": [
    "... and finding its comparables from index data (X_train)\n",
    "\n"
   ]
  },
  {
   "cell_type": "code",
   "execution_count": 14,
   "metadata": {},
   "outputs": [
    {
     "data": {
      "text/html": [
       "<div>\n",
       "<style scoped>\n",
       "    .dataframe tbody tr th:only-of-type {\n",
       "        vertical-align: middle;\n",
       "    }\n",
       "\n",
       "    .dataframe tbody tr th {\n",
       "        vertical-align: top;\n",
       "    }\n",
       "\n",
       "    .dataframe thead th {\n",
       "        text-align: right;\n",
       "    }\n",
       "</style>\n",
       "<table border=\"1\" class=\"dataframe\">\n",
       "  <thead>\n",
       "    <tr style=\"text-align: right;\">\n",
       "      <th></th>\n",
       "      <th>x8</th>\n",
       "      <th>x0</th>\n",
       "      <th>x1</th>\n",
       "    </tr>\n",
       "  </thead>\n",
       "  <tbody>\n",
       "    <tr>\n",
       "      <th>1433</th>\n",
       "      <td>68.419998</td>\n",
       "      <td>5.394643</td>\n",
       "      <td>7.909094</td>\n",
       "    </tr>\n",
       "    <tr>\n",
       "      <th>590</th>\n",
       "      <td>66.239998</td>\n",
       "      <td>5.521431</td>\n",
       "      <td>7.356899</td>\n",
       "    </tr>\n",
       "    <tr>\n",
       "      <th>117</th>\n",
       "      <td>68.989998</td>\n",
       "      <td>5.385737</td>\n",
       "      <td>7.828917</td>\n",
       "    </tr>\n",
       "    <tr>\n",
       "      <th>484</th>\n",
       "      <td>68.160004</td>\n",
       "      <td>5.508068</td>\n",
       "      <td>9.508301</td>\n",
       "    </tr>\n",
       "    <tr>\n",
       "      <th>209</th>\n",
       "      <td>66.220001</td>\n",
       "      <td>5.553239</td>\n",
       "      <td>7.499229</td>\n",
       "    </tr>\n",
       "  </tbody>\n",
       "</table>\n",
       "</div>"
      ],
      "text/plain": [
       "             x8        x0        x1\n",
       "1433  68.419998  5.394643  7.909094\n",
       "590   66.239998  5.521431  7.356899\n",
       "117   68.989998  5.385737  7.828917\n",
       "484   68.160004  5.508068  9.508301\n",
       "209   66.220001  5.553239  7.499229"
      ]
     },
     "execution_count": 14,
     "metadata": {},
     "output_type": "execute_result"
    }
   ],
   "source": [
    "X_train.loc[X_train.index.isin(desired.tolist())]\n"
   ]
  },
  {
   "cell_type": "markdown",
   "metadata": {},
   "source": [
    "# Score metrics\n",
    "XGBSE implements concordance index and integrated brier score, both can be used to evaluate model performance\n",
    "\n"
   ]
  },
  {
   "cell_type": "code",
   "execution_count": 15,
   "metadata": {},
   "outputs": [
    {
     "name": "stdout",
     "output_type": "stream",
     "text": [
      "C-index: 0.6443746930583136\n",
      "Avg. Brier Score: 0.17668759163923328\n"
     ]
    }
   ],
   "source": [
    "# running metrics\n",
    "print(f\"C-index: {concordance_index(y_test, y_pred)}\")\n",
    "print(f\"Avg. Brier Score: {approx_brier_score(y_test, y_pred)}\")"
   ]
  },
  {
   "cell_type": "markdown",
   "metadata": {},
   "source": [
    "It is interesting to see that obtained results by using only selected three features are comparable to the original example in \n",
    "\n",
    "https://notebooks.githubusercontent.com/view/ipynb?browser=unknown_browser&color_mode=auto&commit=6247a15dae2d75babd8cbe55d281ab117c92e3f5&device=unknown_device&enc_url=68747470733a2f2f7261772e67697468756275736572636f6e74656e742e636f6d2f6c6f66742d62722f7867626f6f73742d737572766976616c2d656d62656464696e67732f363234376131356461653264373562616264386362653535643238316162313137633932653366352f6578616d706c65732f62617369635f75736167652e6970796e62&logged_in=false&nwo=loft-br%2Fxgboost-survival-embeddings&path=examples%2Fbasic_usage.ipynb&platform=unknown_platform&repository_id=329317418&repository_type=Repository&version=0\n",
    "\n",
    "the model used all eight features with the same test and train data and parameters. "
   ]
  }
 ],
 "metadata": {
  "kernelspec": {
   "display_name": "Python 3.10.4 ('.venv': poetry)",
   "language": "python",
   "name": "python3"
  },
  "language_info": {
   "codemirror_mode": {
    "name": "ipython",
    "version": 3
   },
   "file_extension": ".py",
   "mimetype": "text/x-python",
   "name": "python",
   "nbconvert_exporter": "python",
   "pygments_lexer": "ipython3",
   "version": "3.10.4"
  },
  "orig_nbformat": 4,
  "vscode": {
   "interpreter": {
    "hash": "2fd4a9ad6613f01435523ab5e4297db981c1d87a44e43e252d0e314391da6eb3"
   }
  }
 },
 "nbformat": 4,
 "nbformat_minor": 2
}
